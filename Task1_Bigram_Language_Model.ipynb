{
 "cells": [
  {
   "cell_type": "markdown",
   "id": "3fa4ea6f",
   "metadata": {},
   "source": [
    "## Task 1 - Bigram Model\n",
    "\n",
    "Select training data to build a bigram language model that can help you in text sequence generation for sequence data. You should implement a python class with multiple methods to do the following jobs:\n",
    "\n",
    "1. The class name is __LanguageModel__.\n",
    "2. A __constructor__ to get the text file name and open that file.\n",
    "3. A method called __Clean__ to process the text (Tokenization, Lemmatization)! __Don’t remove stop words__.\n",
    "4. A method called __LMBigram__ to build 2-D Language Model Matrix with Laplace smoothing using NLTK. This method saves generated matrix in an instance variable.\n",
    "5. A method called __Run__ that takes a part of sentence from user and returns the expected next word using the constructed matrix from the previous step.\n",
    "\n",
    "\n",
    "__The notebook is composed of three sections__:\n",
    "1. __Testing code before Class implementation.__\n",
    "2. __Class Implementation.__\n",
    "3. __Testing Class Implementation.__\n",
    "\n",
    "\n",
    "__Assumptions__:\n",
    "* __URLs__ would be removed\n",
    "* __Hashtags__ would be removed\n",
    "* __Mentions__ would be removed\n",
    "* __Repeating dots__ (more than two occurences) e.g.: __...__ would be removed\n",
    "* __Emojis__ would be removed\n",
    "* __Repeating characters__ (more than two occurences) e.g.: عاااااااجل would be removed\n",
    "* __Arabic Diacritics__ would be removed"
   ]
  },
  {
   "cell_type": "code",
   "execution_count": 1,
   "id": "2ceaca28",
   "metadata": {},
   "outputs": [
    {
     "name": "stderr",
     "output_type": "stream",
     "text": [
      "[nltk_data] Downloading package punkt to /home/tamer/nltk_data...\n",
      "[nltk_data]   Package punkt is already up-to-date!\n"
     ]
    },
    {
     "data": {
      "text/plain": [
       "True"
      ]
     },
     "execution_count": 1,
     "metadata": {},
     "output_type": "execute_result"
    }
   ],
   "source": [
    "import pandas as pd\n",
    "import glob\n",
    "import emoji  # for removing emojis\n",
    "import pyarabic.araby as araby  # for removing diacritics\n",
    "import re\n",
    "import qalsadi.lemmatizer\n",
    "import nltk\n",
    "from nltk.tokenize import sent_tokenize, word_tokenize\n",
    "from nltk.stem.arlstem import ARLSTem\n",
    "from nltk.util import ngrams\n",
    "from tqdm import tqdm  # progress bar\n",
    "\n",
    "nltk.download('punkt')"
   ]
  },
  {
   "cell_type": "markdown",
   "id": "57f1f55c",
   "metadata": {},
   "source": [
    "## 1- Code testing before Class implementation"
   ]
  },
  {
   "cell_type": "markdown",
   "id": "4975bcdd",
   "metadata": {},
   "source": [
    "### 1.1- Collecting the data into one dataframe"
   ]
  },
  {
   "cell_type": "code",
   "execution_count": 2,
   "id": "4052ad8c",
   "metadata": {},
   "outputs": [],
   "source": [
    "text_files = glob.glob(\"data/file*.txt\")"
   ]
  },
  {
   "cell_type": "code",
   "execution_count": 3,
   "id": "27765fa6",
   "metadata": {},
   "outputs": [
    {
     "data": {
      "text/plain": [
       "['data/file4.txt',\n",
       " 'data/file1.txt',\n",
       " 'data/file10.txt',\n",
       " 'data/file3.txt',\n",
       " 'data/file5.txt',\n",
       " 'data/file2.txt',\n",
       " 'data/file6.txt',\n",
       " 'data/file8.txt',\n",
       " 'data/file7.txt',\n",
       " 'data/file9.txt']"
      ]
     },
     "execution_count": 3,
     "metadata": {},
     "output_type": "execute_result"
    }
   ],
   "source": [
    "text_files"
   ]
  },
  {
   "cell_type": "code",
   "execution_count": 4,
   "id": "959c8401",
   "metadata": {},
   "outputs": [],
   "source": [
    "text_file_df_list = []\n",
    "\n",
    "for text_file in text_files:\n",
    "    df = pd.read_csv(text_file, sep=\"\\t\")\n",
    "    text_file_df_list.append(df)\n",
    "    \n",
    "full_df = pd.concat(text_file_df_list, ignore_index=True)    "
   ]
  },
  {
   "cell_type": "code",
   "execution_count": 5,
   "id": "17975bfa",
   "metadata": {},
   "outputs": [
    {
     "data": {
      "text/html": [
       "<div>\n",
       "<style scoped>\n",
       "    .dataframe tbody tr th:only-of-type {\n",
       "        vertical-align: middle;\n",
       "    }\n",
       "\n",
       "    .dataframe tbody tr th {\n",
       "        vertical-align: top;\n",
       "    }\n",
       "\n",
       "    .dataframe thead th {\n",
       "        text-align: right;\n",
       "    }\n",
       "</style>\n",
       "<table border=\"1\" class=\"dataframe\">\n",
       "  <thead>\n",
       "    <tr style=\"text-align: right;\">\n",
       "      <th></th>\n",
       "      <th>tweetID</th>\n",
       "      <th>tweetText</th>\n",
       "    </tr>\n",
       "  </thead>\n",
       "  <tbody>\n",
       "    <tr>\n",
       "      <th>0</th>\n",
       "      <td>553215687247015936</td>\n",
       "      <td>حال استنفار قصوى في شمال فرنسا http://t.co/umT...</td>\n",
       "    </tr>\n",
       "    <tr>\n",
       "      <th>1</th>\n",
       "      <td>553215784131252224</td>\n",
       "      <td>عَمْرُو عبد الهادي الاعلام الصهيوني المصري مش ...</td>\n",
       "    </tr>\n",
       "    <tr>\n",
       "      <th>2</th>\n",
       "      <td>553215847792009216</td>\n",
       "      <td>عرض فرصه للبيع مزرعه من الوكيل مباشر في الدائر...</td>\n",
       "    </tr>\n",
       "    <tr>\n",
       "      <th>3</th>\n",
       "      <td>553215853580529664</td>\n",
       "      <td>10 قتلى بانفجارين أحدهما بمسجد شيعي في بغداد h...</td>\n",
       "    </tr>\n",
       "    <tr>\n",
       "      <th>4</th>\n",
       "      <td>553216005913452545</td>\n",
       "      <td>@teriangle_hd القنابل البدائية مش من مقام فرنس...</td>\n",
       "    </tr>\n",
       "    <tr>\n",
       "      <th>...</th>\n",
       "      <td>...</td>\n",
       "      <td>...</td>\n",
       "    </tr>\n",
       "    <tr>\n",
       "      <th>49995</th>\n",
       "      <td>560873525779496960</td>\n",
       "      <td>السيادة على مزارع شبعا http://t.co/LaUZcJYZii ...</td>\n",
       "    </tr>\n",
       "    <tr>\n",
       "      <th>49996</th>\n",
       "      <td>560873585296687104</td>\n",
       "      <td>#عاجل أوامر ملكية بعد قليل على السعودية الأولى\"</td>\n",
       "    </tr>\n",
       "    <tr>\n",
       "      <th>49997</th>\n",
       "      <td>560873611091644416</td>\n",
       "      <td>عاجل/ أوامر ملكية بعد قليل على قناة السعودية ا...</td>\n",
       "    </tr>\n",
       "    <tr>\n",
       "      <th>49998</th>\n",
       "      <td>560873618435891200</td>\n",
       "      <td>#الرياض الميليشيات تبايع نوري المالكي!: الميلي...</td>\n",
       "    </tr>\n",
       "    <tr>\n",
       "      <th>49999</th>\n",
       "      <td>560873621904580608</td>\n",
       "      <td>#الرياض الميليشيات تبايع نوري المالكي!: الميلي...</td>\n",
       "    </tr>\n",
       "  </tbody>\n",
       "</table>\n",
       "<p>50000 rows × 2 columns</p>\n",
       "</div>"
      ],
      "text/plain": [
       "                  tweetID                                          tweetText\n",
       "0      553215687247015936  حال استنفار قصوى في شمال فرنسا http://t.co/umT...\n",
       "1      553215784131252224  عَمْرُو عبد الهادي الاعلام الصهيوني المصري مش ...\n",
       "2      553215847792009216  عرض فرصه للبيع مزرعه من الوكيل مباشر في الدائر...\n",
       "3      553215853580529664  10 قتلى بانفجارين أحدهما بمسجد شيعي في بغداد h...\n",
       "4      553216005913452545  @teriangle_hd القنابل البدائية مش من مقام فرنس...\n",
       "...                   ...                                                ...\n",
       "49995  560873525779496960  السيادة على مزارع شبعا http://t.co/LaUZcJYZii ...\n",
       "49996  560873585296687104    #عاجل أوامر ملكية بعد قليل على السعودية الأولى\"\n",
       "49997  560873611091644416  عاجل/ أوامر ملكية بعد قليل على قناة السعودية ا...\n",
       "49998  560873618435891200  #الرياض الميليشيات تبايع نوري المالكي!: الميلي...\n",
       "49999  560873621904580608  #الرياض الميليشيات تبايع نوري المالكي!: الميلي...\n",
       "\n",
       "[50000 rows x 2 columns]"
      ]
     },
     "execution_count": 5,
     "metadata": {},
     "output_type": "execute_result"
    }
   ],
   "source": [
    "full_df"
   ]
  },
  {
   "cell_type": "code",
   "execution_count": 6,
   "id": "d5eb2a54",
   "metadata": {},
   "outputs": [],
   "source": [
    "full_df.to_csv(\"data/full_data.txt\", index=None, sep=\"\\t\")"
   ]
  },
  {
   "cell_type": "code",
   "execution_count": 7,
   "id": "eaa3c84e",
   "metadata": {},
   "outputs": [],
   "source": [
    "# testing reading the created file containing all tweets\n",
    "full_df = pd.read_csv(\"data/full_data.txt\", sep=\"\\t\")"
   ]
  },
  {
   "cell_type": "code",
   "execution_count": 8,
   "id": "9c7dfd0c",
   "metadata": {},
   "outputs": [
    {
     "data": {
      "text/html": [
       "<div>\n",
       "<style scoped>\n",
       "    .dataframe tbody tr th:only-of-type {\n",
       "        vertical-align: middle;\n",
       "    }\n",
       "\n",
       "    .dataframe tbody tr th {\n",
       "        vertical-align: top;\n",
       "    }\n",
       "\n",
       "    .dataframe thead th {\n",
       "        text-align: right;\n",
       "    }\n",
       "</style>\n",
       "<table border=\"1\" class=\"dataframe\">\n",
       "  <thead>\n",
       "    <tr style=\"text-align: right;\">\n",
       "      <th></th>\n",
       "      <th>tweetID</th>\n",
       "      <th>tweetText</th>\n",
       "    </tr>\n",
       "  </thead>\n",
       "  <tbody>\n",
       "    <tr>\n",
       "      <th>0</th>\n",
       "      <td>553215687247015936</td>\n",
       "      <td>حال استنفار قصوى في شمال فرنسا http://t.co/umT...</td>\n",
       "    </tr>\n",
       "    <tr>\n",
       "      <th>1</th>\n",
       "      <td>553215784131252224</td>\n",
       "      <td>عَمْرُو عبد الهادي الاعلام الصهيوني المصري مش ...</td>\n",
       "    </tr>\n",
       "    <tr>\n",
       "      <th>2</th>\n",
       "      <td>553215847792009216</td>\n",
       "      <td>عرض فرصه للبيع مزرعه من الوكيل مباشر في الدائر...</td>\n",
       "    </tr>\n",
       "    <tr>\n",
       "      <th>3</th>\n",
       "      <td>553215853580529664</td>\n",
       "      <td>10 قتلى بانفجارين أحدهما بمسجد شيعي في بغداد h...</td>\n",
       "    </tr>\n",
       "    <tr>\n",
       "      <th>4</th>\n",
       "      <td>553216005913452545</td>\n",
       "      <td>@teriangle_hd القنابل البدائية مش من مقام فرنس...</td>\n",
       "    </tr>\n",
       "    <tr>\n",
       "      <th>...</th>\n",
       "      <td>...</td>\n",
       "      <td>...</td>\n",
       "    </tr>\n",
       "    <tr>\n",
       "      <th>49995</th>\n",
       "      <td>560873525779496960</td>\n",
       "      <td>السيادة على مزارع شبعا http://t.co/LaUZcJYZii ...</td>\n",
       "    </tr>\n",
       "    <tr>\n",
       "      <th>49996</th>\n",
       "      <td>560873585296687104</td>\n",
       "      <td>#عاجل أوامر ملكية بعد قليل على السعودية الأولى\"</td>\n",
       "    </tr>\n",
       "    <tr>\n",
       "      <th>49997</th>\n",
       "      <td>560873611091644416</td>\n",
       "      <td>عاجل/ أوامر ملكية بعد قليل على قناة السعودية ا...</td>\n",
       "    </tr>\n",
       "    <tr>\n",
       "      <th>49998</th>\n",
       "      <td>560873618435891200</td>\n",
       "      <td>#الرياض الميليشيات تبايع نوري المالكي!: الميلي...</td>\n",
       "    </tr>\n",
       "    <tr>\n",
       "      <th>49999</th>\n",
       "      <td>560873621904580608</td>\n",
       "      <td>#الرياض الميليشيات تبايع نوري المالكي!: الميلي...</td>\n",
       "    </tr>\n",
       "  </tbody>\n",
       "</table>\n",
       "<p>50000 rows × 2 columns</p>\n",
       "</div>"
      ],
      "text/plain": [
       "                  tweetID                                          tweetText\n",
       "0      553215687247015936  حال استنفار قصوى في شمال فرنسا http://t.co/umT...\n",
       "1      553215784131252224  عَمْرُو عبد الهادي الاعلام الصهيوني المصري مش ...\n",
       "2      553215847792009216  عرض فرصه للبيع مزرعه من الوكيل مباشر في الدائر...\n",
       "3      553215853580529664  10 قتلى بانفجارين أحدهما بمسجد شيعي في بغداد h...\n",
       "4      553216005913452545  @teriangle_hd القنابل البدائية مش من مقام فرنس...\n",
       "...                   ...                                                ...\n",
       "49995  560873525779496960  السيادة على مزارع شبعا http://t.co/LaUZcJYZii ...\n",
       "49996  560873585296687104    #عاجل أوامر ملكية بعد قليل على السعودية الأولى\"\n",
       "49997  560873611091644416  عاجل/ أوامر ملكية بعد قليل على قناة السعودية ا...\n",
       "49998  560873618435891200  #الرياض الميليشيات تبايع نوري المالكي!: الميلي...\n",
       "49999  560873621904580608  #الرياض الميليشيات تبايع نوري المالكي!: الميلي...\n",
       "\n",
       "[50000 rows x 2 columns]"
      ]
     },
     "execution_count": 8,
     "metadata": {},
     "output_type": "execute_result"
    }
   ],
   "source": [
    "full_df"
   ]
  },
  {
   "cell_type": "markdown",
   "id": "4bac68ce",
   "metadata": {},
   "source": [
    "### 1.2- Extracting text from full_df"
   ]
  },
  {
   "cell_type": "code",
   "execution_count": 9,
   "id": "e8fb6a65",
   "metadata": {},
   "outputs": [],
   "source": [
    "full_df.drop(\"tweetID\", axis=1, inplace=True)"
   ]
  },
  {
   "cell_type": "code",
   "execution_count": 10,
   "id": "1d4429ff",
   "metadata": {},
   "outputs": [
    {
     "data": {
      "text/html": [
       "<div>\n",
       "<style scoped>\n",
       "    .dataframe tbody tr th:only-of-type {\n",
       "        vertical-align: middle;\n",
       "    }\n",
       "\n",
       "    .dataframe tbody tr th {\n",
       "        vertical-align: top;\n",
       "    }\n",
       "\n",
       "    .dataframe thead th {\n",
       "        text-align: right;\n",
       "    }\n",
       "</style>\n",
       "<table border=\"1\" class=\"dataframe\">\n",
       "  <thead>\n",
       "    <tr style=\"text-align: right;\">\n",
       "      <th></th>\n",
       "      <th>tweetText</th>\n",
       "    </tr>\n",
       "  </thead>\n",
       "  <tbody>\n",
       "    <tr>\n",
       "      <th>0</th>\n",
       "      <td>حال استنفار قصوى في شمال فرنسا http://t.co/umT...</td>\n",
       "    </tr>\n",
       "    <tr>\n",
       "      <th>1</th>\n",
       "      <td>عَمْرُو عبد الهادي الاعلام الصهيوني المصري مش ...</td>\n",
       "    </tr>\n",
       "    <tr>\n",
       "      <th>2</th>\n",
       "      <td>عرض فرصه للبيع مزرعه من الوكيل مباشر في الدائر...</td>\n",
       "    </tr>\n",
       "    <tr>\n",
       "      <th>3</th>\n",
       "      <td>10 قتلى بانفجارين أحدهما بمسجد شيعي في بغداد h...</td>\n",
       "    </tr>\n",
       "    <tr>\n",
       "      <th>4</th>\n",
       "      <td>@teriangle_hd القنابل البدائية مش من مقام فرنس...</td>\n",
       "    </tr>\n",
       "    <tr>\n",
       "      <th>...</th>\n",
       "      <td>...</td>\n",
       "    </tr>\n",
       "    <tr>\n",
       "      <th>49995</th>\n",
       "      <td>السيادة على مزارع شبعا http://t.co/LaUZcJYZii ...</td>\n",
       "    </tr>\n",
       "    <tr>\n",
       "      <th>49996</th>\n",
       "      <td>#عاجل أوامر ملكية بعد قليل على السعودية الأولى\"</td>\n",
       "    </tr>\n",
       "    <tr>\n",
       "      <th>49997</th>\n",
       "      <td>عاجل/ أوامر ملكية بعد قليل على قناة السعودية ا...</td>\n",
       "    </tr>\n",
       "    <tr>\n",
       "      <th>49998</th>\n",
       "      <td>#الرياض الميليشيات تبايع نوري المالكي!: الميلي...</td>\n",
       "    </tr>\n",
       "    <tr>\n",
       "      <th>49999</th>\n",
       "      <td>#الرياض الميليشيات تبايع نوري المالكي!: الميلي...</td>\n",
       "    </tr>\n",
       "  </tbody>\n",
       "</table>\n",
       "<p>50000 rows × 1 columns</p>\n",
       "</div>"
      ],
      "text/plain": [
       "                                               tweetText\n",
       "0      حال استنفار قصوى في شمال فرنسا http://t.co/umT...\n",
       "1      عَمْرُو عبد الهادي الاعلام الصهيوني المصري مش ...\n",
       "2      عرض فرصه للبيع مزرعه من الوكيل مباشر في الدائر...\n",
       "3      10 قتلى بانفجارين أحدهما بمسجد شيعي في بغداد h...\n",
       "4      @teriangle_hd القنابل البدائية مش من مقام فرنس...\n",
       "...                                                  ...\n",
       "49995  السيادة على مزارع شبعا http://t.co/LaUZcJYZii ...\n",
       "49996    #عاجل أوامر ملكية بعد قليل على السعودية الأولى\"\n",
       "49997  عاجل/ أوامر ملكية بعد قليل على قناة السعودية ا...\n",
       "49998  #الرياض الميليشيات تبايع نوري المالكي!: الميلي...\n",
       "49999  #الرياض الميليشيات تبايع نوري المالكي!: الميلي...\n",
       "\n",
       "[50000 rows x 1 columns]"
      ]
     },
     "execution_count": 10,
     "metadata": {},
     "output_type": "execute_result"
    }
   ],
   "source": [
    "full_df"
   ]
  },
  {
   "cell_type": "code",
   "execution_count": 11,
   "id": "cf7c8f29",
   "metadata": {},
   "outputs": [],
   "source": [
    "test_sent = full_df.iloc[0][0]"
   ]
  },
  {
   "cell_type": "code",
   "execution_count": 12,
   "id": "bcf75922",
   "metadata": {},
   "outputs": [
    {
     "data": {
      "text/plain": [
       "'حال استنفار قصوى في شمال فرنسا http://t.co/umTkhJyKkn'"
      ]
     },
     "execution_count": 12,
     "metadata": {},
     "output_type": "execute_result"
    }
   ],
   "source": [
    "test_sent"
   ]
  },
  {
   "cell_type": "markdown",
   "id": "bbeb472e",
   "metadata": {},
   "source": [
    "### 1.3- Text Pre-processing\n",
    "\n",
    "Assumptions:\n",
    "* __URLs__ would be removed\n",
    "* __Hashtags__ would be removed\n",
    "* __Mentions__ would be removed\n",
    "* __Repeating dots__ (more than two occurences) e.g.: __...__ would be removed\n",
    "* __Emojis__ would be removed\n",
    "* __Repeating characters__ (more than two occurences) e.g.: عاااااااجل would be removed\n",
    "* __Arabic Diacritics__ would be removed"
   ]
  },
  {
   "cell_type": "markdown",
   "id": "e4af638e",
   "metadata": {},
   "source": [
    "##### 1.3.1 Testing regular expression substitution"
   ]
  },
  {
   "cell_type": "code",
   "execution_count": 13,
   "id": "88edf936",
   "metadata": {},
   "outputs": [],
   "source": [
    "# Removing URLs, Hashtags, Mentions, and Repeating dots\n",
    "#  removing URLs from text StackOverflow reference: https://stackoverflow.com/a/11332580\n",
    "#  removing repeating characters than occur more than two times StackOverflow reference: https://stackoverflow.com/a/4574516\n",
    "#   URL: https?:\\/\\/.*[\\r\\n]*\n",
    "#   Hashtag: #\\w+\n",
    "#   Mention: @\\w+\n",
    "#   Repeating dots: \\.{2,}\n",
    "#   Repeating character: (\\w)\\1{2,}\n",
    "\n",
    "# Note: the pattern needs to be in raw string format\n",
    "re_general_pattern = r\"https?:\\/\\/.*[\\r\\n]*|#\\w+|@\\w+|\\.{2,}\"\n",
    "re_repeating_character_pattern = r\"(\\w)\\1{2,}\""
   ]
  },
  {
   "cell_type": "code",
   "execution_count": 14,
   "id": "7ec35e45",
   "metadata": {},
   "outputs": [],
   "source": [
    "# Removing arabic diacritics\n",
    "#  StackOverflow reference: https://stackoverflow.com/a/66988480/10086080\n",
    "def remove_diacritics(string):\n",
    "    return araby.strip_diacritics(string)"
   ]
  },
  {
   "cell_type": "code",
   "execution_count": 15,
   "id": "c4e42271",
   "metadata": {},
   "outputs": [],
   "source": [
    "# Removing emojis\n",
    "#  StackOverflow reference: https://stackoverflow.com/a/67396231\n",
    "def remove_emojis(string):\n",
    "    return emoji.get_emoji_regexp().sub(u\"\", string)"
   ]
  },
  {
   "cell_type": "code",
   "execution_count": 16,
   "id": "97b07419",
   "metadata": {},
   "outputs": [
    {
     "name": "stderr",
     "output_type": "stream",
     "text": [
      "/home/tamer/anaconda3/envs/psut-nlp-course/lib/python3.7/site-packages/ipykernel_launcher.py:1: DeprecationWarning: 'emoji.get_emoji_regexp()' is deprecated and will be removed in version 2.0.0. If you want to remove emoji from a string, consider the method emoji.replace_emoji(str, replace='').\n",
      "To hide this warning, pin/downgrade the package to 'emoji~=1.6.3'\n",
      "  \"\"\"Entry point for launching an IPython kernel.\n"
     ]
    },
    {
     "data": {
      "text/plain": [
       "re.compile(r'(👨🏿\\u200d❤️\\u200d💋\\u200d👨🏿|👨🏿\\u200d❤️\\u200d💋\\u200d👨🏻|👨🏿\\u200d❤️\\u200d💋\\u200d👨🏾|👨🏿\\u200d❤️\\u200d💋\\u200d👨🏼|👨🏿\\u200d❤️\\u200d💋\\u200d👨🏽|👨🏻\\u200d❤️\\u200d💋\\u200d👨🏻|👨🏻\\u200d❤️\\u200d💋\\u200d👨🏿|👨🏻\\u200d❤️\\u200d💋\\u200d👨🏾|👨🏻\\u200d❤️\\u200d💋\\u200d👨🏼|👨🏻\\u200d❤️\\u200d💋\\u200d👨🏽|👨🏾\\u200d❤️\\u200d💋\\u200d👨🏾|👨🏾\\u200d❤️\\u200d💋\\u200d👨🏿|👨🏾\\u200d❤️\\u200d💋\\u200d👨🏻|👨🏾\\u200d❤️\\u200d💋\\u200d👨🏼|👨🏾\\u200d❤️\\u200d💋\\u200d👨🏽|👨🏼\\u200d❤️\\u200d💋\\u200d👨🏼|👨🏼\\u200d❤️\\u200d💋\\u200d👨🏿|👨🏼\\u200d❤️\\u200d💋\\u200d👨🏻|👨🏼\\u200d❤️\\u200d💋\\u200d👨🏾|👨🏼\\u200d❤️\\u200d💋\\u200d👨🏽|👨🏽\\u200d❤️\\u200d💋\\u200d👨🏽|👨🏽\\u200d❤️\\u200d💋\\u200d👨🏿|👨🏽\\u200d❤️\\u200d💋\\u200d👨🏻|👨🏽\\u200d❤️\\u200d💋\\u200d👨🏾|👨🏽\\u200d❤️\\u200d💋\\u200d👨🏼|🧑🏿\\u200d❤️\\u200d💋\\u200d🧑🏻|🧑🏿\\u200d❤️\\u200d💋\\u200d🧑🏾|🧑🏿\\u200d❤️\\u200d💋\\u200d🧑🏼|🧑🏿\\u200d❤️\\u200d💋\\u200d🧑🏽|🧑🏻\\u200d❤️\\u200d💋\\u200d🧑🏿|🧑🏻\\u200d❤️\\u200d💋\\u200d🧑🏾|🧑🏻\\u200d❤️\\u200d💋\\u200d🧑🏼|🧑🏻\\u200d❤️\\u200d💋\\u200d🧑🏽|🧑🏾\\u200d❤️\\u200d💋\\u200d🧑🏿|🧑🏾\\u200d❤️\\u200d💋\\u200d🧑🏻|🧑🏾\\u200d❤️\\u200d💋\\u200d🧑🏼|🧑🏾\\u200d❤️\\u200d💋\\u200d🧑🏽|🧑🏼\\u200d❤️\\u200d💋\\u200d🧑🏿|🧑🏼\\u200d❤️\\u200d💋\\u200d🧑🏻|🧑🏼\\u200d❤️\\u200d💋\\u200d🧑🏾|🧑🏼\\u200d❤️\\u200d💋\\u200d🧑🏽|🧑🏽\\u200d❤️\\u200d💋\\u200d🧑🏿|🧑🏽\\u200d❤️\\u200d💋\\u200d🧑🏻|🧑🏽\\u200d❤️\\u200d💋\\u200d🧑🏾|🧑🏽\\u200d❤️\\u200d💋\\u200d🧑🏼|👩🏿\\u200d❤️\\u200d💋\\u200d👨🏿|👩🏿\\u200d❤️\\u200d💋\\u200d👨🏻|👩🏿\\u200d❤️\\u200d💋\\u200d👨🏾|👩🏿\\u200d❤️\\u200d💋\\u200d👨🏼|👩🏿\\u200d❤️\\u200d💋\\u200d👨🏽|👩🏻\\u200d❤️\\u200d💋\\u200d👨🏻|👩🏻\\u200d❤️\\u200d💋\\u200d👨🏿|👩🏻\\u200d❤️\\u200d💋\\u200d👨🏾|👩🏻\\u200d❤️\\u200d💋\\u200d👨🏼|👩🏻\\u200d❤️\\u200d💋\\u200d👨🏽|👩🏾\\u200d❤️\\u200d💋\\u200d👨🏾|👩🏾\\u200d❤️\\u200d💋\\u200d👨🏿|👩🏾\\u200d❤️\\u200d💋\\u200d👨🏻|👩🏾\\u200d❤️\\u200d💋\\u200d👨🏼|👩🏾\\u200d❤️\\u200d💋\\u200d👨🏽|👩🏼\\u200d❤️\\u200d💋\\u200d👨🏼|👩🏼\\u200d❤️\\u200d💋\\u200d👨🏿|👩🏼\\u200d❤️\\u200d💋\\u200d👨🏻|👩🏼\\u200d❤️\\u200d💋\\u200d👨🏾|👩🏼\\u200d❤️\\u200d💋\\u200d👨🏽|👩🏽\\u200d❤️\\u200d💋\\u200d👨🏽|👩🏽\\u200d❤️\\u200d💋\\u200d👨🏿|👩🏽\\u200d❤️\\u200d💋\\u200d👨🏻|👩🏽\\u200d❤️\\u200d💋\\u200d👨🏾|👩🏽\\u200d❤️\\u200d💋\\u200d👨🏼|👩🏿\\u200d❤️\\u200d💋\\u200d👩🏿|👩🏿\\u200d❤️\\u200d💋\\u200d👩🏻|👩🏿\\u200d❤️\\u200d💋\\u200d👩🏾|👩🏿\\u200d❤️\\u200d💋\\u200d👩🏼|👩🏿\\u200d❤️\\u200d💋\\u200d👩🏽|👩🏻\\u200d❤️\\u200d💋\\u200d👩🏻|👩🏻\\u200d❤️\\u200d💋\\u200d👩🏿|👩🏻\\u200d❤️\\u200d💋\\u200d👩🏾|👩🏻\\u200d❤️\\u200d💋\\u200d👩🏼|👩🏻\\u200d❤️\\u200d💋\\u200d👩🏽|👩🏾\\u200d❤️\\u200d💋\\u200d👩🏾|👩🏾\\u200d❤️\\u200d💋\\u200d👩🏿|👩🏾\\u200d❤️\\u200d💋\\u200d👩🏻|👩🏾\\u200d❤️\\u200d💋\\u200d👩🏼|👩🏾\\u200d❤️\\u200d💋\\u200d👩🏽|👩🏼\\u200d❤️\\u200d💋\\u200d👩🏼|👩🏼\\u200d❤️\\u200d💋\\u200d👩🏿|👩🏼\\u200d❤️\\u200d💋\\u200d👩🏻|👩🏼\\u200d❤️\\u200d💋\\u200d👩🏾|👩🏼\\u200d❤️\\u200d💋\\u200d👩🏽|👩🏽\\u200d❤️\\u200d💋\\u200d👩🏽|👩🏽\\u200d❤️\\u200d💋\\u200d👩🏿|👩🏽\\u200d❤️\\u200d💋\\u200d👩🏻|👩🏽\\u200d❤️\\u200d💋\\u200d👩🏾|👩🏽\\u200d❤️\\u200d💋\\u200d👩🏼|👨🏿\\u200d❤\\u200d💋\\u200d👨🏿|👨🏿\\u200d❤\\u200d💋\\u200d👨🏻|👨🏿\\u200d❤\\u200d💋\\u200d👨🏾|👨🏿\\u200d❤\\u200d💋\\u200d👨🏼|👨🏿\\u200d❤\\u200d💋\\u200d👨🏽|👨🏻\\u200d❤\\u200d💋\\u200d👨🏻|👨🏻\\u200d❤\\u200d💋\\u200d👨🏿|👨🏻\\u200d❤\\u200d💋\\u200d👨🏾|👨🏻\\u200d❤\\u200d💋\\u200d👨🏼|👨🏻\\u200d❤\\u200d💋\\u200d👨🏽|👨🏾\\u200d❤\\u200d💋\\u200d👨🏾|👨🏾\\u200d❤\\u200d💋\\u200d👨🏿|👨🏾\\u200d❤\\u200d💋\\u200d👨🏻|👨🏾\\u200d❤\\u200d💋\\u200d👨🏼|👨🏾\\u200d❤\\u200d💋\\u200d👨🏽|👨🏼\\u200d❤\\u200d💋\\u200d👨🏼|👨🏼\\u200d❤\\u200d💋\\u200d👨🏿|👨🏼\\u200d❤\\u200d💋\\u200d👨🏻|👨🏼\\u200d❤\\u200d💋\\u200d👨🏾|👨🏼\\u200d❤\\u200d💋\\u200d👨🏽|👨🏽\\u200d❤\\u200d💋\\u200d👨🏽|👨🏽\\u200d❤\\u200d💋\\u200d👨🏿|👨🏽\\u200d❤\\u200d💋\\u200d👨🏻|👨🏽\\u200d❤\\u200d💋\\u200d👨🏾|👨🏽\\u200d❤\\u200d💋\\u200d👨🏼|🧑🏿\\u200d❤\\u200d💋\\u200d🧑🏻|🧑🏿\\u200d❤\\u200d💋\\u200d🧑🏾|🧑🏿\\u200d❤\\u200d💋\\u200d🧑🏼|🧑🏿\\u200d❤\\u200d💋\\u200d🧑🏽|🧑🏻\\u200d❤\\u200d💋\\u200d🧑🏿|🧑🏻\\u200d❤\\u200d💋\\u200d🧑🏾|🧑🏻\\u200d❤\\u200d💋\\u200d🧑🏼|🧑🏻\\u200d❤\\u200d💋\\u200d🧑🏽|🧑🏾\\u200d❤\\u200d💋\\u200d🧑🏿|🧑🏾\\u200d❤\\u200d💋\\u200d🧑🏻|🧑🏾\\u200d❤\\u200d💋\\u200d🧑🏼|🧑🏾\\u200d❤\\u200d💋\\u200d🧑🏽|🧑🏼\\u200d❤\\u200d💋\\u200d🧑🏿|🧑🏼\\u200d❤\\u200d💋\\u200d🧑🏻|🧑🏼\\u200d❤\\u200d💋\\u200d🧑🏾|🧑🏼\\u200d❤\\u200d💋\\u200d🧑🏽|🧑🏽\\u200d❤\\u200d💋\\u200d🧑🏿|🧑🏽\\u200d❤\\u200d💋\\u200d🧑🏻|🧑🏽\\u200d❤\\u200d💋\\u200d🧑🏾|🧑🏽\\u200d❤\\u200d💋\\u200d🧑🏼|👩🏿\\u200d❤\\u200d💋\\u200d👨🏿|👩🏿\\u200d❤\\u200d💋\\u200d👨🏻|👩🏿\\u200d❤\\u200d💋\\u200d👨🏾|👩🏿\\u200d❤\\u200d💋\\u200d👨🏼|👩🏿\\u200d❤\\u200d💋\\u200d👨🏽|👩🏻\\u200d❤\\u200d💋\\u200d👨🏻|👩🏻\\u200d❤\\u200d💋\\u200d👨🏿|👩🏻\\u200d❤\\u200d💋\\u200d👨🏾|👩🏻\\u200d❤\\u200d💋\\u200d👨🏼|👩🏻\\u200d❤\\u200d💋\\u200d👨🏽|👩🏾\\u200d❤\\u200d💋\\u200d👨🏾|👩🏾\\u200d❤\\u200d💋\\u200d👨🏿|👩🏾\\u200d❤\\u200d💋\\u200d👨🏻|👩🏾\\u200d❤\\u200d💋\\u200d👨🏼|👩🏾\\u200d❤\\u200d💋\\u200d👨🏽|👩🏼\\u200d❤\\u200d💋\\u200d👨🏼|👩🏼\\u200d❤\\u200d💋\\u200d👨🏿|👩🏼\\u200d❤\\u200d💋\\u200d👨🏻|👩🏼\\u200d❤\\u200d💋\\u200d👨🏾|👩🏼\\u200d❤\\u200d💋\\u200d👨🏽|👩🏽\\u200d❤\\u200d💋\\u200d👨🏽|👩🏽\\u200d❤\\u200d💋\\u200d👨🏿|👩🏽\\u200d❤\\u200d💋\\u200d👨🏻|👩🏽\\u200d❤\\u200d💋\\u200d👨🏾|👩🏽\\u200d❤\\u200d💋\\u200d👨🏼|👩🏿\\u200d❤\\u200d💋\\u200d👩🏿|👩🏿\\u200d❤\\u200d💋\\u200d👩🏻|👩🏿\\u200d❤\\u200d💋\\u200d👩🏾|👩🏿\\u200d❤\\u200d💋\\u200d👩🏼|👩🏿\\u200d❤\\u200d💋\\u200d👩🏽|👩🏻\\u200d❤\\u200d💋\\u200d👩🏻|👩🏻\\u200d❤\\u200d💋\\u200d👩🏿|👩🏻\\u200d❤\\u200d💋\\u200d👩🏾|👩🏻\\u200d❤\\u200d💋\\u200d👩🏼|👩🏻\\u200d❤\\u200d💋\\u200d👩🏽|👩🏾\\u200d❤\\u200d💋\\u200d👩🏾|👩🏾\\u200d❤\\u200d💋\\u200d👩🏿|👩🏾\\u200d❤\\u200d💋\\u200d👩🏻|👩🏾\\u200d❤\\u200d💋\\u200d👩🏼|👩🏾\\u200d❤\\u200d💋\\u200d👩🏽|👩🏼\\u200d❤\\u200d💋\\u200d👩🏼|👩🏼\\u200d❤\\u200d💋\\u200d👩🏿|👩🏼\\u200d❤\\u200d💋\\u200d👩🏻|👩🏼\\u200d❤\\u200d💋\\u200d👩🏾|👩🏼\\u200d❤\\u200d💋\\u200d👩🏽|👩🏽\\u200d❤\\u200d💋\\u200d👩🏽|👩🏽\\u200d❤\\u200d💋\\u200d👩🏿|👩🏽\\u200d❤\\u200d💋\\u200d👩🏻|👩🏽\\u200d❤\\u200d💋\\u200d👩🏾|👩🏽\\u200d❤\\u200d💋\\u200d👩🏼|👨🏿\\u200d❤️\\u200d👨🏿|👨🏿\\u200d❤️\\u200d👨🏻|👨🏿\\u200d❤️\\u200d👨🏾|👨🏿\\u200d❤️\\u200d👨🏼|👨🏿\\u200d❤️\\u200d👨🏽|👨🏻\\u200d❤️\\u200d👨🏻|👨🏻\\u200d❤️\\u200d👨🏿|👨🏻\\u200d❤️\\u200d👨🏾|👨🏻\\u200d❤️\\u200d👨🏼|👨🏻\\u200d❤️\\u200d👨🏽|👨🏾\\u200d❤️\\u200d👨🏾|👨🏾\\u200d❤️\\u200d👨🏿|👨🏾\\u200d❤️\\u200d👨🏻|👨🏾\\u200d❤️\\u200d👨🏼|👨🏾\\u200d❤️\\u200d👨🏽|👨🏼\\u200d❤️\\u200d👨🏼|👨🏼\\u200d❤️\\u200d👨🏿|👨🏼\\u200d❤️\\u200d👨🏻|👨🏼\\u200d❤️\\u200d👨🏾|👨🏼\\u200d❤️\\u200d👨🏽|👨🏽\\u200d❤️\\u200d👨🏽|👨🏽\\u200d❤️\\u200d👨🏿|👨🏽\\u200d❤️\\u200d👨🏻|👨🏽\\u200d❤️\\u200d👨🏾|👨🏽\\u200d❤️\\u200d👨🏼|🧑🏿\\u200d❤️\\u200d🧑🏻|🧑🏿\\u200d❤️\\u200d🧑🏾|🧑🏿\\u200d❤️\\u200d🧑🏼|🧑🏿\\u200d❤️\\u200d🧑🏽|🧑🏻\\u200d❤️\\u200d🧑🏿|🧑🏻\\u200d❤️\\u200d🧑🏾|🧑🏻\\u200d❤️\\u200d🧑🏼|🧑🏻\\u200d❤️\\u200d🧑🏽|🧑🏾\\u200d❤️\\u200d🧑🏿|🧑🏾\\u200d❤️\\u200d🧑🏻|🧑🏾\\u200d❤️\\u200d🧑🏼|🧑🏾\\u200d❤️\\u200d🧑🏽|🧑🏼\\u200d❤️\\u200d🧑🏿|🧑🏼\\u200d❤️\\u200d🧑🏻|🧑🏼\\u200d❤️\\u200d🧑🏾|🧑🏼\\u200d❤️\\u200d🧑🏽|🧑🏽\\u200d❤️\\u200d🧑🏿|🧑🏽\\u200d❤️\\u200d🧑🏻|🧑🏽\\u200d❤️\\u200d🧑🏾|🧑🏽\\u200d❤️\\u200d🧑🏼|👩🏿\\u200d❤️\\u200d👨🏿|👩🏿\\u200d❤️\\u200d👨🏻|👩🏿\\u200d❤️\\u200d👨🏾|👩🏿\\u200d❤️\\u200d👨🏼|👩🏿\\u200d❤️\\u200d👨🏽|👩🏻\\u200d❤️\\u200d👨🏻|👩🏻\\u200d❤️\\u200d👨🏿|👩🏻\\u200d❤️\\u200d👨🏾|👩🏻\\u200d❤️\\u200d👨🏼|👩🏻\\u200d❤️\\u200d👨🏽|👩🏾\\u200d❤️\\u200d👨🏾|👩🏾\\u200d❤️\\u200d👨🏿|👩🏾\\u200d❤️\\u200d👨🏻|👩🏾\\u200d❤️\\u200d👨🏼|👩🏾\\u200d❤️\\u200d👨🏽|👩🏼\\u200d❤️\\u200d👨🏼|👩🏼\\u200d❤️\\u200d👨🏿|👩🏼\\u200d❤️\\u200d👨🏻|👩🏼\\u200d❤️\\u200d👨🏾|👩🏼\\u200d❤️\\u200d👨🏽|👩🏽\\u200d❤️\\u200d👨🏽|👩🏽\\u200d❤️\\u200d👨🏿|👩🏽\\u200d❤️\\u200d👨🏻|👩🏽\\u200d❤️\\u200d👨🏾|👩🏽\\u200d❤️\\u200d👨🏼|👩🏿\\u200d❤️\\u200d👩🏿|👩🏿\\u200d❤️\\u200d👩🏻|👩🏿\\u200d❤️\\u200d👩🏾|👩🏿\\u200d❤️\\u200d👩🏼|👩🏿\\u200d❤️\\u200d👩🏽|👩🏻\\u200d❤️\\u200d👩🏻|👩🏻\\u200d❤️\\u200d👩🏿|👩🏻\\u200d❤️\\u200d👩🏾|👩🏻\\u200d❤️\\u200d👩🏼|👩🏻\\u200d❤️\\u200d👩🏽|👩🏾\\u200d❤️\\u200d👩🏾|👩🏾\\u200d❤️\\u200d👩🏿|👩🏾\\u200d❤️\\u200d👩🏻|👩🏾\\u200d❤️\\u200d👩🏼|👩🏾\\u200d❤️\\u200d👩🏽|👩🏼\\u200d❤️\\u200d👩🏼|👩🏼\\u200d❤️\\u200d👩🏿|👩🏼\\u200d❤️\\u200d👩🏻|👩🏼\\u200d❤️\\u200d👩🏾|👩🏼\\u200d❤️\\u200d👩🏽|👩🏽\\u200d❤️\\u200d👩🏽|👩🏽\\u200d❤️\\u200d👩🏿|👩🏽\\u200d❤️\\u200d👩🏻|👩🏽\\u200d❤️\\u200d👩🏾|👩🏽\\u200d❤️\\u200d👩🏼|👨\\u200d❤️\\u200d💋\\u200d👨|👩\\u200d❤️\\u200d💋\\u200d👨|👩\\u200d❤️\\u200d💋\\u200d👩|🏴\\U000e0067\\U000e0062\\U000e0065\\U000e006e\\U000e0067\\U000e007f|🏴\\U000e0067\\U000e0062\\U000e0073\\U000e0063\\U000e0074\\U000e007f|🏴\\U000e0067\\U000e0062\\U000e0077\\U000e006c\\U000e0073\\U000e007f|👨🏿\\u200d❤\\u200d👨🏿|👨🏿\\u200d❤\\u200d👨🏻|👨🏿\\u200d❤\\u200d👨🏾|👨🏿\\u200d❤\\u200d👨🏼|👨🏿\\u200d❤\\u200d👨🏽|👨🏻\\u200d❤\\u200d👨🏻|👨🏻\\u200d❤\\u200d👨🏿|👨🏻\\u200d❤\\u200d👨🏾|👨🏻\\u200d❤\\u200d👨🏼|👨🏻\\u200d❤\\u200d👨🏽|👨🏾\\u200d❤\\u200d👨🏾|👨🏾\\u200d❤\\u200d👨🏿|👨🏾\\u200d❤\\u200d👨🏻|👨🏾\\u200d❤\\u200d👨🏼|👨🏾\\u200d❤\\u200d👨🏽|👨🏼\\u200d❤\\u200d👨🏼|👨🏼\\u200d❤\\u200d👨🏿|👨🏼\\u200d❤\\u200d👨🏻|👨🏼\\u200d❤\\u200d👨🏾|👨🏼\\u200d❤\\u200d👨🏽|👨🏽\\u200d❤\\u200d👨🏽|👨🏽\\u200d❤\\u200d👨🏿|👨🏽\\u200d❤\\u200d👨🏻|👨🏽\\u200d❤\\u200d👨🏾|👨🏽\\u200d❤\\u200d👨🏼|🧑🏿\\u200d❤\\u200d🧑🏻|🧑🏿\\u200d❤\\u200d🧑🏾|🧑🏿\\u200d❤\\u200d🧑🏼|🧑🏿\\u200d❤\\u200d🧑🏽|🧑🏻\\u200d❤\\u200d🧑🏿|🧑🏻\\u200d❤\\u200d🧑🏾|🧑🏻\\u200d❤\\u200d🧑🏼|🧑🏻\\u200d❤\\u200d🧑🏽|🧑🏾\\u200d❤\\u200d🧑🏿|🧑🏾\\u200d❤\\u200d🧑🏻|🧑🏾\\u200d❤\\u200d🧑🏼|🧑🏾\\u200d❤\\u200d🧑🏽|🧑🏼\\u200d❤\\u200d🧑🏿|🧑🏼\\u200d❤\\u200d🧑🏻|🧑🏼\\u200d❤\\u200d🧑🏾|🧑🏼\\u200d❤\\u200d🧑🏽|🧑🏽\\u200d❤\\u200d🧑🏿|🧑🏽\\u200d❤\\u200d🧑🏻|🧑🏽\\u200d❤\\u200d🧑🏾|🧑🏽\\u200d❤\\u200d🧑🏼|👩🏿\\u200d❤\\u200d👨🏿|👩🏿\\u200d❤\\u200d👨🏻|👩🏿\\u200d❤\\u200d👨🏾|👩🏿\\u200d❤\\u200d👨🏼|👩🏿\\u200d❤\\u200d👨🏽|👩🏻\\u200d❤\\u200d👨🏻|👩🏻\\u200d❤\\u200d👨🏿|👩🏻\\u200d❤\\u200d👨🏾|👩🏻\\u200d❤\\u200d👨🏼|👩🏻\\u200d❤\\u200d👨🏽|👩🏾\\u200d❤\\u200d👨🏾|👩🏾\\u200d❤\\u200d👨🏿|👩🏾\\u200d❤\\u200d👨🏻|👩🏾\\u200d❤\\u200d👨🏼|👩🏾\\u200d❤\\u200d👨🏽|👩🏼\\u200d❤\\u200d👨🏼|👩🏼\\u200d❤\\u200d👨🏿|👩🏼\\u200d❤\\u200d👨🏻|👩🏼\\u200d❤\\u200d👨🏾|👩🏼\\u200d❤\\u200d👨🏽|👩🏽\\u200d❤\\u200d👨🏽|👩🏽\\u200d❤\\u200d👨🏿|👩🏽\\u200d❤\\u200d👨🏻|👩🏽\\u200d❤\\u200d👨🏾|👩🏽\\u200d❤\\u200d👨🏼|👩🏿\\u200d❤\\u200d👩🏿|👩🏿\\u200d❤\\u200d👩🏻|👩🏿\\u200d❤\\u200d👩🏾|👩🏿\\u200d❤\\u200d👩🏼|👩🏿\\u200d❤\\u200d👩🏽|👩🏻\\u200d❤\\u200d👩🏻|👩🏻\\u200d❤\\u200d👩🏿|👩🏻\\u200d❤\\u200d👩🏾|👩🏻\\u200d❤\\u200d👩🏼|👩🏻\\u200d❤\\u200d👩🏽|👩🏾\\u200d❤\\u200d👩🏾|👩🏾\\u200d❤\\u200d👩🏿|👩🏾\\u200d❤\\u200d👩🏻|👩🏾\\u200d❤\\u200d👩🏼|👩🏾\\u200d❤\\u200d👩🏽|👩🏼\\u200d❤\\u200d👩🏼|👩🏼\\u200d❤\\u200d👩🏿|👩🏼\\u200d❤\\u200d👩🏻|👩🏼\\u200d❤\\u200d👩🏾|👩🏼\\u200d❤\\u200d👩🏽|👩🏽\\u200d❤\\u200d👩🏽|👩🏽\\u200d❤\\u200d👩🏿|👩🏽\\u200d❤\\u200d👩🏻|👩🏽\\u200d❤\\u200d👩🏾|👩🏽\\u200d❤\\u200d👩🏼|👨\\u200d👨\\u200d👦\\u200d👦|👨\\u200d👨\\u200d👧\\u200d👦|👨\\u200d👨\\u200d👧\\u200d👧|👨\\u200d👩\\u200d👦\\u200d👦|👨\\u200d👩\\u200d👧\\u200d👦|👨\\u200d👩\\u200d👧\\u200d👧|👩\\u200d👩\\u200d👦\\u200d👦|👩\\u200d👩\\u200d👧\\u200d👦|👩\\u200d👩\\u200d👧\\u200d👧|👨\\u200d❤\\u200d💋\\u200d👨|👩\\u200d❤\\u200d💋\\u200d👨|👩\\u200d❤\\u200d💋\\u200d👩|👨🏿\\u200d🤝\\u200d👨🏻|👨🏿\\u200d🤝\\u200d👨🏾|👨🏿\\u200d🤝\\u200d👨🏼|👨🏿\\u200d🤝\\u200d👨🏽|👨🏻\\u200d🤝\\u200d👨🏿|👨🏻\\u200d🤝\\u200d👨🏾|👨🏻\\u200d🤝\\u200d👨🏼|👨🏻\\u200d🤝\\u200d👨🏽|👨🏾\\u200d🤝\\u200d👨🏿|👨🏾\\u200d🤝\\u200d👨🏻|👨🏾\\u200d🤝\\u200d👨🏼|👨🏾\\u200d🤝\\u200d👨🏽|👨🏼\\u200d🤝\\u200d👨🏿|👨🏼\\u200d🤝\\u200d👨🏻|👨🏼\\u200d🤝\\u200d👨🏾|👨🏼\\u200d🤝\\u200d👨🏽|👨🏽\\u200d🤝\\u200d👨🏿|👨🏽\\u200d🤝\\u200d👨🏻|👨🏽\\u200d🤝\\u200d👨🏾|👨🏽\\u200d🤝\\u200d👨🏼|🧑🏿\\u200d🤝\\u200d🧑🏿|🧑🏿\\u200d🤝\\u200d🧑🏻|🧑🏿\\u200d🤝\\u200d🧑🏾|🧑🏿\\u200d🤝\\u200d🧑🏼|🧑🏿\\u200d🤝\\u200d🧑🏽|🧑🏻\\u200d🤝\\u200d🧑🏻|🧑🏻\\u200d🤝\\u200d🧑🏿|🧑🏻\\u200d🤝\\u200d🧑🏾|🧑🏻\\u200d🤝\\u200d🧑🏼|🧑🏻\\u200d🤝\\u200d🧑🏽|🧑🏾\\u200d🤝\\u200d🧑🏾|🧑🏾\\u200d🤝\\u200d🧑🏿|🧑🏾\\u200d🤝\\u200d🧑🏻|🧑🏾\\u200d🤝\\u200d🧑🏼|🧑🏾\\u200d🤝\\u200d🧑🏽|🧑🏼\\u200d🤝\\u200d🧑🏼|🧑🏼\\u200d🤝\\u200d🧑🏿|🧑🏼\\u200d🤝\\u200d🧑🏻|🧑🏼\\u200d🤝\\u200d🧑🏾|🧑🏼\\u200d🤝\\u200d🧑🏽|🧑🏽\\u200d🤝\\u200d🧑🏽|🧑🏽\\u200d🤝\\u200d🧑🏿|🧑🏽\\u200d🤝\\u200d🧑🏻|🧑🏽\\u200d🤝\\u200d🧑🏾|🧑🏽\\u200d🤝\\u200d🧑🏼|👩🏿\\u200d🤝\\u200d👨🏻|👩🏿\\u200d🤝\\u200d👨🏾|👩🏿\\u200d🤝\\u200d👨🏼|👩🏿\\u200d🤝\\u200d👨🏽|👩🏻\\u200d🤝\\u200d👨🏿|👩🏻\\u200d🤝\\u200d👨🏾|👩🏻\\u200d🤝\\u200d👨🏼|👩🏻\\u200d🤝\\u200d👨🏽|👩🏾\\u200d🤝\\u200d👨🏿|👩🏾\\u200d🤝\\u200d👨🏻|👩🏾\\u200d🤝\\u200d👨🏼|👩🏾\\u200d🤝\\u200d👨🏽|👩🏼\\u200d🤝\\u200d👨🏿|👩🏼\\u200d🤝\\u200d👨🏻|👩🏼\\u200d🤝\\u200d👨🏾|👩🏼\\u200d🤝\\u200d👨🏽|👩🏽\\u200d🤝\\u200d👨🏿|👩🏽\\u200d🤝\\u200d👨🏻|👩🏽\\u200d🤝\\u200d👨🏾|👩🏽\\u200d🤝\\u200d👨🏼|👩🏿\\u200d🤝\\u200d👩🏻|👩🏿\\u200d🤝\\u200d👩🏾|👩🏿\\u200d🤝\\u200d👩🏼|👩🏿\\u200d🤝\\u200d👩🏽|👩🏻\\u200d🤝\\u200d👩🏿|👩🏻\\u200d🤝\\u200d👩🏾|👩🏻\\u200d🤝\\u200d👩🏼|👩🏻\\u200d🤝\\u200d👩🏽|👩🏾\\u200d🤝\\u200d👩🏿|👩🏾\\u200d🤝\\u200d👩🏻|👩🏾\\u200d🤝\\u200d👩🏼|👩🏾\\u200d🤝\\u200d👩🏽|👩🏼\\u200d🤝\\u200d👩🏿|👩🏼\\u200d🤝\\u200d👩🏻|👩🏼\\u200d🤝\\u200d👩🏾|👩🏼\\u200d🤝\\u200d👩🏽|👩🏽\\u200d🤝\\u200d👩🏿|👩🏽\\u200d🤝\\u200d👩🏻|👩🏽\\u200d🤝\\u200d👩🏾|👩🏽\\u200d🤝\\u200d👩🏼|👨\\u200d❤️\\u200d👨|👩\\u200d❤️\\u200d👨|👩\\u200d❤️\\u200d👩|👨\\u200d❤\\u200d👨|👩\\u200d❤\\u200d👨|👩\\u200d❤\\u200d👩|\\U0001f9cf🏿\\u200d♂️|\\U0001f9cf🏻\\u200d♂️|\\U0001f9cf🏾\\u200d♂️|\\U0001f9cf🏼\\u200d♂️|\\U0001f9cf🏽\\u200d♂️|\\U0001f9cf🏿\\u200d♀️|\\U0001f9cf🏻\\u200d♀️|\\U0001f9cf🏾\\u200d♀️|\\U0001f9cf🏼\\u200d♀️|\\U0001f9cf🏽\\u200d♀️|👁️\\u200d🗨️|👨\\u200d👦\\u200d👦|👨\\u200d👧\\u200d👦|👨\\u200d👧\\u200d👧|👨\\u200d👨\\u200d👦|👨\\u200d👨\\u200d👧|👨\\u200d👩\\u200d👦|👨\\u200d👩\\u200d👧|👩\\u200d👦\\u200d👦|👩\\u200d👧\\u200d👦|👩\\u200d👧\\u200d👧|👩\\u200d👩\\u200d👦|👩\\u200d👩\\u200d👧|\\U0001faf1🏿\\u200d\\U0001faf2🏻|\\U0001faf1🏿\\u200d\\U0001faf2🏾|\\U0001faf1🏿\\u200d\\U0001faf2🏼|\\U0001faf1🏿\\u200d\\U0001faf2🏽|\\U0001faf1🏻\\u200d\\U0001faf2🏿|\\U0001faf1🏻\\u200d\\U0001faf2🏾|\\U0001faf1🏻\\u200d\\U0001faf2🏼|\\U0001faf1🏻\\u200d\\U0001faf2🏽|\\U0001faf1🏾\\u200d\\U0001faf2🏿|\\U0001faf1🏾\\u200d\\U0001faf2🏻|\\U0001faf1🏾\\u200d\\U0001faf2🏼|\\U0001faf1🏾\\u200d\\U0001faf2🏽|\\U0001faf1🏼\\u200d\\U0001faf2🏿|\\U0001faf1🏼\\u200d\\U0001faf2🏻|\\U0001faf1🏼\\u200d\\U0001faf2🏾|\\U0001faf1🏼\\u200d\\U0001faf2🏽|\\U0001faf1🏽\\u200d\\U0001faf2🏿|\\U0001faf1🏽\\u200d\\U0001faf2🏻|\\U0001faf1🏽\\u200d\\U0001faf2🏾|\\U0001faf1🏽\\u200d\\U0001faf2🏼|🧑🏿\\u200d⚕️|🧑🏻\\u200d⚕️|🧑🏾\\u200d⚕️|🧑🏼\\u200d⚕️|🧑🏽\\u200d⚕️|🧑🏿\\u200d⚖️|🧑🏻\\u200d⚖️|🧑🏾\\u200d⚖️|🧑🏼\\u200d⚖️|🧑🏽\\u200d⚖️|🚴🏿\\u200d♂️|🚴🏻\\u200d♂️|🚴🏾\\u200d♂️|🚴🏼\\u200d♂️|🚴🏽\\u200d♂️|⛹️\\u200d♂️|⛹🏿\\u200d♂️|⛹🏻\\u200d♂️|⛹🏾\\u200d♂️|⛹🏼\\u200d♂️|⛹🏽\\u200d♂️|🙇🏿\\u200d♂️|🙇🏻\\u200d♂️|🙇🏾\\u200d♂️|🙇🏼\\u200d♂️|🙇🏽\\u200d♂️|🤸🏿\\u200d♂️|🤸🏻\\u200d♂️|🤸🏾\\u200d♂️|🤸🏼\\u200d♂️|🤸🏽\\u200d♂️|🧗🏿\\u200d♂️|🧗🏻\\u200d♂️|🧗🏾\\u200d♂️|🧗🏼\\u200d♂️|🧗🏽\\u200d♂️|👷🏿\\u200d♂️|👷🏻\\u200d♂️|👷🏾\\u200d♂️|👷🏼\\u200d♂️|👷🏽\\u200d♂️|🧔🏿\\u200d♂️|👱🏿\\u200d♂️|🕵️\\u200d♂️|🕵🏿\\u200d♂️|🕵🏻\\u200d♂️|🕵🏾\\u200d♂️|🕵🏼\\u200d♂️|🕵🏽\\u200d♂️|🧝🏿\\u200d♂️|🧝🏻\\u200d♂️|🧝🏾\\u200d♂️|🧝🏼\\u200d♂️|🧝🏽\\u200d♂️|🤦🏿\\u200d♂️|🤦🏻\\u200d♂️|🤦🏾\\u200d♂️|🤦🏼\\u200d♂️|🤦🏽\\u200d♂️|🧚🏿\\u200d♂️|🧚🏻\\u200d♂️|🧚🏾\\u200d♂️|🧚🏼\\u200d♂️|🧚🏽\\u200d♂️|🙍🏿\\u200d♂️|🙍🏻\\u200d♂️|🙍🏾\\u200d♂️|🙍🏼\\u200d♂️|🙍🏽\\u200d♂️|🙅🏿\\u200d♂️|🙅🏻\\u200d♂️|🙅🏾\\u200d♂️|🙅🏼\\u200d♂️|🙅🏽\\u200d♂️|🙆🏿\\u200d♂️|🙆🏻\\u200d♂️|🙆🏾\\u200d♂️|🙆🏼\\u200d♂️|🙆🏽\\u200d♂️|💇🏿\\u200d♂️|💇🏻\\u200d♂️|💇🏾\\u200d♂️|💇🏼\\u200d♂️|💇🏽\\u200d♂️|💆🏿\\u200d♂️|💆🏻\\u200d♂️|💆🏾\\u200d♂️|💆🏼\\u200d♂️|💆🏽\\u200d♂️|🏌️\\u200d♂️|🏌🏿\\u200d♂️|🏌🏻\\u200d♂️|🏌🏾\\u200d♂️|🏌🏼\\u200d♂️|🏌🏽\\u200d♂️|💂🏿\\u200d♂️|💂🏻\\u200d♂️|💂🏾\\u200d♂️|💂🏼\\u200d♂️|💂🏽\\u200d♂️|👨🏿\\u200d⚕️|👨🏻\\u200d⚕️|👨🏾\\u200d⚕️|👨🏼\\u200d⚕️|👨🏽\\u200d⚕️|🧘🏿\\u200d♂️|🧘🏻\\u200d♂️|🧘🏾\\u200d♂️|🧘🏼\\u200d♂️|🧘🏽\\u200d♂️|🧖🏿\\u200d♂️|🧖🏻\\u200d♂️|🧖🏾\\u200d♂️|🧖🏼\\u200d♂️|🧖🏽\\u200d♂️|🤵🏿\\u200d♂️|🤵🏻\\u200d♂️|🤵🏾\\u200d♂️|🤵🏼\\u200d♂️|🤵🏽\\u200d♂️|👨🏿\\u200d⚖️|👨🏻\\u200d⚖️|👨🏾\\u200d⚖️|👨🏼\\u200d⚖️|👨🏽\\u200d⚖️|🤹🏿\\u200d♂️|🤹🏻\\u200d♂️|🤹🏾\\u200d♂️|🤹🏼\\u200d♂️|🤹🏽\\u200d♂️|\\U0001f9ce🏿\\u200d♂️|\\U0001f9ce🏻\\u200d♂️|\\U0001f9ce🏾\\u200d♂️|\\U0001f9ce🏼\\u200d♂️|\\U0001f9ce🏽\\u200d♂️|🏋️\\u200d♂️|🏋🏿\\u200d♂️|🏋🏻\\u200d♂️|🏋🏾\\u200d♂️|🏋🏼\\u200d♂️|🏋🏽\\u200d♂️|🧔🏻\\u200d♂️|👱🏻\\u200d♂️|🧙🏿\\u200d♂️|🧙🏻\\u200d♂️|🧙🏾\\u200d♂️|🧙🏼\\u200d♂️|🧙🏽\\u200d♂️|🧔🏾\\u200d♂️|👱🏾\\u200d♂️|🧔🏼\\u200d♂️|👱🏼\\u200d♂️|🧔🏽\\u200d♂️|👱🏽\\u200d♂️|🚵🏿\\u200d♂️|🚵🏻\\u200d♂️|🚵🏾\\u200d♂️|🚵🏼\\u200d♂️|🚵🏽\\u200d♂️|👨🏿\\u200d✈️|👨🏻\\u200d✈️|👨🏾\\u200d✈️|👨🏼\\u200d✈️|👨🏽\\u200d✈️|🤾🏿\\u200d♂️|🤾🏻\\u200d♂️|🤾🏾\\u200d♂️|🤾🏼\\u200d♂️|🤾🏽\\u200d♂️|🤽🏿\\u200d♂️|🤽🏻\\u200d♂️|🤽🏾\\u200d♂️|🤽🏼\\u200d♂️|🤽🏽\\u200d♂️|👮🏿\\u200d♂️|👮🏻\\u200d♂️|👮🏾\\u200d♂️|👮🏼\\u200d♂️|👮🏽\\u200d♂️|🙎🏿\\u200d♂️|🙎🏻\\u200d♂️|🙎🏾\\u200d♂️|🙎🏼\\u200d♂️|🙎🏽\\u200d♂️|🙋🏿\\u200d♂️|🙋🏻\\u200d♂️|🙋🏾\\u200d♂️|🙋🏼\\u200d♂️|🙋🏽\\u200d♂️|🚣🏿\\u200d♂️|🚣🏻\\u200d♂️|🚣🏾\\u200d♂️|🚣🏼\\u200d♂️|🚣🏽\\u200d♂️|🏃🏿\\u200d♂️|🏃🏻\\u200d♂️|🏃🏾\\u200d♂️|🏃🏼\\u200d♂️|🏃🏽\\u200d♂️|🤷🏿\\u200d♂️|🤷🏻\\u200d♂️|🤷🏾\\u200d♂️|🤷🏼\\u200d♂️|🤷🏽\\u200d♂️|\\U0001f9cd🏿\\u200d♂️|\\U0001f9cd🏻\\u200d♂️|\\U0001f9cd🏾\\u200d♂️|\\U0001f9cd🏼\\u200d♂️|\\U0001f9cd🏽\\u200d♂️|🦸🏿\\u200d♂️|🦸🏻\\u200d♂️|🦸🏾\\u200d♂️|🦸🏼\\u200d♂️|🦸🏽\\u200d♂️|🦹🏿\\u200d♂️|🦹🏻\\u200d♂️|🦹🏾\\u200d♂️|🦹🏼\\u200d♂️|🦹🏽\\u200d♂️|🏄🏿\\u200d♂️|🏄🏻\\u200d♂️|🏄🏾\\u200d♂️|🏄🏼\\u200d♂️|🏄🏽\\u200d♂️|🏊🏿\\u200d♂️|🏊🏻\\u200d♂️|🏊🏾\\u200d♂️|🏊🏼\\u200d♂️|🏊🏽\\u200d♂️|💁🏿\\u200d♂️|💁🏻\\u200d♂️|💁🏾\\u200d♂️|💁🏼\\u200d♂️|💁🏽\\u200d♂️|🧛🏿\\u200d♂️|🧛🏻\\u200d♂️|🧛🏾\\u200d♂️|🧛🏼\\u200d♂️|🧛🏽\\u200d♂️|🚶🏿\\u200d♂️|🚶🏻\\u200d♂️|🚶🏾\\u200d♂️|🚶🏼\\u200d♂️|🚶🏽\\u200d♂️|👳🏿\\u200d♂️|👳🏻\\u200d♂️|👳🏾\\u200d♂️|👳🏼\\u200d♂️|👳🏽\\u200d♂️|👰🏿\\u200d♂️|👰🏻\\u200d♂️|👰🏾\\u200d♂️|👰🏼\\u200d♂️|👰🏽\\u200d♂️|🧜🏿\\u200d♀️|🧜🏻\\u200d♀️|🧜🏾\\u200d♀️|🧜🏼\\u200d♀️|🧜🏽\\u200d♀️|🧜🏿\\u200d♂️|🧜🏻\\u200d♂️|🧜🏾\\u200d♂️|🧜🏼\\u200d♂️|🧜🏽\\u200d♂️|🧑\\u200d🤝\\u200d🧑|🧑🏿\\u200d✈️|🧑🏻\\u200d✈️|🧑🏾\\u200d✈️|🧑🏼\\u200d✈️|🧑🏽\\u200d✈️|🏳️\\u200d⚧️|🚴🏿\\u200d♀️|🚴🏻\\u200d♀️|🚴🏾\\u200d♀️|🚴🏼\\u200d♀️|🚴🏽\\u200d♀️|⛹️\\u200d♀️|⛹🏿\\u200d♀️|⛹🏻\\u200d♀️|⛹🏾\\u200d♀️|⛹🏼\\u200d♀️|⛹🏽\\u200d♀️|🙇🏿\\u200d♀️|🙇🏻\\u200d♀️|🙇🏾\\u200d♀️|🙇🏼\\u200d♀️|🙇🏽\\u200d♀️|🤸🏿\\u200d♀️|🤸🏻\\u200d♀️|🤸🏾\\u200d♀️|🤸🏼\\u200d♀️|🤸🏽\\u200d♀️|🧗🏿\\u200d♀️|🧗🏻\\u200d♀️|🧗🏾\\u200d♀️|🧗🏼\\u200d♀️|🧗🏽\\u200d♀️|👷🏿\\u200d♀️|👷🏻\\u200d♀️|👷🏾\\u200d♀️|👷🏼\\u200d♀️|👷🏽\\u200d♀️|🧔🏿\\u200d♀️|👱🏿\\u200d♀️|🕵️\\u200d♀️|🕵🏿\\u200d♀️|🕵🏻\\u200d♀️|🕵🏾\\u200d♀️|🕵🏼\\u200d♀️|🕵🏽\\u200d♀️|🧝🏿\\u200d♀️|🧝🏻\\u200d♀️|🧝🏾\\u200d♀️|🧝🏼\\u200d♀️|🧝🏽\\u200d♀️|🤦🏿\\u200d♀️|🤦🏻\\u200d♀️|🤦🏾\\u200d♀️|🤦🏼\\u200d♀️|🤦🏽\\u200d♀️|🧚🏿\\u200d♀️|🧚🏻\\u200d♀️|🧚🏾\\u200d♀️|🧚🏼\\u200d♀️|🧚🏽\\u200d♀️|🙍🏿\\u200d♀️|🙍🏻\\u200d♀️|🙍🏾\\u200d♀️|🙍🏼\\u200d♀️|🙍🏽\\u200d♀️|🙅🏿\\u200d♀️|🙅🏻\\u200d♀️|🙅🏾\\u200d♀️|🙅🏼\\u200d♀️|🙅🏽\\u200d♀️|🙆🏿\\u200d♀️|🙆🏻\\u200d♀️|🙆🏾\\u200d♀️|🙆🏼\\u200d♀️|🙆🏽\\u200d♀️|💇🏿\\u200d♀️|💇🏻\\u200d♀️|💇🏾\\u200d♀️|💇🏼\\u200d♀️|💇🏽\\u200d♀️|💆🏿\\u200d♀️|💆🏻\\u200d♀️|💆🏾\\u200d♀️|💆🏼\\u200d♀️|💆🏽\\u200d♀️|🏌️\\u200d♀️|🏌🏿\\u200d♀️|🏌🏻\\u200d♀️|🏌🏾\\u200d♀️|🏌🏼\\u200d♀️|🏌🏽\\u200d♀️|💂🏿\\u200d♀️|💂🏻\\u200d♀️|💂🏾\\u200d♀️|💂🏼\\u200d♀️|💂🏽\\u200d♀️|👩🏿\\u200d⚕️|👩🏻\\u200d⚕️|👩🏾\\u200d⚕️|👩🏼\\u200d⚕️|👩🏽\\u200d⚕️|🧘🏿\\u200d♀️|🧘🏻\\u200d♀️|🧘🏾\\u200d♀️|🧘🏼\\u200d♀️|🧘🏽\\u200d♀️|🧖🏿\\u200d♀️|🧖🏻\\u200d♀️|🧖🏾\\u200d♀️|🧖🏼\\u200d♀️|🧖🏽\\u200d♀️|🤵🏿\\u200d♀️|🤵🏻\\u200d♀️|🤵🏾\\u200d♀️|🤵🏼\\u200d♀️|🤵🏽\\u200d♀️|👩🏿\\u200d⚖️|👩🏻\\u200d⚖️|👩🏾\\u200d⚖️|👩🏼\\u200d⚖️|👩🏽\\u200d⚖️|🤹🏿\\u200d♀️|🤹🏻\\u200d♀️|🤹🏾\\u200d♀️|🤹🏼\\u200d♀️|🤹🏽\\u200d♀️|\\U0001f9ce🏿\\u200d♀️|\\U0001f9ce🏻\\u200d♀️|\\U0001f9ce🏾\\u200d♀️|\\U0001f9ce🏼\\u200d♀️|\\U0001f9ce🏽\\u200d♀️|🏋️\\u200d♀️|🏋🏿\\u200d♀️|🏋🏻\\u200d♀️|🏋🏾\\u200d♀️|🏋🏼\\u200d♀️|🏋🏽\\u200d♀️|🧔🏻\\u200d♀️|👱🏻\\u200d♀️|🧙🏿\\u200d♀️|🧙🏻\\u200d♀️|🧙🏾\\u200d♀️|🧙🏼\\u200d♀️|🧙🏽\\u200d♀️|🧔🏾\\u200d♀️|👱🏾\\u200d♀️|🧔🏼\\u200d♀️|👱🏼\\u200d♀️|🧔🏽\\u200d♀️|👱🏽\\u200d♀️|🚵🏿\\u200d♀️|🚵🏻\\u200d♀️|🚵🏾\\u200d♀️|🚵🏼\\u200d♀️|🚵🏽\\u200d♀️|👩🏿\\u200d✈️|👩🏻\\u200d✈️|👩🏾\\u200d✈️|👩🏼\\u200d✈️|👩🏽\\u200d✈️|🤾🏿\\u200d♀️|🤾🏻\\u200d♀️|🤾🏾\\u200d♀️|🤾🏼\\u200d♀️|🤾🏽\\u200d♀️|🤽🏿\\u200d♀️|🤽🏻\\u200d♀️|🤽🏾\\u200d♀️|🤽🏼\\u200d♀️|🤽🏽\\u200d♀️|👮🏿\\u200d♀️|👮🏻\\u200d♀️|👮🏾\\u200d♀️|👮🏼\\u200d♀️|👮🏽\\u200d♀️|🙎🏿\\u200d♀️|🙎🏻\\u200d♀️|🙎🏾\\u200d♀️|🙎🏼\\u200d♀️|🙎🏽\\u200d♀️|🙋🏿\\u200d♀️|🙋🏻\\u200d♀️|🙋🏾\\u200d♀️|🙋🏼\\u200d♀️|🙋🏽\\u200d♀️|🚣🏿\\u200d♀️|🚣🏻\\u200d♀️|🚣🏾\\u200d♀️|🚣🏼\\u200d♀️|🚣🏽\\u200d♀️|🏃🏿\\u200d♀️|🏃🏻\\u200d♀️|🏃🏾\\u200d♀️|🏃🏼\\u200d♀️|🏃🏽\\u200d♀️|🤷🏿\\u200d♀️|🤷🏻\\u200d♀️|🤷🏾\\u200d♀️|🤷🏼\\u200d♀️|🤷🏽\\u200d♀️|\\U0001f9cd🏿\\u200d♀️|\\U0001f9cd🏻\\u200d♀️|\\U0001f9cd🏾\\u200d♀️|\\U0001f9cd🏼\\u200d♀️|\\U0001f9cd🏽\\u200d♀️|🦸🏿\\u200d♀️|🦸🏻\\u200d♀️|🦸🏾\\u200d♀️|🦸🏼\\u200d♀️|🦸🏽\\u200d♀️|🦹🏿\\u200d♀️|🦹🏻\\u200d♀️|🦹🏾\\u200d♀️|🦹🏼\\u200d♀️|🦹🏽\\u200d♀️|🏄🏿\\u200d♀️|🏄🏻\\u200d♀️|🏄🏾\\u200d♀️|🏄🏼\\u200d♀️|🏄🏽\\u200d♀️|🏊🏿\\u200d♀️|🏊🏻\\u200d♀️|🏊🏾\\u200d♀️|🏊🏼\\u200d♀️|🏊🏽\\u200d♀️|💁🏿\\u200d♀️|💁🏻\\u200d♀️|💁🏾\\u200d♀️|💁🏼\\u200d♀️|💁🏽\\u200d♀️|🧛🏿\\u200d♀️|🧛🏻\\u200d♀️|🧛🏾\\u200d♀️|🧛🏼\\u200d♀️|🧛🏽\\u200d♀️|🚶🏿\\u200d♀️|🚶🏻\\u200d♀️|🚶🏾\\u200d♀️|🚶🏼\\u200d♀️|🚶🏽\\u200d♀️|👳🏿\\u200d♀️|👳🏻\\u200d♀️|👳🏾\\u200d♀️|👳🏼\\u200d♀️|👳🏽\\u200d♀️|👰🏿\\u200d♀️|👰🏻\\u200d♀️|👰🏾\\u200d♀️|👰🏼\\u200d♀️|👰🏽\\u200d♀️|🧑🏿\\u200d🎨|🧑🏻\\u200d🎨|🧑🏾\\u200d🎨|🧑🏼\\u200d🎨|🧑🏽\\u200d🎨|🧑🏿\\u200d🚀|🧑🏻\\u200d🚀|🧑🏾\\u200d🚀|🧑🏼\\u200d🚀|🧑🏽\\u200d🚀|🧑🏿\\u200d🍳|🧑🏻\\u200d🍳|🧑🏾\\u200d🍳|🧑🏼\\u200d🍳|🧑🏽\\u200d🍳|\\U0001f9cf\\u200d♂️|\\U0001f9cf🏿\\u200d♂|\\U0001f9cf🏻\\u200d♂|\\U0001f9cf🏾\\u200d♂|\\U0001f9cf🏼\\u200d♂|\\U0001f9cf🏽\\u200d♂|\\U0001f9cf\\u200d♀️|\\U0001f9cf🏿\\u200d♀|\\U0001f9cf🏻\\u200d♀|\\U0001f9cf🏾\\u200d♀|\\U0001f9cf🏼\\u200d♀|\\U0001f9cf🏽\\u200d♀|👁\\u200d🗨️|👁️\\u200d🗨|😶\\u200d🌫️|🧑🏿\\u200d🏭|🧑🏻\\u200d🏭|🧑🏾\\u200d🏭|🧑🏼\\u200d🏭|🧑🏽\\u200d🏭|🧑🏿\\u200d🌾|🧑🏻\\u200d🌾|🧑🏾\\u200d🌾|🧑🏼\\u200d🌾|🧑🏽\\u200d🌾|🧑🏿\\u200d🚒|🧑🏻\\u200d🚒|🧑🏾\\u200d🚒|🧑🏼\\u200d🚒|🧑🏽\\u200d🚒|🧑\\u200d⚕️|🧑🏿\\u200d⚕|🧑🏻\\u200d⚕|🧑🏾\\u200d⚕|🧑🏼\\u200d⚕|🧑🏽\\u200d⚕|❤️\\u200d🔥|🧑\\u200d⚖️|🧑🏿\\u200d⚖|🧑🏻\\u200d⚖|🧑🏾\\u200d⚖|🧑🏼\\u200d⚖|🧑🏽\\u200d⚖|👨🏿\\u200d🎨|👨🏻\\u200d🎨|👨🏾\\u200d🎨|👨🏼\\u200d🎨|👨🏽\\u200d🎨|👨🏿\\u200d🚀|👨🏻\\u200d🚀|👨🏾\\u200d🚀|👨🏼\\u200d🚀|👨🏽\\u200d🚀|🧔\\u200d♂️|🚴\\u200d♂️|🚴🏿\\u200d♂|🚴🏻\\u200d♂|🚴🏾\\u200d♂|🚴🏼\\u200d♂|🚴🏽\\u200d♂|👱\\u200d♂️|⛹\\u200d♂️|⛹️\\u200d♂|⛹🏿\\u200d♂|⛹🏻\\u200d♂|⛹🏾\\u200d♂|⛹🏼\\u200d♂|⛹🏽\\u200d♂|🙇\\u200d♂️|🙇🏿\\u200d♂|🙇🏻\\u200d♂|🙇🏾\\u200d♂|🙇🏼\\u200d♂|🙇🏽\\u200d♂|🤸\\u200d♂️|🤸🏿\\u200d♂|🤸🏻\\u200d♂|🤸🏾\\u200d♂|🤸🏼\\u200d♂|🤸🏽\\u200d♂|🧗\\u200d♂️|🧗🏿\\u200d♂|🧗🏻\\u200d♂|🧗🏾\\u200d♂|🧗🏼\\u200d♂|🧗🏽\\u200d♂|👷\\u200d♂️|👷🏿\\u200d♂|👷🏻\\u200d♂|👷🏾\\u200d♂|👷🏼\\u200d♂|👷🏽\\u200d♂|👨🏿\\u200d🍳|👨🏻\\u200d🍳|👨🏾\\u200d🍳|👨🏼\\u200d🍳|👨🏽\\u200d🍳|👨🏿\\u200d🦲|🧔🏿\\u200d♂|👱🏿\\u200d♂|👨🏿\\u200d🦱|👨🏿\\u200d🦰|👨🏿\\u200d🦳|🕵\\u200d♂️|🕵️\\u200d♂|🕵🏿\\u200d♂|🕵🏻\\u200d♂|🕵🏾\\u200d♂|🕵🏼\\u200d♂|🕵🏽\\u200d♂|🧝\\u200d♂️|🧝🏿\\u200d♂|🧝🏻\\u200d♂|🧝🏾\\u200d♂|🧝🏼\\u200d♂|🧝🏽\\u200d♂|🤦\\u200d♂️|🤦🏿\\u200d♂|🤦🏻\\u200d♂|🤦🏾\\u200d♂|🤦🏼\\u200d♂|🤦🏽\\u200d♂|👨🏿\\u200d🏭|👨🏻\\u200d🏭|👨🏾\\u200d🏭|👨🏼\\u200d🏭|👨🏽\\u200d🏭|🧚\\u200d♂️|🧚🏿\\u200d♂|🧚🏻\\u200d♂|🧚🏾\\u200d♂|🧚🏼\\u200d♂|🧚🏽\\u200d♂|👨🏿\\u200d🌾|👨🏻\\u200d🌾|👨🏾\\u200d🌾|👨🏼\\u200d🌾|👨🏽\\u200d🌾|👨🏿\\u200d🍼|👨🏻\\u200d🍼|👨🏾\\u200d🍼|👨🏼\\u200d🍼|👨🏽\\u200d🍼|👨🏿\\u200d🚒|👨🏻\\u200d🚒|👨🏾\\u200d🚒|👨🏼\\u200d🚒|👨🏽\\u200d🚒|🙍\\u200d♂️|🙍🏿\\u200d♂|🙍🏻\\u200d♂|🙍🏾\\u200d♂|🙍🏼\\u200d♂|🙍🏽\\u200d♂|🧞\\u200d♂️|🙅\\u200d♂️|🙅🏿\\u200d♂|🙅🏻\\u200d♂|🙅🏾\\u200d♂|🙅🏼\\u200d♂|🙅🏽\\u200d♂|🙆\\u200d♂️|🙆🏿\\u200d♂|🙆🏻\\u200d♂|🙆🏾\\u200d♂|🙆🏼\\u200d♂|🙆🏽\\u200d♂|💇\\u200d♂️|💇🏿\\u200d♂|💇🏻\\u200d♂|💇🏾\\u200d♂|💇🏼\\u200d♂|💇🏽\\u200d♂|💆\\u200d♂️|💆🏿\\u200d♂|💆🏻\\u200d♂|💆🏾\\u200d♂|💆🏼\\u200d♂|💆🏽\\u200d♂|🏌\\u200d♂️|🏌️\\u200d♂|🏌🏿\\u200d♂|🏌🏻\\u200d♂|🏌🏾\\u200d♂|🏌🏼\\u200d♂|🏌🏽\\u200d♂|💂\\u200d♂️|💂🏿\\u200d♂|💂🏻\\u200d♂|💂🏾\\u200d♂|💂🏼\\u200d♂|💂🏽\\u200d♂|👨\\u200d⚕️|👨🏿\\u200d⚕|👨🏻\\u200d⚕|👨🏾\\u200d⚕|👨🏼\\u200d⚕|👨🏽\\u200d⚕|🧘\\u200d♂️|🧘🏿\\u200d♂|🧘🏻\\u200d♂|🧘🏾\\u200d♂|🧘🏼\\u200d♂|🧘🏽\\u200d♂|👨🏿\\u200d\\U0001f9bd|👨🏻\\u200d\\U0001f9bd|👨🏾\\u200d\\U0001f9bd|👨🏼\\u200d\\U0001f9bd|👨🏽\\u200d\\U0001f9bd|👨🏿\\u200d\\U0001f9bc|👨🏻\\u200d\\U0001f9bc|👨🏾\\u200d\\U0001f9bc|👨🏼\\u200d\\U0001f9bc|👨🏽\\u200d\\U0001f9bc|🧖\\u200d♂️|🧖🏿\\u200d♂|🧖🏻\\u200d♂|🧖🏾\\u200d♂|🧖🏼\\u200d♂|🧖🏽\\u200d♂|🤵\\u200d♂️|🤵🏿\\u200d♂|🤵🏻\\u200d♂|🤵🏾\\u200d♂|🤵🏼\\u200d♂|🤵🏽\\u200d♂|👨\\u200d⚖️|👨🏿\\u200d⚖|👨🏻\\u200d⚖|👨🏾\\u200d⚖|👨🏼\\u200d⚖|👨🏽\\u200d⚖|🤹\\u200d♂️|🤹🏿\\u200d♂|🤹🏻\\u200d♂|🤹🏾\\u200d♂|🤹🏼\\u200d♂|🤹🏽\\u200d♂|\\U0001f9ce\\u200d♂️|\\U0001f9ce🏿\\u200d♂|\\U0001f9ce🏻\\u200d♂|\\U0001f9ce🏾\\u200d♂|\\U0001f9ce🏼\\u200d♂|\\U0001f9ce🏽\\u200d♂|🏋\\u200d♂️|🏋️\\u200d♂|🏋🏿\\u200d♂|🏋🏻\\u200d♂|🏋🏾\\u200d♂|🏋🏼\\u200d♂|🏋🏽\\u200d♂|👨🏻\\u200d🦲|🧔🏻\\u200d♂|👱🏻\\u200d♂|👨🏻\\u200d🦱|👨🏻\\u200d🦰|👨🏻\\u200d🦳|🧙\\u200d♂️|🧙🏿\\u200d♂|🧙🏻\\u200d♂|🧙🏾\\u200d♂|🧙🏼\\u200d♂|🧙🏽\\u200d♂|👨🏿\\u200d🔧|👨🏻\\u200d🔧|👨🏾\\u200d🔧|👨🏼\\u200d🔧|👨🏽\\u200d🔧|👨🏾\\u200d🦲|🧔🏾\\u200d♂|👱🏾\\u200d♂|👨🏾\\u200d🦱|👨🏾\\u200d🦰|👨🏾\\u200d🦳|👨🏼\\u200d🦲|🧔🏼\\u200d♂|👱🏼\\u200d♂|👨🏼\\u200d🦱|👨🏼\\u200d🦰|👨🏼\\u200d🦳|👨🏽\\u200d🦲|🧔🏽\\u200d♂|👱🏽\\u200d♂|👨🏽\\u200d🦱|👨🏽\\u200d🦰|👨🏽\\u200d🦳|🚵\\u200d♂️|🚵🏿\\u200d♂|🚵🏻\\u200d♂|🚵🏾\\u200d♂|🚵🏼\\u200d♂|🚵🏽\\u200d♂|👨🏿\\u200d💼|👨🏻\\u200d💼|👨🏾\\u200d💼|👨🏼\\u200d💼|👨🏽\\u200d💼|👨\\u200d✈️|👨🏿\\u200d✈|👨🏻\\u200d✈|👨🏾\\u200d✈|👨🏼\\u200d✈|👨🏽\\u200d✈|🤾\\u200d♂️|🤾🏿\\u200d♂|🤾🏻\\u200d♂|🤾🏾\\u200d♂|🤾🏼\\u200d♂|🤾🏽\\u200d♂|🤽\\u200d♂️|🤽🏿\\u200d♂|🤽🏻\\u200d♂|🤽🏾\\u200d♂|🤽🏼\\u200d♂|🤽🏽\\u200d♂|👮\\u200d♂️|👮🏿\\u200d♂|👮🏻\\u200d♂|👮🏾\\u200d♂|👮🏼\\u200d♂|👮🏽\\u200d♂|🙎\\u200d♂️|🙎🏿\\u200d♂|🙎🏻\\u200d♂|🙎🏾\\u200d♂|🙎🏼\\u200d♂|🙎🏽\\u200d♂|🙋\\u200d♂️|🙋🏿\\u200d♂|🙋🏻\\u200d♂|🙋🏾\\u200d♂|🙋🏼\\u200d♂|🙋🏽\\u200d♂|🚣\\u200d♂️|🚣🏿\\u200d♂|🚣🏻\\u200d♂|🚣🏾\\u200d♂|🚣🏼\\u200d♂|🚣🏽\\u200d♂|🏃\\u200d♂️|🏃🏿\\u200d♂|🏃🏻\\u200d♂|🏃🏾\\u200d♂|🏃🏼\\u200d♂|🏃🏽\\u200d♂|👨🏿\\u200d🔬|👨🏻\\u200d🔬|👨🏾\\u200d🔬|👨🏼\\u200d🔬|👨🏽\\u200d🔬|🤷\\u200d♂️|🤷🏿\\u200d♂|🤷🏻\\u200d♂|🤷🏾\\u200d♂|🤷🏼\\u200d♂|🤷🏽\\u200d♂|👨🏿\\u200d🎤|👨🏻\\u200d🎤|👨🏾\\u200d🎤|👨🏼\\u200d🎤|👨🏽\\u200d🎤|\\U0001f9cd\\u200d♂️|\\U0001f9cd🏿\\u200d♂|\\U0001f9cd🏻\\u200d♂|\\U0001f9cd🏾\\u200d♂|\\U0001f9cd🏼\\u200d♂|\\U0001f9cd🏽\\u200d♂|👨🏿\\u200d🎓|👨🏻\\u200d🎓|👨🏾\\u200d🎓|👨🏼\\u200d🎓|👨🏽\\u200d🎓|🦸\\u200d♂️|🦸🏿\\u200d♂|🦸🏻\\u200d♂|🦸🏾\\u200d♂|🦸🏼\\u200d♂|🦸🏽\\u200d♂|🦹\\u200d♂️|🦹🏿\\u200d♂|🦹🏻\\u200d♂|🦹🏾\\u200d♂|🦹🏼\\u200d♂|🦹🏽\\u200d♂|🏄\\u200d♂️|🏄🏿\\u200d♂|🏄🏻\\u200d♂|🏄🏾\\u200d♂|🏄🏼\\u200d♂|🏄🏽\\u200d♂|🏊\\u200d♂️|🏊🏿\\u200d♂|🏊🏻\\u200d♂|🏊🏾\\u200d♂|🏊🏼\\u200d♂|🏊🏽\\u200d♂|👨🏿\\u200d🏫|👨🏻\\u200d🏫|👨🏾\\u200d🏫|👨🏼\\u200d🏫|👨🏽\\u200d🏫|👨🏿\\u200d💻|👨🏻\\u200d💻|👨🏾\\u200d💻|👨🏼\\u200d💻|👨🏽\\u200d💻|💁\\u200d♂️|💁🏿\\u200d♂|💁🏻\\u200d♂|💁🏾\\u200d♂|💁🏼\\u200d♂|💁🏽\\u200d♂|🧛\\u200d♂️|🧛🏿\\u200d♂|🧛🏻\\u200d♂|🧛🏾\\u200d♂|🧛🏼\\u200d♂|🧛🏽\\u200d♂|🚶\\u200d♂️|🚶🏿\\u200d♂|🚶🏻\\u200d♂|🚶🏾\\u200d♂|🚶🏼\\u200d♂|🚶🏽\\u200d♂|👳\\u200d♂️|👳🏿\\u200d♂|👳🏻\\u200d♂|👳🏾\\u200d♂|👳🏼\\u200d♂|👳🏽\\u200d♂|👰\\u200d♂️|👰🏿\\u200d♂|👰🏻\\u200d♂|👰🏾\\u200d♂|👰🏼\\u200d♂|👰🏽\\u200d♂|👨🏿\\u200d\\U0001f9af|👨🏻\\u200d\\U0001f9af|👨🏾\\u200d\\U0001f9af|👨🏼\\u200d\\U0001f9af|👨🏽\\u200d\\U0001f9af|🧟\\u200d♂️|🧑🏿\\u200d🔧|🧑🏻\\u200d🔧|🧑🏾\\u200d🔧|🧑🏼\\u200d🔧|🧑🏽\\u200d🔧|👯\\u200d♂️|🤼\\u200d♂️|❤️\\u200d\\U0001fa79|🧜\\u200d♀️|🧜🏿\\u200d♀|🧜🏻\\u200d♀|🧜🏾\\u200d♀|🧜🏼\\u200d♀|🧜🏽\\u200d♀|🧜\\u200d♂️|🧜🏿\\u200d♂|🧜🏻\\u200d♂|🧜🏾\\u200d♂|🧜🏼\\u200d♂|🧜🏽\\u200d♂|🧑🏿\\u200d🎄|🧑🏻\\u200d🎄|🧑🏾\\u200d🎄|🧑🏼\\u200d🎄|🧑🏽\\u200d🎄|🧑🏿\\u200d💼|🧑🏻\\u200d💼|🧑🏾\\u200d💼|🧑🏼\\u200d💼|🧑🏽\\u200d💼|🧑🏿\\u200d🦲|🧑🏿\\u200d🦱|🧑🏿\\u200d🦰|🧑🏿\\u200d🦳|🧑🏿\\u200d🍼|🧑🏻\\u200d🍼|🧑🏾\\u200d🍼|🧑🏼\\u200d🍼|🧑🏽\\u200d🍼|🧑🏿\\u200d\\U0001f9bd|🧑🏻\\u200d\\U0001f9bd|🧑🏾\\u200d\\U0001f9bd|🧑🏼\\u200d\\U0001f9bd|🧑🏽\\u200d\\U0001f9bd|🧑🏿\\u200d\\U0001f9bc|🧑🏻\\u200d\\U0001f9bc|🧑🏾\\u200d\\U0001f9bc|🧑🏼\\u200d\\U0001f9bc|🧑🏽\\u200d\\U0001f9bc|🧑🏻\\u200d🦲|🧑🏻\\u200d🦱|🧑🏻\\u200d🦰|🧑🏻\\u200d🦳|🧑🏾\\u200d🦲|🧑🏾\\u200d🦱|🧑🏾\\u200d🦰|🧑🏾\\u200d🦳|🧑🏼\\u200d🦲|🧑🏼\\u200d🦱|🧑🏼\\u200d🦰|🧑🏼\\u200d🦳|🧑🏽\\u200d🦲|🧑🏽\\u200d🦱|🧑🏽\\u200d🦰|🧑🏽\\u200d🦳|🧑🏿\\u200d\\U0001f9af|🧑🏻\\u200d\\U0001f9af|🧑🏾\\u200d\\U0001f9af|🧑🏼\\u200d\\U0001f9af|🧑🏽\\u200d\\U0001f9af|🧑\\u200d✈️|🧑🏿\\u200d✈|🧑🏻\\u200d✈|🧑🏾\\u200d✈|🧑🏼\\u200d✈|🧑🏽\\u200d✈|🏴\\u200d☠️|🐻\\u200d❄️|🏳️\\u200d🌈|🧑🏿\\u200d🔬|🧑🏻\\u200d🔬|🧑🏾\\u200d🔬|🧑🏼\\u200d🔬|🧑🏽\\u200d🔬|🧑🏿\\u200d🎤|🧑🏻\\u200d🎤|🧑🏾\\u200d🎤|🧑🏼\\u200d🎤|🧑🏽\\u200d🎤|🧑🏿\\u200d🎓|🧑🏻\\u200d🎓|🧑🏾\\u200d🎓|🧑🏼\\u200d🎓|🧑🏽\\u200d🎓|🧑🏿\\u200d🏫|🧑🏻\\u200d🏫|🧑🏾\\u200d🏫|🧑🏼\\u200d🏫|🧑🏽\\u200d🏫|🧑🏿\\u200d💻|🧑🏻\\u200d💻|🧑🏾\\u200d💻|🧑🏼\\u200d💻|🧑🏽\\u200d💻|🏳\\u200d⚧️|🏳️\\u200d⚧|👩🏿\\u200d🎨|👩🏻\\u200d🎨|👩🏾\\u200d🎨|👩🏼\\u200d🎨|👩🏽\\u200d🎨|👩🏿\\u200d🚀|👩🏻\\u200d🚀|👩🏾\\u200d🚀|👩🏼\\u200d🚀|👩🏽\\u200d🚀|🧔\\u200d♀️|🚴\\u200d♀️|🚴🏿\\u200d♀|🚴🏻\\u200d♀|🚴🏾\\u200d♀|🚴🏼\\u200d♀|🚴🏽\\u200d♀|👱\\u200d♀️|⛹\\u200d♀️|⛹️\\u200d♀|⛹🏿\\u200d♀|⛹🏻\\u200d♀|⛹🏾\\u200d♀|⛹🏼\\u200d♀|⛹🏽\\u200d♀|🙇\\u200d♀️|🙇🏿\\u200d♀|🙇🏻\\u200d♀|🙇🏾\\u200d♀|🙇🏼\\u200d♀|🙇🏽\\u200d♀|🤸\\u200d♀️|🤸🏿\\u200d♀|🤸🏻\\u200d♀|🤸🏾\\u200d♀|🤸🏼\\u200d♀|🤸🏽\\u200d♀|🧗\\u200d♀️|🧗🏿\\u200d♀|🧗🏻\\u200d♀|🧗🏾\\u200d♀|🧗🏼\\u200d♀|🧗🏽\\u200d♀|👷\\u200d♀️|👷🏿\\u200d♀|👷🏻\\u200d♀|👷🏾\\u200d♀|👷🏼\\u200d♀|👷🏽\\u200d♀|👩🏿\\u200d🍳|👩🏻\\u200d🍳|👩🏾\\u200d🍳|👩🏼\\u200d🍳|👩🏽\\u200d🍳|👩🏿\\u200d🦲|🧔🏿\\u200d♀|👱🏿\\u200d♀|👩🏿\\u200d🦱|👩🏿\\u200d🦰|👩🏿\\u200d🦳|🕵\\u200d♀️|🕵️\\u200d♀|🕵🏿\\u200d♀|🕵🏻\\u200d♀|🕵🏾\\u200d♀|🕵🏼\\u200d♀|🕵🏽\\u200d♀|🧝\\u200d♀️|🧝🏿\\u200d♀|🧝🏻\\u200d♀|🧝🏾\\u200d♀|🧝🏼\\u200d♀|🧝🏽\\u200d♀|🤦\\u200d♀️|🤦🏿\\u200d♀|🤦🏻\\u200d♀|🤦🏾\\u200d♀|🤦🏼\\u200d♀|🤦🏽\\u200d♀|👩🏿\\u200d🏭|👩🏻\\u200d🏭|👩🏾\\u200d🏭|👩🏼\\u200d🏭|👩🏽\\u200d🏭|🧚\\u200d♀️|🧚🏿\\u200d♀|🧚🏻\\u200d♀|🧚🏾\\u200d♀|🧚🏼\\u200d♀|🧚🏽\\u200d♀|👩🏿\\u200d🌾|👩🏻\\u200d🌾|👩🏾\\u200d🌾|👩🏼\\u200d🌾|👩🏽\\u200d🌾|👩🏿\\u200d🍼|👩🏻\\u200d🍼|👩🏾\\u200d🍼|👩🏼\\u200d🍼|👩🏽\\u200d🍼|👩🏿\\u200d🚒|👩🏻\\u200d🚒|👩🏾\\u200d🚒|👩🏼\\u200d🚒|👩🏽\\u200d🚒|🙍\\u200d♀️|🙍🏿\\u200d♀|🙍🏻\\u200d♀|🙍🏾\\u200d♀|🙍🏼\\u200d♀|🙍🏽\\u200d♀|🧞\\u200d♀️|🙅\\u200d♀️|🙅🏿\\u200d♀|🙅🏻\\u200d♀|🙅🏾\\u200d♀|🙅🏼\\u200d♀|🙅🏽\\u200d♀|🙆\\u200d♀️|🙆🏿\\u200d♀|🙆🏻\\u200d♀|🙆🏾\\u200d♀|🙆🏼\\u200d♀|🙆🏽\\u200d♀|💇\\u200d♀️|💇🏿\\u200d♀|💇🏻\\u200d♀|💇🏾\\u200d♀|💇🏼\\u200d♀|💇🏽\\u200d♀|💆\\u200d♀️|💆🏿\\u200d♀|💆🏻\\u200d♀|💆🏾\\u200d♀|💆🏼\\u200d♀|💆🏽\\u200d♀|🏌\\u200d♀️|🏌️\\u200d♀|🏌🏿\\u200d♀|🏌🏻\\u200d♀|🏌🏾\\u200d♀|🏌🏼\\u200d♀|🏌🏽\\u200d♀|💂\\u200d♀️|💂🏿\\u200d♀|💂🏻\\u200d♀|💂🏾\\u200d♀|💂🏼\\u200d♀|💂🏽\\u200d♀|👩\\u200d⚕️|👩🏿\\u200d⚕|👩🏻\\u200d⚕|👩🏾\\u200d⚕|👩🏼\\u200d⚕|👩🏽\\u200d⚕|🧘\\u200d♀️|🧘🏿\\u200d♀|🧘🏻\\u200d♀|🧘🏾\\u200d♀|🧘🏼\\u200d♀|🧘🏽\\u200d♀|👩🏿\\u200d\\U0001f9bd|👩🏻\\u200d\\U0001f9bd|👩🏾\\u200d\\U0001f9bd|👩🏼\\u200d\\U0001f9bd|👩🏽\\u200d\\U0001f9bd|👩🏿\\u200d\\U0001f9bc|👩🏻\\u200d\\U0001f9bc|👩🏾\\u200d\\U0001f9bc|👩🏼\\u200d\\U0001f9bc|👩🏽\\u200d\\U0001f9bc|🧖\\u200d♀️|🧖🏿\\u200d♀|🧖🏻\\u200d♀|🧖🏾\\u200d♀|🧖🏼\\u200d♀|🧖🏽\\u200d♀|🤵\\u200d♀️|🤵🏿\\u200d♀|🤵🏻\\u200d♀|🤵🏾\\u200d♀|🤵🏼\\u200d♀|🤵🏽\\u200d♀|👩\\u200d⚖️|👩🏿\\u200d⚖|👩🏻\\u200d⚖|👩🏾\\u200d⚖|👩🏼\\u200d⚖|👩🏽\\u200d⚖|🤹\\u200d♀️|🤹🏿\\u200d♀|🤹🏻\\u200d♀|🤹🏾\\u200d♀|🤹🏼\\u200d♀|🤹🏽\\u200d♀|\\U0001f9ce\\u200d♀️|\\U0001f9ce🏿\\u200d♀|\\U0001f9ce🏻\\u200d♀|\\U0001f9ce🏾\\u200d♀|\\U0001f9ce🏼\\u200d♀|\\U0001f9ce🏽\\u200d♀|🏋\\u200d♀️|🏋️\\u200d♀|🏋🏿\\u200d♀|🏋🏻\\u200d♀|🏋🏾\\u200d♀|🏋🏼\\u200d♀|🏋🏽\\u200d♀|👩🏻\\u200d🦲|🧔🏻\\u200d♀|👱🏻\\u200d♀|👩🏻\\u200d🦱|👩🏻\\u200d🦰|👩🏻\\u200d🦳|🧙\\u200d♀️|🧙🏿\\u200d♀|🧙🏻\\u200d♀|🧙🏾\\u200d♀|🧙🏼\\u200d♀|🧙🏽\\u200d♀|👩🏿\\u200d🔧|👩🏻\\u200d🔧|👩🏾\\u200d🔧|👩🏼\\u200d🔧|👩🏽\\u200d🔧|👩🏾\\u200d🦲|🧔🏾\\u200d♀|👱🏾\\u200d♀|👩🏾\\u200d🦱|👩🏾\\u200d🦰|👩🏾\\u200d🦳|👩🏼\\u200d🦲|🧔🏼\\u200d♀|👱🏼\\u200d♀|👩🏼\\u200d🦱|👩🏼\\u200d🦰|👩🏼\\u200d🦳|👩🏽\\u200d🦲|🧔🏽\\u200d♀|👱🏽\\u200d♀|👩🏽\\u200d🦱|👩🏽\\u200d🦰|👩🏽\\u200d🦳|🚵\\u200d♀️|🚵🏿\\u200d♀|🚵🏻\\u200d♀|🚵🏾\\u200d♀|🚵🏼\\u200d♀|🚵🏽\\u200d♀|👩🏿\\u200d💼|👩🏻\\u200d💼|👩🏾\\u200d💼|👩🏼\\u200d💼|👩🏽\\u200d💼|👩\\u200d✈️|👩🏿\\u200d✈|👩🏻\\u200d✈|👩🏾\\u200d✈|👩🏼\\u200d✈|👩🏽\\u200d✈|🤾\\u200d♀️|🤾🏿\\u200d♀|🤾🏻\\u200d♀|🤾🏾\\u200d♀|🤾🏼\\u200d♀|🤾🏽\\u200d♀|🤽\\u200d♀️|🤽🏿\\u200d♀|🤽🏻\\u200d♀|🤽🏾\\u200d♀|🤽🏼\\u200d♀|🤽🏽\\u200d♀|👮\\u200d♀️|👮🏿\\u200d♀|👮🏻\\u200d♀|👮🏾\\u200d♀|👮🏼\\u200d♀|👮🏽\\u200d♀|🙎\\u200d♀️|🙎🏿\\u200d♀|🙎🏻\\u200d♀|🙎🏾\\u200d♀|🙎🏼\\u200d♀|🙎🏽\\u200d♀|🙋\\u200d♀️|🙋🏿\\u200d♀|🙋🏻\\u200d♀|🙋🏾\\u200d♀|🙋🏼\\u200d♀|🙋🏽\\u200d♀|🚣\\u200d♀️|🚣🏿\\u200d♀|🚣🏻\\u200d♀|🚣🏾\\u200d♀|🚣🏼\\u200d♀|🚣🏽\\u200d♀|🏃\\u200d♀️|🏃🏿\\u200d♀|🏃🏻\\u200d♀|🏃🏾\\u200d♀|🏃🏼\\u200d♀|🏃🏽\\u200d♀|👩🏿\\u200d🔬|👩🏻\\u200d🔬|👩🏾\\u200d🔬|👩🏼\\u200d🔬|👩🏽\\u200d🔬|🤷\\u200d♀️|🤷🏿\\u200d♀|🤷🏻\\u200d♀|🤷🏾\\u200d♀|🤷🏼\\u200d♀|🤷🏽\\u200d♀|👩🏿\\u200d🎤|👩🏻\\u200d🎤|👩🏾\\u200d🎤|👩🏼\\u200d🎤|👩🏽\\u200d🎤|\\U0001f9cd\\u200d♀️|\\U0001f9cd🏿\\u200d♀|\\U0001f9cd🏻\\u200d♀|\\U0001f9cd🏾\\u200d♀|\\U0001f9cd🏼\\u200d♀|\\U0001f9cd🏽\\u200d♀|👩🏿\\u200d🎓|👩🏻\\u200d🎓|👩🏾\\u200d🎓|👩🏼\\u200d🎓|👩🏽\\u200d🎓|🦸\\u200d♀️|🦸🏿\\u200d♀|🦸🏻\\u200d♀|🦸🏾\\u200d♀|🦸🏼\\u200d♀|🦸🏽\\u200d♀|🦹\\u200d♀️|🦹🏿\\u200d♀|🦹🏻\\u200d♀|🦹🏾\\u200d♀|🦹🏼\\u200d♀|🦹🏽\\u200d♀|🏄\\u200d♀️|🏄🏿\\u200d♀|🏄🏻\\u200d♀|🏄🏾\\u200d♀|🏄🏼\\u200d♀|🏄🏽\\u200d♀|🏊\\u200d♀️|🏊🏿\\u200d♀|🏊🏻\\u200d♀|🏊🏾\\u200d♀|🏊🏼\\u200d♀|🏊🏽\\u200d♀|👩🏿\\u200d🏫|👩🏻\\u200d🏫|👩🏾\\u200d🏫|👩🏼\\u200d🏫|👩🏽\\u200d🏫|👩🏿\\u200d💻|👩🏻\\u200d💻|👩🏾\\u200d💻|👩🏼\\u200d💻|👩🏽\\u200d💻|💁\\u200d♀️|💁🏿\\u200d♀|💁🏻\\u200d♀|💁🏾\\u200d♀|💁🏼\\u200d♀|💁🏽\\u200d♀|🧛\\u200d♀️|🧛🏿\\u200d♀|🧛🏻\\u200d♀|🧛🏾\\u200d♀|🧛🏼\\u200d♀|🧛🏽\\u200d♀|🚶\\u200d♀️|🚶🏿\\u200d♀|🚶🏻\\u200d♀|🚶🏾\\u200d♀|🚶🏼\\u200d♀|🚶🏽\\u200d♀|👳\\u200d♀️|👳🏿\\u200d♀|👳🏻\\u200d♀|👳🏾\\u200d♀|👳🏼\\u200d♀|👳🏽\\u200d♀|👰\\u200d♀️|👰🏿\\u200d♀|👰🏻\\u200d♀|👰🏾\\u200d♀|👰🏼\\u200d♀|👰🏽\\u200d♀|👩🏿\\u200d\\U0001f9af|👩🏻\\u200d\\U0001f9af|👩🏾\\u200d\\U0001f9af|👩🏼\\u200d\\U0001f9af|👩🏽\\u200d\\U0001f9af|🧟\\u200d♀️|👯\\u200d♀️|🤼\\u200d♀️|🧑\\u200d🎨|🧑\\u200d🚀|🐈\\u200d⬛|🧑\\u200d🍳|\\U0001f9cf\\u200d♂|\\U0001f9cf\\u200d♀|👁\\u200d🗨|😮\\u200d💨|😶\\u200d🌫|😵\\u200d💫|🧑\\u200d🏭|👨\\u200d👦|👨\\u200d👧|👩\\u200d👦|👩\\u200d👧|🧑\\u200d🌾|🧑\\u200d🚒|🧑\\u200d⚕|❤\\u200d🔥|🧑\\u200d⚖|\\#️⃣|\\*️⃣|0️⃣|1️⃣|2️⃣|3️⃣|4️⃣|5️⃣|6️⃣|7️⃣|8️⃣|9️⃣|👨\\u200d🎨|👨\\u200d🚀|👨\\u200d🦲|🧔\\u200d♂|🚴\\u200d♂|👱\\u200d♂|⛹\\u200d♂|🙇\\u200d♂|🤸\\u200d♂|🧗\\u200d♂|👷\\u200d♂|👨\\u200d🍳|👨\\u200d🦱|🕵\\u200d♂|🧝\\u200d♂|🤦\\u200d♂|👨\\u200d🏭|🧚\\u200d♂|👨\\u200d🌾|👨\\u200d🍼|👨\\u200d🚒|🙍\\u200d♂|🧞\\u200d♂|🙅\\u200d♂|🙆\\u200d♂|💇\\u200d♂|💆\\u200d♂|🏌\\u200d♂|💂\\u200d♂|👨\\u200d⚕|🧘\\u200d♂|👨\\u200d\\U0001f9bd|👨\\u200d\\U0001f9bc|🧖\\u200d♂|🤵\\u200d♂|👨\\u200d⚖|🤹\\u200d♂|\\U0001f9ce\\u200d♂|🏋\\u200d♂|🧙\\u200d♂|👨\\u200d🔧|🚵\\u200d♂|👨\\u200d💼|👨\\u200d✈|🤾\\u200d♂|🤽\\u200d♂|👮\\u200d♂|🙎\\u200d♂|🙋\\u200d♂|👨\\u200d🦰|🚣\\u200d♂|🏃\\u200d♂|👨\\u200d🔬|🤷\\u200d♂|👨\\u200d🎤|\\U0001f9cd\\u200d♂|👨\\u200d🎓|🦸\\u200d♂|🦹\\u200d♂|🏄\\u200d♂|🏊\\u200d♂|👨\\u200d🏫|👨\\u200d💻|💁\\u200d♂|🧛\\u200d♂|🚶\\u200d♂|👳\\u200d♂|👨\\u200d🦳|👰\\u200d♂|👨\\u200d\\U0001f9af|🧟\\u200d♂|🧑\\u200d🔧|👯\\u200d♂|🤼\\u200d♂|❤\\u200d\\U0001fa79|🧜\\u200d♀|🧜\\u200d♂|🧑\\u200d🎄|🧑\\u200d💼|🧑\\u200d🦲|🧑\\u200d🦱|🧑\\u200d🍼|🧑\\u200d\\U0001f9bd|🧑\\u200d\\U0001f9bc|🧑\\u200d🦰|🧑\\u200d🦳|🧑\\u200d\\U0001f9af|🧑\\u200d✈|🏴\\u200d☠|🐻\\u200d❄|🏳\\u200d🌈|🧑\\u200d🔬|🐕\\u200d\\U0001f9ba|🧑\\u200d🎤|🧑\\u200d🎓|🧑\\u200d🏫|🧑\\u200d💻|🏳\\u200d⚧|👩\\u200d🎨|👩\\u200d🚀|👩\\u200d🦲|🧔\\u200d♀|🚴\\u200d♀|👱\\u200d♀|⛹\\u200d♀|🙇\\u200d♀|🤸\\u200d♀|🧗\\u200d♀|👷\\u200d♀|👩\\u200d🍳|👩\\u200d🦱|🕵\\u200d♀|🧝\\u200d♀|🤦\\u200d♀|👩\\u200d🏭|🧚\\u200d♀|👩\\u200d🌾|👩\\u200d🍼|👩\\u200d🚒|🙍\\u200d♀|🧞\\u200d♀|🙅\\u200d♀|🙆\\u200d♀|💇\\u200d♀|💆\\u200d♀|🏌\\u200d♀|💂\\u200d♀|👩\\u200d⚕|🧘\\u200d♀|👩\\u200d\\U0001f9bd|👩\\u200d\\U0001f9bc|🧖\\u200d♀|🤵\\u200d♀|👩\\u200d⚖|🤹\\u200d♀|\\U0001f9ce\\u200d♀|🏋\\u200d♀|🧙\\u200d♀|👩\\u200d🔧|🚵\\u200d♀|👩\\u200d💼|👩\\u200d✈|🤾\\u200d♀|🤽\\u200d♀|👮\\u200d♀|🙎\\u200d♀|🙋\\u200d♀|👩\\u200d🦰|🚣\\u200d♀|🏃\\u200d♀|👩\\u200d🔬|🤷\\u200d♀|👩\\u200d🎤|\\U0001f9cd\\u200d♀|👩\\u200d🎓|🦸\\u200d♀|🦹\\u200d♀|🏄\\u200d♀|🏊\\u200d♀|👩\\u200d🏫|👩\\u200d💻|💁\\u200d♀|🧛\\u200d♀|🚶\\u200d♀|👳\\u200d♀|👩\\u200d🦳|👰\\u200d♀|👩\\u200d\\U0001f9af|🧟\\u200d♀|👯\\u200d♀|🤼\\u200d♀|🅰️|🇦🇫|🇦🇱|🇩🇿|🇦🇸|🇦🇩|🇦🇴|🇦🇮|🇦🇶|🇦🇬|🇦🇷|🇦🇲|🇦🇼|🇦🇨|🇦🇺|🇦🇹|🇦🇿|🅱️|🇧🇸|🇧🇭|🇧🇩|🇧🇧|🇧🇾|🇧🇪|🇧🇿|🇧🇯|🇧🇲|🇧🇹|🇧🇴|🇧🇦|🇧🇼|🇧🇻|🇧🇷|🇮🇴|🇻🇬|🇧🇳|🇧🇬|🇧🇫|🇧🇮|🇰🇭|🇨🇲|🇨🇦|🇮🇨|🇨🇻|🇧🇶|🇰🇾|🇨🇫|🇪🇦|🇹🇩|🇨🇱|🇨🇳|🇨🇽|🇨🇵|🇨🇨|🇨🇴|🇰🇲|🇨🇬|🇨🇩|🇨🇰|🇨🇷|🇭🇷|🇨🇺|🇨🇼|🇨🇾|🇨🇿|🇨🇮|🇩🇰|🇩🇬|🇩🇯|🇩🇲|🇩🇴|🇪🇨|🇪🇬|🇸🇻|🇬🇶|🇪🇷|🇪🇪|🇸🇿|🇪🇹|🇪🇺|🇫🇰|🇫🇴|🇫🇯|🇫🇮|🇫🇷|🇬🇫|🇵🇫|🇹🇫|🇬🇦|🇬🇲|🇬🇪|🇩🇪|🇬🇭|🇬🇮|🇬🇷|🇬🇱|🇬🇩|🇬🇵|🇬🇺|🇬🇹|🇬🇬|🇬🇳|🇬🇼|🇬🇾|🇭🇹|🇭🇲|🇭🇳|🇭🇰|🇭🇺|🇮🇸|🇮🇳|🇮🇩|🇮🇷|🇮🇶|🇮🇪|🇮🇲|🇮🇱|🇮🇹|🇯🇲|🇯🇵|㊗️|🈷️|㊙️|🈂️|🇯🇪|🇯🇴|🇰🇿|🇰🇪|🇰🇮|🇽🇰|🇰🇼|🇰🇬|🇱🇦|🇱🇻|🇱🇧|🇱🇸|🇱🇷|🇱🇾|🇱🇮|🇱🇹|🇱🇺|🇲🇴|🇲🇬|🇲🇼|🇲🇾|🇲🇻|🇲🇱|🇲🇹|🇲🇭|🇲🇶|🇲🇷|🇲🇺|🇾🇹|🇲🇽|🇫🇲|🇲🇩|🇲🇨|🇲🇳|🇲🇪|🇲🇸|🇲🇦|🇲🇿|🤶🏿|🤶🏻|🤶🏾|🤶🏼|🤶🏽|🇲🇲|🇳🇦|🇳🇷|🇳🇵|🇳🇱|🇳🇨|🇳🇿|🇳🇮|🇳🇪|🇳🇬|🇳🇺|🇳🇫|🇰🇵|🇲🇰|🇲🇵|🇳🇴|👌🏿|👌🏻|👌🏾|👌🏼|👌🏽|🅾️|🇴🇲|🅿️|🇵🇰|🇵🇼|🇵🇸|🇵🇦|🇵🇬|🇵🇾|🇵🇪|🇵🇭|🇵🇳|🇵🇱|🇵🇹|🇵🇷|🇶🇦|🇷🇴|🇷🇺|🇷🇼|🇷🇪|🇼🇸|🇸🇲|🎅🏿|🎅🏻|🎅🏾|🎅🏼|🎅🏽|🇸🇦|🇸🇳|🇷🇸|🇸🇨|🇸🇱|🇸🇬|🇸🇽|🇸🇰|🇸🇮|🇸🇧|🇸🇴|🇿🇦|🇬🇸|🇰🇷|🇸🇸|🇪🇸|🇱🇰|🇧🇱|🇸🇭|🇰🇳|🇱🇨|🇲🇫|🇵🇲|🇻🇨|🇸🇩|🇸🇷|🇸🇯|🇸🇪|🇨🇭|🇸🇾|🇸🇹|🇹🇼|🇹🇯|🇹🇿|🇹🇭|🇹🇱|🇹🇬|🇹🇰|🇹🇴|🇹🇹|🇹🇦|🇹🇳|🇹🇷|🇹🇲|🇹🇨|🇹🇻|🇺🇲|🇻🇮|🇺🇬|🇺🇦|🇦🇪|🇬🇧|🇺🇳|🇺🇸|🇺🇾|🇺🇿|🇻🇺|🇻🇦|🇻🇪|🇻🇳|🇼🇫|🇪🇭|🇾🇪|🇿🇲|🇿🇼|🎟️|✈️|⚗️|⚛️|👼🏿|👼🏻|👼🏾|👼🏼|👼🏽|👶🏿|👶🏻|👶🏾|👶🏼|👶🏽|👇🏿|👇🏻|👇🏾|👇🏼|👇🏽|👈🏿|👈🏻|👈🏾|👈🏼|👈🏽|👉🏿|👉🏻|👉🏾|👉🏼|👉🏽|👆🏿|👆🏻|👆🏾|👆🏼|👆🏽|⚖️|🗳️|🏖️|🛏️|🛎️|☣️|◼️|✒️|▪️|👦🏿|👦🏻|👦🏾|👦🏼|👦🏽|🤱🏿|🤱🏻|🤱🏾|🤱🏼|🤱🏽|🏗️|🤙🏿|🤙🏻|🤙🏾|🤙🏼|🤙🏽|🏕️|🕯️|🗃️|🗂️|⛓️|☑️|✔️|♟️|🧒🏿|🧒🏻|🧒🏾|🧒🏼|🧒🏽|🐿️|Ⓜ️|🏙️|🗜️|👏🏿|👏🏻|👏🏾|👏🏼|👏🏽|🏛️|☁️|🌩️|⛈️|🌧️|🌨️|♣️|⚰️|☄️|🖱️|👷🏿|👷🏻|👷🏾|👷🏼|👷🏽|🎛️|©️|🛋️|💑🏿|💑🏻|💑🏾|💑🏼|💑🏽|🖍️|🤞🏿|🤞🏻|🤞🏾|🤞🏼|🤞🏽|⚔️|🗡️|\\U0001f9cf🏿|\\U0001f9cf🏻|\\U0001f9cf🏾|\\U0001f9cf🏼|\\U0001f9cf🏽|🏚️|🏜️|🏝️|🖥️|🕵️|🕵🏿|🕵🏻|🕵🏾|🕵🏼|🕵🏽|♦️|‼️|🕊️|↙️|↘️|⬇️|👂🏿|👂🏻|👂🏾|👂🏼|👂🏽|\\U0001f9bb🏿|\\U0001f9bb🏻|\\U0001f9bb🏾|\\U0001f9bb🏼|\\U0001f9bb🏽|✴️|✳️|⏏️|🧝🏿|🧝🏻|🧝🏾|🧝🏼|🧝🏽|✉️|⁉️|👁️|🧚🏿|🧚🏻|🧚🏾|🧚🏼|🧚🏽|♀️|⛴️|🗄️|🎞️|📽️|⚜️|💪🏿|💪🏻|💪🏾|💪🏼|💪🏽|🌫️|🙏🏿|🙏🏻|🙏🏾|🙏🏼|🙏🏽|🦶🏿|🦶🏻|🦶🏾|🦶🏼|🦶🏽|🍽️|🖋️|🖼️|☹️|⚱️|⚙️|👧🏿|👧🏻|👧🏾|👧🏼|👧🏽|💂🏿|💂🏻|💂🏾|💂🏼|💂🏽|⚒️|🛠️|🖐️|🖐🏿|🖐🏻|🖐🏾|🖐🏼|🖐🏽|\\U0001faf0🏿|\\U0001faf0🏻|\\U0001faf0🏾|\\U0001faf0🏼|\\U0001faf0🏽|🤝🏿|🤝🏻|🤝🏾|🤝🏼|🤝🏽|❣️|\\U0001faf6🏿|\\U0001faf6🏻|\\U0001faf6🏾|\\U0001faf6🏼|\\U0001faf6🏽|♥️|🕳️|🏇🏿|🏇🏻|🏇🏾|🏇🏼|🏇🏽|🌶️|♨️|🏘️|⛸️|\\U0001faf5🏿|\\U0001faf5🏻|\\U0001faf5🏾|\\U0001faf5🏼|\\U0001faf5🏽|☝️|☝🏿|☝🏻|☝🏾|☝🏼|☝🏽|♾️|ℹ️|🕹️|⌨️|\\#⃣|\\*⃣|0⃣|1⃣|2⃣|3⃣|4⃣|5⃣|6⃣|7⃣|8⃣|9⃣|💏🏿|💏🏻|💏🏾|💏🏼|💏🏽|🏷️|⏮️|✝️|🤛🏿|🤛🏻|🤛🏾|🤛🏼|🤛🏽|↔️|⬅️|↪️|🗨️|\\U0001faf2🏿|\\U0001faf2🏻|\\U0001faf2🏾|\\U0001faf2🏼|\\U0001faf2🏽|🦵🏿|🦵🏻|🦵🏾|🦵🏼|🦵🏽|🎚️|🖇️|🤟🏿|🤟🏻|🤟🏾|🤟🏼|🤟🏽|🧙🏿|🧙🏻|🧙🏾|🧙🏼|🧙🏽|♂️|🕺🏿|🕺🏻|🕺🏾|🕺🏼|🕺🏽|👨🏿|👨🏻|👨🏾|👨🏼|👨🏽|🕰️|⚕️|👬🏿|👬🏻|👬🏾|👬🏼|👬🏽|🧜🏿|🧜🏻|🧜🏾|🧜🏼|🧜🏽|🖕🏿|🖕🏻|🖕🏾|🖕🏼|🖕🏽|🎖️|🛥️|🏍️|🛣️|⛰️|✖️|💅🏿|💅🏻|💅🏾|💅🏼|💅🏽|🏞️|⏭️|\\U0001f977🏿|\\U0001f977🏻|\\U0001f977🏾|\\U0001f977🏼|\\U0001f977🏽|👃🏿|👃🏻|👃🏾|👃🏼|👃🏽|🛢️|🗝️|👴🏿|👴🏻|👴🏾|👴🏼|👴🏽|👵🏿|👵🏻|👵🏾|👵🏼|👵🏽|🧓🏿|🧓🏻|🧓🏾|🧓🏼|🧓🏽|🕉️|👊🏿|👊🏻|👊🏾|👊🏼|👊🏽|👐🏿|👐🏻|👐🏾|👐🏼|👐🏽|☦️|🖌️|\\U0001faf3🏿|\\U0001faf3🏻|\\U0001faf3🏾|\\U0001faf3🏼|\\U0001faf3🏽|\\U0001faf4🏿|\\U0001faf4🏻|\\U0001faf4🏾|\\U0001faf4🏼|\\U0001faf4🏽|🤲🏿|🤲🏻|🤲🏾|🤲🏼|🤲🏽|〽️|🛳️|⏸️|☮️|🖊️|✏️|🚴🏿|🚴🏻|🚴🏾|🚴🏼|🚴🏽|⛹️|⛹🏿|⛹🏻|⛹🏾|⛹🏼|⛹🏽|🙇🏿|🙇🏻|🙇🏾|🙇🏼|🙇🏽|🤸🏿|🤸🏻|🤸🏾|🤸🏼|🤸🏽|🧗🏿|🧗🏻|🧗🏾|🧗🏼|🧗🏽|🧑🏿|🧔🏿|👱🏿|🤦🏿|🤦🏻|🤦🏾|🤦🏼|🤦🏽|🙍🏿|🙍🏻|🙍🏾|🙍🏼|🙍🏽|🙅🏿|🙅🏻|🙅🏾|🙅🏼|🙅🏽|🙆🏿|🙆🏻|🙆🏾|🙆🏼|🙆🏽|💇🏿|💇🏻|💇🏾|💇🏼|💇🏽|💆🏿|💆🏻|💆🏾|💆🏼|💆🏽|🏌️|🏌🏿|🏌🏻|🏌🏾|🏌🏼|🏌🏽|🛌🏿|🛌🏻|🛌🏾|🛌🏼|🛌🏽|🧘🏿|🧘🏻|🧘🏾|🧘🏼|🧘🏽|🧖🏿|🧖🏻|🧖🏾|🧖🏼|🧖🏽|🕴️|🕴🏿|🕴🏻|🕴🏾|🕴🏼|🕴🏽|🤵🏿|🤵🏻|🤵🏾|🤵🏼|🤵🏽|🤹🏿|🤹🏻|🤹🏾|🤹🏼|🤹🏽|\\U0001f9ce🏿|\\U0001f9ce🏻|\\U0001f9ce🏾|\\U0001f9ce🏼|\\U0001f9ce🏽|🏋️|🏋🏿|🏋🏻|🏋🏾|🏋🏼|🏋🏽|🧑🏻|🧔🏻|👱🏻|🧑🏾|🧔🏾|👱🏾|🧑🏼|🧔🏼|👱🏼|🧑🏽|🧔🏽|👱🏽|🚵🏿|🚵🏻|🚵🏾|🚵🏼|🚵🏽|🤾🏿|🤾🏻|🤾🏾|🤾🏼|🤾🏽|🤽🏿|🤽🏻|🤽🏾|🤽🏼|🤽🏽|🙎🏿|🙎🏻|🙎🏾|🙎🏼|🙎🏽|🙋🏿|🙋🏻|🙋🏾|🙋🏼|🙋🏽|🚣🏿|🚣🏻|🚣🏾|🚣🏼|🚣🏽|🏃🏿|🏃🏻|🏃🏾|🏃🏼|🏃🏽|🤷🏿|🤷🏻|🤷🏾|🤷🏼|🤷🏽|\\U0001f9cd🏿|\\U0001f9cd🏻|\\U0001f9cd🏾|\\U0001f9cd🏼|\\U0001f9cd🏽|🏄🏿|🏄🏻|🏄🏾|🏄🏼|🏄🏽|🏊🏿|🏊🏻|🏊🏾|🏊🏼|🏊🏽|🛀🏿|🛀🏻|🛀🏾|🛀🏼|🛀🏽|💁🏿|💁🏻|💁🏾|💁🏼|💁🏽|🚶🏿|🚶🏻|🚶🏾|🚶🏼|🚶🏽|👳🏿|👳🏻|👳🏾|👳🏼|👳🏽|\\U0001fac5🏿|\\U0001fac5🏻|\\U0001fac5🏾|\\U0001fac5🏼|\\U0001fac5🏽|👲🏿|👲🏻|👲🏾|👲🏼|👲🏽|👰🏿|👰🏻|👰🏾|👰🏼|👰🏽|⛏️|\\U0001f90c🏿|\\U0001f90c🏻|\\U0001f90c🏾|\\U0001f90c🏼|\\U0001f90c🏽|\\U0001f90f🏿|\\U0001f90f🏻|\\U0001f90f🏾|\\U0001f90f🏼|\\U0001f90f🏽|▶️|⏯️|👮🏿|👮🏻|👮🏾|👮🏼|👮🏽|\\U0001fac3🏿|\\U0001fac3🏻|\\U0001fac3🏾|\\U0001fac3🏼|\\U0001fac3🏽|\\U0001fac4🏿|\\U0001fac4🏻|\\U0001fac4🏾|\\U0001fac4🏼|\\U0001fac4🏽|🤰🏿|🤰🏻|🤰🏾|🤰🏼|🤰🏽|🤴🏿|🤴🏻|🤴🏾|🤴🏼|🤴🏽|👸🏿|👸🏻|👸🏾|👸🏼|👸🏽|🖨️|🏎️|☢️|🛤️|🤚🏿|🤚🏻|🤚🏾|🤚🏼|🤚🏽|✊🏿|✊🏻|✊🏾|✊🏼|✊🏽|✋🏿|✋🏻|✋🏾|✋🏼|✋🏽|🙌🏿|🙌🏻|🙌🏾|🙌🏼|🙌🏽|⏺️|♻️|❤️|®️|🎗️|⛑️|◀️|🤜🏿|🤜🏻|🤜🏾|🤜🏼|🤜🏽|🗯️|➡️|⤵️|↩️|⤴️|\\U0001faf1🏿|\\U0001faf1🏻|\\U0001faf1🏾|\\U0001faf1🏼|\\U0001faf1🏽|🗞️|🏵️|🛰️|✂️|🤳🏿|🤳🏻|🤳🏾|🤳🏼|🤳🏽|☘️|🛡️|⛩️|🛍️|🤘🏿|🤘🏻|🤘🏾|🤘🏼|🤘🏽|⛷️|☠️|🛩️|☺️|🏔️|🏂🏿|🏂🏻|🏂🏾|🏂🏼|🏂🏽|❄️|☃️|♠️|❇️|🗣️|🕷️|🕸️|🗓️|🗒️|🏟️|☪️|✡️|⏹️|⏱️|🎙️|☀️|🌥️|🌦️|🌤️|🕶️|🦸🏿|🦸🏻|🦸🏾|🦸🏼|🦸🏽|🦹🏿|🦹🏻|🦹🏾|🦹🏼|🦹🏽|☎️|🌡️|👎🏿|👎🏻|👎🏾|👎🏼|👎🏽|👍🏿|👍🏻|👍🏾|👍🏼|👍🏽|⏲️|🌪️|🖲️|™️|⚧️|☂️|⛱️|↕️|↖️|↗️|⬆️|🧛🏿|🧛🏻|🧛🏾|🧛🏼|🧛🏽|✌️|✌🏿|✌🏻|✌🏾|✌🏼|✌🏽|🖖🏿|🖖🏻|🖖🏾|🖖🏼|🖖🏽|⚠️|🗑️|👋🏿|👋🏻|👋🏾|👋🏼|👋🏽|〰️|☸️|🏳️|◻️|▫️|🌬️|👫🏿|👫🏻|👫🏾|👫🏼|👫🏽|💃🏿|💃🏻|💃🏾|💃🏼|💃🏽|👩🏿|👩🏻|👩🏾|👩🏼|👩🏽|🧕🏿|🧕🏻|🧕🏾|🧕🏼|🧕🏽|👭🏿|👭🏻|👭🏾|👭🏼|👭🏽|🗺️|✍️|✍🏿|✍🏻|✍🏾|✍🏼|✍🏽|☯️|🇦🇽|🥇|🥈|🥉|🆎|🏧|🅰|♒|♈|🔙|🅱|🆑|🆒|♋|♑|🎄|🔚|🆓|♊|🆔|🉑|🈸|🉐|🏯|㊗|🈹|🎎|🈚|🈁|🈷|🈵|🈶|🈺|🈴|🏣|🈲|🈯|㊙|🈂|🔰|🈳|♌|♎|🤶|🆕|🆖|🆗|👌|🔛|🅾|⛎|🅿|♓|🔜|🆘|♐|🎅|♏|🗽|🦖|🔝|♉|🗼|🆙|🆚|♍|🧮|\\U0001fa97|\\U0001fa79|🎟|🚡|✈|🛬|🛫|⏰|⚗|👽|👾|🚑|🏈|🏺|\\U0001fac0|⚓|💢|😠|👿|😧|🐜|📶|😰|🚛|🎨|😲|⚛|\\U0001f6fa|🚗|🥑|\\U0001fa93|👶|👼|🍼|🐤|🚼|👇|👈|👉|👆|🎒|🥓|🦡|🏸|🥯|🛄|🥖|⚖|🦲|\\U0001fa70|🎈|🗳|🍌|\\U0001fa95|🏦|📊|💈|⚾|🧺|🏀|🦇|🛁|🔋|🏖|😁|\\U0001fad8|🐻|💓|\\U0001f9ab|🛏|🍺|\\U0001fab2|🔔|\\U0001fad1|🔕|🛎|🍱|\\U0001f9c3|🚲|👙|🧢|☣|🐦|🎂|\\U0001f9ac|\\U0001fae6|⚫|🏴|🖤|⬛|◾|◼|✒|▪|🔲|🌼|🐡|📘|🔵|💙|\\U0001f7e6|\\U0001fad0|🐗|💣|🦴|🔖|📑|📚|\\U0001fa83|🍾|💐|🏹|🥣|🎳|🥊|👦|🧠|🍞|🤱|🧱|🌉|💼|\\U0001fa72|🔆|🥦|💔|🧹|\\U0001f7e4|\\U0001f90e|\\U0001f7eb|\\U0001f9cb|\\U0001fae7|\\U0001faa3|🐛|🏗|🚅|🎯|🌯|🚌|🚏|👤|👥|\\U0001f9c8|🦋|🌵|📅|🤙|🐪|📷|📸|🏕|🕯|🍬|🥫|🛶|🗃|📇|🗂|🎠|🎏|\\U0001fa9a|🥕|🏰|🐈|🐱|😹|😼|⛓|\\U0001fa91|📉|📈|💹|☑|✔|✅|🧀|🏁|🍒|🌸|♟|🌰|🐔|🧒|🚸|🐿|🍫|🥢|⛪|🚬|🎦|Ⓜ|🎪|🏙|🌆|🗜|🎬|👏|🏛|🍻|🥂|📋|🔃|📕|📪|📫|🌂|☁|🌩|⛈|🌧|🌨|🤡|♣|👝|🧥|\\U0001fab3|🍸|🥥|⚰|\\U0001fa99|🥶|💥|☄|🧭|💽|🖱|🎊|😖|😕|🚧|👷|🎛|🏪|🍚|🍪|🍳|©|\\U0001fab8|🛋|🔄|💑|🐄|🐮|🤠|🦀|🖍|💳|🌙|🦗|🏏|🐊|🥐|❌|❎|🤞|🎌|⚔|👑|\\U0001fa7c|😿|😢|🔮|🥒|🥤|🧁|🥌|🦱|➰|💱|🍛|🍮|🛃|🥩|🌀|🗡|🍡|🏿|💨|\\U0001f9cf|🌳|🦌|🚚|🏬|🏚|🏜|🏝|🖥|🕵|♦|💠|🔅|😞|\\U0001f978|➗|\\U0001f93f|\\U0001fa94|💫|🧬|\\U0001f9a4|🐕|🐶|💵|🐬|🚪|\\U0001fae5|🔯|➿|‼|🍩|🕊|↙|↘|⬇|😓|🔽|🐉|🐲|👗|🤤|\\U0001fa78|💧|🥁|🦆|🥟|📀|📧|🦅|👂|🌽|\\U0001f9bb|🥚|🍆|✴|✳|🕣|🕗|⏏|🔌|🐘|\\U0001f6d7|🕦|🕚|🧝|\\U0001fab9|✉|📩|💶|🌲|🐑|⁉|🤯|😑|👁|👀|😘|\\U0001f979|😋|😱|🤮|😵|\\U0001fae4|🤭|🤕|😷|🧐|\\U0001fae2|😮|\\U0001fae3|🤨|🙄|😤|🤬|😂|🤒|😛|😶|🏭|🧚|\\U0001f9c6|🍂|👪|⏩|⏬|⏪|⏫|📠|😨|\\U0001fab6|♀|🎡|⛴|🏑|🗄|📁|🎞|📽|🔥|🚒|🧯|🧨|🎆|🌓|🌛|🐟|🍥|🎣|🕠|🕔|⛳|\\U0001f9a9|🔦|🥿|\\U0001fad3|⚜|💪|💾|🎴|😳|\\U0001fab0|🥏|🛸|🌫|🌁|🙏|\\U0001fad5|🦶|👣|🍴|🍽|🥠|⛲|🖋|🕟|🍀|🕓|🦊|🖼|🍟|🍤|🐸|🐥|☹|😦|⛽|🌕|🌝|⚱|🎲|\\U0001f9c4|⚙|💎|🧞|👻|🦒|👧|🥛|👓|🌎|🌏|🌍|🌐|🧤|🌟|🥅|🐐|👺|🥽|🦍|🎓|🍇|🍏|📗|\\U0001f7e2|💚|🥗|\\U0001f7e9|😬|😺|😸|😀|😃|😄|😅|😆|💗|💂|\\U0001f9ae|🎸|🍔|🔨|⚒|🛠|\\U0001faac|🐹|🖐|\\U0001faf0|👜|🤝|🐣|🎧|\\U0001faa6|🙉|💟|❣|\\U0001faf6|♥|💘|💝|💲|\\U0001f7f0|🦔|🚁|🌿|🌺|👠|🚄|⚡|🥾|\\U0001f6d5|🦛|🕳|⭕|🍯|🐝|\\U0001fa9d|🚥|🐎|🐴|🏇|🏥|☕|🌭|🥵|🌶|♨|🏨|⌛|⏳|🏠|🏡|🏘|💯|😯|\\U0001f6d6|\\U0001f9ca|🍨|🏒|⛸|\\U0001faaa|📥|📨|\\U0001faf5|☝|♾|ℹ|🔤|🔡|🔠|🔢|🔣|🎃|\\U0001fad9|👖|🃏|🕹|🕋|🦘|🔑|⌨|🔟|🛴|👘|💏|💋|😽|😗|😚|😙|🔪|\\U0001fa81|🥝|\\U0001faa2|🐨|🥼|🏷|🥍|\\U0001fa9c|🐞|💻|🔷|🔶|🌗|🌜|⏮|✝|🍃|🥬|📒|🤛|↔|⬅|↪|🛅|🗨|\\U0001faf2|🦵|🍋|🐆|🎚|💡|🚈|🏻|🔗|🖇|🦁|💄|🚮|🦎|🦙|🦞|🔒|🔐|🔏|🚂|🍭|\\U0001fa98|🧴|\\U0001fab7|😭|📢|🤟|🏩|💌|\\U0001faab|🧳|\\U0001fac1|🤥|🧙|\\U0001fa84|🧲|🔍|🔎|🀄|♂|\\U0001f9a3|👨|🕺|🥭|🕰|\\U0001f9bd|👞|🗾|🍁|🥋|\\U0001f9c9|🍖|\\U0001f9be|\\U0001f9bf|⚕|🏾|🏼|🏽|📣|🍈|\\U0001fae0|📝|👬|🕎|🚹|🧜|🚇|🦠|🎤|🔬|🖕|\\U0001fa96|🎖|🌌|🚐|➖|\\U0001fa9e|\\U0001faa9|🗿|📱|📴|📲|🤑|💰|💸|🐒|🐵|🚝|🥮|🎑|🕌|🦟|🛥|🛵|🏍|\\U0001f9bc|🛣|🗻|⛰|🚠|🚞|🐁|🐭|\\U0001faa4|👄|🎥|✖|🍄|🎹|🎵|🎶|🎼|🔇|💅|📛|🏞|🤢|🧿|👔|🤓|\\U0001faba|\\U0001fa86|😐|🌑|🌚|📰|⏭|🌃|🕤|🕘|\\U0001f977|🚳|⛔|🚯|📵|🔞|🚷|🚭|🚱|👃|📓|📔|🔩|🐙|🍢|🏢|👹|🛢|🗝|👴|👵|🧓|\\U0001fad2|🕉|🚘|🚍|👊|🚔|🚖|\\U0001fa71|🕜|🕐|\\U0001f9c5|📖|📂|👐|📭|📬|💿|📙|\\U0001f7e0|🧡|\\U0001f7e7|\\U0001f9a7|☦|\\U0001f9a6|📤|🦉|🐂|\\U0001f9aa|📦|📄|📃|📟|🖌|\\U0001faf3|🌴|\\U0001faf4|🤲|🥞|🐼|📎|\\U0001fa82|🦜|〽|🎉|🥳|🛳|🛂|⏸|🐾|☮|🍑|🦚|🥜|🍐|🖊|✏|🐧|😔|\\U0001fac2|👯|🤼|🎭|😣|🧑|🧔|🚴|👱|⛹|🙇|🤸|🧗|🤦|🤺|🙍|🙅|🙆|💇|💆|🏌|🛌|🧘|🧖|🕴|🤵|🤹|\\U0001f9ce|🏋|🚵|🤾|🤽|🙎|🙋|🚣|🏃|🤷|\\U0001f9cd|🏄|🏊|🛀|💁|🚶|👳|\\U0001fac5|👲|👰|🧫|⛏|\\U0001f6fb|🥧|🐖|🐷|🐽|💩|💊|\\U0001f90c|\\U0001f90f|🎍|🍍|🏓|🍕|\\U0001fa85|\\U0001faa7|🛐|▶|⏯|\\U0001f6dd|🥺|\\U0001faa0|➕|🚓|🚨|👮|🐩|🎱|🍿|🏤|📯|📮|🍲|🚰|🥔|\\U0001fab4|🍗|💷|\\U0001fad7|😾|😡|📿|\\U0001fac3|\\U0001fac4|🤰|🥨|🤴|👸|🖨|🚫|\\U0001f7e3|💜|\\U0001f7ea|👛|📌|🧩|🐇|🐰|🦝|🏎|📻|🔘|☢|🚃|🛤|🌈|🤚|✊|✋|🙌|🐏|🐀|\\U0001fa92|🧾|⏺|♻|🍎|🔴|🧧|❗|🦰|❤|🏮|❓|\\U0001f7e5|🔻|🔺|®|😌|🎗|🔁|🔂|⛑|🚻|◀|💞|🦏|🎀|🍙|🍘|🤜|🗯|➡|⤵|↩|⤴|\\U0001faf1|💍|\\U0001f6df|\\U0001fa90|🍠|🤖|\\U0001faa8|🚀|🧻|🗞|🎢|\\U0001f6fc|🤣|🐓|🌹|🏵|📍|🏉|🎽|👟|😥|🧷|\\U0001f9ba|⛵|🍶|🧂|\\U0001fae1|🥪|\\U0001f97b|🛰|📡|🦕|🎷|🧣|🏫|✂|🦂|\\U0001fa9b|📜|\\U0001f9ad|💺|🙈|🌱|🤳|🕢|🕖|\\U0001faa1|🥘|☘|🦈|🍧|🌾|🛡|⛩|🚢|🌠|🛍|🛒|🍰|\\U0001fa73|🚿|🦐|🔀|🤫|🤘|🕡|🕕|🛹|⛷|🎿|💀|☠|\\U0001f9a8|🛷|😴|😪|🙁|🙂|🎰|\\U0001f9a5|🛩|🔹|🔸|😻|☺|😇|😍|🥰|😈|🤗|😊|😎|\\U0001f972|😏|🐌|🐍|🤧|🏔|🏂|❄|☃|⛄|🧼|⚽|🧦|🍦|🥎|♠|🍝|❇|🎇|✨|💖|🙊|🔊|🔈|🔉|🗣|💬|🚤|🕷|🕸|🗓|🗒|🐚|🧽|🥄|🚙|🏅|🐳|🦑|😝|🏟|⭐|🤩|☪|✡|🚉|🍜|\\U0001fa7a|⏹|🛑|⏱|📏|🍓|🎙|🥙|☀|⛅|🌥|🌦|🌤|🌞|🌻|🕶|🌅|🌄|🌇|🦸|🦹|🍣|🚟|🦢|💦|🕍|💉|👕|🌮|🥡|\\U0001fad4|🎋|🍊|🚕|🍵|\\U0001fad6|📆|🧸|☎|📞|🔭|📺|🕥|🕙|🎾|⛺|🧪|🌡|🤔|\\U0001fa74|💭|🧵|🕞|🕒|👎|👍|🎫|🐅|🐯|⏲|😫|🚽|🍅|👅|🧰|🦷|\\U0001faa5|🎩|🌪|🖲|🚜|™|🚆|🚊|🚋|⚧|🚩|📐|🔱|\\U0001f9cc|🚎|🏆|🍹|🐠|🎺|🌷|🥃|🦃|🐢|🕧|🕛|🐫|🕝|💕|🕑|☂|⛱|☔|😒|🦄|🔓|↕|↖|↗|⬆|🙃|🔼|🧛|🚦|📳|✌|📹|🎮|📼|🎻|🌋|🏐|🖖|\\U0001f9c7|🌘|🌖|⚠|🗑|⌚|🐃|🚾|🔫|🌊|🍉|👋|〰|🌒|🌔|🙀|😩|💒|🐋|\\U0001f6de|☸|♿|\\U0001f9af|⚪|❕|🏳|💮|🦳|\\U0001f90d|⬜|◽|◻|❔|▫|🔳|🥀|🎐|🌬|\\U0001fa9f|🍷|😉|😜|🐺|👩|👫|💃|🧕|👢|👚|👒|👡|👭|🚺|\\U0001fab5|🥴|🗺|\\U0001fab1|😟|🎁|🔧|✍|\\U0001fa7b|🧶|\\U0001f971|\\U0001f7e1|💛|\\U0001f7e8|💴|☯|\\U0001fa80|🤪|🦓|🤐|🧟|💤)',\n",
       "re.UNICODE)"
      ]
     },
     "execution_count": 16,
     "metadata": {},
     "output_type": "execute_result"
    }
   ],
   "source": [
    "emoji.get_emoji_regexp()"
   ]
  },
  {
   "cell_type": "markdown",
   "id": "ae066ade",
   "metadata": {},
   "source": [
    "###### 1.3.1.1 Testing removing repeating characters"
   ]
  },
  {
   "cell_type": "code",
   "execution_count": 17,
   "id": "d4300c14",
   "metadata": {},
   "outputs": [
    {
     "data": {
      "text/plain": [
       "'عاجل خطير نار mo nice yumy nee'"
      ]
     },
     "execution_count": 17,
     "metadata": {},
     "output_type": "execute_result"
    }
   ],
   "source": [
    "re.sub(re_repeating_character_pattern, r\"\\1\", \"عااااااجل خطييير ناااااار moooooo nice yumyyyy nee\")"
   ]
  },
  {
   "cell_type": "markdown",
   "id": "55ba08ec",
   "metadata": {},
   "source": [
    "###### 1.3.1.2 Testing removing Emojis"
   ]
  },
  {
   "cell_type": "code",
   "execution_count": 18,
   "id": "9ce7af31",
   "metadata": {},
   "outputs": [
    {
     "data": {
      "text/plain": [
       "': #عاجل ⭕️ #الملك_سلمان يصدر قرارات ملكية يتم الان اعلانها على القناة #السعودية\"'"
      ]
     },
     "execution_count": 18,
     "metadata": {},
     "output_type": "execute_result"
    }
   ],
   "source": [
    "full_df.iloc[49974][0]"
   ]
  },
  {
   "cell_type": "code",
   "execution_count": 19,
   "id": "eef3b26f",
   "metadata": {
    "scrolled": true
   },
   "outputs": [
    {
     "name": "stderr",
     "output_type": "stream",
     "text": [
      "/home/tamer/anaconda3/envs/psut-nlp-course/lib/python3.7/site-packages/ipykernel_launcher.py:4: DeprecationWarning: 'emoji.get_emoji_regexp()' is deprecated and will be removed in version 2.0.0. If you want to remove emoji from a string, consider the method emoji.replace_emoji(str, replace='').\n",
      "To hide this warning, pin/downgrade the package to 'emoji~=1.6.3'\n",
      "  after removing the cwd from sys.path.\n"
     ]
    },
    {
     "data": {
      "text/plain": [
       "': #عاجل ️ #الملك_سلمان يصدر قرارات ملكية يتم الان اعلانها على القناة #السعودية\"'"
      ]
     },
     "execution_count": 19,
     "metadata": {},
     "output_type": "execute_result"
    }
   ],
   "source": [
    "test_sent = remove_emojis(full_df.iloc[49974][0])\n",
    "test_sent"
   ]
  },
  {
   "cell_type": "code",
   "execution_count": 20,
   "id": "0c50a8bb",
   "metadata": {},
   "outputs": [
    {
     "data": {
      "text/plain": [
       "':  ️  يصدر قرارات ملكية يتم الان اعلانها على القناة \"'"
      ]
     },
     "execution_count": 20,
     "metadata": {},
     "output_type": "execute_result"
    }
   ],
   "source": [
    "test_sent = re.sub(re_general_pattern, \"\", test_sent)\n",
    "test_sent = re.sub(re_repeating_character_pattern, r\"\\1\", test_sent)\n",
    "test_sent"
   ]
  },
  {
   "cell_type": "markdown",
   "id": "ea357eb1",
   "metadata": {},
   "source": [
    "###### 1.3.1.3 Testing removing Mentions"
   ]
  },
  {
   "cell_type": "code",
   "execution_count": 21,
   "id": "1f03f10d",
   "metadata": {},
   "outputs": [
    {
     "data": {
      "text/plain": [
       "'“@AlArabiya_Brk: السعودية: الملك سلمان يصدر قرارات ملكية تعلن بعد قليل”'"
      ]
     },
     "execution_count": 21,
     "metadata": {},
     "output_type": "execute_result"
    }
   ],
   "source": [
    "# Removing mentions from text\n",
    "full_df.iloc[49994][0]"
   ]
  },
  {
   "cell_type": "code",
   "execution_count": 22,
   "id": "fdcdf59c",
   "metadata": {},
   "outputs": [
    {
     "name": "stderr",
     "output_type": "stream",
     "text": [
      "/home/tamer/anaconda3/envs/psut-nlp-course/lib/python3.7/site-packages/ipykernel_launcher.py:4: DeprecationWarning: 'emoji.get_emoji_regexp()' is deprecated and will be removed in version 2.0.0. If you want to remove emoji from a string, consider the method emoji.replace_emoji(str, replace='').\n",
      "To hide this warning, pin/downgrade the package to 'emoji~=1.6.3'\n",
      "  after removing the cwd from sys.path.\n"
     ]
    }
   ],
   "source": [
    "test_sent2 = remove_emojis(full_df.iloc[49994][0])\n",
    "test_sent2 = re.sub(re_general_pattern, \"\", test_sent2)\n",
    "test_sent2 = re.sub(re_repeating_character_pattern, r\"\\1\", test_sent2)"
   ]
  },
  {
   "cell_type": "code",
   "execution_count": 23,
   "id": "b1b0970c",
   "metadata": {},
   "outputs": [
    {
     "data": {
      "text/plain": [
       "'“: السعودية: الملك سلمان يصدر قرارات ملكية تعلن بعد قليل”'"
      ]
     },
     "execution_count": 23,
     "metadata": {},
     "output_type": "execute_result"
    }
   ],
   "source": [
    "test_sent2"
   ]
  },
  {
   "cell_type": "markdown",
   "id": "c492a2e8",
   "metadata": {},
   "source": [
    "###### 1.3.1.4 Testing removing URLs"
   ]
  },
  {
   "cell_type": "code",
   "execution_count": 24,
   "id": "49392295",
   "metadata": {},
   "outputs": [
    {
     "data": {
      "text/plain": [
       "'حال استنفار قصوى في شمال فرنسا http://t.co/umTkhJyKkn'"
      ]
     },
     "execution_count": 24,
     "metadata": {},
     "output_type": "execute_result"
    }
   ],
   "source": [
    "full_df.iloc[0][0]"
   ]
  },
  {
   "cell_type": "code",
   "execution_count": 25,
   "id": "9e94f759",
   "metadata": {},
   "outputs": [
    {
     "name": "stderr",
     "output_type": "stream",
     "text": [
      "/home/tamer/anaconda3/envs/psut-nlp-course/lib/python3.7/site-packages/ipykernel_launcher.py:4: DeprecationWarning: 'emoji.get_emoji_regexp()' is deprecated and will be removed in version 2.0.0. If you want to remove emoji from a string, consider the method emoji.replace_emoji(str, replace='').\n",
      "To hide this warning, pin/downgrade the package to 'emoji~=1.6.3'\n",
      "  after removing the cwd from sys.path.\n"
     ]
    }
   ],
   "source": [
    "test_sent3 = remove_emojis(full_df.iloc[0][0])\n",
    "test_sent3 = re.sub(re_general_pattern, \"\", test_sent3)\n",
    "test_sent3 = re.sub(re_repeating_character_pattern, r\"\\1\", test_sent3)"
   ]
  },
  {
   "cell_type": "code",
   "execution_count": 26,
   "id": "5443d1ad",
   "metadata": {},
   "outputs": [
    {
     "data": {
      "text/plain": [
       "'حال استنفار قصوى في شمال فرنسا '"
      ]
     },
     "execution_count": 26,
     "metadata": {},
     "output_type": "execute_result"
    }
   ],
   "source": [
    "test_sent3"
   ]
  },
  {
   "cell_type": "markdown",
   "id": "9cbfe515",
   "metadata": {},
   "source": [
    "###### 1.3.1.5 Testing removing Hashtags"
   ]
  },
  {
   "cell_type": "code",
   "execution_count": 27,
   "id": "7fcae5d5",
   "metadata": {},
   "outputs": [
    {
     "data": {
      "text/plain": [
       "'#Qatar الميليشيات تبايع نوري المالكي!: الميليشيات تبايع نوري المالكي!التاريخ: 2015-01-29 في خط... http://t.co/5ibH7IezDp #Oman'"
      ]
     },
     "execution_count": 27,
     "metadata": {},
     "output_type": "execute_result"
    }
   ],
   "source": [
    "# Removing Hashtags from text\n",
    "full_df.iloc[49971][0]"
   ]
  },
  {
   "cell_type": "code",
   "execution_count": 28,
   "id": "9906bb47",
   "metadata": {},
   "outputs": [
    {
     "name": "stderr",
     "output_type": "stream",
     "text": [
      "/home/tamer/anaconda3/envs/psut-nlp-course/lib/python3.7/site-packages/ipykernel_launcher.py:4: DeprecationWarning: 'emoji.get_emoji_regexp()' is deprecated and will be removed in version 2.0.0. If you want to remove emoji from a string, consider the method emoji.replace_emoji(str, replace='').\n",
      "To hide this warning, pin/downgrade the package to 'emoji~=1.6.3'\n",
      "  after removing the cwd from sys.path.\n"
     ]
    },
    {
     "data": {
      "text/plain": [
       "' الميليشيات تبايع نوري المالكي!: الميليشيات تبايع نوري المالكي!التاريخ: 2015-01-29 في خط '"
      ]
     },
     "execution_count": 28,
     "metadata": {},
     "output_type": "execute_result"
    }
   ],
   "source": [
    "test_sent4 = remove_emojis(full_df.iloc[49971][0])\n",
    "test_sent4 = re.sub(re_general_pattern, \"\", test_sent4)\n",
    "test_sent4 = re.sub(re_repeating_character_pattern, r\"\\1\", test_sent4)\n",
    "test_sent4"
   ]
  },
  {
   "cell_type": "markdown",
   "id": "9848ed73",
   "metadata": {},
   "source": [
    "###### 1.3.1.6 Testing removing Diacritics"
   ]
  },
  {
   "cell_type": "code",
   "execution_count": 29,
   "id": "1023d32d",
   "metadata": {},
   "outputs": [
    {
     "data": {
      "text/plain": [
       "'اللهم اغفر لنا ولوالدينا'"
      ]
     },
     "execution_count": 29,
     "metadata": {},
     "output_type": "execute_result"
    }
   ],
   "source": [
    "remove_diacritics(\"اللَّهمَّ اغْفِرْ لنَا ولوالدِينَا\")"
   ]
  },
  {
   "cell_type": "markdown",
   "id": "8505fb3f",
   "metadata": {},
   "source": [
    "### 1.4 Testing Word Tokenization\n",
    "\n",
    "Assumptions:\n",
    "* __Punctuations__ would be removed\n",
    "    * Punctuation removal StackOverflow Reference: https://stackoverflow.com/a/41024113"
   ]
  },
  {
   "cell_type": "code",
   "execution_count": 30,
   "id": "5497296f",
   "metadata": {},
   "outputs": [
    {
     "data": {
      "text/plain": [
       "':  ️  يصدر قرارات ملكية يتم الان اعلانها على القناة \"'"
      ]
     },
     "execution_count": 30,
     "metadata": {},
     "output_type": "execute_result"
    }
   ],
   "source": [
    "test_sent"
   ]
  },
  {
   "cell_type": "code",
   "execution_count": 31,
   "id": "c5d91498",
   "metadata": {},
   "outputs": [
    {
     "data": {
      "text/plain": [
       "[':',\n",
       " '️',\n",
       " 'يصدر',\n",
       " 'قرارات',\n",
       " 'ملكية',\n",
       " 'يتم',\n",
       " 'الان',\n",
       " 'اعلانها',\n",
       " 'على',\n",
       " 'القناة',\n",
       " '``']"
      ]
     },
     "execution_count": 31,
     "metadata": {},
     "output_type": "execute_result"
    }
   ],
   "source": [
    "word_tokenize(test_sent)"
   ]
  },
  {
   "cell_type": "code",
   "execution_count": 32,
   "id": "b9acb3cc",
   "metadata": {},
   "outputs": [
    {
     "data": {
      "text/plain": [
       "['يصدر', 'قرارات', 'ملكية', 'يتم', 'الان', 'اعلانها', 'على', 'القناة']"
      ]
     },
     "execution_count": 32,
     "metadata": {},
     "output_type": "execute_result"
    }
   ],
   "source": [
    "# Punctuation removal\n",
    "[word.lower() for word in word_tokenize(test_sent) if word.isalpha()]"
   ]
  },
  {
   "cell_type": "markdown",
   "id": "07fec8c1",
   "metadata": {},
   "source": [
    "#### 1.4.1 Testing punctuation removal"
   ]
  },
  {
   "cell_type": "code",
   "execution_count": 33,
   "id": "e150ea2f",
   "metadata": {},
   "outputs": [
    {
     "data": {
      "text/plain": [
       "':  ️  يصدر قرارات ملكية يتم الان اعلانها على القناة \"'"
      ]
     },
     "execution_count": 33,
     "metadata": {},
     "output_type": "execute_result"
    }
   ],
   "source": [
    "test_sent"
   ]
  },
  {
   "cell_type": "code",
   "execution_count": 34,
   "id": "512cb701",
   "metadata": {},
   "outputs": [
    {
     "data": {
      "text/plain": [
       "'يصدر قرارات ملكية يتم الان اعلانها على القناة'"
      ]
     },
     "execution_count": 34,
     "metadata": {},
     "output_type": "execute_result"
    }
   ],
   "source": [
    "test_sent = [word.lower() for word in word_tokenize(test_sent) if word.isalpha()]\n",
    "test_sent = \" \".join(test_sent)\n",
    "test_sent"
   ]
  },
  {
   "cell_type": "code",
   "execution_count": 35,
   "id": "5438f167",
   "metadata": {},
   "outputs": [
    {
     "data": {
      "text/plain": [
       "'“: السعودية: الملك سلمان يصدر قرارات ملكية تعلن بعد قليل”'"
      ]
     },
     "execution_count": 35,
     "metadata": {},
     "output_type": "execute_result"
    }
   ],
   "source": [
    "test_sent2"
   ]
  },
  {
   "cell_type": "code",
   "execution_count": 36,
   "id": "561490c1",
   "metadata": {},
   "outputs": [
    {
     "data": {
      "text/plain": [
       "'السعودية الملك سلمان يصدر قرارات ملكية تعلن بعد قليل'"
      ]
     },
     "execution_count": 36,
     "metadata": {},
     "output_type": "execute_result"
    }
   ],
   "source": [
    "test_sent2 = [word.lower() for word in word_tokenize(test_sent2) if word.isalpha()]\n",
    "test_sent2 = \" \".join(test_sent2)\n",
    "test_sent2"
   ]
  },
  {
   "cell_type": "code",
   "execution_count": 37,
   "id": "443323ed",
   "metadata": {},
   "outputs": [
    {
     "data": {
      "text/plain": [
       "'حال استنفار قصوى في شمال فرنسا '"
      ]
     },
     "execution_count": 37,
     "metadata": {},
     "output_type": "execute_result"
    }
   ],
   "source": [
    "test_sent3"
   ]
  },
  {
   "cell_type": "code",
   "execution_count": 38,
   "id": "a071dc90",
   "metadata": {},
   "outputs": [
    {
     "data": {
      "text/plain": [
       "'حال استنفار قصوى في شمال فرنسا'"
      ]
     },
     "execution_count": 38,
     "metadata": {},
     "output_type": "execute_result"
    }
   ],
   "source": [
    "test_sent3 = [word.lower() for word in word_tokenize(test_sent3) if word.isalpha()]\n",
    "test_sent3 = \" \".join(test_sent3)\n",
    "test_sent3"
   ]
  },
  {
   "cell_type": "code",
   "execution_count": 39,
   "id": "cf54cd30",
   "metadata": {},
   "outputs": [
    {
     "data": {
      "text/plain": [
       "' الميليشيات تبايع نوري المالكي!: الميليشيات تبايع نوري المالكي!التاريخ: 2015-01-29 في خط '"
      ]
     },
     "execution_count": 39,
     "metadata": {},
     "output_type": "execute_result"
    }
   ],
   "source": [
    "test_sent4"
   ]
  },
  {
   "cell_type": "code",
   "execution_count": 40,
   "id": "d79cca66",
   "metadata": {},
   "outputs": [
    {
     "data": {
      "text/plain": [
       "'الميليشيات تبايع نوري المالكي الميليشيات تبايع نوري المالكي التاريخ في خط'"
      ]
     },
     "execution_count": 40,
     "metadata": {},
     "output_type": "execute_result"
    }
   ],
   "source": [
    "test_sent4 = [word.lower() for word in word_tokenize(test_sent4) if word.isalpha()]\n",
    "test_sent4 = \" \".join(test_sent4)\n",
    "test_sent4"
   ]
  },
  {
   "cell_type": "markdown",
   "id": "59bf48c3",
   "metadata": {},
   "source": [
    "### 1.5 Testing Stemming/Lemmatizing Arabic Language"
   ]
  },
  {
   "cell_type": "markdown",
   "id": "47e553f2",
   "metadata": {},
   "source": [
    "#### 1.5.1 Testing ARLSTem for stemming Arabic Language"
   ]
  },
  {
   "cell_type": "code",
   "execution_count": 41,
   "id": "55f6e8d2",
   "metadata": {},
   "outputs": [],
   "source": [
    "ARstemmer = ARLSTem()"
   ]
  },
  {
   "cell_type": "code",
   "execution_count": 42,
   "id": "d463fadd",
   "metadata": {},
   "outputs": [
    {
     "data": {
      "text/plain": [
       "'يصدر قرارات ملكية يتم الان اعلانها على القناة'"
      ]
     },
     "execution_count": 42,
     "metadata": {},
     "output_type": "execute_result"
    }
   ],
   "source": [
    "test_sent"
   ]
  },
  {
   "cell_type": "code",
   "execution_count": 43,
   "id": "3eac293b",
   "metadata": {},
   "outputs": [
    {
     "name": "stdout",
     "output_type": "stream",
     "text": [
      "صدر قرار ملكي يتم الن اعل علي قنا\n"
     ]
    }
   ],
   "source": [
    "singles = [ARstemmer.stem(token) for token in word_tokenize(test_sent)]\n",
    "print(\" \".join(singles))"
   ]
  },
  {
   "cell_type": "code",
   "execution_count": 44,
   "id": "e5b7ede0",
   "metadata": {},
   "outputs": [
    {
     "data": {
      "text/plain": [
       "'السعودية الملك سلمان يصدر قرارات ملكية تعلن بعد قليل'"
      ]
     },
     "execution_count": 44,
     "metadata": {},
     "output_type": "execute_result"
    }
   ],
   "source": [
    "test_sent2"
   ]
  },
  {
   "cell_type": "code",
   "execution_count": 45,
   "id": "a811133d",
   "metadata": {},
   "outputs": [
    {
     "name": "stdout",
     "output_type": "stream",
     "text": [
      "سعودي ملك سلم صدر قرار ملكي تعل بعد قليل\n"
     ]
    }
   ],
   "source": [
    "singles = [ARstemmer.stem(token) for token in word_tokenize(test_sent2)]\n",
    "print(\" \".join(singles))"
   ]
  },
  {
   "cell_type": "code",
   "execution_count": 46,
   "id": "12baefa4",
   "metadata": {},
   "outputs": [
    {
     "data": {
      "text/plain": [
       "'حال استنفار قصوى في شمال فرنسا'"
      ]
     },
     "execution_count": 46,
     "metadata": {},
     "output_type": "execute_result"
    }
   ],
   "source": [
    "test_sent3"
   ]
  },
  {
   "cell_type": "code",
   "execution_count": 47,
   "id": "3893f498",
   "metadata": {},
   "outputs": [
    {
     "name": "stdout",
     "output_type": "stream",
     "text": [
      "حال ستنفر قصوي في شمال فرنس\n"
     ]
    }
   ],
   "source": [
    "singles = [ARstemmer.stem(token) for token in word_tokenize(test_sent3)]\n",
    "print(\" \".join(singles))"
   ]
  },
  {
   "cell_type": "code",
   "execution_count": 48,
   "id": "36cd644f",
   "metadata": {},
   "outputs": [
    {
     "data": {
      "text/plain": [
       "'الميليشيات تبايع نوري المالكي الميليشيات تبايع نوري المالكي التاريخ في خط'"
      ]
     },
     "execution_count": 48,
     "metadata": {},
     "output_type": "execute_result"
    }
   ],
   "source": [
    "test_sent4"
   ]
  },
  {
   "cell_type": "code",
   "execution_count": 49,
   "id": "9934d512",
   "metadata": {},
   "outputs": [
    {
     "name": "stdout",
     "output_type": "stream",
     "text": [
      "ميليشي بايع وري مال ميليشي بايع وري مال تاريخ في خط\n"
     ]
    }
   ],
   "source": [
    "singles = [ARstemmer.stem(token) for token in word_tokenize(test_sent4)]\n",
    "print(\" \".join(singles))"
   ]
  },
  {
   "cell_type": "markdown",
   "id": "42ce37ec",
   "metadata": {},
   "source": [
    "#### 1.5.2 Testing Qalsadi Lemmatizer for lemmatizing Arabic Language"
   ]
  },
  {
   "cell_type": "code",
   "execution_count": 50,
   "id": "7c020be6",
   "metadata": {},
   "outputs": [],
   "source": [
    "qalsadi_lemmatizer = qalsadi.lemmatizer.Lemmatizer()"
   ]
  },
  {
   "cell_type": "code",
   "execution_count": 51,
   "id": "7e8954c2",
   "metadata": {},
   "outputs": [
    {
     "data": {
      "text/plain": [
       "'يصدر قرارات ملكية يتم الان اعلانها على القناة'"
      ]
     },
     "execution_count": 51,
     "metadata": {},
     "output_type": "execute_result"
    }
   ],
   "source": [
    "test_sent"
   ]
  },
  {
   "cell_type": "code",
   "execution_count": 52,
   "id": "4e549fd7",
   "metadata": {},
   "outputs": [
    {
     "name": "stdout",
     "output_type": "stream",
     "text": [
      "صدر قرار ملك يتم ال اعلانها على قناة\n"
     ]
    }
   ],
   "source": [
    "singles = [qalsadi_lemmatizer.lemmatize(token) for token in word_tokenize(test_sent)]\n",
    "print(\" \".join(singles))"
   ]
  },
  {
   "cell_type": "code",
   "execution_count": 53,
   "id": "80a555cf",
   "metadata": {},
   "outputs": [
    {
     "data": {
      "text/plain": [
       "'السعودية الملك سلمان يصدر قرارات ملكية تعلن بعد قليل'"
      ]
     },
     "execution_count": 53,
     "metadata": {},
     "output_type": "execute_result"
    }
   ],
   "source": [
    "test_sent2"
   ]
  },
  {
   "cell_type": "code",
   "execution_count": 54,
   "id": "850eba05",
   "metadata": {},
   "outputs": [
    {
     "name": "stdout",
     "output_type": "stream",
     "text": [
      "سعودي ملك سلم صدر قرار ملك علن بعد قليل\n"
     ]
    }
   ],
   "source": [
    "singles = [qalsadi_lemmatizer.lemmatize(token) for token in word_tokenize(test_sent2)]\n",
    "print(\" \".join(singles))"
   ]
  },
  {
   "cell_type": "code",
   "execution_count": 55,
   "id": "4d515980",
   "metadata": {},
   "outputs": [
    {
     "data": {
      "text/plain": [
       "'حال استنفار قصوى في شمال فرنسا'"
      ]
     },
     "execution_count": 55,
     "metadata": {},
     "output_type": "execute_result"
    }
   ],
   "source": [
    "test_sent3"
   ]
  },
  {
   "cell_type": "code",
   "execution_count": 56,
   "id": "f499379d",
   "metadata": {},
   "outputs": [
    {
     "name": "stdout",
     "output_type": "stream",
     "text": [
      "حال استنفار قصوى في شمال فرنسا\n"
     ]
    }
   ],
   "source": [
    "singles = [qalsadi_lemmatizer.lemmatize(token) for token in word_tokenize(test_sent3)]\n",
    "print(\" \".join(singles))"
   ]
  },
  {
   "cell_type": "code",
   "execution_count": 57,
   "id": "8cbbd970",
   "metadata": {},
   "outputs": [
    {
     "data": {
      "text/plain": [
       "'الميليشيات تبايع نوري المالكي الميليشيات تبايع نوري المالكي التاريخ في خط'"
      ]
     },
     "execution_count": 57,
     "metadata": {},
     "output_type": "execute_result"
    }
   ],
   "source": [
    "test_sent4"
   ]
  },
  {
   "cell_type": "code",
   "execution_count": 58,
   "id": "54cb4d53",
   "metadata": {},
   "outputs": [
    {
     "name": "stdout",
     "output_type": "stream",
     "text": [
      "الميليشيات بايع نور مالك الميليشيات بايع نور مالك تاريخ في خط\n"
     ]
    }
   ],
   "source": [
    "singles = [qalsadi_lemmatizer.lemmatize(token) for token in word_tokenize(test_sent4)]\n",
    "print(\" \".join(singles))"
   ]
  },
  {
   "cell_type": "markdown",
   "id": "8bc8313c",
   "metadata": {},
   "source": [
    "__The Qalsadi Lemmatizer will be chosen for the Bigram Language Model__"
   ]
  },
  {
   "cell_type": "code",
   "execution_count": 59,
   "id": "4ec26c08",
   "metadata": {},
   "outputs": [
    {
     "name": "stdout",
     "output_type": "stream",
     "text": [
      "صدر قرار ملك يتم ال اعلانها على قناة\n"
     ]
    }
   ],
   "source": [
    "test_sent = [qalsadi_lemmatizer.lemmatize(token) for token in word_tokenize(test_sent)]\n",
    "print(\" \".join(test_sent))"
   ]
  },
  {
   "cell_type": "code",
   "execution_count": 60,
   "id": "b1363c72",
   "metadata": {},
   "outputs": [
    {
     "name": "stdout",
     "output_type": "stream",
     "text": [
      "سعودي ملك سلم صدر قرار ملك علن بعد قليل\n"
     ]
    }
   ],
   "source": [
    "test_sent2 = [qalsadi_lemmatizer.lemmatize(token) for token in word_tokenize(test_sent2)]\n",
    "print(\" \".join(test_sent2))"
   ]
  },
  {
   "cell_type": "code",
   "execution_count": 61,
   "id": "81a118cc",
   "metadata": {},
   "outputs": [
    {
     "name": "stdout",
     "output_type": "stream",
     "text": [
      "حال استنفار قصوى في شمال فرنسا\n"
     ]
    }
   ],
   "source": [
    "test_sent3 = [qalsadi_lemmatizer.lemmatize(token) for token in word_tokenize(test_sent3)]\n",
    "print(\" \".join(test_sent3))"
   ]
  },
  {
   "cell_type": "code",
   "execution_count": 62,
   "id": "f2744d5d",
   "metadata": {},
   "outputs": [
    {
     "name": "stdout",
     "output_type": "stream",
     "text": [
      "الميليشيات بايع نور مالك الميليشيات بايع نور مالك تاريخ في خط\n"
     ]
    }
   ],
   "source": [
    "test_sent4 = [qalsadi_lemmatizer.lemmatize(token) for token in word_tokenize(test_sent4)]\n",
    "print(\" \".join(test_sent4))"
   ]
  },
  {
   "cell_type": "markdown",
   "id": "98813c38",
   "metadata": {},
   "source": [
    "### 1.6 Testing bigram model creation"
   ]
  },
  {
   "cell_type": "markdown",
   "id": "d2e1fd64",
   "metadata": {},
   "source": [
    "#### 1.6.1 Testing nltk bigram function"
   ]
  },
  {
   "cell_type": "code",
   "execution_count": 63,
   "id": "7c384e5a",
   "metadata": {},
   "outputs": [
    {
     "data": {
      "text/plain": [
       "['صدر', 'قرار', 'ملك', 'يتم', 'ال', 'اعلانها', 'على', 'قناة']"
      ]
     },
     "execution_count": 63,
     "metadata": {},
     "output_type": "execute_result"
    }
   ],
   "source": [
    "test_sent"
   ]
  },
  {
   "cell_type": "code",
   "execution_count": 64,
   "id": "06b00ebb",
   "metadata": {},
   "outputs": [
    {
     "data": {
      "text/plain": [
       "[('صدر', 'قرار'),\n",
       " ('قرار', 'ملك'),\n",
       " ('ملك', 'يتم'),\n",
       " ('يتم', 'ال'),\n",
       " ('ال', 'اعلانها'),\n",
       " ('اعلانها', 'على'),\n",
       " ('على', 'قناة')]"
      ]
     },
     "execution_count": 64,
     "metadata": {},
     "output_type": "execute_result"
    }
   ],
   "source": [
    "list(ngrams(test_sent, 2))"
   ]
  },
  {
   "cell_type": "code",
   "execution_count": 65,
   "id": "bdf7b70d",
   "metadata": {},
   "outputs": [],
   "source": [
    "test_list = []"
   ]
  },
  {
   "cell_type": "code",
   "execution_count": 66,
   "id": "1d3e5263",
   "metadata": {},
   "outputs": [],
   "source": [
    "test_list.extend(list(ngrams(test_sent, 2)))"
   ]
  },
  {
   "cell_type": "code",
   "execution_count": 67,
   "id": "628ff404",
   "metadata": {},
   "outputs": [
    {
     "data": {
      "text/plain": [
       "[('صدر', 'قرار'),\n",
       " ('قرار', 'ملك'),\n",
       " ('ملك', 'يتم'),\n",
       " ('يتم', 'ال'),\n",
       " ('ال', 'اعلانها'),\n",
       " ('اعلانها', 'على'),\n",
       " ('على', 'قناة')]"
      ]
     },
     "execution_count": 67,
     "metadata": {},
     "output_type": "execute_result"
    }
   ],
   "source": [
    "test_list"
   ]
  },
  {
   "cell_type": "code",
   "execution_count": 68,
   "id": "0f0873a1",
   "metadata": {},
   "outputs": [],
   "source": [
    "test_list.extend(list(ngrams(test_sent2, 2)))"
   ]
  },
  {
   "cell_type": "code",
   "execution_count": 69,
   "id": "2ca3ca67",
   "metadata": {},
   "outputs": [
    {
     "data": {
      "text/plain": [
       "[('صدر', 'قرار'),\n",
       " ('قرار', 'ملك'),\n",
       " ('ملك', 'يتم'),\n",
       " ('يتم', 'ال'),\n",
       " ('ال', 'اعلانها'),\n",
       " ('اعلانها', 'على'),\n",
       " ('على', 'قناة'),\n",
       " ('سعودي', 'ملك'),\n",
       " ('ملك', 'سلم'),\n",
       " ('سلم', 'صدر'),\n",
       " ('صدر', 'قرار'),\n",
       " ('قرار', 'ملك'),\n",
       " ('ملك', 'علن'),\n",
       " ('علن', 'بعد'),\n",
       " ('بعد', 'قليل')]"
      ]
     },
     "execution_count": 69,
     "metadata": {},
     "output_type": "execute_result"
    }
   ],
   "source": [
    "test_list"
   ]
  },
  {
   "cell_type": "markdown",
   "id": "6b0d8357",
   "metadata": {},
   "source": [
    "#### 1.6.2 Testing the text processing function clean() - Steps 1.1 to 1.5"
   ]
  },
  {
   "cell_type": "code",
   "execution_count": 70,
   "id": "d9523a83",
   "metadata": {},
   "outputs": [],
   "source": [
    "# Creating text preprocessing function (clean()) from steps 1.1 to 1.5\n",
    "def clean(sentence):\n",
    "    def remove_emojis(string):\n",
    "        return emoji.get_emoji_regexp().sub(u\"\", string)\n",
    "    \n",
    "    def remove_diacritics(string):\n",
    "        return araby.strip_diacritics(string)\n",
    "\n",
    "    re_general_pattern = r\"https?:\\/\\/.*[\\r\\n]*|#\\w+|@\\w+|\\.{2,}\"\n",
    "    re_repeating_character_pattern = r\"(\\w)\\1{2,}\"\n",
    "    lemmatizer = qalsadi.lemmatizer.Lemmatizer()\n",
    "    \n",
    "    # 1- Removing URLs, Hashtags, Mentions, and repeating dots\n",
    "    sentence = re.sub(re_general_pattern, \"\", sentence)\n",
    "    # 2- Removing repeating characters that occur more than twice\n",
    "    sentence = re.sub(re_repeating_character_pattern, r\"\\1\", sentence)\n",
    "    # 3- Removing emojis\n",
    "    sentence = remove_emojis(sentence)\n",
    "    # 4- Removing arabic diacritics\n",
    "    sentence = remove_diacritics(sentence)\n",
    "    # 5- Tokenization and punctuation removal (only alphanumeric)\n",
    "    sequence = [token.lower() for token in word_tokenize(sentence) if token.isalpha()]\n",
    "    # 6- Lemmatization\n",
    "    sequence = [qalsadi_lemmatizer.lemmatize(token) for token in sequence]\n",
    "    \n",
    "    return sequence"
   ]
  },
  {
   "cell_type": "code",
   "execution_count": 71,
   "id": "d6305a9c",
   "metadata": {},
   "outputs": [
    {
     "data": {
      "text/plain": [
       "'حال استنفار قصوى في شمال فرنسا http://t.co/umTkhJyKkn'"
      ]
     },
     "execution_count": 71,
     "metadata": {},
     "output_type": "execute_result"
    }
   ],
   "source": [
    "full_df.iloc[0][0]"
   ]
  },
  {
   "cell_type": "code",
   "execution_count": 72,
   "id": "4bde2d08",
   "metadata": {},
   "outputs": [
    {
     "name": "stderr",
     "output_type": "stream",
     "text": [
      "/home/tamer/anaconda3/envs/psut-nlp-course/lib/python3.7/site-packages/ipykernel_launcher.py:4: DeprecationWarning: 'emoji.get_emoji_regexp()' is deprecated and will be removed in version 2.0.0. If you want to remove emoji from a string, consider the method emoji.replace_emoji(str, replace='').\n",
      "To hide this warning, pin/downgrade the package to 'emoji~=1.6.3'\n",
      "  after removing the cwd from sys.path.\n"
     ]
    },
    {
     "data": {
      "text/plain": [
       "['حال', 'استنفار', 'قصوى', 'في', 'شمال', 'فرنسا']"
      ]
     },
     "execution_count": 72,
     "metadata": {},
     "output_type": "execute_result"
    }
   ],
   "source": [
    "clean(full_df.iloc[0][0])"
   ]
  },
  {
   "cell_type": "markdown",
   "id": "2f2cbef2",
   "metadata": {},
   "source": [
    "#### 1.6.3 Testing bigram model creation from tweet data"
   ]
  },
  {
   "cell_type": "code",
   "execution_count": 73,
   "id": "a06acaf4",
   "metadata": {},
   "outputs": [],
   "source": [
    "test_df = pd.read_csv(\"data/file1.txt\", sep=\"\\t\").drop(\"tweetID\", axis=1)"
   ]
  },
  {
   "cell_type": "code",
   "execution_count": 74,
   "id": "ce5062b6",
   "metadata": {},
   "outputs": [
    {
     "data": {
      "text/html": [
       "<div>\n",
       "<style scoped>\n",
       "    .dataframe tbody tr th:only-of-type {\n",
       "        vertical-align: middle;\n",
       "    }\n",
       "\n",
       "    .dataframe tbody tr th {\n",
       "        vertical-align: top;\n",
       "    }\n",
       "\n",
       "    .dataframe thead th {\n",
       "        text-align: right;\n",
       "    }\n",
       "</style>\n",
       "<table border=\"1\" class=\"dataframe\">\n",
       "  <thead>\n",
       "    <tr style=\"text-align: right;\">\n",
       "      <th></th>\n",
       "      <th>tweetText</th>\n",
       "    </tr>\n",
       "  </thead>\n",
       "  <tbody>\n",
       "    <tr>\n",
       "      <th>0</th>\n",
       "      <td>الاعدام لعامل مطعم قتل زميله طعناً في \"البيادر...</td>\n",
       "    </tr>\n",
       "    <tr>\n",
       "      <th>1</th>\n",
       "      <td>#الأخبار ▪ تأجيل محاكمة 7 إرهابيين بسبب غياب ا...</td>\n",
       "    </tr>\n",
       "    <tr>\n",
       "      <th>2</th>\n",
       "      <td>@helale9999 عشآن أعطيتك وحده صميم صرت ترمي أعذ...</td>\n",
       "    </tr>\n",
       "    <tr>\n",
       "      <th>3</th>\n",
       "      <td>#النهدي ثمانية قتلى في تفجير انتحاري بسيارة مف...</td>\n",
       "    </tr>\n",
       "    <tr>\n",
       "      <th>4</th>\n",
       "      <td>البحرين: ضبط مطلوبين متورطين في التفجير بالعكر...</td>\n",
       "    </tr>\n",
       "    <tr>\n",
       "      <th>...</th>\n",
       "      <td>...</td>\n",
       "    </tr>\n",
       "    <tr>\n",
       "      <th>4995</th>\n",
       "      <td>«بوكو حرام »تخطف 40 شابا في شمال شرق نيجيريا -...</td>\n",
       "    </tr>\n",
       "    <tr>\n",
       "      <th>4996</th>\n",
       "      <td>قصيدة مهداة إلى الشيخ/ ضيف الله بن سمار كلمات/...</td>\n",
       "    </tr>\n",
       "    <tr>\n",
       "      <th>4997</th>\n",
       "      <td>العفو عند المقبرة!!</td>\n",
       "    </tr>\n",
       "    <tr>\n",
       "      <th>4998</th>\n",
       "      <td>#للمرة الأولى منذ 92 عاما.. تركيا تسمح ببناء ك...</td>\n",
       "    </tr>\n",
       "    <tr>\n",
       "      <th>4999</th>\n",
       "      <td>جماعة \"بوكو حرام\" الإرهابية تختطف الشباب في ول...</td>\n",
       "    </tr>\n",
       "  </tbody>\n",
       "</table>\n",
       "<p>5000 rows × 1 columns</p>\n",
       "</div>"
      ],
      "text/plain": [
       "                                              tweetText\n",
       "0     الاعدام لعامل مطعم قتل زميله طعناً في \"البيادر...\n",
       "1     #الأخبار ▪ تأجيل محاكمة 7 إرهابيين بسبب غياب ا...\n",
       "2     @helale9999 عشآن أعطيتك وحده صميم صرت ترمي أعذ...\n",
       "3     #النهدي ثمانية قتلى في تفجير انتحاري بسيارة مف...\n",
       "4     البحرين: ضبط مطلوبين متورطين في التفجير بالعكر...\n",
       "...                                                 ...\n",
       "4995  «بوكو حرام »تخطف 40 شابا في شمال شرق نيجيريا -...\n",
       "4996  قصيدة مهداة إلى الشيخ/ ضيف الله بن سمار كلمات/...\n",
       "4997                                العفو عند المقبرة!!\n",
       "4998  #للمرة الأولى منذ 92 عاما.. تركيا تسمح ببناء ك...\n",
       "4999  جماعة \"بوكو حرام\" الإرهابية تختطف الشباب في ول...\n",
       "\n",
       "[5000 rows x 1 columns]"
      ]
     },
     "execution_count": 74,
     "metadata": {},
     "output_type": "execute_result"
    }
   ],
   "source": [
    "test_df"
   ]
  },
  {
   "cell_type": "code",
   "execution_count": 75,
   "id": "a8ce5e5e",
   "metadata": {},
   "outputs": [
    {
     "name": "stdout",
     "output_type": "stream",
     "text": [
      "الاعدام لعامل مطعم قتل زميله طعناً في \"البيادر\" أيدت محكمة التمييز الحكم الصادر عن محكمة الجنايات الكبرى والقاضي... http://t.co/H0txdjv3Kn\n",
      "#الأخبار ▪ تأجيل محاكمة 7 إرهابيين بسبب غياب الدفاع: أجلت محكمة الجنايات بالعاصمة إلى تاريخ لاحق محاكمة سبعة إ... http://t.co/GM4jmpAWbR\n",
      "@helale9999 عشآن أعطيتك وحده صميم صرت ترمي أعذار ...حقق العالميةة و أرجع كلمني يَ الأياب الانتحاري\n",
      "#النهدي ثمانية قتلى في تفجير انتحاري بسيارة مفخخة أمام معملين للغاز في ريف حمص - شبكة الصين http://t.co/r5zFEuzAPu\n",
      "البحرين: ضبط مطلوبين متورطين في التفجير بالعكر الشرقي بقية الموضوع اضغط هنا http://t.co/t4A5bNrqyh\n",
      "@El__DoN__ABoOoD @soliman_sport توهير تفكيره يورو على يورو يطلع ٢ يورو وعلى كذا ثقافة آسيوية متأصلة وبصراحة أشوف إنها جيدة له لوحده فقط\n",
      "صحيفة \"نيويورك تايمز\" الطفل الانتحاري الذي سلم نفسه لحظات قبل التفجير قرب حسينيه في البياع هو سوري وليس عراقي... http://t.co/PH1a97rvtb\n",
      "ليتوانيا تستقبل عام 2015 باعتماد اليورو http://t.co/29IJLgr73b\n",
      "يحتاج الداعي أكثر من غيره إلى حسن الظاهر والوقار والهدوء ليتأسى به ، وخير الناس من إذا رؤوا ذكر الله. http://t.co/WD7txPscDp\n",
      "المؤبد بحق موظف قتل رب عمله نحراً - عاقبت الهيئة القضائية في محكمة الجنايات في دبي، أمس، موظفاً من جنسية دولة آسيو... http://t.co/p7e2Mx5eEO\n"
     ]
    }
   ],
   "source": [
    "for index, tweet in test_df.iterrows():\n",
    "    if index == 10:\n",
    "        break\n",
    "    print(tweet[0])"
   ]
  },
  {
   "cell_type": "code",
   "execution_count": 76,
   "id": "f85229ad",
   "metadata": {},
   "outputs": [
    {
     "name": "stderr",
     "output_type": "stream",
     "text": [
      "0it [00:00, ?it/s]/home/tamer/anaconda3/envs/psut-nlp-course/lib/python3.7/site-packages/ipykernel_launcher.py:4: DeprecationWarning: 'emoji.get_emoji_regexp()' is deprecated and will be removed in version 2.0.0. If you want to remove emoji from a string, consider the method emoji.replace_emoji(str, replace='').\n",
      "To hide this warning, pin/downgrade the package to 'emoji~=1.6.3'\n",
      "  after removing the cwd from sys.path.\n",
      "5000it [02:32, 32.87it/s]\n"
     ]
    }
   ],
   "source": [
    "bigrams = []\n",
    "unigrams = []  # for laplacian smoothing\n",
    "\n",
    "for index, tweet in tqdm(test_df.iterrows()):\n",
    "    sequence = clean(tweet[0]) \n",
    "    \n",
    "    # bigram model creation\n",
    "    bigrams.extend(list(ngrams(sequence, 2)))\n",
    "    \n",
    "    # unigram model creation for the purposes of laplacian smoothing\n",
    "    unigrams.extend(list(ngrams(sequence, 1)))"
   ]
  },
  {
   "cell_type": "code",
   "execution_count": 77,
   "id": "1c84428b",
   "metadata": {},
   "outputs": [
    {
     "name": "stdout",
     "output_type": "stream",
     "text": [
      "Most common bigrams without stopword removal and without add-1 smoothing:  [(('أنس', 'ليبي'), 420), (('تفجير', 'انتحار'), 418), (('أبو', 'أنس'), 398), (('في', 'تفجير'), 237), (('من', 'محاكم'), 236), (('كور', 'شمال'), 232), (('في', 'نيويورك'), 232), (('على', 'كور'), 225), (('قياد', 'في'), 209), (('جنائي', 'دولي'), 204)]\n",
      "Most common unigrams without stopword removal and without add-1 smoothing:  [(('في',), 2725), (('على',), 1345), (('من',), 1048), (('تفجير',), 886), (('سوى',), 684), (('ليبي',), 598), (('انتحار',), 580), (('أنس',), 536), (('أبو',), 501), (('كنيس',), 459)]\n"
     ]
    }
   ],
   "source": [
    "freq_bi = nltk.FreqDist(bigrams)\n",
    "freq_uni = nltk.FreqDist(unigrams)\n",
    "\n",
    "print (\"Most common bigrams without stopword removal and without add-1 smoothing: \", freq_bi.most_common(10))\n",
    "print (\"Most common unigrams without stopword removal and without add-1 smoothing: \", freq_uni.most_common(10))"
   ]
  },
  {
   "cell_type": "markdown",
   "id": "c0774ed0",
   "metadata": {},
   "source": [
    "#### 1.6.4 Testing bigram model with laplacian smoothing (add-1 smoothing)\n",
    "\n",
    "Note: I am assuming the vocabulary size would be the number of unique n-1 grams according to this quora thread [link](https://www.quora.com/What-is-the-meaning-of-Vocabulary-in-n-gram-Laplace-Smoothing)"
   ]
  },
  {
   "cell_type": "code",
   "execution_count": 78,
   "id": "2b002b5b",
   "metadata": {},
   "outputs": [],
   "source": [
    "# Creating unigram vocabulary set for laplacian smoothing\n",
    "unigrams_voc = set([])\n",
    "\n",
    "for unigram in unigrams:\n",
    "    if unigram not in unigrams_voc:\n",
    "        unigrams_voc.add(unigram)"
   ]
  },
  {
   "cell_type": "code",
   "execution_count": 79,
   "id": "98806275",
   "metadata": {},
   "outputs": [
    {
     "data": {
      "text/plain": [
       "5934"
      ]
     },
     "execution_count": 79,
     "metadata": {},
     "output_type": "execute_result"
    }
   ],
   "source": [
    "vocab_size = len(unigrams_voc)\n",
    "vocab_size"
   ]
  },
  {
   "cell_type": "code",
   "execution_count": 80,
   "id": "91ae8127",
   "metadata": {},
   "outputs": [
    {
     "data": {
      "text/plain": [
       "52826"
      ]
     },
     "execution_count": 80,
     "metadata": {},
     "output_type": "execute_result"
    }
   ],
   "source": [
    "len(bigrams)"
   ]
  },
  {
   "cell_type": "code",
   "execution_count": 81,
   "id": "1cd33e7a",
   "metadata": {},
   "outputs": [],
   "source": [
    "test_bigram = ('أنس', 'ليبي')"
   ]
  },
  {
   "cell_type": "code",
   "execution_count": 82,
   "id": "8f696ed3",
   "metadata": {},
   "outputs": [
    {
     "data": {
      "text/plain": [
       "420"
      ]
     },
     "execution_count": 82,
     "metadata": {},
     "output_type": "execute_result"
    }
   ],
   "source": [
    "bigrams.count(test_bigram)"
   ]
  },
  {
   "cell_type": "code",
   "execution_count": 83,
   "id": "2fc298c5",
   "metadata": {},
   "outputs": [
    {
     "data": {
      "text/plain": [
       "'أنس'"
      ]
     },
     "execution_count": 83,
     "metadata": {},
     "output_type": "execute_result"
    }
   ],
   "source": [
    "test_bigram[0]"
   ]
  },
  {
   "cell_type": "code",
   "execution_count": 84,
   "id": "6c51a1a7",
   "metadata": {},
   "outputs": [
    {
     "data": {
      "text/plain": [
       "('أنس',)"
      ]
     },
     "execution_count": 84,
     "metadata": {},
     "output_type": "execute_result"
    }
   ],
   "source": [
    "# Needs to be as a tuple instead of a string\n",
    "(test_bigram[0],)"
   ]
  },
  {
   "cell_type": "code",
   "execution_count": 85,
   "id": "88be4840",
   "metadata": {},
   "outputs": [
    {
     "data": {
      "text/plain": [
       "536"
      ]
     },
     "execution_count": 85,
     "metadata": {},
     "output_type": "execute_result"
    }
   ],
   "source": [
    "unigrams.count((test_bigram[0],))"
   ]
  },
  {
   "cell_type": "code",
   "execution_count": 86,
   "id": "3e823edd",
   "metadata": {},
   "outputs": [
    {
     "name": "stderr",
     "output_type": "stream",
     "text": [
      "100%|██████████████████████████████████████████████████████████████████████████████████████████████████████████████████████████████████████████████████████████████████████████████████████████████████████████████████████████████████████████████| 52826/52826 [04:43<00:00, 186.12it/s]\n"
     ]
    }
   ],
   "source": [
    "bigrams_smoothed_prob_model = {}\n",
    "\n",
    "for bigram in tqdm(bigrams):\n",
    "    numerator = bigrams.count(bigram) + 1  # Count of (wi-1, wi)\n",
    "    denominator = unigrams.count((bigram[0],)) + vocab_size  # Count of wi - 1\n",
    "    smoothed_prob = numerator / denominator\n",
    "    \n",
    "    bigrams_smoothed_prob_model[bigram] = smoothed_prob"
   ]
  },
  {
   "cell_type": "code",
   "execution_count": 87,
   "id": "eae842c1",
   "metadata": {},
   "outputs": [],
   "source": [
    "bigrams_smoothed_prob_model = dict(sorted(bigrams_smoothed_prob_model.items(), key=lambda item: item[1], reverse=True))"
   ]
  },
  {
   "cell_type": "code",
   "execution_count": 88,
   "id": "a0abf5c6",
   "metadata": {},
   "outputs": [
    {
     "data": {
      "text/plain": [
       "[(('أنس', 'ليبي'), 0.06506955177743431),\n",
       " (('أبو', 'أنس'), 0.062004662004662),\n",
       " (('تفجير', 'انتحار'), 0.06143695014662757),\n",
       " (('كور', 'شمال'), 0.037562469772690635),\n",
       " (('من', 'محاكم'), 0.03394442853050702),\n",
       " (('قياد', 'في'), 0.0337783496863439),\n",
       " (('جنائي', 'دولي'), 0.033311667208319795),\n",
       " (('أيام', 'من'), 0.03220559531554977),\n",
       " (('على', 'كور'), 0.031048220909465588),\n",
       " (('قبل', 'أيام'), 0.03100409191060749)]"
      ]
     },
     "execution_count": 88,
     "metadata": {},
     "output_type": "execute_result"
    }
   ],
   "source": [
    "list(bigrams_smoothed_prob_model.items())[:10]"
   ]
  },
  {
   "cell_type": "code",
   "execution_count": 89,
   "id": "30f53724",
   "metadata": {},
   "outputs": [
    {
     "data": {
      "text/plain": [
       "0.06506955177743431"
      ]
     },
     "execution_count": 89,
     "metadata": {},
     "output_type": "execute_result"
    }
   ],
   "source": [
    "bigrams_smoothed_prob_model[('أنس', 'ليبي')]"
   ]
  },
  {
   "cell_type": "markdown",
   "id": "401c4c9b",
   "metadata": {},
   "source": [
    "#### 1.6.5 Testing next word prediction\n",
    "\n",
    "Assumption: According to my understanding of the implementation of the code, for bigram prediction for the next word; the sorted list of bigrams based on probability would be iterated through from highest to lowest:\n",
    "* The last bigram of the input sentence would be used for checking with the sorted list of bigrams, the second word of the last bigram would be checked if it was the first word occuring in the list of sorted bigrams to \"predict\" the most possible next word"
   ]
  },
  {
   "cell_type": "code",
   "execution_count": 90,
   "id": "e37911f6",
   "metadata": {},
   "outputs": [],
   "source": [
    "test_bigrams_model = list(bigrams_smoothed_prob_model.items())"
   ]
  },
  {
   "cell_type": "code",
   "execution_count": 91,
   "id": "306cc585",
   "metadata": {},
   "outputs": [
    {
     "data": {
      "text/plain": [
       "[(('أنس', 'ليبي'), 0.06506955177743431),\n",
       " (('أبو', 'أنس'), 0.062004662004662),\n",
       " (('تفجير', 'انتحار'), 0.06143695014662757),\n",
       " (('كور', 'شمال'), 0.037562469772690635),\n",
       " (('من', 'محاكم'), 0.03394442853050702),\n",
       " (('قياد', 'في'), 0.0337783496863439),\n",
       " (('جنائي', 'دولي'), 0.033311667208319795),\n",
       " (('أيام', 'من'), 0.03220559531554977),\n",
       " (('على', 'كور'), 0.031048220909465588),\n",
       " (('قبل', 'أيام'), 0.03100409191060749),\n",
       " (('ليبي', 'قبل'), 0.03046540110226577),\n",
       " (('محكم', 'جنائي'), 0.029695150845048177),\n",
       " (('محكم', 'جناية'), 0.027799715684725952),\n",
       " (('وفاة', 'أبو'), 0.02774729581439097),\n",
       " (('في', 'تفجير'), 0.0274858528698464),\n",
       " (('مر', 'أولى'), 0.027294882209585702),\n",
       " (('وفاة', 'قياد'), 0.027277002664994512),\n",
       " (('في', 'نيويورك'), 0.0269084189860261),\n",
       " (('لبن', 'فرض'), 0.026383943023632242),\n",
       " (('على', 'سوري'), 0.025965105096853965),\n",
       " (('مركز', 'ثقاف'), 0.024737876802096985),\n",
       " (('منطق', 'يورو'), 0.02430668841761827),\n",
       " (('بوكو', 'حرام'), 0.02401315789473684),\n",
       " (('دخول', 'على'), 0.022789720381444965),\n",
       " (('بناء', 'كنيس'), 0.021909744931327666),\n",
       " (('محاكم', 'في'), 0.021442185514612452),\n",
       " (('انتحار', 'في'), 0.020878108688977586),\n",
       " (('ليبي', 'في'), 0.020820575627679118),\n",
       " (('طلب', 'انضمام'), 0.020220286043070853),\n",
       " (('تأشيرة', 'دخول'), 0.01998689384010485),\n",
       " (('في', 'إب'), 0.019401778496362168),\n",
       " (('قاعد', 'أبو'), 0.0188953488372093),\n",
       " (('فرض', 'عقوبة'), 0.018841262364578427),\n",
       " (('مطار', 'وظبة'), 0.018775510204081632),\n",
       " (('عباس', 'وقع'), 0.01868857741259868),\n",
       " (('فرض', 'تأشيرة'), 0.018684251844873608),\n",
       " (('عقوبة', 'على'), 0.01864951768488746),\n",
       " (('إلى', 'محكم'), 0.017454776261504285),\n",
       " (('انضمام', 'إلى'), 0.017161186848436247),\n",
       " (('سمح', 'بناء'), 0.015417771883289124),\n",
       " (('وقع', 'على'), 0.01521099116781158),\n",
       " (('في', 'قاعد'), 0.014897794202563807),\n",
       " (('شمال', 'شرق'), 0.014326647564469915),\n",
       " (('جرحى', 'في'), 0.014040303931285102),\n",
       " (('شمال', 'بعد'), 0.014008277618592805),\n",
       " (('غار', 'جوي'), 0.013902681231380337),\n",
       " (('قرصنة', 'سوى'), 0.01383627079558557),\n",
       " (('الله', 'على'), 0.013787510137875101),\n",
       " (('الذي', 'استهدف'), 0.013716525146962769),\n",
       " (('عبوة', 'ناسف'), 0.01363031914893617),\n",
       " (('واشنطن', 'فرض'), 0.013526888815572418),\n",
       " (('توقيع', 'عباس'), 0.013495720868992759),\n",
       " (('عملة', 'قرصنة'), 0.013324559960519823),\n",
       " (('ولاية', 'متحد'), 0.013260401127134096),\n",
       " (('ترك', 'سمح'), 0.012822620417557126),\n",
       " (('انضمام', 'محكم'), 0.012510024057738572),\n",
       " (('نسا', 'ليبي'), 0.012472975220355896),\n",
       " (('شرق', 'نيجيري'), 0.012380323539121822),\n",
       " (('انتحار', 'الذي'), 0.012127724900214921),\n",
       " (('كنيس', 'جديد'), 0.011731581417175035),\n",
       " (('في', 'مطار'), 0.011664164453170112),\n",
       " (('اختراق', 'سوى'), 0.011641443538998836),\n",
       " (('ضحايا', 'تفجير'), 0.011477045908183632),\n",
       " (('عباس', 'طلب'), 0.011438698243918157),\n",
       " (('سبب', 'ضباب'), 0.011348684210526316),\n",
       " (('جناية', 'دولي'), 0.011291114383897889),\n",
       " (('بعد', 'عملة'), 0.011078998073217727),\n",
       " (('تنظيم', 'قاعد'), 0.011076210943957679),\n",
       " (('محافظ', 'إب'), 0.01085883514313919),\n",
       " (('محمود', 'عباس'), 0.010817107671825595),\n",
       " (('بوى', 'نسا'), 0.01076158940397351),\n",
       " (('في', 'منطق'), 0.010740270239057628),\n",
       " (('الى', 'محكم'), 0.01050730586110655),\n",
       " (('قاعد', 'بوى'), 0.010497416020671835),\n",
       " (('غضب', 'إسرائيلي'), 0.010340226817878585),\n",
       " (('إسرائيلي', 'أمريكي'), 0.010340226817878585),\n",
       " (('أولى', 'لبن'), 0.010263929618768328),\n",
       " (('توانى', 'تصبح'), 0.010255575451733681),\n",
       " (('على', 'انضمام'), 0.010166231625223244),\n",
       " (('ايام', 'من'), 0.01),\n",
       " (('انتحار', 'استهدف'), 0.009978507829290759),\n",
       " (('قتلى', 'جرحى'), 0.00995850622406639),\n",
       " (('دخول', 'سوري'), 0.009859382576369808),\n",
       " (('عبيد', 'بن'), 0.009838252459563115),\n",
       " (('نبي', 'صلى'), 0.009836612204068023),\n",
       " (('صلى', 'الله'), 0.009836612204068023),\n",
       " (('سلم', 'قال'), 0.009820239680426099),\n",
       " (('هذه', 'أمة'), 0.009810442301296974),\n",
       " (('بن', 'جراح'), 0.009790906073680716),\n",
       " (('قبل', 'ايام'), 0.009757632987094743),\n",
       " (('قال', 'كل'), 0.009739187850775833),\n",
       " (('أمة', 'أم'), 0.009734367266127702),\n",
       " (('أمة', 'أبو'), 0.009734367266127702),\n",
       " (('أم', 'أم'), 0.009732761464863082),\n",
       " (('أم', 'هذه'), 0.009732761464863082),\n",
       " (('منذ', 'عام'), 0.009631351710395218),\n",
       " (('توانى', 'انضم'), 0.009604427804004558),\n",
       " (('كل', 'أمة'), 0.00959349593495935),\n",
       " (('ملك', 'جمال'), 0.009546925566343041),\n",
       " (('أمريكي', 'على'), 0.00950352285761101),\n",
       " (('عن', 'أنس'), 0.00939191340337472),\n",
       " (('عن', 'نبي'), 0.00939191340337472),\n",
       " (('انضمام', 'الى'), 0.009302325581395349),\n",
       " (('رحلة', 'في'), 0.00918785890073831),\n",
       " (('ثقاف', 'في'), 0.009186351706036745),\n",
       " (('أبو', 'عبيد'), 0.00916860916860917),\n",
       " (('رئيس', 'فلسطيني'), 0.009042467301792347),\n",
       " (('في', 'نيجيري'), 0.00900796858759672),\n",
       " (('تفجير', 'إرهاب'), 0.008944281524926686),\n",
       " (('إلى', 'منطق'), 0.008886067914947636),\n",
       " (('تصبح', 'عضو'), 0.008823039786915265),\n",
       " (('على', 'توقيع'), 0.008792416540733617),\n",
       " (('وظبة', 'دولي'), 0.00873434410019776),\n",
       " (('عارم', 'على'), 0.008688387635756056),\n",
       " (('في', 'تنظيم'), 0.008546021480540478),\n",
       " (('أمريكي', 'عارم'), 0.008520399803375388),\n",
       " (('انضم', 'إلى'), 0.00829737802854298),\n",
       " (('كنيس', 'في'), 0.008290317534803691),\n",
       " (('شمال', 'سبب'), 0.008118433619866285),\n",
       " (('على', 'سلم'), 0.008105508998488803),\n",
       " (('فلسطيني', 'محمود'), 0.008064516129032258),\n",
       " (('في', 'مركز'), 0.007968587596720176),\n",
       " (('شاب', 'في'), 0.007957559681697613),\n",
       " (('سوري', 'مر'), 0.007850048061518743),\n",
       " (('مولد', 'نبوة'), 0.007838559039359573),\n",
       " (('على', 'سوى'), 0.007830745981590878),\n",
       " (('وسط', 'يمن'), 0.007813798836242726),\n",
       " (('أنس', 'عن'), 0.007573415765069552),\n",
       " (('تأشيرة', 'على'), 0.007536041939711665),\n",
       " (('أ', 'ف'), 0.007522567703109328),\n",
       " (('اتحاد', 'طير'), 0.007501250208368062),\n",
       " (('إرهاب', 'في'), 0.007492507492507493),\n",
       " (('رئيس', 'وزراء'), 0.007427740997900856),\n",
       " (('انفجار', 'عبوة'), 0.007345575959933222),\n",
       " (('إضافة', 'على'), 0.007185828877005348),\n",
       " (('تفجير', 'الذي'), 0.00718475073313783),\n",
       " (('في', 'مدين'), 0.007160180159371752),\n",
       " (('علن', 'محام'), 0.007088691064952192),\n",
       " (('قبل', 'محاكم'), 0.007082152974504249),\n",
       " (('نيويورك', 'قبل'), 0.007064868336544637),\n",
       " (('قبيل', 'محاكم'), 0.007028112449799197),\n",
       " (('محام', 'قياد'), 0.0070198896874477685),\n",
       " (('أبي', 'أنس'), 0.0068573340023415285),\n",
       " (('سلط', 'فلسطيني'), 0.006793703396851698),\n",
       " (('بعد', 'قرصنة'), 0.00674373795761079),\n",
       " (('مقتل', 'شخص'), 0.006742312119717151),\n",
       " (('تخطف', 'شاب'), 0.006696802276912774),\n",
       " (('عضو', 'في'), 0.006662225183211193),\n",
       " (('أمريكا', 'فرض'), 0.006630200563567048),\n",
       " (('جوي', 'على'), 0.0066181336863004635),\n",
       " (('عقوبة', 'أمريكي'), 0.006591639871382637),\n",
       " (('حرام', 'تخطف'), 0.006574621959237344),\n",
       " (('كسا', 'وكس'), 0.0065293822199899544),\n",
       " (('أولى', 'منذ'), 0.006516780710329097),\n",
       " (('هجوم', 'على'), 0.006444150693985459),\n",
       " (('سبب', 'اختراق'), 0.006414473684210526),\n",
       " (('تعطل', 'رحلة'), 0.006352390504847877),\n",
       " (('إلى', 'أراضي'), 0.006347191367819739),\n",
       " (('عقوبة', 'إضافة'), 0.006270096463022508),\n",
       " (('سم', 'دخول'), 0.006195579370395178),\n",
       " (('استهدف', 'احتفال'), 0.006185902653426664),\n",
       " (('ناسف', 'استهدف'), 0.006130903065451533),\n",
       " (('حرام', 'اختطف'), 0.0060815253122945435),\n",
       " (('مر', 'الاولى'), 0.005848903330625508),\n",
       " (('ف', 'ب'), 0.005828476269775187),\n",
       " (('أول', 'مرة'), 0.005777484318256851),\n",
       " (('توقيع', 'رئيس'), 0.00576036866359447),\n",
       " (('ثقاف', 'بإب'), 0.005741469816272966),\n",
       " (('جديد', 'مر'), 0.005733944954128441),\n",
       " (('الذي', 'جر'), 0.005715218811234487),\n",
       " (('فرض', 'على'), 0.005652378709373528),\n",
       " (('فرض', 'مر'), 0.005652378709373528),\n",
       " (('أول', 'كنيس'), 0.005612413337735226),\n",
       " (('محاكم', 'نيويورك'), 0.005559085133418043),\n",
       " (('استهدف', 'حفل'), 0.005534755005697542),\n",
       " (('تدين', 'تفجير'), 0.0055147058823529415),\n",
       " (('وظبة', 'سبب'), 0.0054383651944627555),\n",
       " (('كوينز', 'سوى'), 0.0053404539385847796),\n",
       " (('التي', 'طالت'), 0.00527965682230655),\n",
       " (('قرصنة', 'التي'), 0.005270960303080217),\n",
       " (('في', 'انفجار'), 0.0051969049543827235),\n",
       " (('مزيد', 'من'), 0.0051943699731903485),\n",
       " (('امام', 'كنيس'), 0.005189152996317376),\n",
       " (('عدد', 'من'), 0.005176156286525296),\n",
       " (('رئيس', 'سلط'), 0.0051671241724527694),\n",
       " (('احتفال', 'مولد'), 0.0051443743776966476),\n",
       " (('نيويورك', 'قبيل'), 0.005138086062941554),\n",
       " (('متحد', 'فرض'), 0.005137553861451773),\n",
       " (('سوري', 'إلى'), 0.00512656199935918),\n",
       " (('في', 'تاريخ'), 0.005081418177618663),\n",
       " (('جديد', 'في'), 0.005078636959370904),\n",
       " (('تخلى', 'عن'), 0.005031024652020795),\n",
       " (('رد', 'على'), 0.0050217609641781055),\n",
       " (('مصدر', 'أمن'), 0.005005840146837978),\n",
       " (('عشر', 'في'), 0.004985044865403789),\n",
       " (('سوري', 'تأشيرة'), 0.004966356936879205),\n",
       " (('في', 'شمال'), 0.004965931400854602),\n",
       " (('مدين', 'إب'), 0.0049521294156487285),\n",
       " (('بناء', 'أول'), 0.004905166775670372),\n",
       " (('قبل', 'انتخاب'), 0.004878816493547372),\n",
       " (('إجراء', 'دخول'), 0.004857621440536013),\n",
       " (('اقتصاد', 'على'), 0.0048470666889520305),\n",
       " (('حزب', 'كود'), 0.004834810636583401),\n",
       " (('ضباب', 'كثيف'), 0.004785478547854785),\n",
       " (('ال', 'في'), 0.004766600920447075),\n",
       " (('في', 'يمن'), 0.004734957847326481),\n",
       " (('ترشيح', 'حزب'), 0.004696410600469641),\n",
       " (('طالت', 'سوى'), 0.004692475280710575),\n",
       " (('تفجير', 'الإنتحاري'), 0.00469208211143695),\n",
       " (('فاز', 'ترشيح'), 0.004689331770222743),\n",
       " (('قرى', 'في'), 0.004685408299866131),\n",
       " (('نتنياهو', 'فاز'), 0.0046822742474916385),\n",
       " (('عباس', 'انضمام'), 0.00467214435314967),\n",
       " (('اتفاق', 'دولي'), 0.004665111629456847),\n",
       " (('عقوبة', 'اقتصاد'), 0.004662379421221865),\n",
       " (('شاب', 'من'), 0.004641909814323607),\n",
       " (('ثقاف', 'محافظ'), 0.004593175853018373),\n",
       " (('توانى', 'تخلى'), 0.004558033534103858),\n",
       " (('لاجئ', 'سوري'), 0.004524886877828055),\n",
       " (('سلط', 'لبناني'), 0.0044739022369511185),\n",
       " (('عام', 'في'), 0.004411764705882353),\n",
       " (('تفجير', 'سفار'), 0.004398826979472141),\n",
       " (('استهدف', 'مركز'), 0.0043952466221715775),\n",
       " (('قاعد', 'قبل'), 0.00436046511627907),\n",
       " (('جماع', 'بوكو'), 0.004327563249001331),\n",
       " (('بوى', 'أنس'), 0.004304635761589404),\n",
       " (('انتحار', 'امام'), 0.004298434141848327),\n",
       " (('انتخاب', 'عام'), 0.004250449566781102),\n",
       " (('وفاة', 'أبي'), 0.004232638344568114),\n",
       " (('كنيس', 'قديس'), 0.004223369310183012),\n",
       " (('كنيس', 'انجيلية'), 0.004223369310183012),\n",
       " (('رئيس', 'حزب'), 0.004198288390117875),\n",
       " (('عطل', 'رحلة'), 0.00419533478771606),\n",
       " (('مفتوح', 'جماهير'), 0.0041946308724832215),\n",
       " (('تأسيس', 'حزب'), 0.004192520543350662),\n",
       " (('كود', 'قبل'), 0.0041918175720992625),\n",
       " (('إب', 'وسط'), 0.004174024723069513),\n",
       " (('أمام', 'كنيس'), 0.00416875104218776),\n",
       " (('جماع', 'الحوثي'), 0.004161118508655127),\n",
       " (('في', 'كنيس'), 0.004157523963506178),\n",
       " (('عشر', 'قتلى'), 0.004154204054503157),\n",
       " (('من', 'قرى'), 0.004153537668289888),\n",
       " (('انضم', 'يورو'), 0.00414868901427149),\n",
       " (('انتحار', 'بإب'), 0.004144918636782315),\n",
       " (('مقتل', 'مسلح'), 0.0041111659266568),\n",
       " (('دولي', 'توقيع'), 0.004097714736012608),\n",
       " (('وقع', 'رئيس'), 0.004088976120379457),\n",
       " (('الليتاس', 'انضم'), 0.004028873594090985),\n",
       " (('تدريب', 'فريق'), 0.004028197381671702),\n",
       " (('انجيلية', 'شمال'), 0.004026845637583893),\n",
       " (('فريق', 'التي'), 0.004013377926421404),\n",
       " (('مؤتمر', 'صحف'), 0.004012706905199799),\n",
       " (('نفس', 'في'), 0.004011365535684439),\n",
       " (('برلمان', 'ليبي'), 0.00400600901352028),\n",
       " (('اتفاق', 'روم'), 0.003998667110963012),\n",
       " (('كون', 'ناقل'), 0.003996003996003996),\n",
       " (('كون', 'مفتوح'), 0.003996003996003996),\n",
       " (('ناقل', 'كل'), 0.0039906883937479215),\n",
       " (('التي', 'كون'), 0.003959742616729912),\n",
       " (('فلسطيني', 'م'), 0.003949967083607637),\n",
       " (('سوى', 'أمريكا'), 0.003928679359323058),\n",
       " (('لبن', 'أشد'), 0.0038847523470378763),\n",
       " (('يوم', 'طلب'), 0.0038678485092667205),\n",
       " (('حزب', 'ليكود'), 0.0038678485092667205),\n",
       " (('عباس', 'على'), 0.0038666022232962784),\n",
       " (('جماهير', 'أيضا'), 0.003859708004698775),\n",
       " (('أيضا', 'مؤتمر'), 0.003859708004698775),\n",
       " (('أميركية', 'على'), 0.0038584130179500084),\n",
       " (('صحف', 'مدرب'), 0.003851306095110516),\n",
       " (('حفل', 'جماع'), 0.003845510784149808),\n",
       " (('صالح', 'سعيد'), 0.0038397328881469117),\n",
       " (('ضد', 'مسؤول'), 0.0038384512683578105),\n",
       " (('هذا', 'موسم'), 0.0038231382978723403),\n",
       " (('عن', 'الليتاس'), 0.0038204393505253103),\n",
       " (('شمال', 'من'), 0.0038204393505253103),\n",
       " (('في', 'انتخاب'), 0.003811063633213997),\n",
       " (('وقع', 'يوم'), 0.0037618580307491006),\n",
       " (('كل', 'تدريب'), 0.0037398373983739837),\n",
       " (('عقوبة', 'أميركية'), 0.003697749196141479),\n",
       " (('مباريات', 'هذا'), 0.0036943744752308983),\n",
       " (('جندي', 'في'), 0.0036937541974479517),\n",
       " (('حوثيين', 'في'), 0.0036925142665323934),\n",
       " (('مدرب', 'فريق'), 0.0036925142665323934),\n",
       " (('جراء', 'تفجير'), 0.0036900369003690036),\n",
       " (('سجن', 'صالح'), 0.0036869448634154517),\n",
       " (('سنوات', 'مع'), 0.0036869448634154517),\n",
       " (('حادث', 'تفجير'), 0.003686327077747989),\n",
       " (('تنقل', 'مباريات'), 0.0036850921273031824),\n",
       " (('لن', 'تنقل'), 0.003683241252302026),\n",
       " (('شرك', 'سوى'), 0.003676470588235294),\n",
       " (('إلى', 'قتيل'), 0.0036496350364963502),\n",
       " (('سوى', 'لا'), 0.003626473254759746),\n",
       " (('استهدف', 'ناقل'), 0.0035813120625101742),\n",
       " (('لا', 'مانع'), 0.0035569927243330637),\n",
       " (('حزب', 'جديد'), 0.0035455278001611606),\n",
       " (('مانع', 'خروج'), 0.003526448362720403),\n",
       " (('بدء', 'محاكم'), 0.0035217172564145564),\n",
       " (('سعيد', 'سنوات'), 0.0035175879396984926),\n",
       " (('اعتزم', 'تأسيس'), 0.0035175879396984926),\n",
       " (('الاولى', 'منذ'), 0.0035169988276670576),\n",
       " (('مرة', 'في'), 0.003513468295131337),\n",
       " (('فريق', 'لن'), 0.0035117056856187293),\n",
       " (('جر', 'نفس'), 0.0035087719298245615),\n",
       " (('مسؤول', 'حكومي'), 0.003502334889926618),\n",
       " (('إصابة', 'جندي'), 0.0034941763727121466),\n",
       " (('قرار', 'انضمام'), 0.0034924330616996507),\n",
       " (('صور', 'انتحار'), 0.0034750951514148603),\n",
       " (('ضباب', 'عطل'), 0.0034653465346534654),\n",
       " (('في', 'اب'), 0.0034646033029218154),\n",
       " (('من', 'ضد'), 0.0034374104841019765),\n",
       " (('لا', 'في'), 0.003395311236863379),\n",
       " (('حزب', 'الله'), 0.00338436744560838),\n",
       " (('عقوبة', 'مال'), 0.0033762057877813503),\n",
       " (('تفجير', 'الارهابي'), 0.003372434017595308),\n",
       " (('بحة', 'صوت'), 0.003359086328518643),\n",
       " (('ذي', 'ملامح'), 0.0033585222502099076),\n",
       " (('خروج', 'يونان'), 0.0033579583613163196),\n",
       " (('نز', 'رقيع'), 0.003355141754739138),\n",
       " (('سيار', 'مفخخ'), 0.0033545790003354577),\n",
       " (('صوت', 'لا'), 0.003351206434316354),\n",
       " (('أشد', 'إجراء'), 0.003351206434316354),\n",
       " (('في', 'هجوم'), 0.003349116526157755),\n",
       " (('لعب', 'سوى'), 0.003348961821835231),\n",
       " (('حصيل', 'تفجير'), 0.0033461602810774638),\n",
       " (('منظم', 'اتفاق'), 0.0033456005352960855),\n",
       " (('عند', 'سوى'), 0.0033305578684429643),\n",
       " (('يونان', 'من'), 0.003322811098189068),\n",
       " (('شخص', 'في'), 0.003321707357581797),\n",
       " (('يا', 'ملك'), 0.0033200531208499337),\n",
       " (('ناسف', 'في'), 0.0033140016570008283),\n",
       " (('هجوم', 'انتحار'), 0.003304692663582287),\n",
       " (('على', 'اتفاق'), 0.0032971562027751065),\n",
       " (('من', 'تفجير'), 0.003294185047264394),\n",
       " (('جناية', 'قضى'), 0.003272786777941417),\n",
       " (('أولى', 'عقوبة'), 0.0032583903551645487),\n",
       " (('استهدف', 'مقر'), 0.003255738238645613),\n",
       " (('في', 'محافظ'), 0.0032336297493936943),\n",
       " (('انتحار', 'أمام'), 0.003223825606386245),\n",
       " (('إقامة', 'دخول'), 0.0031911320120927107),\n",
       " (('اولى', 'عقوبة'), 0.0031900604432505038),\n",
       " (('قصر', 'دوبارة'), 0.0031889895938234307),\n",
       " (('عب', 'سوى'), 0.0031857813547954395),\n",
       " (('تحويل', 'مسار'), 0.003179916317991632),\n",
       " (('مقر', 'برلمان'), 0.003179384203480589),\n",
       " (('وفى', 'قياد'), 0.0031746031746031746),\n",
       " (('ارتفاع', 'ضحايا'), 0.0031735426757975613),\n",
       " (('فرض', 'أولى'), 0.0031402103940964044),\n",
       " (('مع', 'نفاذ'), 0.003115264797507788),\n",
       " (('تفجير', 'في'), 0.0030791788856304987),\n",
       " (('نيويورك', 'علن'), 0.0030507385998715477),\n",
       " (('انضمام', 'فلسطين'), 0.0030473135525260625),\n",
       " (('سوري', 'في'), 0.003043896187119513),\n",
       " (('حزام', 'ناسف'), 0.003024701730801546),\n",
       " (('يونغ', 'يانغ'), 0.003024701730801546),\n",
       " (('باباندريو', 'اعتزم'), 0.003022670025188917),\n",
       " (('لحظة', 'تفجير'), 0.003020641047155563),\n",
       " (('رأس', 'سنة'), 0.003020641047155563),\n",
       " (('محاكم', 'وفى'), 0.0030177890724269376),\n",
       " (('عبر', 'نبض'), 0.0030145704237146205),\n",
       " (('اشتباك', 'قرب'), 0.003014065639651708),\n",
       " (('بي', 'سي'), 0.0030135610246107484),\n",
       " (('من', 'سوى'), 0.0030077341735892296),\n",
       " (('ل', 'بوكو'), 0.003007016371533578),\n",
       " (('ارتفاع', 'حصيل'), 0.0030065141139134794),\n",
       " (('قناة', 'كون'), 0.003006012024048096),\n",
       " (('تاريخ', 'حديث'), 0.002996504078574996),\n",
       " (('دولي', 'والى'), 0.0029944838455476753),\n",
       " (('ناقل', 'مياه'), 0.0029930162953109413),\n",
       " (('قتيل', 'في'), 0.0029860650298606504),\n",
       " (('فرض', 'اولى'), 0.002983199874391584),\n",
       " (('فرض', 'إقامة'), 0.002983199874391584),\n",
       " (('هجوم', 'ل'), 0.002974223397224058),\n",
       " (('كنيس', 'قصر'), 0.0029720006256843423),\n",
       " (('محافظ', 'اب'), 0.0029615004935834156),\n",
       " (('تفجير', 'عبوة'), 0.002932551319648094),\n",
       " (('انتحار', 'قتل'), 0.0029167945962542217),\n",
       " (('يورو', 'مع'), 0.0029074462930059764),\n",
       " (('يوم', 'سابع'), 0.0029008863819500403),\n",
       " (('قياد', 'قاعد'), 0.002895287115972334),\n",
       " (('بعد', 'اختراق'), 0.002890173410404624),\n",
       " (('إب', 'يمن'), 0.0028897094236635095),\n",
       " (('انضمام', 'جنائي'), 0.0028869286287089013),\n",
       " (('على', 'قرار'), 0.002885011677428218),\n",
       " (('من', 'منطق'), 0.002864508736751647),\n",
       " (('بيونغيانغ', 'بعد'), 0.002857142857142857),\n",
       " (('محامو', 'أبو'), 0.002857142857142857),\n",
       " (('قياديي', 'قاعد'), 0.002857142857142857),\n",
       " (('صب', 'شاب'), 0.002857142857142857),\n",
       " (('ضلوع', 'في'), 0.0028566627457570154),\n",
       " (('ميركل', 'لا'), 0.002856182795698925),\n",
       " (('اتهم', 'واشنطن'), 0.0028557030068872835),\n",
       " (('الإنتحاري', 'الذي'), 0.002847571189279732),\n",
       " (('رفض', 'مشروع'), 0.0028470942890638086),\n",
       " (('مصاب', 'تفجير'), 0.002846140967687929),\n",
       " (('مشروع', 'قرار'), 0.002843760455001673),\n",
       " (('نبوة', 'في'), 0.002842809364548495),\n",
       " (('تصبح', 'دول'), 0.002830031629765274),\n",
       " (('شخص', 'هجوم'), 0.0028234512539445276),\n",
       " (('كنيس', 'مر'), 0.0028155795401220087),\n",
       " (('حرام', 'في'), 0.002794214332675871),\n",
       " (('نيجيري', 'يوم'), 0.0027827795056474054),\n",
       " (('انتخاب', 'برلمان'), 0.002779140101356874),\n",
       " (('على', 'ذي'), 0.0027476301689792555),\n",
       " (('نيويورك', 'محامو'), 0.0027296082209377005),\n",
       " (('من', 'بدء'), 0.0027212832999140646),\n",
       " (('اشخاص', 'في'), 0.002689075630252101),\n",
       " (('تقصد', 'مطار'), 0.002689075630252101),\n",
       " (('سماح', 'بناء'), 0.0026886237607124854),\n",
       " (('مياه', 'تابع'), 0.0026886237607124854),\n",
       " (('مفخخ', 'التي'), 0.0026872690628149142),\n",
       " (('تأخير', 'رحلة'), 0.0026872690628149142),\n",
       " (('اصابة', 'اشخاص'), 0.002686366689053056),\n",
       " (('فجر', 'سيار'), 0.00268591572939399),\n",
       " (('أقل', 'في'), 0.00268411340379131),\n",
       " (('مستشفى', 'في'), 0.002680067001675042),\n",
       " (('دولي', 'وقع'), 0.0026792750197005516),\n",
       " (('بي', 'بي'), 0.0026787209107651095),\n",
       " (('طبرق', 'انتحار'), 0.002677824267782427),\n",
       " (('منظم', 'دولي'), 0.0026764804282368685),\n",
       " (('جيش', 'في'), 0.002676032781401572),\n",
       " (('شرك', 'اتحاد'), 0.00267379679144385),\n",
       " (('اختطف', 'صب'), 0.0026715645349807983),\n",
       " (('جورج', 'لون'), 0.002670672675680187),\n",
       " (('إصابة', 'آخر'), 0.0026622296173044926),\n",
       " (('قرار', 'فلسطيني'), 0.002660901380342591),\n",
       " (('فيديو', 'لحظة'), 0.0026595744680851063),\n",
       " (('كنيس', 'مار'), 0.0026591584545596746),\n",
       " (('قتلى', 'تفجير'), 0.0026556016597510373),\n",
       " (('تنظيم', 'أبو'), 0.002645065300049595),\n",
       " (('جرحى', 'تفجير'), 0.002642880740006607),\n",
       " (('رحلة', 'تقصد'), 0.0026251025430680886),\n",
       " (('مطار', 'ابوظبي'), 0.0026122448979591837),\n",
       " (('على', 'أقل'), 0.0026102486605302927),\n",
       " (('على', 'لاجئ'), 0.0026102486605302927),\n",
       " (('أولى', 'في'), 0.002606712284131639),\n",
       " (('كور', 'شم'), 0.0025793970659358373),\n",
       " (('بعد', 'رفض'), 0.002569043031470777),\n",
       " (('سوى', 'و'), 0.0025687518887881535),\n",
       " (('الاياب', 'انتحار'), 0.0025218560860793544),\n",
       " (('مليوون', 'يورو'), 0.0025218560860793544),\n",
       " (('تصاعد', 'توتر'), 0.0025218560860793544),\n",
       " (('أجاز', 'عقوبة'), 0.0025218560860793544),\n",
       " (('توتر', 'مع'), 0.0025214321734745334),\n",
       " (('قاد', 'مقابل'), 0.0025210084033613447),\n",
       " (('أرض', 'بناء'), 0.0025197379472534855),\n",
       " (('رابط', 'التالى'), 0.0025184687709872396),\n",
       " (('أكثر', 'من'), 0.0025176233635448137),\n",
       " (('مليون', 'يورو'), 0.002514668901927913),\n",
       " (('روس', 'يوم'), 0.002512562814070352),\n",
       " (('وفاة', 'نز'), 0.002508230130114438),\n",
       " (('مسلح', 'حوثيين'), 0.0025054284282612325),\n",
       " (('عضو', 'ال'), 0.002498334443704197),\n",
       " (('دول', 'ال'), 0.0024975024975024975),\n",
       " (('تاريخ', 'جمهور'), 0.00249708673214583),\n",
       " (('كان', 'قاد'), 0.0024958402662229617),\n",
       " (('قرار', 'عباس'), 0.002494595044071179),\n",
       " (('التي', 'كان'), 0.0024748391354561953),\n",
       " (('التي', 'اتهم'), 0.0024748391354561953),\n",
       " (('علن', 'عن'), 0.002472799208704253),\n",
       " (('توقيع', 'على'), 0.002468729427254773),\n",
       " (('فلسطيني', 'انضمام'), 0.002468729427254773),\n",
       " (('انتحار', 'فجر'), 0.002456248081056187),\n",
       " (('انتحار', 'حزام'), 0.002456248081056187),\n",
       " (('ليبي', 'طبرق'), 0.002449479485609308),\n",
       " (('من', 'عقوبة'), 0.0024348324262389),\n",
       " (('دخول', 'إلى'), 0.002424438338451592),\n",
       " (('رئيس', 'عباس'), 0.0024220894558372357),\n",
       " (('رئيس', 'محمود'), 0.0024220894558372357),\n",
       " (('يوم', 'سبت'), 0.0024174053182917004),\n",
       " (('دولي', 'عدد'), 0.002364066193853428),\n",
       " (('فرض', 'مزيد'), 0.0023551577955723034),\n",
       " (('فرض', 'سلط'), 0.0023551577955723034),\n",
       " (('سيئ', 'جنوب'), 0.002353336695242898),\n",
       " (('آل', 'نازح'), 0.0023521505376344087),\n",
       " (('وفاة', 'بوى'), 0.0023514657469822856),\n",
       " (('والى', 'منظم'), 0.0023513604299630502),\n",
       " (('مسار', 'رحلة'), 0.0023509655751469353),\n",
       " (('مشارك', 'في'), 0.0023505708529214238),\n",
       " (('عثمان', 'آل'), 0.0023497818059751594),\n",
       " (('مواطن', 'سوري'), 0.0023485992283173965),\n",
       " (('شان', 'غار'), 0.002347417840375587),\n",
       " (('مقابل', 'مقر'), 0.0023462376403552876),\n",
       " (('تابع', 'جيش'), 0.0023462376403552876),\n",
       " (('سفار', 'أمريكي'), 0.0023458445040214475),\n",
       " (('تنقل', 'مصاب'), 0.0023450586264656616),\n",
       " (('الاولى', 'سم'), 0.0023446658851113715),\n",
       " (('مجلس', 'نواب'), 0.0023430962343096236),\n",
       " (('يد', 'تفجير'), 0.0023423121967542245),\n",
       " (('سعودي', 'عثمان'), 0.0023423121967542245),\n",
       " (('تفاصيل', 'علي'), 0.002340745694699883),\n",
       " (('على', 'بيونغيانغ'), 0.002335485643632367),\n",
       " (('على', 'يونغ'), 0.002335485643632367),\n",
       " (('علي', 'رابط'), 0.0023290633837963733),\n",
       " (('قرار', 'رئيس'), 0.002328288707799767),\n",
       " (('شخص', 'على'), 0.002325195150307258),\n",
       " (('قتيل', 'مصاب'), 0.00232249502322495),\n",
       " (('مدين', 'سيئ'), 0.00231099372730274),\n",
       " (('في', 'بحة'), 0.0023097355352812102),\n",
       " (('واشنطن', 'ضلوع'), 0.0023094688221709007),\n",
       " (('مقتل', 'مفتي'), 0.002302252918927808),\n",
       " (('ليبي', 'التي'), 0.0022963870177587263),\n",
       " (('مع', 'تصاعد'), 0.002295458271847844),\n",
       " (('أمريكي', 'قبل'), 0.002293953793216451),\n",
       " (('جديد', 'قبل'), 0.0022935779816513763),\n",
       " (('من', 'الحوثيين'), 0.0022916069894013177),\n",
       " (('من', 'محكم'), 0.0022916069894013177),\n",
       " (('الذي', 'وقع'), 0.0022860875244937948),\n",
       " (('استهدف', 'الحوثيين'), 0.002279016767051929),\n",
       " (('كل', 'عام'), 0.0022764227642276423),\n",
       " (('يورو', 'في'), 0.002261347116782426),\n",
       " (('بعد', 'هجوم'), 0.00224791265253693),\n",
       " (('إب', 'قبل'), 0.002247551773960507),\n",
       " (('شمال', 'ولاية'), 0.002228589621139764),\n",
       " (('إلى', 'وظبة'), 0.002221516978736909),\n",
       " (('دولي', 'بعد'), 0.002206461780929866),\n",
       " (('فرض', 'ولاية'), 0.002198147275867483),\n",
       " (('على', 'مواطن'), 0.002198104135183404),\n",
       " (('في', 'سمار'), 0.00219424875851715),\n",
       " (('وافق', 'على'), 0.002186343760511268),\n",
       " (('تصدير', 'نفط'), 0.002186343760511268),\n",
       " (('إلكترون', 'على'), 0.0021859761224146627),\n",
       " (('صلاح', 'دين'), 0.0021856086079354406),\n",
       " (('مروح', 'تنقل'), 0.002184873949579832),\n",
       " (('جن', 'الله'), 0.0021841397849462364),\n",
       " (('عدم', 'من'), 0.0021841397849462364),\n",
       " (('مصراتة', 'اشتباك'), 0.0021841397849462364),\n",
       " (('رداع', 'وسط'), 0.0021823065301326172),\n",
       " (('ميناء', 'تصدير'), 0.002181940248405505),\n",
       " (('دعم', 'قرار'), 0.002181208053691275),\n",
       " (('كبر', 'ميناء'), 0.0021801106825423446),\n",
       " (('نفط', 'شرق'), 0.0021775544388609714),\n",
       " (('صحف', 'عرب'), 0.0021768251841929004),\n",
       " (('متهم', 'مشارك'), 0.0021768251841929004),\n",
       " (('مقر', 'مؤق'), 0.002175368139223561),\n",
       " (('قرب', 'كبر'), 0.0021750041827003513),\n",
       " (('مشروع', 'فلسطيني'), 0.0021746403479424555),\n",
       " (('رسم', 'فرض'), 0.0021735495736498914),\n",
       " (('جر', 'مركز'), 0.002172096908939014),\n",
       " (('مسلح', 'في'), 0.0021713713044930684),\n",
       " (('عرب', 'دعم'), 0.002165944685104965),\n",
       " (('طير', 'تحالف'), 0.0021598272138228943),\n",
       " (('احتفال', 'للحوثيين'), 0.002157318287421175),\n",
       " (('قتيل', 'تفجير'), 0.0021566025215660253),\n",
       " (('ناسف', 'على'), 0.0021541010770505385),\n",
       " (('سلط', 'في'), 0.0021541010770505385),\n",
       " (('علن', 'سلط'), 0.0021430926475436863),\n",
       " (('علن', 'فرض'), 0.0021430926475436863),\n",
       " (('انتخاب', 'حزب'), 0.002125224783390551),\n",
       " (('سوى', 'كم'), 0.0021154427319431852),\n",
       " (('سوى', 'الى'), 0.0021154427319431852),\n",
       " (('لبن', 'علن'), 0.0021042408546455165),\n",
       " (('لا', 'سوى'), 0.0021018593371059015),\n",
       " (('يورو', 'توانى'), 0.0020998223227265385),\n",
       " (('إب', 'انتحار'), 0.0020870123615347566),\n",
       " (('سوري', 'الى'), 0.0020826658122396666),\n",
       " (('في', 'مقبر'), 0.002078761981753089),\n",
       " (('محاكم', 'علن'), 0.002064803049555273),\n",
       " (('على', 'بناء'), 0.0020607226267344413),\n",
       " (('على', 'مصراتة'), 0.0020607226267344413),\n",
       " (('دولي', 'قرار'), 0.002048857368006304),\n",
       " (('قبل', 'عملة'), 0.002045955303745672),\n",
       " (('فرض', 'سم'), 0.0020411367561626627),\n",
       " (('أعمال', 'عداء'), 0.002018502943650126),\n",
       " (('عداء', 'ضد'), 0.0020181634712411706),\n",
       " (('تاسع', 'عشر'), 0.0020181634712411706),\n",
       " (('جار', 'روس'), 0.0020181634712411706),\n",
       " (('مفتي', 'داعش'), 0.0020178241129981504),\n",
       " (('جل', 'ديب'), 0.0020178241129981504),\n",
       " (('منحت', 'حكومة'), 0.0020178241129981504),\n",
       " (('بادر', 'هي'), 0.0020174848688634837),\n",
       " (('اشتبه', 'في'), 0.0020168067226890756),\n",
       " (('دار', 'حياة'), 0.0020168067226890756),\n",
       " (('شروط', 'دخول'), 0.0020168067226890756),\n",
       " (('يانغ', 'رد'), 0.002016467820534364),\n",
       " (('قيام', 'أعمال'), 0.002015451797111186),\n",
       " (('فيفا', 'سوى'), 0.0020147750167897917),\n",
       " (('الحوثي', 'في'), 0.002012072434607646),\n",
       " (('شاهد', 'فيديو'), 0.002012072434607646),\n",
       " (('مال', 'أمريكي'), 0.00201173512154233),\n",
       " (('قضى', 'سجن'), 0.002011397921555481),\n",
       " (('روم', 'خطوة'), 0.002011060834590246),\n",
       " (('حصيل', 'ضحايا'), 0.002007696168646478),\n",
       " (('حكومة', 'ترك'), 0.0020073603211776514),\n",
       " (('غير', 'مسبوق'), 0.0020073603211776514),\n",
       " (('من', 'منظم'), 0.002005156115726153),\n",
       " (('من', 'انتخاب'), 0.002005156115726153),\n",
       " (('وفى', 'في'), 0.0020050125313283208),\n",
       " (('عمار', 'صالح'), 0.002004008016032064),\n",
       " (('عدد', 'ضحايا'), 0.0020036734012355987),\n",
       " (('هي', 'أولى'), 0.00200300450676014),\n",
       " (('مصدر', 'طب'), 0.002002336058735191),\n",
       " (('أمام', 'محكم'), 0.002001000500250125),\n",
       " (('داعش', 'سعودي'), 0.001999000499750125),\n",
       " (('بين', 'محكم'), 0.0019966722129783694),\n",
       " (('انتحار', 'مركز'), 0.0019957015658581515),\n",
       " (('طير', 'حرب'), 0.001993686658913441),\n",
       " (('طير', 'علن'), 0.001993686658913441),\n",
       " (('جوي', 'في'), 0.001985440105890139),\n",
       " (('شرق', 'ليبي'), 0.0019808517662594917),\n",
       " (('عملة', 'تفجير'), 0.001974008883039974),\n",
       " (('الى', 'لبن'), 0.0019701198489574783),\n",
       " (('في', 'غار'), 0.001963275204989029),\n",
       " (('وقع', 'في'), 0.001962708537782139),\n",
       " (('وقع', 'طلب'), 0.001962708537782139),\n",
       " (('انتخاب', 'يونان'), 0.00196174595389897),\n",
       " (('أولى', 'تأشيرة'), 0.0019550342130987292),\n",
       " (('لا', 'كسا'), 0.0019401778496362166),\n",
       " (('يورو', 'خميس'), 0.001938297528670651),\n",
       " (('بعد', 'تفجير'), 0.0019267822736030828),\n",
       " (('عن', 'عن'), 0.0019102196752626551),\n",
       " (('تفجير', 'ساف'), 0.001906158357771261),\n",
       " (('دولي', 'سبب'), 0.0018912529550827422),\n",
       " (('أبو', 'نسا'), 0.0018648018648018648),\n",
       " (('من', 'إلى'), 0.0018619306788885707),\n",
       " (('أنس', 'متهم'), 0.0018547140649149924),\n",
       " (('بجروج', 'جراء'), 0.0018506056527590848),\n",
       " (('اضافية', 'على'), 0.0018506056527590848),\n",
       " (('مرةلبنان', 'فرض'), 0.0018506056527590848),\n",
       " (('معاقب', 'كور'), 0.0018506056527590848),\n",
       " (('رض', 'الله'), 0.0018502943650126156),\n",
       " (('شال', 'كوة'), 0.0018502943650126156),\n",
       " (('تكدس', 'غير'), 0.0018502943650126156),\n",
       " (('إيران', 'تدين'), 0.001849983181971073),\n",
       " (('أبدأ', 'معاقب'), 0.001849983181971073),\n",
       " (('الحوثيون', 'اعتقل'), 0.0018493611297915266),\n",
       " (('مشتبه', 'تفجير'), 0.0018493611297915266),\n",
       " (('دفن', 'في'), 0.0018487394957983194),\n",
       " (('إثر', 'هجوم'), 0.0018487394957983194),\n",
       " (('في', 'إسطنبول'), 0.0018477884282249682),\n",
       " (('في', 'ترك'), 0.0018477884282249682),\n",
       " (('قائد', 'عملة'), 0.0018474974806852536),\n",
       " (('كثر', 'من'), 0.0018468770987239758),\n",
       " (('رقيع', 'معروف'), 0.0018465670639583682),\n",
       " (('عثمان', 'سعيد'), 0.0018462571332661967),\n",
       " (('بدل', 'كوينز'), 0.0018459473065950663),\n",
       " (('قضى', 'محكم'), 0.0018437814280925244),\n",
       " (('آخر', 'بجروج'), 0.001841929002009377),\n",
       " (('اشتباك', 'في'), 0.001841929002009377),\n",
       " (('صباح', 'يوم'), 0.001841620626151013),\n",
       " (('كم', 'أجاب'), 0.0018413123535319718),\n",
       " (('اخبار', 'عراق'), 0.0018413123535319718),\n",
       " (('تحويل', 'رحلة'), 0.0018410041841004183),\n",
       " (('قرب', 'من'), 0.001840388154592605),\n",
       " (('تحالف', 'دولي'), 0.001839157331549908),\n",
       " (('اختطف', 'شاب'), 0.0018367006177992986),\n",
       " (('صالح', 'عثمان'), 0.0018363939899833056),\n",
       " (('الحوثيين', 'في'), 0.0018333333333333333),\n",
       " (('قتل', 'عشر'), 0.001832417124770948),\n",
       " (('دول', 'تاسع'), 0.0018315018315018315),\n",
       " (('ناقل', 'غاز'), 0.0018290655138011307),\n",
       " (('شخص', 'إصابة'), 0.0018269390466699883),\n",
       " (('متحد', 'عقوبة'), 0.0018230029830957905),\n",
       " (('جوي', 'اشتباك'), 0.0018199867637326275),\n",
       " (('ب', 'أبو'), 0.0018187830687830687),\n",
       " (('أول', 'مرةلبنان'), 0.0018157807857378673),\n",
       " (('سوى', 'في'), 0.001813236627379873),\n",
       " (('سوى', 'فرض'), 0.001813236627379873),\n",
       " (('وظبة', 'بعد'), 0.0018127883981542518),\n",
       " (('قرصنة', 'على'), 0.0018118926041838248),\n",
       " (('محافظ', 'صلاح'), 0.0018098058571898651),\n",
       " (('عملة', 'محافظ'), 0.0018095081427866426),\n",
       " (('طلب', 'فلسطيني'), 0.0018083182640144665),\n",
       " (('ترك', 'ترخيص'), 0.0018083182640144665),\n",
       " (('مع', 'جار'), 0.0018035743564518774),\n",
       " (('عام', 'جديد'), 0.0017973856209150326),\n",
       " (('منطق', 'شال'), 0.0017944535073409463),\n",
       " (('أولى', 'من'), 0.0017921146953405018),\n",
       " (('على', 'يد'), 0.001785959609836516),\n",
       " (('الله', 'عن'), 0.0017842660178426601),\n",
       " (('قياد', 'تنظيم'), 0.0017693421264275374),\n",
       " (('عقوبة', 'اضافية'), 0.0017684887459807075),\n",
       " (('تفجير', 'إب'), 0.0017595307917888563),\n",
       " (('عن', 'تعطل'), 0.0017510347023241006),\n",
       " (('شمال', 'إثر'), 0.0017510347023241006),\n",
       " (('إلى', 'مطار'), 0.0017454776261504284),\n",
       " (('دولي', 'من'), 0.0017336485421591804),\n",
       " (('في', 'طبرق'), 0.0017323016514609077),\n",
       " (('في', 'رداع'), 0.0017323016514609077),\n",
       " (('في', 'أحد'), 0.0017323016514609077),\n",
       " (('كنيس', 'باسطنبول'), 0.0017206319411856717),\n",
       " (('من', 'بين'), 0.0017187052420509883),\n",
       " (('من', 'نوع'), 0.0017187052420509883),\n",
       " (('أنس', 'رض'), 0.0017001545595054096),\n",
       " (('ليبي', 'أحد'), 0.0016840171463563993),\n",
       " (('ليبي', 'متهم'), 0.0016840171463563993),\n",
       " (('ليبي', 'مشتبه'), 0.0016840171463563993),\n",
       " (('ليبي', 'بعد'), 0.0016840171463563993),\n",
       " (('إفشال', 'أمريكا'), 0.0016826518593303045),\n",
       " (('نجاة', 'محافظ'), 0.0016826518593303045),\n",
       " (('يوتيوب', 'نشر'), 0.0016826518593303045),\n",
       " (('متهور', 'سائق'), 0.0016826518593303045),\n",
       " (('تعطيل', 'رحلة'), 0.0016826518593303045),\n",
       " (('حصول', 'على'), 0.0016823687752355316),\n",
       " (('كاش', 'يو'), 0.0016823687752355316),\n",
       " (('سائق', 'ناقل'), 0.0016823687752355316),\n",
       " (('فتى', 'شاب'), 0.0016823687752355316),\n",
       " (('برغوث', 'حل'), 0.001682085786375105),\n",
       " (('حوثيا', 'في'), 0.001682085786375105),\n",
       " (('مقطع', 'على'), 0.001682085786375105),\n",
       " (('باسطنبول', 'مر'), 0.001682085786375105),\n",
       " (('ترخيص', 'بناء'), 0.001682085786375105),\n",
       " (('حل', 'محكم'), 0.0016818028927009755),\n",
       " (('إمارة', 'عرب'), 0.0016818028927009755),\n",
       " (('هدد', 'تفجير'), 0.0016818028927009755),\n",
       " (('غاز', 'تابع'), 0.0016818028927009755),\n",
       " (('مناسب', 'مولد'), 0.0016815200941651253),\n",
       " (('قائم', 'على'), 0.0016815200941651253),\n",
       " (('تمار', 'في'), 0.0016815200941651253),\n",
       " (('رز', 'قياديي'), 0.0016815200941651253),\n",
       " (('اتجاه', 'صحيح'), 0.0016809547823163557),\n",
       " (('فيزا', 'على'), 0.0016806722689075631),\n",
       " (('مستشف', 'نيويورك'), 0.0016806722689075631),\n",
       " (('كشف', 'قياد'), 0.0016803898504453034),\n",
       " (('مراسل', 'جزيرة'), 0.0016801075268817205),\n",
       " (('مار', 'وقل'), 0.0016798252981689904),\n",
       " (('عناصر', 'اشتبه'), 0.0016795431642593216),\n",
       " (('نشر', 'كشف'), 0.0016789791806581598),\n",
       " (('معاهد', 'دولي'), 0.0016786973308712439),\n",
       " (('خميس', 'آملة'), 0.0016786973308712439),\n",
       " (('شأن', 'تفجير'), 0.0016784155756965425),\n",
       " (('الارهابي', 'في'), 0.001677570877369569),\n",
       " (('جمهور', 'ترك'), 0.001677008217340265),\n",
       " (('كثيف', 'في'), 0.001677008217340265),\n",
       " (('قضى', 'حبس'), 0.0016761649346295675),\n",
       " (('تابع', 'لغازكو'), 0.0016758840288252053),\n",
       " (('حول', 'تعطل'), 0.0016753224995811693),\n",
       " (('أحد', 'مستشف'), 0.0016744809109176155),\n",
       " (('سعودي', 'رموز'), 0.0016730801405387319),\n",
       " (('يد', 'بوكو'), 0.0016730801405387319),\n",
       " (('جيش', 'صفو'), 0.0016725204883759827),\n",
       " (('جنوب', 'سود'), 0.0016725204883759827),\n",
       " (('وزراء', 'يونان'), 0.001670843776106934),\n",
       " (('ارتفاع', 'عدد'), 0.0016702856188408218),\n",
       " (('اختطف', 'فتى'), 0.0016697278343629988),\n",
       " (('ساعة', 'من'), 0.001669449081803005),\n",
       " (('صالح', 'في'), 0.001669449081803005),\n",
       " (('ضد', 'سعودي'), 0.0016688918558077437),\n",
       " (('مسؤول', 'أمن'), 0.001667778519012675),\n",
       " (('اب', 'علاج'), 0.0016675004168751042),\n",
       " (('تاريخ', 'ترك'), 0.00166472448809722),\n",
       " (('سوى', 'بييكتشرز'), 0.001662133575098217),\n",
       " (('قتيل', 'جريح'), 0.0016589250165892503),\n",
       " (('عاجل', 'صور'), 0.001657550140891762),\n",
       " (('أمريكا', 'مشروع'), 0.001657550140891762),\n",
       " (('مدين', 'رق'), 0.001650709805216243),\n",
       " (('مدين', 'مصر'), 0.001650709805216243),\n",
       " (('على', 'شرك'), 0.0016485781013875532),\n",
       " (('على', 'دخول'), 0.0016485781013875532),\n",
       " (('فلسطيني', 'برغوث'), 0.0016458196181698486),\n",
       " (('فلسطيني', 'وقع'), 0.0016458196181698486),\n",
       " (('محافظ', 'أب'), 0.0016452780519907865),\n",
       " (('مقتل', 'من'), 0.00164446637066272),\n",
       " (('جديد', 'على'), 0.00163826998689384),\n",
       " (('نيجيري', 'مقتل'), 0.001636929120969062),\n",
       " (('كل', 'من'), 0.0016260162601626016),\n",
       " (('قاعد', 'أبي'), 0.001614987080103359),\n",
       " (('تفجير', 'إجرام'), 0.0016129032258064516),\n",
       " (('حزب', 'نور'), 0.0016116035455278),\n",
       " (('يوم', 'جمع'), 0.0016116035455278),\n",
       " (('قياد', 'متهور'), 0.0016084928422068522),\n",
       " (('عقوبة', 'جديد'), 0.001607717041800643),\n",
       " (('بعد', 'إفشال'), 0.0016056518946692357),\n",
       " (('سوري', 'أول'), 0.0016020506247997437),\n",
       " (('عن', 'حزب'), 0.001591849729385546),\n",
       " (('إلى', 'جنائي'), 0.0015867978419549348),\n",
       " (('من', 'تحدى'), 0.001575479805213406),\n",
       " (('كنيس', 'إنجيل'), 0.001564210855623338),\n",
       " (('كنيس', 'أول'), 0.001564210855623338),\n",
       " (('ليبي', 'قبيل'), 0.0015309246785058174),\n",
       " (('ليبي', 'وفاة'), 0.0015309246785058174),\n",
       " (('وسائل', 'تفجير'), 0.0015146415348367553),\n",
       " (('تنصت', 'ألف'), 0.0015146415348367553),\n",
       " (('حاضر', 'في'), 0.0015146415348367553),\n",
       " (('kalima', 'online'), 0.0015146415348367553),\n",
       " (('جدال', 'لا'), 0.0015146415348367553),\n",
       " (('متمرد', 'في'), 0.0015146415348367553),\n",
       " (('تأمين', 'احتفال'), 0.0015146415348367553),\n",
       " (('اسابيع', 'من'), 0.0015146415348367553),\n",
       " (('مدرج', 'سبب'), 0.0015146415348367553),\n",
       " (('رواية', 'رسم'), 0.001514386673397274),\n",
       " (('ترسيخ', 'قدام'), 0.001514386673397274),\n",
       " (('al', 'kalima'), 0.001514386673397274),\n",
       " (('مدار', 'يوم'), 0.001514386673397274),\n",
       " (('آملة', 'في'), 0.0015141318977119785),\n",
       " (('قلق', 'غاي'), 0.0015141318977119785),\n",
       " (('حرم', 'منى'), 0.0015141318977119785),\n",
       " (('وقل', 'في'), 0.0015141318977119785),\n",
       " (('معامل', 'وسائل'), 0.0015138772077375945),\n",
       " (('مسبوق', 'في'), 0.0015138772077375945),\n",
       " (('تشديد', 'شروط'), 0.0015138772077375945),\n",
       " (('حبس', 'صالح'), 0.0015136226034308778),\n",
       " (('قادة', 'سوري'), 0.0015136226034308778),\n",
       " (('إلا', 'مراء'), 0.0015133680847486128),\n",
       " (('توافق', 'على'), 0.0015133680847486128),\n",
       " (('سرطان', 'كبد'), 0.0015133680847486128),\n",
       " (('منى', 'أمام'), 0.0015131136516476126),\n",
       " (('إغلاق', 'مدرج'), 0.0015131136516476126),\n",
       " (('تحدى', 'سوى'), 0.0015128593040847202),\n",
       " (('علاج', 'صنعاء'), 0.0015128593040847202),\n",
       " (('قدام', 'في'), 0.0015128593040847202),\n",
       " (('cnn', 'سلط'), 0.0015128593040847202),\n",
       " (('اختطاف', 'شخص'), 0.0015128593040847202),\n",
       " (('ضرب', 'جوي'), 0.0015128593040847202),\n",
       " (('ألف', 'ريال'), 0.0015126050420168067),\n",
       " (('ضبط', 'معامل'), 0.0015118427683520914),\n",
       " (('مان', 'لعب'), 0.0015118427683520914),\n",
       " (('سقط', 'في'), 0.0015115888478333893),\n",
       " (('نفاذ', 'تهم'), 0.0015113350125944584),\n",
       " (('نفاذ', 'في'), 0.0015113350125944584),\n",
       " (('شهداء', 'جرحى'), 0.0015113350125944584),\n",
       " (('اخر', 'اخبار'), 0.0015113350125944584),\n",
       " (('حماس', 'توقيع'), 0.0015113350125944584),\n",
       " (('على', 'بعد'), 0.0015111965929385904),\n",
       " (('تهم', 'قيام'), 0.0015110812625923438),\n",
       " (('قضة', 'إساءة'), 0.0015110812625923438),\n",
       " (('تهم', 'خيانة'), 0.0015110812625923438),\n",
       " (('سوى', 'بيكتشرز'), 0.0015110305228165609),\n",
       " (('داخل', 'مركز'), 0.0015100671140939597),\n",
       " (('خطوة', 'في'), 0.0015095605501509561),\n",
       " (('لبناني', 'على'), 0.0015095605501509561),\n",
       " (('للحوثيين', 'في'), 0.0015093073956062384),\n",
       " (('داخلي', 'ضبط'), 0.0015090543259557343),\n",
       " (('اعتزم', 'تشديد'), 0.001507537688442211),\n",
       " (('ي', 'ملك'), 0.0015072852118573103),\n",
       " (('بيان', 'حول'), 0.0015065282892534316),\n",
       " (('يد', 'شدة'), 0.0015057721264848587),\n",
       " (('تحالف', 'نفذ'), 0.0015047650894499248),\n",
       " (('تفاصيل', 'عذر'), 0.0015047650894499248),\n",
       " (('أراضي', 'علن'), 0.0015047650894499248),\n",
       " (('تدين', 'حادث'), 0.0015040106951871657),\n",
       " (('فلسطين', 'إلى'), 0.0015037593984962407),\n",
       " (('عراق', 'في'), 0.001503508185766789),\n",
       " (('عراق', 'تهم'), 0.001503508185766789),\n",
       " (('ساعة', 'قادم'), 0.0015025041736227045),\n",
       " (('مصر', 'ليبي'), 0.0015015015015015015),\n",
       " (('في', 'عراق'), 0.0015013280979327868),\n",
       " (('في', 'احتفال'), 0.0015013280979327868),\n",
       " (('في', 'اسرائيل'), 0.0015013280979327868),\n",
       " (('في', 'حزب'), 0.0015013280979327868),\n",
       " (('في', 'اسطنبول'), 0.0015013280979327868),\n",
       " (('في', 'بادر'), 0.0015013280979327868),\n",
       " (('نتا', 'ملك'), 0.0015010006671114075),\n",
       " (('أمام', 'كل'), 0.0015007503751875938),\n",
       " (('جمال', 'عالم'), 0.0015),\n",
       " (('عرب', 'متحد'), 0.0014995001666111296),\n",
       " (('جماع', 'أنصار'), 0.0014980026631158455),\n",
       " (('كان', 'ارتدى'), 0.001497504159733777),\n",
       " (('يونان', 'سابق'), 0.0014952649941850807),\n",
       " (('منذ', 'قرن'), 0.0014945200929923613),\n",
       " (('انضم', 'الى'), 0.0014935280451377365),\n",
       " (('شاب', 'شمال'), 0.0014920424403183023),\n",
       " (('متحد', 'cnn'), 0.0014915478952601923),\n",
       " (('هجوم', 'إلكترون'), 0.001487111698612029),\n",
       " (('مدين', 'اب'), 0.0014856388246946186),\n",
       " (('ضباب', 'إمارة'), 0.0014851485148514852),\n",
       " (('واشنطن', 'أبدأ'), 0.0014846585285384361),\n",
       " (('توقيع', 'طلب'), 0.0014812376563528638),\n",
       " (('محافظ', 'في'), 0.0014807502467917078),\n",
       " (('مقتل', 'إصابة'), 0.0014800197335964479),\n",
       " (('ال', 'ساعة'), 0.0014792899408284023),\n",
       " (('الى', 'قتيل'), 0.0014775898867181087),\n",
       " (('الى', 'منطق'), 0.0014775898867181087),\n",
       " (('رحلة', 'من'), 0.0014766201804757998),\n",
       " (('نيجيري', 'الرياض'), 0.0014732362088721558),\n",
       " (('جناية', 'في'), 0.0014727540500736377),\n",
       " (('جناية', 'يوم'), 0.0014727540500736377),\n",
       " (('يمن', 'يوم'), 0.001468668407310705),\n",
       " (('أولى', 'سم'), 0.001466275659824047),\n",
       " (('توانى', 'دول'), 0.001465082207390526),\n",
       " (('كل', 'كنيس'), 0.0014634146341463415),\n",
       " (('مر', 'باع'), 0.001462225832656377),\n",
       " (('الله', 'نعم'), 0.00145985401459854),\n",
       " (('لبن', 'تفاصيل'), 0.0014567821301392037),\n",
       " (('ملك', 'عبدالعزيز'), 0.0014563106796116505),\n",
       " (('حزب', 'سياسة'), 0.0014504431909750201),\n",
       " (('إب', 'إلى'), 0.0014448547118317548),\n",
       " (('إب', 'في'), 0.0014448547118317548),\n",
       " (('سوري', 'حصول'), 0.0014418455623197693),\n",
       " (('عن', 'تفجير'), 0.0014326647564469914),\n",
       " (('من', 'قبل'), 0.0014322543683758235),\n",
       " (('من', 'توقيع'), 0.0014322543683758235),\n",
       " (('قبل', 'تفجير'), 0.00141643059490085),\n",
       " (('قبل', 'ثلاثة'), 0.00141643059490085),\n",
       " (('فرض', 'فيزا'), 0.001413094677343382),\n",
       " (('كنيس', 'عذراء'), 0.0014077897700610043),\n",
       " (('كنيس', 'تأمين'), 0.0014077897700610043),\n",
       " (('في', 'قضة'), 0.0013858413211687262),\n",
       " (('في', 'إسرائيل'), 0.0013858413211687262),\n",
       " (('ليبي', 'قياد'), 0.0013778322106552357),\n",
       " (('على', 'معاهد'), 0.0013738150844896278),\n",
       " (('على', 'قرى'), 0.0013738150844896278),\n",
       " (('على', 'داعش'), 0.0013738150844896278),\n",
       " (('على', 'عملة'), 0.0013738150844896278),\n",
       " (('على', 'يوتيوب'), 0.0013738150844896278),\n",
       " (('على', 'مدار'), 0.0013738150844896278),\n",
       " (('سوى', 'فور'), 0.0013599274705349048),\n",
       " (('نأي', 'مؤسس'), 0.0013465746507322),\n",
       " (('إنما', 'هو'), 0.0013465746507322),\n",
       " (('بغضاء', 'تمار'), 0.0013465746507322),\n",
       " (('قبضة', 'الحوثيين'), 0.0013465746507322),\n",
       " (('الليبيأبرز', 'قياديي'), 0.0013465746507322),\n",
       " (('لنفجار', 'ناقل'), 0.0013465746507322),\n",
       " (('بنزين', 'تحت'), 0.0013465746507322),\n",
       " (('حرس', 'وطن'), 0.0013465746507322),\n",
       " (('برئاسة', 'مستشار'), 0.0013463480309660047),\n",
       " (('منتصف', 'ليل'), 0.0013463480309660047),\n",
       " (('زيادة', 'في'), 0.0013463480309660047),\n",
       " (('طوائف', 'مسيح'), 0.0013463480309660047),\n",
       " (('وبر', 'حرس'), 0.0013463480309660047),\n",
       " (('شرع', 'في'), 0.0013461214874642437),\n",
       " (('جوار', 'كنيس'), 0.0013461214874642437),\n",
       " (('فرق', 'بغضاء'), 0.0013458950201884253),\n",
       " (('منح', 'إحدى'), 0.0013458950201884253),\n",
       " (('تسبب', 'ضباب'), 0.0013458950201884253),\n",
       " (('استمرار', 'ضباب'), 0.0013458950201884253),\n",
       " (('نعم', 'وكيل'), 0.001345668629100084),\n",
       " (('وقوع', 'تفجير'), 0.001345668629100084),\n",
       " (('إحدى', 'طوائف'), 0.001345668629100084),\n",
       " (('قطع', 'أرض'), 0.001345668629100084),\n",
       " (('ديب', 'مطعم'), 0.001345668629100084),\n",
       " (('سرقة', 'ليل'), 0.001345668629100084),\n",
       " (('راد', 'به'), 0.0013454423141607804),\n",
       " (('به', 'حق'), 0.0013452160753321001),\n",
       " (('سبع', 'رحلة'), 0.0013452160753321001),\n",
       " (('خطف', 'عناصر'), 0.0013449899125756557),\n",
       " (('تأخر', 'إضافة'), 0.0013447638258530846),\n",
       " (('معروف', 'ب'), 0.0013445378151260505),\n",
       " (('أسماء', 'شهداء'), 0.0013443118803562427),\n",
       " (('تعليم', 'عن'), 0.0013443118803562427),\n",
       " (('أكد', 'مصادر'), 0.0013440860215053765),\n",
       " (('مسيح', 'قطع'), 0.0013438602385351924),\n",
       " (('تحقيق', 'في'), 0.0013436345314074571),\n",
       " (('مؤسس', 'تعليم'), 0.0013436345314074571),\n",
       " (('نفذ', 'غار'), 0.001343408900083963),\n",
       " (('تحت', 'وبر'), 0.001343183344526528),\n",
       " (('خميس', 'هجر'), 0.001342957864696995),\n",
       " (('كال', 'أنباء'), 0.001342732460557234),\n",
       " (('ميناء', 'سدر'), 0.001342732460557234),\n",
       " (('لفا', 'سوى'), 0.0013425071320691392),\n",
       " (('تعرض', 'كنيس'), 0.0013425071320691392),\n",
       " (('سلام', 'على'), 0.0013422818791946308),\n",
       " (('داخل', 'كنيس'), 0.0013422818791946308),\n",
       " (('قادم', 'إلى'), 0.0013422818791946308),\n",
       " (('ثاني', 'أبو'), 0.0013422818791946308),\n",
       " (('جزيرة', 'مقتل'), 0.001342056701895655),\n",
       " (('لبناني', 'أن'), 0.0013418316001341832),\n",
       " (('سمار', 'لون'), 0.001341606573872212),\n",
       " (('أمس', 'مستشفى'), 0.0013413816230717639),\n",
       " (('دين', 'عراق'), 0.0013409319477036541),\n",
       " (('قوة', 'خاصة'), 0.0013407072230601643),\n",
       " (('حق', 'إنما'), 0.0013407072230601643),\n",
       " (('أشد', 'على'), 0.0013404825737265416),\n",
       " (('سفار', 'ولاية'), 0.0013404825737265416),\n",
       " (('حول', 'تفجير'), 0.0013402579996649355),\n",
       " (('ي', 'جن'), 0.001339809077206498),\n",
       " (('أحد', 'مستش'), 0.0013395847287340924),\n",
       " (('حال', 'تأخر'), 0.0013395847287340924),\n",
       " (('وطن', 'خميس'), 0.0013395847287340924),\n",
       " (('صباح', 'خير'), 0.0013393604553825547),\n",
       " (('جمع', 'ثاني'), 0.0013386880856760374),\n",
       " (('مرة', 'لبن'), 0.0013384641124309855),\n",
       " (('جنوب', 'شرق'), 0.001338016390700786),\n",
       " (('تدين', 'هجوم'), 0.001336898395721925),\n",
       " (('إضافة', 'رحلة'), 0.001336898395721925),\n",
       " (('وزراء', 'ترك'), 0.0013366750208855473),\n",
       " (('مسلح', 'بوكو'), 0.0013362284950726574),\n",
       " (('عمار', 'يا'), 0.0013360053440213762),\n",
       " (('كوينز', 'من'), 0.0013351134846461949),\n",
       " (('أمن', 'استشهاد'), 0.0013344453711426189),\n",
       " (('أمن', 'تفجير'), 0.0013344453711426189),\n",
       " (('هو', 'زيادة'), 0.0013333333333333333),\n",
       " (('قتل', 'على'), 0.0013326669998334167),\n",
       " (('داعش', 'عدم'), 0.0013326669998334167),\n",
       " (('فى', 'تاريخ'), 0.0013322231473771858),\n",
       " (('دول', 'فلسطين'), 0.001332001332001332),\n",
       " (('إصابة', 'محافظ'), 0.0013311148086522463),\n",
       " (('انا', 'سوى'), 0.0013306719893546241),\n",
       " (('بإب', 'الى'), 0.0013302294645826404),\n",
       " (('بإب', 'إلى'), 0.0013302294645826404),\n",
       " (('ناقل', 'بنزين'), 0.0013302294645826404),\n",
       " (('فيديو', 'تفجير'), 0.0013297872340425532),\n",
       " (('فيديو', 'لنفجار'), 0.0013297872340425532),\n",
       " (('عشر', 'جرحى'), 0.0013293452974410102),\n",
       " (('طير', 'من'), 0.0013291244392756273),\n",
       " (('طير', 'تكدس'), 0.0013291244392756273),\n",
       " (('بن', 'سلب'), 0.001327580484566877),\n",
       " (('عاجل', 'عشر'), 0.0013260401127134097),\n",
       " (('عاجل', 'مراسل'), 0.0013260401127134097),\n",
       " (('أمريكا', 'تدين'), 0.0013260401127134097),\n",
       " (('صور', 'أول'), 0.0013238457719675658),\n",
       " (('صور', 'فيديو'), 0.0013238457719675658),\n",
       " (('ب', 'إب'), 0.0013227513227513227),\n",
       " (('أول', 'قتيل'), 0.0013205678441729944),\n",
       " (('قال', 'مصادر'), 0.0013205678441729944),\n",
       " (('قال', 'رئيس'), 0.0013205678441729944),\n",
       " (('تفجير', 'تنصت'), 0.0013196480938416422),\n",
       " (('أن', 'كل'), 0.0013188262446422684),\n",
       " (('علن', 'وفاة'), 0.0013188262446422684),\n",
       " (('أن', 'اعتزم'), 0.0013188262446422684),\n",
       " (('مقتل', 'متمرد'), 0.001315573096530176),\n",
       " ...]"
      ]
     },
     "execution_count": 91,
     "metadata": {},
     "output_type": "execute_result"
    }
   ],
   "source": [
    "test_bigrams_model"
   ]
  },
  {
   "cell_type": "code",
   "execution_count": 92,
   "id": "873900e5",
   "metadata": {},
   "outputs": [
    {
     "name": "stderr",
     "output_type": "stream",
     "text": [
      "/home/tamer/anaconda3/envs/psut-nlp-course/lib/python3.7/site-packages/ipykernel_launcher.py:4: DeprecationWarning: 'emoji.get_emoji_regexp()' is deprecated and will be removed in version 2.0.0. If you want to remove emoji from a string, consider the method emoji.replace_emoji(str, replace='').\n",
      "To hide this warning, pin/downgrade the package to 'emoji~=1.6.3'\n",
      "  after removing the cwd from sys.path.\n"
     ]
    },
    {
     "data": {
      "text/plain": [
       "['الاعدام', 'عامل', 'مطعم', 'قتل']"
      ]
     },
     "execution_count": 92,
     "metadata": {},
     "output_type": "execute_result"
    }
   ],
   "source": [
    "test_string = \"الاعدام لعامل مطعم قتل\"\n",
    "clean(test_string)"
   ]
  },
  {
   "cell_type": "code",
   "execution_count": 93,
   "id": "46a6ca5e",
   "metadata": {},
   "outputs": [
    {
     "name": "stderr",
     "output_type": "stream",
     "text": [
      "/home/tamer/anaconda3/envs/psut-nlp-course/lib/python3.7/site-packages/ipykernel_launcher.py:4: DeprecationWarning: 'emoji.get_emoji_regexp()' is deprecated and will be removed in version 2.0.0. If you want to remove emoji from a string, consider the method emoji.replace_emoji(str, replace='').\n",
      "To hide this warning, pin/downgrade the package to 'emoji~=1.6.3'\n",
      "  after removing the cwd from sys.path.\n"
     ]
    },
    {
     "data": {
      "text/plain": [
       "[('الاعدام', 'عامل'), ('عامل', 'مطعم'), ('مطعم', 'قتل')]"
      ]
     },
     "execution_count": 93,
     "metadata": {},
     "output_type": "execute_result"
    }
   ],
   "source": [
    "test_string_bigrams = list(ngrams(clean(test_string), 2))\n",
    "test_string_bigrams"
   ]
  },
  {
   "cell_type": "code",
   "execution_count": 94,
   "id": "f83d0f84",
   "metadata": {},
   "outputs": [
    {
     "data": {
      "text/plain": [
       "('مطعم', 'قتل')"
      ]
     },
     "execution_count": 94,
     "metadata": {},
     "output_type": "execute_result"
    }
   ],
   "source": [
    "test_string_bigrams[-1]"
   ]
  },
  {
   "cell_type": "code",
   "execution_count": 95,
   "id": "28940414",
   "metadata": {},
   "outputs": [
    {
     "data": {
      "text/plain": [
       "'مطعم'"
      ]
     },
     "execution_count": 95,
     "metadata": {},
     "output_type": "execute_result"
    }
   ],
   "source": [
    "test_string_bigrams[-1][0]"
   ]
  },
  {
   "cell_type": "code",
   "execution_count": 96,
   "id": "b655b8ea",
   "metadata": {},
   "outputs": [
    {
     "data": {
      "text/plain": [
       "'قتل'"
      ]
     },
     "execution_count": 96,
     "metadata": {},
     "output_type": "execute_result"
    }
   ],
   "source": [
    "test_string_bigrams[-1][1]"
   ]
  },
  {
   "cell_type": "code",
   "execution_count": 97,
   "id": "f02058b9",
   "metadata": {},
   "outputs": [
    {
     "data": {
      "text/plain": [
       "('أنس', 'ليبي')"
      ]
     },
     "execution_count": 97,
     "metadata": {},
     "output_type": "execute_result"
    }
   ],
   "source": [
    "test_bigrams_model[0][0]"
   ]
  },
  {
   "cell_type": "code",
   "execution_count": 98,
   "id": "5bd7e2ff",
   "metadata": {},
   "outputs": [
    {
     "data": {
      "text/plain": [
       "'أنس'"
      ]
     },
     "execution_count": 98,
     "metadata": {},
     "output_type": "execute_result"
    }
   ],
   "source": [
    "test_bigrams_model[0][0][0]"
   ]
  },
  {
   "cell_type": "code",
   "execution_count": 99,
   "id": "bb43dd2f",
   "metadata": {},
   "outputs": [
    {
     "data": {
      "text/plain": [
       "'ليبي'"
      ]
     },
     "execution_count": 99,
     "metadata": {},
     "output_type": "execute_result"
    }
   ],
   "source": [
    "test_bigrams_model[0][0][1]"
   ]
  },
  {
   "cell_type": "code",
   "execution_count": 100,
   "id": "904944f3",
   "metadata": {},
   "outputs": [],
   "source": [
    "pred = []\n",
    "\n",
    "count = 0\n",
    "for bigram in test_bigrams_model:\n",
    "    if bigram[0][0] == test_string_bigrams[-1][1]:      \n",
    "        # to find predictions based on highest probability of n-grams     \n",
    "        count += 1\n",
    "        pred.append(bigram[0][1])  # Append second word in the bigram as the predicted word\n",
    "        if count == 5:\n",
    "            break\n",
    "            \n",
    "if count < 5:\n",
    "    while(count != 5):\n",
    "        pred.append(\"\\0\")           \n",
    "        # if no word prediction is found, replace with \"\\0\"\n",
    "        count += 1"
   ]
  },
  {
   "cell_type": "code",
   "execution_count": 101,
   "id": "6dea7dff",
   "metadata": {},
   "outputs": [
    {
     "data": {
      "text/plain": [
       "['عشر', 'على', 'شخص', 'ملك', 'رب']"
      ]
     },
     "execution_count": 101,
     "metadata": {},
     "output_type": "execute_result"
    }
   ],
   "source": [
    "pred"
   ]
  },
  {
   "cell_type": "code",
   "execution_count": 102,
   "id": "84103a16",
   "metadata": {},
   "outputs": [
    {
     "data": {
      "text/plain": [
       "'عشر'"
      ]
     },
     "execution_count": 102,
     "metadata": {},
     "output_type": "execute_result"
    }
   ],
   "source": [
    "pred[0]"
   ]
  },
  {
   "cell_type": "markdown",
   "id": "d9a5d734",
   "metadata": {},
   "source": [
    "## 2- Class code"
   ]
  },
  {
   "cell_type": "code",
   "execution_count": 103,
   "id": "30d24227",
   "metadata": {},
   "outputs": [],
   "source": [
    "class LanguageModel:\n",
    "    def __init__(self, textfile):\n",
    "        \"\"\"Creates a bigram model with Laplacian Smoothing based on input textfile containing Arabic tweet\n",
    "        dataset with two columns: \"tweetID\" and \"tweetText.\n",
    "        \n",
    "        Args:\n",
    "            textfile (string): relative or absolute path to input textfile.\n",
    "        \"\"\"\n",
    "        self.bigrams = []\n",
    "        self.unigrams = []  # For Laplacian Smoothing\n",
    "        self.unigrams_voc = set([])  # For calculating unigram vocab size for Laplacian Smoothing\n",
    "        self.lemmatizer = qalsadi.lemmatizer.Lemmatizer()\n",
    "        \n",
    "        # Creating Laplacian Smoothed bigrams probability model\n",
    "        df = pd.read_csv(textfile, sep=\"\\t\").drop(\"tweetID\", axis=1)\n",
    "        self.bigrams_prob_model = self.lm_bigram(df)\n",
    "        \n",
    "    \n",
    "    def clean(self, sentence):\n",
    "        \"\"\"Pre-processes an Arabic sentence for bigram modelling.\n",
    "        \n",
    "        1- Removes URLs, Hashtags, Mentions, and repeating dots.\n",
    "        2- Removes repeating characters than occur more than twice.\n",
    "        3- Removes emojis.\n",
    "        4- Removes Arabic Diacritics.\n",
    "        5- Removes punctuations and only keeps alphanumeric characters.\n",
    "        6- Converts sentence to Word Tokens.\n",
    "        7- Lemmatizes each Token using the Qalsadi Lemmatizer.\n",
    "        \n",
    "        Args:\n",
    "            sentence (string): Arabic sentence to preprocess.\n",
    "            \n",
    "        Returns:\n",
    "            sequence (list): processed list of tokens. \n",
    "        \"\"\"\n",
    "        def _remove_emojis(string):\n",
    "            return emoji.get_emoji_regexp().sub(u\"\", string)\n",
    "        \n",
    "        def _remove_diacritics(string):\n",
    "            return araby.strip_diacritics(string)\n",
    "\n",
    "        re_general_pattern = r\"https?:\\/\\/.*[\\r\\n]*|#\\w+|@\\w+|\\.{2,}\"\n",
    "        re_repeating_character_pattern = r\"(\\w)\\1{2,}\"\n",
    "\n",
    "        # 1- Removing URLs, Hashtags, Mentions, and repeating dots\n",
    "        sentence = re.sub(re_general_pattern, \"\", sentence)\n",
    "        # 2- Removing repeating characters that occur more than twice\n",
    "        sentence = re.sub(re_repeating_character_pattern, r\"\\1\", sentence)\n",
    "        # 3- Removing emojis\n",
    "        sentence = _remove_emojis(sentence)\n",
    "        # 4- Removing arabic diacritics\n",
    "        sentence = _remove_diacritics(sentence)\n",
    "        # 5- Tokenization and punctuation removal (only alphanumeric)\n",
    "        sequence = [token.lower() for token in word_tokenize(sentence) if token.isalpha()]\n",
    "        # 6- Lemmatization\n",
    "        sequence = [qalsadi_lemmatizer.lemmatize(token) for token in sequence]\n",
    "\n",
    "        return sequence\n",
    "    \n",
    "    def lm_bigram(self, df):\n",
    "        \"\"\"Creates Bigram model with Laplacian Smoothing.\n",
    "        \n",
    "        Args:\n",
    "            df (pandas.DataFrame): Dataframe containing Arabic tweet dataset with two columns\n",
    "            \"tweetID\" and \"tweetText\".\n",
    "        \n",
    "        Returns:\n",
    "            bigrams_prob_model (list): sorted list of laplacian smoothed probabilities of the bigrams\n",
    "                                       in the dataset.\n",
    "        \"\"\"\n",
    "        \n",
    "        print(\"Creating bigrams and unigrams list ...\")\n",
    "        for index, tweet in tqdm(df.iterrows()):\n",
    "            sequence = self.clean(tweet[0]) \n",
    "            \n",
    "            # bigram model creation\n",
    "            self.bigrams.extend(list(ngrams(sequence, 2)))\n",
    "\n",
    "            # unigram model creation for the purposes of laplacian smoothing\n",
    "            self.unigrams.extend(list(ngrams(sequence, 1)))\n",
    "        \n",
    "        # Laplacian Smoothing\n",
    "        print(\"Laplacian smoothing ...\")\n",
    "        # 1- Creating unigram vocabulary set for laplacian smoothing\n",
    "        for unigram in self.unigrams:\n",
    "            if unigram not in self.unigrams_voc:\n",
    "                self.unigrams_voc.add(unigram)\n",
    "        \n",
    "        # 2- Creating laplacian smoothed bigram probability model\n",
    "        bigrams_smoothed_prob_model = {}\n",
    "\n",
    "        for bigram in tqdm(self.bigrams):\n",
    "            numerator = self.bigrams.count(bigram) + 1  # Count of (wi-1, wi)\n",
    "            denominator = self.unigrams.count((bigram[0],)) + vocab_size  # Count of wi - 1\n",
    "            smoothed_prob = numerator / denominator\n",
    "\n",
    "            bigrams_smoothed_prob_model[bigram] = smoothed_prob\n",
    "        \n",
    "        # 3- Sorting the smoothed prob model by highest probability\n",
    "        bigrams_smoothed_prob_model = dict(sorted(bigrams_smoothed_prob_model.items(), key=lambda item: item[1], reverse=True))\n",
    "        bigrams_prob_model = list(bigrams_smoothed_prob_model.items())\n",
    "        \n",
    "        return bigrams_prob_model\n",
    "        \n",
    "    \n",
    "    def run(self, input_sentence, n_words=5):\n",
    "        \"\"\"Predicts the most likely next n words in an Arabic input sentence based on the\n",
    "        created bigram model. Appends \"\\0\" if no word prediction is found.\n",
    "        \n",
    "        Args:\n",
    "            input_sentence (string): input Arabic sentence to predict the next most likely\n",
    "                                      word for.\n",
    "            n_words (int): number of top next possible words to return.\n",
    "        \n",
    "        Returns:\n",
    "            pred (list): list of top n_words possible next words for the Arabic input sentence.\n",
    "        \"\"\"\n",
    "        pred = []\n",
    "        \n",
    "        input_string_bigrams = list(ngrams(clean(input_sentence), 2))\n",
    "\n",
    "        count = 0\n",
    "        for bigram in self.bigrams_prob_model:\n",
    "            # Checking second word in the input sentence last bigram with the first word in the list of bigrams\n",
    "            #  sorted on highest probability\n",
    "            if bigram[0][0] == input_string_bigrams[-1][1]:        \n",
    "                count += 1\n",
    "                pred.append(bigram[0][1])  # Append second word in the highest probability bigram as the predicted word\n",
    "                if count == n_words:\n",
    "                    break\n",
    "\n",
    "        if count < n_words:\n",
    "            while(count != n_words):\n",
    "                pred.append(\"\\0\")           \n",
    "                # if no word prediction is found, replace with \"\\0\"\n",
    "                count += 1\n",
    "        \n",
    "        return pred"
   ]
  },
  {
   "cell_type": "markdown",
   "id": "9c000bb6",
   "metadata": {},
   "source": [
    "## 3-Testing class code"
   ]
  },
  {
   "cell_type": "markdown",
   "id": "474fbe98",
   "metadata": {},
   "source": [
    "### 3.1 Testing on file1.txt"
   ]
  },
  {
   "cell_type": "code",
   "execution_count": 104,
   "id": "1e4fbbf2",
   "metadata": {},
   "outputs": [
    {
     "name": "stdout",
     "output_type": "stream",
     "text": [
      "Creating bigrams and unigrams list ...\n"
     ]
    },
    {
     "name": "stderr",
     "output_type": "stream",
     "text": [
      "0it [00:00, ?it/s]/home/tamer/anaconda3/envs/psut-nlp-course/lib/python3.7/site-packages/ipykernel_launcher.py:36: DeprecationWarning: 'emoji.get_emoji_regexp()' is deprecated and will be removed in version 2.0.0. If you want to remove emoji from a string, consider the method emoji.replace_emoji(str, replace='').\n",
      "To hide this warning, pin/downgrade the package to 'emoji~=1.6.3'\n",
      "5000it [01:36, 51.70it/s]\n"
     ]
    },
    {
     "name": "stdout",
     "output_type": "stream",
     "text": [
      "Laplacian smoothing ...\n"
     ]
    },
    {
     "name": "stderr",
     "output_type": "stream",
     "text": [
      "100%|██████████████████████████████████████████████████████████████████████████████████████████████████████████████████████████████████████████████████████████████████████████████████████████████████████████████████████████████████████████████| 52826/52826 [02:17<00:00, 383.43it/s]\n"
     ]
    }
   ],
   "source": [
    "bigram_lm = LanguageModel(textfile=\"data/file1.txt\")"
   ]
  },
  {
   "cell_type": "code",
   "execution_count": 105,
   "id": "8f28fb1a",
   "metadata": {},
   "outputs": [
    {
     "name": "stderr",
     "output_type": "stream",
     "text": [
      "/home/tamer/anaconda3/envs/psut-nlp-course/lib/python3.7/site-packages/ipykernel_launcher.py:4: DeprecationWarning: 'emoji.get_emoji_regexp()' is deprecated and will be removed in version 2.0.0. If you want to remove emoji from a string, consider the method emoji.replace_emoji(str, replace='').\n",
      "To hide this warning, pin/downgrade the package to 'emoji~=1.6.3'\n",
      "  after removing the cwd from sys.path.\n"
     ]
    },
    {
     "data": {
      "text/plain": [
       "['عشر', 'على', 'شخص', 'ملك', 'رب']"
      ]
     },
     "execution_count": 105,
     "metadata": {},
     "output_type": "execute_result"
    }
   ],
   "source": [
    "test_string = \"الاعدام لعامل مطعم قتل\"\n",
    "bigram_lm.run(test_string)"
   ]
  },
  {
   "cell_type": "code",
   "execution_count": 106,
   "id": "7fb45771",
   "metadata": {},
   "outputs": [
    {
     "name": "stderr",
     "output_type": "stream",
     "text": [
      "/home/tamer/anaconda3/envs/psut-nlp-course/lib/python3.7/site-packages/ipykernel_launcher.py:4: DeprecationWarning: 'emoji.get_emoji_regexp()' is deprecated and will be removed in version 2.0.0. If you want to remove emoji from a string, consider the method emoji.replace_emoji(str, replace='').\n",
      "To hide this warning, pin/downgrade the package to 'emoji~=1.6.3'\n",
      "  after removing the cwd from sys.path.\n"
     ]
    },
    {
     "data": {
      "text/plain": [
       "['يوم', 'صور', 'انضم', 'لصى', 'مصر']"
      ]
     },
     "execution_count": 106,
     "metadata": {},
     "output_type": "execute_result"
    }
   ],
   "source": [
    "test_string = \"عااااجل اعلنت روسيا\"\n",
    "bigram_lm.run(test_string)"
   ]
  },
  {
   "cell_type": "code",
   "execution_count": 107,
   "id": "905e061a",
   "metadata": {},
   "outputs": [
    {
     "name": "stderr",
     "output_type": "stream",
     "text": [
      "/home/tamer/anaconda3/envs/psut-nlp-course/lib/python3.7/site-packages/ipykernel_launcher.py:4: DeprecationWarning: 'emoji.get_emoji_regexp()' is deprecated and will be removed in version 2.0.0. If you want to remove emoji from a string, consider the method emoji.replace_emoji(str, replace='').\n",
      "To hide this warning, pin/downgrade the package to 'emoji~=1.6.3'\n",
      "  after removing the cwd from sys.path.\n"
     ]
    },
    {
     "data": {
      "text/plain": [
       "['محام', 'عن', 'سلط', 'فرض', 'وفاة']"
      ]
     },
     "execution_count": 107,
     "metadata": {},
     "output_type": "execute_result"
    }
   ],
   "source": [
    "test_string = \"الملك عبدالله يعلن\"\n",
    "bigram_lm.run(test_string)"
   ]
  },
  {
   "cell_type": "markdown",
   "id": "a5063ff7",
   "metadata": {},
   "source": [
    "### 3.2 Testing on the combined textfile containing all the tweets: full_data.txt\n",
    "\n",
    "Cancelled, since it was taking over 9 hours to complete creating the bigram model."
   ]
  },
  {
   "cell_type": "code",
   "execution_count": null,
   "id": "0e441654",
   "metadata": {},
   "outputs": [],
   "source": []
  }
 ],
 "metadata": {
  "kernelspec": {
   "display_name": "Python 3 (ipykernel)",
   "language": "python",
   "name": "python3"
  },
  "language_info": {
   "codemirror_mode": {
    "name": "ipython",
    "version": 3
   },
   "file_extension": ".py",
   "mimetype": "text/x-python",
   "name": "python",
   "nbconvert_exporter": "python",
   "pygments_lexer": "ipython3",
   "version": "3.7.13"
  }
 },
 "nbformat": 4,
 "nbformat_minor": 5
}
