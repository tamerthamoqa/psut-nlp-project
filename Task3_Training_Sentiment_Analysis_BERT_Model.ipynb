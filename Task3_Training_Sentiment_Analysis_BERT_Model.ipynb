{
 "cells": [
  {
   "cell_type": "markdown",
   "id": "bbdcf2e8",
   "metadata": {},
   "source": [
    "## Task 3 - Sentiment Analysis\n",
    "Use google BERT word embedding model to build a sentiment analysis model.\n",
    "\n",
    "\n",
    "#### Assumptions\n",
    "* Emojis would not be removed since they might be very important for discriminating sentiment in text.\n",
    "* URLs, Hashtags, Mentions, repeating dots, repeating characters than occur more than twice would be removed.\n",
    "* Arabic Diacritics would be removed.\n",
    "* Due to class imbalance, __balanced class weighting__ would be used.\n",
    "\n",
    "\n",
    "#### Datasets collected and used\n",
    "* __TEAD sample data__: (392,487 positive and 163,436 negative cleaned arabic tweets)\n",
    "    * [GitHub](https://github.com/HSMAabdellaoui/TEAD)\n",
    "    * Sample data [Google Drive](https://drive.google.com/drive/folders/1pfqK21nEKL8xYt3L4e09tMIQSnI_5G-7?usp=sharing)\n",
    "* __LABR dataset__: 63,000 book reviews in arabic\n",
    "    * [GitHub](https://github.com/mohamedadaly/LABR)\n",
    "* __ArSAS dataset__: 21,000 arabic tweets\n",
    "    * [Website](https://homepages.inf.ed.ac.uk/wmagdy/resources.htm)\n",
    "* __AJGT dataset__: 1800 Jordanian tweets\n",
    "    * [GitHub](https://github.com/komari6/Arabic-twitter-corpus-AJGT)\n",
    "* __40000 Egyptian tweet dataset__\n",
    "    * [Website](https://dataverse.harvard.edu/dataset.xhtml?persistentId=doi:10.7910/DVN/LBXV9O)\n",
    "* __SemEval2017-task4 subtask-A arabic dataset__: 3355 arabic tweets\n",
    "    * [Website](https://alt.qcri.org/semeval2017/task4/index.php?id=data-and-tools)\n",
    "* __ASTD dataset__: 10,000 arabic tweets\n",
    "    * [GitHub](https://github.com/mahmoudnabil/ASTD)\n",
    "\n",
    "__Note__: The pre-trained CAMeL-Lab Sentiment Classifier BERT [model](https://huggingface.co/CAMeL-Lab/bert-base-arabic-camelbert-da-sentiment) which used the [bert-base-arabic-camelbert-da](https://huggingface.co/CAMeL-Lab/bert-base-arabic-camelbert-da) language model was trained on the __ArSAS__, __ASTD__, and __SemEval__ datasets. \n",
    "\n",
    "#### Labels\n",
    "* __0__: Negative Sentiment\n",
    "* __1__: Neutral Sentiment\n",
    "* __2__: Positive Sentiment\n",
    "\n",
    "\n",
    "####  Combined dataset\n",
    "* __Total records__: 693,917 records\n",
    "    * __Positive__: 462,133 records\n",
    "    * __Neutral__: 29,059 records\n",
    "    * __Negative__: 202,725 records"
   ]
  },
  {
   "cell_type": "code",
   "execution_count": 1,
   "id": "af08181c",
   "metadata": {},
   "outputs": [
    {
     "name": "stderr",
     "output_type": "stream",
     "text": [
      "/home/tamer/anaconda3/envs/psut-nlp-project/lib/python3.7/site-packages/tqdm/auto.py:22: TqdmWarning: IProgress not found. Please update jupyter and ipywidgets. See https://ipywidgets.readthedocs.io/en/stable/user_install.html\n",
      "  from .autonotebook import tqdm as notebook_tqdm\n"
     ]
    }
   ],
   "source": [
    "import pandas as pd\n",
    "import numpy as np\n",
    "import re\n",
    "import pyarabic.araby as araby  # for removing diacritics\n",
    "import torch\n",
    "from sklearn.model_selection import train_test_split\n",
    "from sklearn.utils import class_weight  # For balanced class weighting training\n",
    "from camel_tools.sentiment import SentimentAnalyzer  # For testing the pre-trained BERT classifier model\n",
    "from transformers import AutoTokenizer, AutoModelForSequenceClassification  # Training sentiment classification model\n",
    "from datasets import Dataset"
   ]
  },
  {
   "cell_type": "code",
   "execution_count": 2,
   "id": "163afda8",
   "metadata": {},
   "outputs": [],
   "source": [
    "# From Tasks 1 and 2\n",
    "def clean(sentence):\n",
    "    def remove_diacritics(string):\n",
    "        return araby.strip_diacritics(string)\n",
    "    \n",
    "    re_general_pattern = r\"https?:\\/\\/.*[\\r\\n]*|#\\w+|@\\w+|\\.{2,}\"\n",
    "    re_repeating_character_pattern = r\"(\\w)\\1{2,}\"\n",
    "\n",
    "    # 1- Removing URLs, Hashtags, Mentions, and repeating dots\n",
    "    sentence = re.sub(re_general_pattern, \"\", sentence)\n",
    "    # 2- Removing repeating characters that occur more than twice\n",
    "    sentence = re.sub(re_repeating_character_pattern, r\"\\1\", sentence)\n",
    "    # 3- Removing Arabic Diacritics\n",
    "    sentence = remove_diacritics(sentence)\n",
    "\n",
    "    return sentence"
   ]
  },
  {
   "cell_type": "markdown",
   "id": "05120b9a",
   "metadata": {},
   "source": [
    "### 1- Testing the pre-trained CAMeL-Lab Arabic sentiment classifier BERT model"
   ]
  },
  {
   "cell_type": "code",
   "execution_count": 3,
   "id": "a428c83f",
   "metadata": {},
   "outputs": [],
   "source": [
    "camel_bert_senti_model = SentimentAnalyzer.pretrained()"
   ]
  },
  {
   "cell_type": "code",
   "execution_count": 4,
   "id": "7e75b02c",
   "metadata": {},
   "outputs": [
    {
     "data": {
      "text/plain": [
       "['__class__',\n",
       " '__delattr__',\n",
       " '__dict__',\n",
       " '__dir__',\n",
       " '__doc__',\n",
       " '__eq__',\n",
       " '__format__',\n",
       " '__ge__',\n",
       " '__getattribute__',\n",
       " '__gt__',\n",
       " '__hash__',\n",
       " '__init__',\n",
       " '__init_subclass__',\n",
       " '__le__',\n",
       " '__lt__',\n",
       " '__module__',\n",
       " '__ne__',\n",
       " '__new__',\n",
       " '__reduce__',\n",
       " '__reduce_ex__',\n",
       " '__repr__',\n",
       " '__setattr__',\n",
       " '__sizeof__',\n",
       " '__str__',\n",
       " '__subclasshook__',\n",
       " '__weakref__',\n",
       " 'labels',\n",
       " 'labels_map',\n",
       " 'model',\n",
       " 'predict',\n",
       " 'predict_sentence',\n",
       " 'pretrained',\n",
       " 'tokenizer',\n",
       " 'use_gpu']"
      ]
     },
     "execution_count": 4,
     "metadata": {},
     "output_type": "execute_result"
    }
   ],
   "source": [
    "dir(camel_bert_senti_model)"
   ]
  },
  {
   "cell_type": "code",
   "execution_count": 5,
   "id": "edfd3aa1",
   "metadata": {},
   "outputs": [
    {
     "data": {
      "text/plain": [
       "True"
      ]
     },
     "execution_count": 5,
     "metadata": {},
     "output_type": "execute_result"
    }
   ],
   "source": [
    "camel_bert_senti_model.use_gpu"
   ]
  },
  {
   "cell_type": "code",
   "execution_count": 6,
   "id": "9edbea31",
   "metadata": {},
   "outputs": [],
   "source": [
    "# Predict the sentiment of a single sentence\n",
    "sentiment = camel_bert_senti_model.predict_sentence('أنا بخير')\n",
    "\n",
    "# Predict the sentiment of multiple sentences\n",
    "sentences = [\n",
    "    'أنا بخير',\n",
    "    'أنا لست بخير'\n",
    "]\n",
    "sentiments = camel_bert_senti_model.predict(sentences)"
   ]
  },
  {
   "cell_type": "code",
   "execution_count": 7,
   "id": "c0ed3328",
   "metadata": {},
   "outputs": [
    {
     "data": {
      "text/plain": [
       "['positive', 'negative']"
      ]
     },
     "execution_count": 7,
     "metadata": {},
     "output_type": "execute_result"
    }
   ],
   "source": [
    "sentiments"
   ]
  },
  {
   "cell_type": "markdown",
   "id": "14147907",
   "metadata": {},
   "source": [
    "#### 1.1 Testing on first 10 tweets from file1.txt"
   ]
  },
  {
   "cell_type": "code",
   "execution_count": 8,
   "id": "dae48737",
   "metadata": {},
   "outputs": [],
   "source": [
    "df = pd.read_csv(\"data/file1.txt\", sep=\"\\t\").drop(\"tweetID\", axis=1)"
   ]
  },
  {
   "cell_type": "code",
   "execution_count": 9,
   "id": "401373e0",
   "metadata": {},
   "outputs": [
    {
     "name": "stdout",
     "output_type": "stream",
     "text": [
      "---------\n",
      "Tweet 0\n",
      "\n",
      "Original Tweet: الاعدام لعامل مطعم قتل زميله طعناً في \"البيادر\" أيدت محكمة التمييز الحكم الصادر عن محكمة الجنايات الكبرى والقاضي... http://t.co/H0txdjv3Kn\n",
      "\n",
      "Prediction: neutral\n",
      "---------\n",
      "Tweet 1\n",
      "\n",
      "Original Tweet: #الأخبار ▪ تأجيل محاكمة 7 إرهابيين بسبب غياب الدفاع: أجلت محكمة الجنايات بالعاصمة إلى تاريخ لاحق محاكمة سبعة إ... http://t.co/GM4jmpAWbR\n",
      "\n",
      "Prediction: neutral\n",
      "---------\n",
      "Tweet 2\n",
      "\n",
      "Original Tweet: @helale9999 عشآن أعطيتك وحده صميم صرت ترمي أعذار ...حقق العالميةة و أرجع كلمني يَ الأياب الانتحاري\n",
      "\n",
      "Prediction: negative\n",
      "---------\n",
      "Tweet 3\n",
      "\n",
      "Original Tweet: #النهدي ثمانية قتلى في تفجير انتحاري بسيارة مفخخة أمام معملين للغاز في ريف حمص - شبكة الصين http://t.co/r5zFEuzAPu\n",
      "\n",
      "Prediction: negative\n",
      "---------\n",
      "Tweet 4\n",
      "\n",
      "Original Tweet: البحرين: ضبط مطلوبين متورطين في التفجير بالعكر الشرقي بقية الموضوع اضغط هنا http://t.co/t4A5bNrqyh\n",
      "\n",
      "Prediction: neutral\n",
      "---------\n",
      "Tweet 5\n",
      "\n",
      "Original Tweet: @El__DoN__ABoOoD @soliman_sport توهير تفكيره يورو على يورو يطلع ٢ يورو وعلى كذا ثقافة آسيوية متأصلة وبصراحة أشوف إنها جيدة له لوحده فقط\n",
      "\n",
      "Prediction: positive\n",
      "---------\n",
      "Tweet 6\n",
      "\n",
      "Original Tweet: صحيفة \"نيويورك تايمز\" الطفل الانتحاري الذي سلم نفسه لحظات قبل التفجير قرب حسينيه في البياع هو سوري وليس عراقي... http://t.co/PH1a97rvtb\n",
      "\n",
      "Prediction: negative\n",
      "---------\n",
      "Tweet 7\n",
      "\n",
      "Original Tweet: ليتوانيا تستقبل عام 2015 باعتماد اليورو http://t.co/29IJLgr73b\n",
      "\n",
      "Prediction: neutral\n",
      "---------\n",
      "Tweet 8\n",
      "\n",
      "Original Tweet: يحتاج الداعي أكثر من غيره إلى حسن الظاهر والوقار والهدوء ليتأسى به ، وخير الناس من إذا رؤوا ذكر الله. http://t.co/WD7txPscDp\n",
      "\n",
      "Prediction: positive\n",
      "---------\n",
      "Tweet 9\n",
      "\n",
      "Original Tweet: المؤبد بحق موظف قتل رب عمله نحراً - عاقبت الهيئة القضائية في محكمة الجنايات في دبي، أمس، موظفاً من جنسية دولة آسيو... http://t.co/p7e2Mx5eEO\n",
      "\n",
      "Prediction: neutral\n"
     ]
    }
   ],
   "source": [
    "for index, tweet in df.iterrows():\n",
    "    if index == 10:\n",
    "        break\n",
    "        \n",
    "    sentence = clean(tweet[0])\n",
    "    pred = camel_bert_senti_model.predict_sentence(sentence)\n",
    "    print(\"---------\")\n",
    "    print(f\"Tweet {index}\\n\")\n",
    "    print(f\"Original Tweet: {tweet[0]}\\n\")\n",
    "    print(f\"Prediction: {pred}\")"
   ]
  },
  {
   "cell_type": "markdown",
   "id": "15ee99f0",
   "metadata": {},
   "source": [
    "### 2- Preparing the Arabic sentiment analysis dataset"
   ]
  },
  {
   "cell_type": "markdown",
   "id": "a4876eb9",
   "metadata": {},
   "source": [
    "#### 2.1 TEAD sample data"
   ]
  },
  {
   "cell_type": "markdown",
   "id": "5ecb01b9",
   "metadata": {},
   "source": [
    "##### 2.1.1 Loading positive sentences"
   ]
  },
  {
   "cell_type": "code",
   "execution_count": 10,
   "id": "8d5fdc02",
   "metadata": {},
   "outputs": [],
   "source": [
    "tead_pos_df = pd.read_csv(\"data/sentiment-analysis/TEAD_sample_data_final_positive_clean.txt\", header=None, names=[\"sentence\"])"
   ]
  },
  {
   "cell_type": "code",
   "execution_count": 11,
   "id": "e3e6ac80",
   "metadata": {},
   "outputs": [
    {
     "data": {
      "text/html": [
       "<div>\n",
       "<style scoped>\n",
       "    .dataframe tbody tr th:only-of-type {\n",
       "        vertical-align: middle;\n",
       "    }\n",
       "\n",
       "    .dataframe tbody tr th {\n",
       "        vertical-align: top;\n",
       "    }\n",
       "\n",
       "    .dataframe thead th {\n",
       "        text-align: right;\n",
       "    }\n",
       "</style>\n",
       "<table border=\"1\" class=\"dataframe\">\n",
       "  <thead>\n",
       "    <tr style=\"text-align: right;\">\n",
       "      <th></th>\n",
       "      <th>sentence</th>\n",
       "    </tr>\n",
       "  </thead>\n",
       "  <tbody>\n",
       "    <tr>\n",
       "      <th>0</th>\n",
       "      <td>مراا حلو ان الاستاذه قايله برسل لكم التخطيط وت...</td>\n",
       "    </tr>\n",
       "    <tr>\n",
       "      <th>1</th>\n",
       "      <td>نلقى أي قروب يحكي علي ال ندير انسحاب تكتيكي لا...</td>\n",
       "    </tr>\n",
       "    <tr>\n",
       "      <th>2</th>\n",
       "      <td>يارب شعور إني أكون مروقه ومبسوطه يكون كل يوم</td>\n",
       "    </tr>\n",
       "    <tr>\n",
       "      <th>3</th>\n",
       "      <td>حاجات تزيد الانثي انوثه تتروش مع رجالها ولا تس...</td>\n",
       "    </tr>\n",
       "    <tr>\n",
       "      <th>4</th>\n",
       "      <td>وضع الانترنت واجد يضايق لا برودباند البيت ولا ...</td>\n",
       "    </tr>\n",
       "    <tr>\n",
       "      <th>...</th>\n",
       "      <td>...</td>\n",
       "    </tr>\n",
       "    <tr>\n",
       "      <th>392482</th>\n",
       "      <td>عاد مارسييلو إلي نعرفه دفاع هجوم إبداع إمتاع إ...</td>\n",
       "    </tr>\n",
       "    <tr>\n",
       "      <th>392483</th>\n",
       "      <td>قلت أحبك وقلبي قال بين المحاني والله إن كلمة أ...</td>\n",
       "    </tr>\n",
       "    <tr>\n",
       "      <th>392484</th>\n",
       "      <td>انا وحنان بنتكلم واتس وماسنجر و ف نفس الوقت وف...</td>\n",
       "    </tr>\n",
       "    <tr>\n",
       "      <th>392485</th>\n",
       "      <td>الآ بذكر الله تطمئن القلؤب غرد الان بذكر الله</td>\n",
       "    </tr>\n",
       "    <tr>\n",
       "      <th>392486</th>\n",
       "      <td>حبيبنا ي برشا شوط اول جميل وشوط تاني نايم</td>\n",
       "    </tr>\n",
       "  </tbody>\n",
       "</table>\n",
       "<p>392487 rows × 1 columns</p>\n",
       "</div>"
      ],
      "text/plain": [
       "                                                 sentence\n",
       "0       مراا حلو ان الاستاذه قايله برسل لكم التخطيط وت...\n",
       "1       نلقى أي قروب يحكي علي ال ندير انسحاب تكتيكي لا...\n",
       "2            يارب شعور إني أكون مروقه ومبسوطه يكون كل يوم\n",
       "3       حاجات تزيد الانثي انوثه تتروش مع رجالها ولا تس...\n",
       "4       وضع الانترنت واجد يضايق لا برودباند البيت ولا ...\n",
       "...                                                   ...\n",
       "392482  عاد مارسييلو إلي نعرفه دفاع هجوم إبداع إمتاع إ...\n",
       "392483  قلت أحبك وقلبي قال بين المحاني والله إن كلمة أ...\n",
       "392484  انا وحنان بنتكلم واتس وماسنجر و ف نفس الوقت وف...\n",
       "392485      الآ بذكر الله تطمئن القلؤب غرد الان بذكر الله\n",
       "392486          حبيبنا ي برشا شوط اول جميل وشوط تاني نايم\n",
       "\n",
       "[392487 rows x 1 columns]"
      ]
     },
     "execution_count": 11,
     "metadata": {},
     "output_type": "execute_result"
    }
   ],
   "source": [
    "tead_pos_df"
   ]
  },
  {
   "cell_type": "code",
   "execution_count": 12,
   "id": "cbd8d02d",
   "metadata": {},
   "outputs": [],
   "source": [
    "tead_pos_df[\"label\"] = 2"
   ]
  },
  {
   "cell_type": "code",
   "execution_count": 13,
   "id": "842f3729",
   "metadata": {},
   "outputs": [
    {
     "data": {
      "text/html": [
       "<div>\n",
       "<style scoped>\n",
       "    .dataframe tbody tr th:only-of-type {\n",
       "        vertical-align: middle;\n",
       "    }\n",
       "\n",
       "    .dataframe tbody tr th {\n",
       "        vertical-align: top;\n",
       "    }\n",
       "\n",
       "    .dataframe thead th {\n",
       "        text-align: right;\n",
       "    }\n",
       "</style>\n",
       "<table border=\"1\" class=\"dataframe\">\n",
       "  <thead>\n",
       "    <tr style=\"text-align: right;\">\n",
       "      <th></th>\n",
       "      <th>sentence</th>\n",
       "      <th>label</th>\n",
       "    </tr>\n",
       "  </thead>\n",
       "  <tbody>\n",
       "    <tr>\n",
       "      <th>0</th>\n",
       "      <td>مراا حلو ان الاستاذه قايله برسل لكم التخطيط وت...</td>\n",
       "      <td>2</td>\n",
       "    </tr>\n",
       "    <tr>\n",
       "      <th>1</th>\n",
       "      <td>نلقى أي قروب يحكي علي ال ندير انسحاب تكتيكي لا...</td>\n",
       "      <td>2</td>\n",
       "    </tr>\n",
       "    <tr>\n",
       "      <th>2</th>\n",
       "      <td>يارب شعور إني أكون مروقه ومبسوطه يكون كل يوم</td>\n",
       "      <td>2</td>\n",
       "    </tr>\n",
       "    <tr>\n",
       "      <th>3</th>\n",
       "      <td>حاجات تزيد الانثي انوثه تتروش مع رجالها ولا تس...</td>\n",
       "      <td>2</td>\n",
       "    </tr>\n",
       "    <tr>\n",
       "      <th>4</th>\n",
       "      <td>وضع الانترنت واجد يضايق لا برودباند البيت ولا ...</td>\n",
       "      <td>2</td>\n",
       "    </tr>\n",
       "    <tr>\n",
       "      <th>...</th>\n",
       "      <td>...</td>\n",
       "      <td>...</td>\n",
       "    </tr>\n",
       "    <tr>\n",
       "      <th>392482</th>\n",
       "      <td>عاد مارسييلو إلي نعرفه دفاع هجوم إبداع إمتاع إ...</td>\n",
       "      <td>2</td>\n",
       "    </tr>\n",
       "    <tr>\n",
       "      <th>392483</th>\n",
       "      <td>قلت أحبك وقلبي قال بين المحاني والله إن كلمة أ...</td>\n",
       "      <td>2</td>\n",
       "    </tr>\n",
       "    <tr>\n",
       "      <th>392484</th>\n",
       "      <td>انا وحنان بنتكلم واتس وماسنجر و ف نفس الوقت وف...</td>\n",
       "      <td>2</td>\n",
       "    </tr>\n",
       "    <tr>\n",
       "      <th>392485</th>\n",
       "      <td>الآ بذكر الله تطمئن القلؤب غرد الان بذكر الله</td>\n",
       "      <td>2</td>\n",
       "    </tr>\n",
       "    <tr>\n",
       "      <th>392486</th>\n",
       "      <td>حبيبنا ي برشا شوط اول جميل وشوط تاني نايم</td>\n",
       "      <td>2</td>\n",
       "    </tr>\n",
       "  </tbody>\n",
       "</table>\n",
       "<p>392487 rows × 2 columns</p>\n",
       "</div>"
      ],
      "text/plain": [
       "                                                 sentence  label\n",
       "0       مراا حلو ان الاستاذه قايله برسل لكم التخطيط وت...      2\n",
       "1       نلقى أي قروب يحكي علي ال ندير انسحاب تكتيكي لا...      2\n",
       "2            يارب شعور إني أكون مروقه ومبسوطه يكون كل يوم      2\n",
       "3       حاجات تزيد الانثي انوثه تتروش مع رجالها ولا تس...      2\n",
       "4       وضع الانترنت واجد يضايق لا برودباند البيت ولا ...      2\n",
       "...                                                   ...    ...\n",
       "392482  عاد مارسييلو إلي نعرفه دفاع هجوم إبداع إمتاع إ...      2\n",
       "392483  قلت أحبك وقلبي قال بين المحاني والله إن كلمة أ...      2\n",
       "392484  انا وحنان بنتكلم واتس وماسنجر و ف نفس الوقت وف...      2\n",
       "392485      الآ بذكر الله تطمئن القلؤب غرد الان بذكر الله      2\n",
       "392486          حبيبنا ي برشا شوط اول جميل وشوط تاني نايم      2\n",
       "\n",
       "[392487 rows x 2 columns]"
      ]
     },
     "execution_count": 13,
     "metadata": {},
     "output_type": "execute_result"
    }
   ],
   "source": [
    "tead_pos_df"
   ]
  },
  {
   "cell_type": "markdown",
   "id": "6999e39b",
   "metadata": {},
   "source": [
    "##### 2.1.2 Loading negative sentences"
   ]
  },
  {
   "cell_type": "code",
   "execution_count": 14,
   "id": "c481008f",
   "metadata": {},
   "outputs": [],
   "source": [
    "tead_neg_df = pd.read_csv(\"data/sentiment-analysis/TEAD_sample_data_final_negative_clean.txt\", header=None, names=[\"sentence\"])"
   ]
  },
  {
   "cell_type": "code",
   "execution_count": 15,
   "id": "c6691edd",
   "metadata": {},
   "outputs": [
    {
     "data": {
      "text/html": [
       "<div>\n",
       "<style scoped>\n",
       "    .dataframe tbody tr th:only-of-type {\n",
       "        vertical-align: middle;\n",
       "    }\n",
       "\n",
       "    .dataframe tbody tr th {\n",
       "        vertical-align: top;\n",
       "    }\n",
       "\n",
       "    .dataframe thead th {\n",
       "        text-align: right;\n",
       "    }\n",
       "</style>\n",
       "<table border=\"1\" class=\"dataframe\">\n",
       "  <thead>\n",
       "    <tr style=\"text-align: right;\">\n",
       "      <th></th>\n",
       "      <th>sentence</th>\n",
       "    </tr>\n",
       "  </thead>\n",
       "  <tbody>\n",
       "    <tr>\n",
       "      <th>0</th>\n",
       "      <td>السعوديين شافو ترمب و مومصدقين نفسهم لعمى تقلو...</td>\n",
       "    </tr>\n",
       "    <tr>\n",
       "      <th>1</th>\n",
       "      <td>شكرا ويستهام لك كل الاحترام</td>\n",
       "    </tr>\n",
       "    <tr>\n",
       "      <th>2</th>\n",
       "      <td>تضعك المعرفة في صفوف الحكماء و يضعك العمل في ص...</td>\n",
       "    </tr>\n",
       "    <tr>\n",
       "      <th>3</th>\n",
       "      <td>خالي الف رحمةة ع روحةة</td>\n",
       "    </tr>\n",
       "    <tr>\n",
       "      <th>4</th>\n",
       "      <td>بيريز جيب بونوتشي يالذيب مانبي هجوم</td>\n",
       "    </tr>\n",
       "    <tr>\n",
       "      <th>...</th>\n",
       "      <td>...</td>\n",
       "    </tr>\n",
       "    <tr>\n",
       "      <th>163431</th>\n",
       "      <td>وش حاجتكك بقلبي يلي خذيته كلي ولهه</td>\n",
       "    </tr>\n",
       "    <tr>\n",
       "      <th>163432</th>\n",
       "      <td>لكل شيء لابد نهاية و هذي النهاية ي تشابي</td>\n",
       "    </tr>\n",
       "    <tr>\n",
       "      <th>163433</th>\n",
       "      <td>كنت عشمانة في ليله حلوة بس الظروف ليها رأي اخر</td>\n",
       "    </tr>\n",
       "    <tr>\n",
       "      <th>163434</th>\n",
       "      <td>البندر قبل قال بيعرض صوت ام حمود وهي متوفيه اصلن</td>\n",
       "    </tr>\n",
       "    <tr>\n",
       "      <th>163435</th>\n",
       "      <td>كفايه قرف بقي ياعم وغور في داهيه</td>\n",
       "    </tr>\n",
       "  </tbody>\n",
       "</table>\n",
       "<p>163436 rows × 1 columns</p>\n",
       "</div>"
      ],
      "text/plain": [
       "                                                 sentence\n",
       "0       السعوديين شافو ترمب و مومصدقين نفسهم لعمى تقلو...\n",
       "1                             شكرا ويستهام لك كل الاحترام\n",
       "2       تضعك المعرفة في صفوف الحكماء و يضعك العمل في ص...\n",
       "3                                  خالي الف رحمةة ع روحةة\n",
       "4                     بيريز جيب بونوتشي يالذيب مانبي هجوم\n",
       "...                                                   ...\n",
       "163431                 وش حاجتكك بقلبي يلي خذيته كلي ولهه\n",
       "163432           لكل شيء لابد نهاية و هذي النهاية ي تشابي\n",
       "163433     كنت عشمانة في ليله حلوة بس الظروف ليها رأي اخر\n",
       "163434   البندر قبل قال بيعرض صوت ام حمود وهي متوفيه اصلن\n",
       "163435                   كفايه قرف بقي ياعم وغور في داهيه\n",
       "\n",
       "[163436 rows x 1 columns]"
      ]
     },
     "execution_count": 15,
     "metadata": {},
     "output_type": "execute_result"
    }
   ],
   "source": [
    "tead_neg_df"
   ]
  },
  {
   "cell_type": "code",
   "execution_count": 16,
   "id": "c78024ed",
   "metadata": {},
   "outputs": [],
   "source": [
    "tead_neg_df[\"label\"] = 0"
   ]
  },
  {
   "cell_type": "code",
   "execution_count": 17,
   "id": "aa43ce7e",
   "metadata": {},
   "outputs": [
    {
     "data": {
      "text/html": [
       "<div>\n",
       "<style scoped>\n",
       "    .dataframe tbody tr th:only-of-type {\n",
       "        vertical-align: middle;\n",
       "    }\n",
       "\n",
       "    .dataframe tbody tr th {\n",
       "        vertical-align: top;\n",
       "    }\n",
       "\n",
       "    .dataframe thead th {\n",
       "        text-align: right;\n",
       "    }\n",
       "</style>\n",
       "<table border=\"1\" class=\"dataframe\">\n",
       "  <thead>\n",
       "    <tr style=\"text-align: right;\">\n",
       "      <th></th>\n",
       "      <th>sentence</th>\n",
       "      <th>label</th>\n",
       "    </tr>\n",
       "  </thead>\n",
       "  <tbody>\n",
       "    <tr>\n",
       "      <th>0</th>\n",
       "      <td>السعوديين شافو ترمب و مومصدقين نفسهم لعمى تقلو...</td>\n",
       "      <td>0</td>\n",
       "    </tr>\n",
       "    <tr>\n",
       "      <th>1</th>\n",
       "      <td>شكرا ويستهام لك كل الاحترام</td>\n",
       "      <td>0</td>\n",
       "    </tr>\n",
       "    <tr>\n",
       "      <th>2</th>\n",
       "      <td>تضعك المعرفة في صفوف الحكماء و يضعك العمل في ص...</td>\n",
       "      <td>0</td>\n",
       "    </tr>\n",
       "    <tr>\n",
       "      <th>3</th>\n",
       "      <td>خالي الف رحمةة ع روحةة</td>\n",
       "      <td>0</td>\n",
       "    </tr>\n",
       "    <tr>\n",
       "      <th>4</th>\n",
       "      <td>بيريز جيب بونوتشي يالذيب مانبي هجوم</td>\n",
       "      <td>0</td>\n",
       "    </tr>\n",
       "    <tr>\n",
       "      <th>...</th>\n",
       "      <td>...</td>\n",
       "      <td>...</td>\n",
       "    </tr>\n",
       "    <tr>\n",
       "      <th>163431</th>\n",
       "      <td>وش حاجتكك بقلبي يلي خذيته كلي ولهه</td>\n",
       "      <td>0</td>\n",
       "    </tr>\n",
       "    <tr>\n",
       "      <th>163432</th>\n",
       "      <td>لكل شيء لابد نهاية و هذي النهاية ي تشابي</td>\n",
       "      <td>0</td>\n",
       "    </tr>\n",
       "    <tr>\n",
       "      <th>163433</th>\n",
       "      <td>كنت عشمانة في ليله حلوة بس الظروف ليها رأي اخر</td>\n",
       "      <td>0</td>\n",
       "    </tr>\n",
       "    <tr>\n",
       "      <th>163434</th>\n",
       "      <td>البندر قبل قال بيعرض صوت ام حمود وهي متوفيه اصلن</td>\n",
       "      <td>0</td>\n",
       "    </tr>\n",
       "    <tr>\n",
       "      <th>163435</th>\n",
       "      <td>كفايه قرف بقي ياعم وغور في داهيه</td>\n",
       "      <td>0</td>\n",
       "    </tr>\n",
       "  </tbody>\n",
       "</table>\n",
       "<p>163436 rows × 2 columns</p>\n",
       "</div>"
      ],
      "text/plain": [
       "                                                 sentence  label\n",
       "0       السعوديين شافو ترمب و مومصدقين نفسهم لعمى تقلو...      0\n",
       "1                             شكرا ويستهام لك كل الاحترام      0\n",
       "2       تضعك المعرفة في صفوف الحكماء و يضعك العمل في ص...      0\n",
       "3                                  خالي الف رحمةة ع روحةة      0\n",
       "4                     بيريز جيب بونوتشي يالذيب مانبي هجوم      0\n",
       "...                                                   ...    ...\n",
       "163431                 وش حاجتكك بقلبي يلي خذيته كلي ولهه      0\n",
       "163432           لكل شيء لابد نهاية و هذي النهاية ي تشابي      0\n",
       "163433     كنت عشمانة في ليله حلوة بس الظروف ليها رأي اخر      0\n",
       "163434   البندر قبل قال بيعرض صوت ام حمود وهي متوفيه اصلن      0\n",
       "163435                   كفايه قرف بقي ياعم وغور في داهيه      0\n",
       "\n",
       "[163436 rows x 2 columns]"
      ]
     },
     "execution_count": 17,
     "metadata": {},
     "output_type": "execute_result"
    }
   ],
   "source": [
    "tead_neg_df"
   ]
  },
  {
   "cell_type": "markdown",
   "id": "015dfc58",
   "metadata": {},
   "source": [
    "#### 2.2 LABR dataset\n",
    "\n",
    "* 1 and 2 star ratings will be considered as \"Negative\"\n",
    "* 3 star ratings will be considered as \"Neutral\"\n",
    "* 4 and 5 star ratings will be considered as \"Positive\""
   ]
  },
  {
   "cell_type": "code",
   "execution_count": 18,
   "id": "6a9774bd",
   "metadata": {},
   "outputs": [],
   "source": [
    "labr_df = pd.read_csv(\"data/sentiment-analysis/LABR.tsv\", sep=\"\\t\", header=None, names=[\"label\", \"id1\", \"id2\", \"id3\", \"sentence\"])"
   ]
  },
  {
   "cell_type": "code",
   "execution_count": 19,
   "id": "08809378",
   "metadata": {},
   "outputs": [
    {
     "data": {
      "text/html": [
       "<div>\n",
       "<style scoped>\n",
       "    .dataframe tbody tr th:only-of-type {\n",
       "        vertical-align: middle;\n",
       "    }\n",
       "\n",
       "    .dataframe tbody tr th {\n",
       "        vertical-align: top;\n",
       "    }\n",
       "\n",
       "    .dataframe thead th {\n",
       "        text-align: right;\n",
       "    }\n",
       "</style>\n",
       "<table border=\"1\" class=\"dataframe\">\n",
       "  <thead>\n",
       "    <tr style=\"text-align: right;\">\n",
       "      <th></th>\n",
       "      <th>label</th>\n",
       "      <th>id1</th>\n",
       "      <th>id2</th>\n",
       "      <th>id3</th>\n",
       "      <th>sentence</th>\n",
       "    </tr>\n",
       "  </thead>\n",
       "  <tbody>\n",
       "    <tr>\n",
       "      <th>0</th>\n",
       "      <td>4</td>\n",
       "      <td>338670838</td>\n",
       "      <td>7878381</td>\n",
       "      <td>13431841</td>\n",
       "      <td>\"عزازيل الذي صنعناه ،الكامن في أنفسنا\" يذكرني...</td>\n",
       "    </tr>\n",
       "    <tr>\n",
       "      <th>1</th>\n",
       "      <td>4</td>\n",
       "      <td>39428407</td>\n",
       "      <td>1775679</td>\n",
       "      <td>3554772</td>\n",
       "      <td>من أمتع ما قرأت من روايات بلا شك. وحول الشك ت...</td>\n",
       "    </tr>\n",
       "    <tr>\n",
       "      <th>2</th>\n",
       "      <td>4</td>\n",
       "      <td>32159373</td>\n",
       "      <td>1304410</td>\n",
       "      <td>3554772</td>\n",
       "      <td>رواية تتخذ من التاريخ ،جوًا لها اختار المؤلف ...</td>\n",
       "    </tr>\n",
       "    <tr>\n",
       "      <th>3</th>\n",
       "      <td>1</td>\n",
       "      <td>442326656</td>\n",
       "      <td>11333112</td>\n",
       "      <td>3554772</td>\n",
       "      <td>إني أقدّر هذه الرواية كثيرا، لسبب مختلف عن أس...</td>\n",
       "    </tr>\n",
       "    <tr>\n",
       "      <th>4</th>\n",
       "      <td>5</td>\n",
       "      <td>46492258</td>\n",
       "      <td>580165</td>\n",
       "      <td>3554772</td>\n",
       "      <td>الكاهن الذي أطلق على نفسه اسم هيبا تيمنا بالع...</td>\n",
       "    </tr>\n",
       "    <tr>\n",
       "      <th>...</th>\n",
       "      <td>...</td>\n",
       "      <td>...</td>\n",
       "      <td>...</td>\n",
       "      <td>...</td>\n",
       "      <td>...</td>\n",
       "    </tr>\n",
       "    <tr>\n",
       "      <th>63252</th>\n",
       "      <td>5</td>\n",
       "      <td>108789247</td>\n",
       "      <td>3926131</td>\n",
       "      <td>1420</td>\n",
       "      <td>اجمل مسرحية ألفت في تاريخ الادب الانجليزي</td>\n",
       "    </tr>\n",
       "    <tr>\n",
       "      <th>63253</th>\n",
       "      <td>3</td>\n",
       "      <td>513749112</td>\n",
       "      <td>16666895</td>\n",
       "      <td>7286365</td>\n",
       "      <td>بصراحة، لم تكن هذه الرواية على قدر توقعاتي. ا...</td>\n",
       "    </tr>\n",
       "    <tr>\n",
       "      <th>63254</th>\n",
       "      <td>3</td>\n",
       "      <td>137280339</td>\n",
       "      <td>4303773</td>\n",
       "      <td>7286365</td>\n",
       "      <td>هي الرواية الأولى التي قرأتها لأيميلي نصر الل...</td>\n",
       "    </tr>\n",
       "    <tr>\n",
       "      <th>63255</th>\n",
       "      <td>3</td>\n",
       "      <td>175939769</td>\n",
       "      <td>4770537</td>\n",
       "      <td>7286365</td>\n",
       "      <td>تَدْخل بيوت الناس، تدخل قلوبهم، تمدّ يدك تصاف...</td>\n",
       "    </tr>\n",
       "    <tr>\n",
       "      <th>63256</th>\n",
       "      <td>4</td>\n",
       "      <td>297750792</td>\n",
       "      <td>8242455</td>\n",
       "      <td>6083177</td>\n",
       "      <td>لم ادرك معنى العلاقات الخارجية و البروتكولات ...</td>\n",
       "    </tr>\n",
       "  </tbody>\n",
       "</table>\n",
       "<p>63257 rows × 5 columns</p>\n",
       "</div>"
      ],
      "text/plain": [
       "       label        id1       id2       id3  \\\n",
       "0          4  338670838   7878381  13431841   \n",
       "1          4   39428407   1775679   3554772   \n",
       "2          4   32159373   1304410   3554772   \n",
       "3          1  442326656  11333112   3554772   \n",
       "4          5   46492258    580165   3554772   \n",
       "...      ...        ...       ...       ...   \n",
       "63252      5  108789247   3926131      1420   \n",
       "63253      3  513749112  16666895   7286365   \n",
       "63254      3  137280339   4303773   7286365   \n",
       "63255      3  175939769   4770537   7286365   \n",
       "63256      4  297750792   8242455   6083177   \n",
       "\n",
       "                                                sentence  \n",
       "0       \"عزازيل الذي صنعناه ،الكامن في أنفسنا\" يذكرني...  \n",
       "1       من أمتع ما قرأت من روايات بلا شك. وحول الشك ت...  \n",
       "2       رواية تتخذ من التاريخ ،جوًا لها اختار المؤلف ...  \n",
       "3       إني أقدّر هذه الرواية كثيرا، لسبب مختلف عن أس...  \n",
       "4       الكاهن الذي أطلق على نفسه اسم هيبا تيمنا بالع...  \n",
       "...                                                  ...  \n",
       "63252          اجمل مسرحية ألفت في تاريخ الادب الانجليزي  \n",
       "63253   بصراحة، لم تكن هذه الرواية على قدر توقعاتي. ا...  \n",
       "63254   هي الرواية الأولى التي قرأتها لأيميلي نصر الل...  \n",
       "63255   تَدْخل بيوت الناس، تدخل قلوبهم، تمدّ يدك تصاف...  \n",
       "63256   لم ادرك معنى العلاقات الخارجية و البروتكولات ...  \n",
       "\n",
       "[63257 rows x 5 columns]"
      ]
     },
     "execution_count": 19,
     "metadata": {},
     "output_type": "execute_result"
    }
   ],
   "source": [
    "labr_df"
   ]
  },
  {
   "cell_type": "code",
   "execution_count": 20,
   "id": "31980d67",
   "metadata": {},
   "outputs": [],
   "source": [
    "labr_df.drop([\"id1\", \"id2\", \"id3\"], axis=1, inplace=True)"
   ]
  },
  {
   "cell_type": "code",
   "execution_count": 21,
   "id": "9922743a",
   "metadata": {},
   "outputs": [
    {
     "data": {
      "text/html": [
       "<div>\n",
       "<style scoped>\n",
       "    .dataframe tbody tr th:only-of-type {\n",
       "        vertical-align: middle;\n",
       "    }\n",
       "\n",
       "    .dataframe tbody tr th {\n",
       "        vertical-align: top;\n",
       "    }\n",
       "\n",
       "    .dataframe thead th {\n",
       "        text-align: right;\n",
       "    }\n",
       "</style>\n",
       "<table border=\"1\" class=\"dataframe\">\n",
       "  <thead>\n",
       "    <tr style=\"text-align: right;\">\n",
       "      <th></th>\n",
       "      <th>label</th>\n",
       "      <th>sentence</th>\n",
       "    </tr>\n",
       "  </thead>\n",
       "  <tbody>\n",
       "    <tr>\n",
       "      <th>0</th>\n",
       "      <td>4</td>\n",
       "      <td>\"عزازيل الذي صنعناه ،الكامن في أنفسنا\" يذكرني...</td>\n",
       "    </tr>\n",
       "    <tr>\n",
       "      <th>1</th>\n",
       "      <td>4</td>\n",
       "      <td>من أمتع ما قرأت من روايات بلا شك. وحول الشك ت...</td>\n",
       "    </tr>\n",
       "    <tr>\n",
       "      <th>2</th>\n",
       "      <td>4</td>\n",
       "      <td>رواية تتخذ من التاريخ ،جوًا لها اختار المؤلف ...</td>\n",
       "    </tr>\n",
       "    <tr>\n",
       "      <th>3</th>\n",
       "      <td>1</td>\n",
       "      <td>إني أقدّر هذه الرواية كثيرا، لسبب مختلف عن أس...</td>\n",
       "    </tr>\n",
       "    <tr>\n",
       "      <th>4</th>\n",
       "      <td>5</td>\n",
       "      <td>الكاهن الذي أطلق على نفسه اسم هيبا تيمنا بالع...</td>\n",
       "    </tr>\n",
       "    <tr>\n",
       "      <th>...</th>\n",
       "      <td>...</td>\n",
       "      <td>...</td>\n",
       "    </tr>\n",
       "    <tr>\n",
       "      <th>63252</th>\n",
       "      <td>5</td>\n",
       "      <td>اجمل مسرحية ألفت في تاريخ الادب الانجليزي</td>\n",
       "    </tr>\n",
       "    <tr>\n",
       "      <th>63253</th>\n",
       "      <td>3</td>\n",
       "      <td>بصراحة، لم تكن هذه الرواية على قدر توقعاتي. ا...</td>\n",
       "    </tr>\n",
       "    <tr>\n",
       "      <th>63254</th>\n",
       "      <td>3</td>\n",
       "      <td>هي الرواية الأولى التي قرأتها لأيميلي نصر الل...</td>\n",
       "    </tr>\n",
       "    <tr>\n",
       "      <th>63255</th>\n",
       "      <td>3</td>\n",
       "      <td>تَدْخل بيوت الناس، تدخل قلوبهم، تمدّ يدك تصاف...</td>\n",
       "    </tr>\n",
       "    <tr>\n",
       "      <th>63256</th>\n",
       "      <td>4</td>\n",
       "      <td>لم ادرك معنى العلاقات الخارجية و البروتكولات ...</td>\n",
       "    </tr>\n",
       "  </tbody>\n",
       "</table>\n",
       "<p>63257 rows × 2 columns</p>\n",
       "</div>"
      ],
      "text/plain": [
       "       label                                           sentence\n",
       "0          4   \"عزازيل الذي صنعناه ،الكامن في أنفسنا\" يذكرني...\n",
       "1          4   من أمتع ما قرأت من روايات بلا شك. وحول الشك ت...\n",
       "2          4   رواية تتخذ من التاريخ ،جوًا لها اختار المؤلف ...\n",
       "3          1   إني أقدّر هذه الرواية كثيرا، لسبب مختلف عن أس...\n",
       "4          5   الكاهن الذي أطلق على نفسه اسم هيبا تيمنا بالع...\n",
       "...      ...                                                ...\n",
       "63252      5          اجمل مسرحية ألفت في تاريخ الادب الانجليزي\n",
       "63253      3   بصراحة، لم تكن هذه الرواية على قدر توقعاتي. ا...\n",
       "63254      3   هي الرواية الأولى التي قرأتها لأيميلي نصر الل...\n",
       "63255      3   تَدْخل بيوت الناس، تدخل قلوبهم، تمدّ يدك تصاف...\n",
       "63256      4   لم ادرك معنى العلاقات الخارجية و البروتكولات ...\n",
       "\n",
       "[63257 rows x 2 columns]"
      ]
     },
     "execution_count": 21,
     "metadata": {},
     "output_type": "execute_result"
    }
   ],
   "source": [
    "labr_df"
   ]
  },
  {
   "cell_type": "code",
   "execution_count": 22,
   "id": "5d40b060",
   "metadata": {},
   "outputs": [],
   "source": [
    "labr_df = labr_df.reindex(['sentence','label'], axis=1)"
   ]
  },
  {
   "cell_type": "code",
   "execution_count": 23,
   "id": "112bd1e1",
   "metadata": {},
   "outputs": [
    {
     "data": {
      "text/html": [
       "<div>\n",
       "<style scoped>\n",
       "    .dataframe tbody tr th:only-of-type {\n",
       "        vertical-align: middle;\n",
       "    }\n",
       "\n",
       "    .dataframe tbody tr th {\n",
       "        vertical-align: top;\n",
       "    }\n",
       "\n",
       "    .dataframe thead th {\n",
       "        text-align: right;\n",
       "    }\n",
       "</style>\n",
       "<table border=\"1\" class=\"dataframe\">\n",
       "  <thead>\n",
       "    <tr style=\"text-align: right;\">\n",
       "      <th></th>\n",
       "      <th>sentence</th>\n",
       "      <th>label</th>\n",
       "    </tr>\n",
       "  </thead>\n",
       "  <tbody>\n",
       "    <tr>\n",
       "      <th>0</th>\n",
       "      <td>\"عزازيل الذي صنعناه ،الكامن في أنفسنا\" يذكرني...</td>\n",
       "      <td>4</td>\n",
       "    </tr>\n",
       "    <tr>\n",
       "      <th>1</th>\n",
       "      <td>من أمتع ما قرأت من روايات بلا شك. وحول الشك ت...</td>\n",
       "      <td>4</td>\n",
       "    </tr>\n",
       "    <tr>\n",
       "      <th>2</th>\n",
       "      <td>رواية تتخذ من التاريخ ،جوًا لها اختار المؤلف ...</td>\n",
       "      <td>4</td>\n",
       "    </tr>\n",
       "    <tr>\n",
       "      <th>3</th>\n",
       "      <td>إني أقدّر هذه الرواية كثيرا، لسبب مختلف عن أس...</td>\n",
       "      <td>1</td>\n",
       "    </tr>\n",
       "    <tr>\n",
       "      <th>4</th>\n",
       "      <td>الكاهن الذي أطلق على نفسه اسم هيبا تيمنا بالع...</td>\n",
       "      <td>5</td>\n",
       "    </tr>\n",
       "    <tr>\n",
       "      <th>...</th>\n",
       "      <td>...</td>\n",
       "      <td>...</td>\n",
       "    </tr>\n",
       "    <tr>\n",
       "      <th>63252</th>\n",
       "      <td>اجمل مسرحية ألفت في تاريخ الادب الانجليزي</td>\n",
       "      <td>5</td>\n",
       "    </tr>\n",
       "    <tr>\n",
       "      <th>63253</th>\n",
       "      <td>بصراحة، لم تكن هذه الرواية على قدر توقعاتي. ا...</td>\n",
       "      <td>3</td>\n",
       "    </tr>\n",
       "    <tr>\n",
       "      <th>63254</th>\n",
       "      <td>هي الرواية الأولى التي قرأتها لأيميلي نصر الل...</td>\n",
       "      <td>3</td>\n",
       "    </tr>\n",
       "    <tr>\n",
       "      <th>63255</th>\n",
       "      <td>تَدْخل بيوت الناس، تدخل قلوبهم، تمدّ يدك تصاف...</td>\n",
       "      <td>3</td>\n",
       "    </tr>\n",
       "    <tr>\n",
       "      <th>63256</th>\n",
       "      <td>لم ادرك معنى العلاقات الخارجية و البروتكولات ...</td>\n",
       "      <td>4</td>\n",
       "    </tr>\n",
       "  </tbody>\n",
       "</table>\n",
       "<p>63257 rows × 2 columns</p>\n",
       "</div>"
      ],
      "text/plain": [
       "                                                sentence  label\n",
       "0       \"عزازيل الذي صنعناه ،الكامن في أنفسنا\" يذكرني...      4\n",
       "1       من أمتع ما قرأت من روايات بلا شك. وحول الشك ت...      4\n",
       "2       رواية تتخذ من التاريخ ،جوًا لها اختار المؤلف ...      4\n",
       "3       إني أقدّر هذه الرواية كثيرا، لسبب مختلف عن أس...      1\n",
       "4       الكاهن الذي أطلق على نفسه اسم هيبا تيمنا بالع...      5\n",
       "...                                                  ...    ...\n",
       "63252          اجمل مسرحية ألفت في تاريخ الادب الانجليزي      5\n",
       "63253   بصراحة، لم تكن هذه الرواية على قدر توقعاتي. ا...      3\n",
       "63254   هي الرواية الأولى التي قرأتها لأيميلي نصر الل...      3\n",
       "63255   تَدْخل بيوت الناس، تدخل قلوبهم، تمدّ يدك تصاف...      3\n",
       "63256   لم ادرك معنى العلاقات الخارجية و البروتكولات ...      4\n",
       "\n",
       "[63257 rows x 2 columns]"
      ]
     },
     "execution_count": 23,
     "metadata": {},
     "output_type": "execute_result"
    }
   ],
   "source": [
    "labr_df"
   ]
  },
  {
   "cell_type": "code",
   "execution_count": 24,
   "id": "da4a0966",
   "metadata": {},
   "outputs": [
    {
     "name": "stderr",
     "output_type": "stream",
     "text": [
      "/home/tamer/anaconda3/envs/psut-nlp-project/lib/python3.7/site-packages/pandas/core/indexing.py:1732: SettingWithCopyWarning: \n",
      "A value is trying to be set on a copy of a slice from a DataFrame\n",
      "\n",
      "See the caveats in the documentation: https://pandas.pydata.org/pandas-docs/stable/user_guide/indexing.html#returning-a-view-versus-a-copy\n",
      "  self._setitem_single_block(indexer, value, name)\n"
     ]
    }
   ],
   "source": [
    "labr_df['label'].loc[(labr_df['label'] < 3)] = 0"
   ]
  },
  {
   "cell_type": "code",
   "execution_count": 25,
   "id": "c22debb6",
   "metadata": {},
   "outputs": [],
   "source": [
    "labr_df['label'].loc[(labr_df['label'] == 3)] = 1"
   ]
  },
  {
   "cell_type": "code",
   "execution_count": 26,
   "id": "972a26f8",
   "metadata": {},
   "outputs": [],
   "source": [
    "labr_df['label'].loc[(labr_df['label'] > 3)] = 2"
   ]
  },
  {
   "cell_type": "code",
   "execution_count": 27,
   "id": "412c3a1a",
   "metadata": {},
   "outputs": [
    {
     "data": {
      "text/html": [
       "<div>\n",
       "<style scoped>\n",
       "    .dataframe tbody tr th:only-of-type {\n",
       "        vertical-align: middle;\n",
       "    }\n",
       "\n",
       "    .dataframe tbody tr th {\n",
       "        vertical-align: top;\n",
       "    }\n",
       "\n",
       "    .dataframe thead th {\n",
       "        text-align: right;\n",
       "    }\n",
       "</style>\n",
       "<table border=\"1\" class=\"dataframe\">\n",
       "  <thead>\n",
       "    <tr style=\"text-align: right;\">\n",
       "      <th></th>\n",
       "      <th>sentence</th>\n",
       "      <th>label</th>\n",
       "    </tr>\n",
       "  </thead>\n",
       "  <tbody>\n",
       "    <tr>\n",
       "      <th>0</th>\n",
       "      <td>\"عزازيل الذي صنعناه ،الكامن في أنفسنا\" يذكرني...</td>\n",
       "      <td>2</td>\n",
       "    </tr>\n",
       "    <tr>\n",
       "      <th>1</th>\n",
       "      <td>من أمتع ما قرأت من روايات بلا شك. وحول الشك ت...</td>\n",
       "      <td>2</td>\n",
       "    </tr>\n",
       "    <tr>\n",
       "      <th>2</th>\n",
       "      <td>رواية تتخذ من التاريخ ،جوًا لها اختار المؤلف ...</td>\n",
       "      <td>2</td>\n",
       "    </tr>\n",
       "    <tr>\n",
       "      <th>3</th>\n",
       "      <td>إني أقدّر هذه الرواية كثيرا، لسبب مختلف عن أس...</td>\n",
       "      <td>0</td>\n",
       "    </tr>\n",
       "    <tr>\n",
       "      <th>4</th>\n",
       "      <td>الكاهن الذي أطلق على نفسه اسم هيبا تيمنا بالع...</td>\n",
       "      <td>2</td>\n",
       "    </tr>\n",
       "    <tr>\n",
       "      <th>...</th>\n",
       "      <td>...</td>\n",
       "      <td>...</td>\n",
       "    </tr>\n",
       "    <tr>\n",
       "      <th>63252</th>\n",
       "      <td>اجمل مسرحية ألفت في تاريخ الادب الانجليزي</td>\n",
       "      <td>2</td>\n",
       "    </tr>\n",
       "    <tr>\n",
       "      <th>63253</th>\n",
       "      <td>بصراحة، لم تكن هذه الرواية على قدر توقعاتي. ا...</td>\n",
       "      <td>1</td>\n",
       "    </tr>\n",
       "    <tr>\n",
       "      <th>63254</th>\n",
       "      <td>هي الرواية الأولى التي قرأتها لأيميلي نصر الل...</td>\n",
       "      <td>1</td>\n",
       "    </tr>\n",
       "    <tr>\n",
       "      <th>63255</th>\n",
       "      <td>تَدْخل بيوت الناس، تدخل قلوبهم، تمدّ يدك تصاف...</td>\n",
       "      <td>1</td>\n",
       "    </tr>\n",
       "    <tr>\n",
       "      <th>63256</th>\n",
       "      <td>لم ادرك معنى العلاقات الخارجية و البروتكولات ...</td>\n",
       "      <td>2</td>\n",
       "    </tr>\n",
       "  </tbody>\n",
       "</table>\n",
       "<p>63257 rows × 2 columns</p>\n",
       "</div>"
      ],
      "text/plain": [
       "                                                sentence  label\n",
       "0       \"عزازيل الذي صنعناه ،الكامن في أنفسنا\" يذكرني...      2\n",
       "1       من أمتع ما قرأت من روايات بلا شك. وحول الشك ت...      2\n",
       "2       رواية تتخذ من التاريخ ،جوًا لها اختار المؤلف ...      2\n",
       "3       إني أقدّر هذه الرواية كثيرا، لسبب مختلف عن أس...      0\n",
       "4       الكاهن الذي أطلق على نفسه اسم هيبا تيمنا بالع...      2\n",
       "...                                                  ...    ...\n",
       "63252          اجمل مسرحية ألفت في تاريخ الادب الانجليزي      2\n",
       "63253   بصراحة، لم تكن هذه الرواية على قدر توقعاتي. ا...      1\n",
       "63254   هي الرواية الأولى التي قرأتها لأيميلي نصر الل...      1\n",
       "63255   تَدْخل بيوت الناس، تدخل قلوبهم، تمدّ يدك تصاف...      1\n",
       "63256   لم ادرك معنى العلاقات الخارجية و البروتكولات ...      2\n",
       "\n",
       "[63257 rows x 2 columns]"
      ]
     },
     "execution_count": 27,
     "metadata": {},
     "output_type": "execute_result"
    }
   ],
   "source": [
    "labr_df"
   ]
  },
  {
   "cell_type": "code",
   "execution_count": 28,
   "id": "b2f3f688",
   "metadata": {},
   "outputs": [
    {
     "data": {
      "text/plain": [
       "2    42832\n",
       "1    12201\n",
       "0     8224\n",
       "Name: label, dtype: int64"
      ]
     },
     "execution_count": 28,
     "metadata": {},
     "output_type": "execute_result"
    }
   ],
   "source": [
    "labr_df[\"label\"].value_counts()"
   ]
  },
  {
   "cell_type": "markdown",
   "id": "0822c6d2",
   "metadata": {},
   "source": [
    "#### 2.3 ArSAS dataset\n",
    "\n",
    "Assuming \"Mixed\" label as \"Neutral\"."
   ]
  },
  {
   "cell_type": "code",
   "execution_count": 29,
   "id": "8b5e18d1",
   "metadata": {},
   "outputs": [],
   "source": [
    "arsas_df = pd.read_csv(\"data/sentiment-analysis/ArSAS.txt\", sep=\"\\t\")"
   ]
  },
  {
   "cell_type": "code",
   "execution_count": 30,
   "id": "2ecc04ef",
   "metadata": {},
   "outputs": [
    {
     "data": {
      "text/html": [
       "<div>\n",
       "<style scoped>\n",
       "    .dataframe tbody tr th:only-of-type {\n",
       "        vertical-align: middle;\n",
       "    }\n",
       "\n",
       "    .dataframe tbody tr th {\n",
       "        vertical-align: top;\n",
       "    }\n",
       "\n",
       "    .dataframe thead th {\n",
       "        text-align: right;\n",
       "    }\n",
       "</style>\n",
       "<table border=\"1\" class=\"dataframe\">\n",
       "  <thead>\n",
       "    <tr style=\"text-align: right;\">\n",
       "      <th></th>\n",
       "      <th>#Tweet_ID</th>\n",
       "      <th>Tweet_text</th>\n",
       "      <th>Topic</th>\n",
       "      <th>Sentiment_label</th>\n",
       "      <th>Sentiment_label_confidence</th>\n",
       "      <th>Speech_act_label</th>\n",
       "      <th>Speech_act_label_confidence</th>\n",
       "    </tr>\n",
       "  </thead>\n",
       "  <tbody>\n",
       "    <tr>\n",
       "      <th>0</th>\n",
       "      <td>929241870508724224</td>\n",
       "      <td>المباراة القـادمة #غانا x #مصر الجولة الأخيرة ...</td>\n",
       "      <td>Event</td>\n",
       "      <td>Positive</td>\n",
       "      <td>0.38</td>\n",
       "      <td>Assertion</td>\n",
       "      <td>0.62</td>\n",
       "    </tr>\n",
       "    <tr>\n",
       "      <th>1</th>\n",
       "      <td>928942264583376897</td>\n",
       "      <td>هل هذه هي سياسة خارجيه لدوله تحترم نفسها والآخ...</td>\n",
       "      <td>Entity</td>\n",
       "      <td>Negative</td>\n",
       "      <td>1.00</td>\n",
       "      <td>Expression</td>\n",
       "      <td>0.68</td>\n",
       "    </tr>\n",
       "    <tr>\n",
       "      <th>2</th>\n",
       "      <td>928615163250520065</td>\n",
       "      <td>وزير خارجية فرنسا عن منتدى شباب العالم: شعرت ب...</td>\n",
       "      <td>Event</td>\n",
       "      <td>Positive</td>\n",
       "      <td>0.69</td>\n",
       "      <td>Assertion</td>\n",
       "      <td>1.00</td>\n",
       "    </tr>\n",
       "    <tr>\n",
       "      <th>3</th>\n",
       "      <td>931614713368186880</td>\n",
       "      <td>ومع السيسي و بشار و ايران و بن زايد و والا خلي...</td>\n",
       "      <td>Event</td>\n",
       "      <td>Negative</td>\n",
       "      <td>1.00</td>\n",
       "      <td>Expression</td>\n",
       "      <td>1.00</td>\n",
       "    </tr>\n",
       "    <tr>\n",
       "      <th>4</th>\n",
       "      <td>929755693011427331</td>\n",
       "      <td>أهداف مباراة غانا 0 مصر 1 تصفيات كأس العالم 20...</td>\n",
       "      <td>Event</td>\n",
       "      <td>Neutral</td>\n",
       "      <td>1.00</td>\n",
       "      <td>Assertion</td>\n",
       "      <td>1.00</td>\n",
       "    </tr>\n",
       "    <tr>\n",
       "      <th>...</th>\n",
       "      <td>...</td>\n",
       "      <td>...</td>\n",
       "      <td>...</td>\n",
       "      <td>...</td>\n",
       "      <td>...</td>\n",
       "      <td>...</td>\n",
       "      <td>...</td>\n",
       "    </tr>\n",
       "    <tr>\n",
       "      <th>19892</th>\n",
       "      <td>929109605267000960</td>\n",
       "      <td>ملخص مباراة نيجيريا vs الجزائر تصفيات كأس 🏆 ال...</td>\n",
       "      <td>Event</td>\n",
       "      <td>Neutral</td>\n",
       "      <td>1.00</td>\n",
       "      <td>Assertion</td>\n",
       "      <td>1.00</td>\n",
       "    </tr>\n",
       "    <tr>\n",
       "      <th>19893</th>\n",
       "      <td>930131859039837952</td>\n",
       "      <td>ايطاليا في السان سيرو لعبت 42 مباراة 🇮🇹 31 فوز...</td>\n",
       "      <td>Event</td>\n",
       "      <td>Positive</td>\n",
       "      <td>0.69</td>\n",
       "      <td>Expression</td>\n",
       "      <td>0.69</td>\n",
       "    </tr>\n",
       "    <tr>\n",
       "      <th>19894</th>\n",
       "      <td>928739551136361984</td>\n",
       "      <td>المُلحق المؤهل لكأس العالم 🇪🇺أوروبا🇪🇺 مباراة ا...</td>\n",
       "      <td>Event</td>\n",
       "      <td>Neutral</td>\n",
       "      <td>1.00</td>\n",
       "      <td>Assertion</td>\n",
       "      <td>1.00</td>\n",
       "    </tr>\n",
       "    <tr>\n",
       "      <th>19895</th>\n",
       "      <td>929254320754823168</td>\n",
       "      <td>رسائل وتوصيات منتدى شباب العالم .. د. عبدالله ...</td>\n",
       "      <td>Event</td>\n",
       "      <td>Neutral</td>\n",
       "      <td>1.00</td>\n",
       "      <td>Assertion</td>\n",
       "      <td>1.00</td>\n",
       "    </tr>\n",
       "    <tr>\n",
       "      <th>19896</th>\n",
       "      <td>931274896897904640</td>\n",
       "      <td>لماذا الحكومات لم تحاسبهم؟ ربما تحريضهم للشباب...</td>\n",
       "      <td>Long_Standing</td>\n",
       "      <td>Negative</td>\n",
       "      <td>1.00</td>\n",
       "      <td>Expression</td>\n",
       "      <td>1.00</td>\n",
       "    </tr>\n",
       "  </tbody>\n",
       "</table>\n",
       "<p>19897 rows × 7 columns</p>\n",
       "</div>"
      ],
      "text/plain": [
       "                #Tweet_ID                                         Tweet_text  \\\n",
       "0      929241870508724224  المباراة القـادمة #غانا x #مصر الجولة الأخيرة ...   \n",
       "1      928942264583376897  هل هذه هي سياسة خارجيه لدوله تحترم نفسها والآخ...   \n",
       "2      928615163250520065  وزير خارجية فرنسا عن منتدى شباب العالم: شعرت ب...   \n",
       "3      931614713368186880  ومع السيسي و بشار و ايران و بن زايد و والا خلي...   \n",
       "4      929755693011427331  أهداف مباراة غانا 0 مصر 1 تصفيات كأس العالم 20...   \n",
       "...                   ...                                                ...   \n",
       "19892  929109605267000960  ملخص مباراة نيجيريا vs الجزائر تصفيات كأس 🏆 ال...   \n",
       "19893  930131859039837952  ايطاليا في السان سيرو لعبت 42 مباراة 🇮🇹 31 فوز...   \n",
       "19894  928739551136361984  المُلحق المؤهل لكأس العالم 🇪🇺أوروبا🇪🇺 مباراة ا...   \n",
       "19895  929254320754823168  رسائل وتوصيات منتدى شباب العالم .. د. عبدالله ...   \n",
       "19896  931274896897904640  لماذا الحكومات لم تحاسبهم؟ ربما تحريضهم للشباب...   \n",
       "\n",
       "               Topic Sentiment_label  Sentiment_label_confidence  \\\n",
       "0              Event        Positive                        0.38   \n",
       "1             Entity        Negative                        1.00   \n",
       "2              Event        Positive                        0.69   \n",
       "3              Event        Negative                        1.00   \n",
       "4              Event         Neutral                        1.00   \n",
       "...              ...             ...                         ...   \n",
       "19892          Event         Neutral                        1.00   \n",
       "19893          Event        Positive                        0.69   \n",
       "19894          Event         Neutral                        1.00   \n",
       "19895          Event         Neutral                        1.00   \n",
       "19896  Long_Standing        Negative                        1.00   \n",
       "\n",
       "      Speech_act_label  Speech_act_label_confidence  \n",
       "0            Assertion                         0.62  \n",
       "1           Expression                         0.68  \n",
       "2            Assertion                         1.00  \n",
       "3           Expression                         1.00  \n",
       "4            Assertion                         1.00  \n",
       "...                ...                          ...  \n",
       "19892        Assertion                         1.00  \n",
       "19893       Expression                         0.69  \n",
       "19894        Assertion                         1.00  \n",
       "19895        Assertion                         1.00  \n",
       "19896       Expression                         1.00  \n",
       "\n",
       "[19897 rows x 7 columns]"
      ]
     },
     "execution_count": 30,
     "metadata": {},
     "output_type": "execute_result"
    }
   ],
   "source": [
    "arsas_df"
   ]
  },
  {
   "cell_type": "code",
   "execution_count": 31,
   "id": "c290e677",
   "metadata": {},
   "outputs": [],
   "source": [
    "arsas_df.drop([\"#Tweet_ID\", \"Topic\", \"Sentiment_label_confidence\", \"Speech_act_label\", \"Speech_act_label_confidence\"], axis=1, inplace=True)"
   ]
  },
  {
   "cell_type": "code",
   "execution_count": 32,
   "id": "4531bb46",
   "metadata": {},
   "outputs": [
    {
     "data": {
      "text/html": [
       "<div>\n",
       "<style scoped>\n",
       "    .dataframe tbody tr th:only-of-type {\n",
       "        vertical-align: middle;\n",
       "    }\n",
       "\n",
       "    .dataframe tbody tr th {\n",
       "        vertical-align: top;\n",
       "    }\n",
       "\n",
       "    .dataframe thead th {\n",
       "        text-align: right;\n",
       "    }\n",
       "</style>\n",
       "<table border=\"1\" class=\"dataframe\">\n",
       "  <thead>\n",
       "    <tr style=\"text-align: right;\">\n",
       "      <th></th>\n",
       "      <th>Tweet_text</th>\n",
       "      <th>Sentiment_label</th>\n",
       "    </tr>\n",
       "  </thead>\n",
       "  <tbody>\n",
       "    <tr>\n",
       "      <th>0</th>\n",
       "      <td>المباراة القـادمة #غانا x #مصر الجولة الأخيرة ...</td>\n",
       "      <td>Positive</td>\n",
       "    </tr>\n",
       "    <tr>\n",
       "      <th>1</th>\n",
       "      <td>هل هذه هي سياسة خارجيه لدوله تحترم نفسها والآخ...</td>\n",
       "      <td>Negative</td>\n",
       "    </tr>\n",
       "    <tr>\n",
       "      <th>2</th>\n",
       "      <td>وزير خارجية فرنسا عن منتدى شباب العالم: شعرت ب...</td>\n",
       "      <td>Positive</td>\n",
       "    </tr>\n",
       "    <tr>\n",
       "      <th>3</th>\n",
       "      <td>ومع السيسي و بشار و ايران و بن زايد و والا خلي...</td>\n",
       "      <td>Negative</td>\n",
       "    </tr>\n",
       "    <tr>\n",
       "      <th>4</th>\n",
       "      <td>أهداف مباراة غانا 0 مصر 1 تصفيات كأس العالم 20...</td>\n",
       "      <td>Neutral</td>\n",
       "    </tr>\n",
       "    <tr>\n",
       "      <th>...</th>\n",
       "      <td>...</td>\n",
       "      <td>...</td>\n",
       "    </tr>\n",
       "    <tr>\n",
       "      <th>19892</th>\n",
       "      <td>ملخص مباراة نيجيريا vs الجزائر تصفيات كأس 🏆 ال...</td>\n",
       "      <td>Neutral</td>\n",
       "    </tr>\n",
       "    <tr>\n",
       "      <th>19893</th>\n",
       "      <td>ايطاليا في السان سيرو لعبت 42 مباراة 🇮🇹 31 فوز...</td>\n",
       "      <td>Positive</td>\n",
       "    </tr>\n",
       "    <tr>\n",
       "      <th>19894</th>\n",
       "      <td>المُلحق المؤهل لكأس العالم 🇪🇺أوروبا🇪🇺 مباراة ا...</td>\n",
       "      <td>Neutral</td>\n",
       "    </tr>\n",
       "    <tr>\n",
       "      <th>19895</th>\n",
       "      <td>رسائل وتوصيات منتدى شباب العالم .. د. عبدالله ...</td>\n",
       "      <td>Neutral</td>\n",
       "    </tr>\n",
       "    <tr>\n",
       "      <th>19896</th>\n",
       "      <td>لماذا الحكومات لم تحاسبهم؟ ربما تحريضهم للشباب...</td>\n",
       "      <td>Negative</td>\n",
       "    </tr>\n",
       "  </tbody>\n",
       "</table>\n",
       "<p>19897 rows × 2 columns</p>\n",
       "</div>"
      ],
      "text/plain": [
       "                                              Tweet_text Sentiment_label\n",
       "0      المباراة القـادمة #غانا x #مصر الجولة الأخيرة ...        Positive\n",
       "1      هل هذه هي سياسة خارجيه لدوله تحترم نفسها والآخ...        Negative\n",
       "2      وزير خارجية فرنسا عن منتدى شباب العالم: شعرت ب...        Positive\n",
       "3      ومع السيسي و بشار و ايران و بن زايد و والا خلي...        Negative\n",
       "4      أهداف مباراة غانا 0 مصر 1 تصفيات كأس العالم 20...         Neutral\n",
       "...                                                  ...             ...\n",
       "19892  ملخص مباراة نيجيريا vs الجزائر تصفيات كأس 🏆 ال...         Neutral\n",
       "19893  ايطاليا في السان سيرو لعبت 42 مباراة 🇮🇹 31 فوز...        Positive\n",
       "19894  المُلحق المؤهل لكأس العالم 🇪🇺أوروبا🇪🇺 مباراة ا...         Neutral\n",
       "19895  رسائل وتوصيات منتدى شباب العالم .. د. عبدالله ...         Neutral\n",
       "19896  لماذا الحكومات لم تحاسبهم؟ ربما تحريضهم للشباب...        Negative\n",
       "\n",
       "[19897 rows x 2 columns]"
      ]
     },
     "execution_count": 32,
     "metadata": {},
     "output_type": "execute_result"
    }
   ],
   "source": [
    "arsas_df"
   ]
  },
  {
   "cell_type": "code",
   "execution_count": 33,
   "id": "1a0282b7",
   "metadata": {},
   "outputs": [],
   "source": [
    "arsas_df.rename(columns={'Tweet_text': 'sentence', 'Sentiment_label': 'label'}, inplace=True)"
   ]
  },
  {
   "cell_type": "code",
   "execution_count": 34,
   "id": "90416040",
   "metadata": {},
   "outputs": [
    {
     "data": {
      "text/html": [
       "<div>\n",
       "<style scoped>\n",
       "    .dataframe tbody tr th:only-of-type {\n",
       "        vertical-align: middle;\n",
       "    }\n",
       "\n",
       "    .dataframe tbody tr th {\n",
       "        vertical-align: top;\n",
       "    }\n",
       "\n",
       "    .dataframe thead th {\n",
       "        text-align: right;\n",
       "    }\n",
       "</style>\n",
       "<table border=\"1\" class=\"dataframe\">\n",
       "  <thead>\n",
       "    <tr style=\"text-align: right;\">\n",
       "      <th></th>\n",
       "      <th>sentence</th>\n",
       "      <th>label</th>\n",
       "    </tr>\n",
       "  </thead>\n",
       "  <tbody>\n",
       "    <tr>\n",
       "      <th>0</th>\n",
       "      <td>المباراة القـادمة #غانا x #مصر الجولة الأخيرة ...</td>\n",
       "      <td>Positive</td>\n",
       "    </tr>\n",
       "    <tr>\n",
       "      <th>1</th>\n",
       "      <td>هل هذه هي سياسة خارجيه لدوله تحترم نفسها والآخ...</td>\n",
       "      <td>Negative</td>\n",
       "    </tr>\n",
       "    <tr>\n",
       "      <th>2</th>\n",
       "      <td>وزير خارجية فرنسا عن منتدى شباب العالم: شعرت ب...</td>\n",
       "      <td>Positive</td>\n",
       "    </tr>\n",
       "    <tr>\n",
       "      <th>3</th>\n",
       "      <td>ومع السيسي و بشار و ايران و بن زايد و والا خلي...</td>\n",
       "      <td>Negative</td>\n",
       "    </tr>\n",
       "    <tr>\n",
       "      <th>4</th>\n",
       "      <td>أهداف مباراة غانا 0 مصر 1 تصفيات كأس العالم 20...</td>\n",
       "      <td>Neutral</td>\n",
       "    </tr>\n",
       "    <tr>\n",
       "      <th>...</th>\n",
       "      <td>...</td>\n",
       "      <td>...</td>\n",
       "    </tr>\n",
       "    <tr>\n",
       "      <th>19892</th>\n",
       "      <td>ملخص مباراة نيجيريا vs الجزائر تصفيات كأس 🏆 ال...</td>\n",
       "      <td>Neutral</td>\n",
       "    </tr>\n",
       "    <tr>\n",
       "      <th>19893</th>\n",
       "      <td>ايطاليا في السان سيرو لعبت 42 مباراة 🇮🇹 31 فوز...</td>\n",
       "      <td>Positive</td>\n",
       "    </tr>\n",
       "    <tr>\n",
       "      <th>19894</th>\n",
       "      <td>المُلحق المؤهل لكأس العالم 🇪🇺أوروبا🇪🇺 مباراة ا...</td>\n",
       "      <td>Neutral</td>\n",
       "    </tr>\n",
       "    <tr>\n",
       "      <th>19895</th>\n",
       "      <td>رسائل وتوصيات منتدى شباب العالم .. د. عبدالله ...</td>\n",
       "      <td>Neutral</td>\n",
       "    </tr>\n",
       "    <tr>\n",
       "      <th>19896</th>\n",
       "      <td>لماذا الحكومات لم تحاسبهم؟ ربما تحريضهم للشباب...</td>\n",
       "      <td>Negative</td>\n",
       "    </tr>\n",
       "  </tbody>\n",
       "</table>\n",
       "<p>19897 rows × 2 columns</p>\n",
       "</div>"
      ],
      "text/plain": [
       "                                                sentence     label\n",
       "0      المباراة القـادمة #غانا x #مصر الجولة الأخيرة ...  Positive\n",
       "1      هل هذه هي سياسة خارجيه لدوله تحترم نفسها والآخ...  Negative\n",
       "2      وزير خارجية فرنسا عن منتدى شباب العالم: شعرت ب...  Positive\n",
       "3      ومع السيسي و بشار و ايران و بن زايد و والا خلي...  Negative\n",
       "4      أهداف مباراة غانا 0 مصر 1 تصفيات كأس العالم 20...   Neutral\n",
       "...                                                  ...       ...\n",
       "19892  ملخص مباراة نيجيريا vs الجزائر تصفيات كأس 🏆 ال...   Neutral\n",
       "19893  ايطاليا في السان سيرو لعبت 42 مباراة 🇮🇹 31 فوز...  Positive\n",
       "19894  المُلحق المؤهل لكأس العالم 🇪🇺أوروبا🇪🇺 مباراة ا...   Neutral\n",
       "19895  رسائل وتوصيات منتدى شباب العالم .. د. عبدالله ...   Neutral\n",
       "19896  لماذا الحكومات لم تحاسبهم؟ ربما تحريضهم للشباب...  Negative\n",
       "\n",
       "[19897 rows x 2 columns]"
      ]
     },
     "execution_count": 34,
     "metadata": {},
     "output_type": "execute_result"
    }
   ],
   "source": [
    "arsas_df"
   ]
  },
  {
   "cell_type": "code",
   "execution_count": 35,
   "id": "544e9273",
   "metadata": {},
   "outputs": [],
   "source": [
    "arsas_df['label'].loc[(arsas_df['label'] == \"Negative\")] = 0"
   ]
  },
  {
   "cell_type": "code",
   "execution_count": 36,
   "id": "5a9df03e",
   "metadata": {},
   "outputs": [],
   "source": [
    "arsas_df['label'].loc[(arsas_df['label'] == \"Neutral\")] = 1"
   ]
  },
  {
   "cell_type": "code",
   "execution_count": 37,
   "id": "74ecdc2a",
   "metadata": {},
   "outputs": [],
   "source": [
    "arsas_df['label'].loc[(arsas_df['label'] == \"Mixed\")] = 1"
   ]
  },
  {
   "cell_type": "code",
   "execution_count": 38,
   "id": "6bb86288",
   "metadata": {},
   "outputs": [],
   "source": [
    "arsas_df['label'].loc[(arsas_df['label'] == \"Positive\")] = 2"
   ]
  },
  {
   "cell_type": "code",
   "execution_count": 39,
   "id": "c4adc8b5",
   "metadata": {},
   "outputs": [
    {
     "data": {
      "text/html": [
       "<div>\n",
       "<style scoped>\n",
       "    .dataframe tbody tr th:only-of-type {\n",
       "        vertical-align: middle;\n",
       "    }\n",
       "\n",
       "    .dataframe tbody tr th {\n",
       "        vertical-align: top;\n",
       "    }\n",
       "\n",
       "    .dataframe thead th {\n",
       "        text-align: right;\n",
       "    }\n",
       "</style>\n",
       "<table border=\"1\" class=\"dataframe\">\n",
       "  <thead>\n",
       "    <tr style=\"text-align: right;\">\n",
       "      <th></th>\n",
       "      <th>sentence</th>\n",
       "      <th>label</th>\n",
       "    </tr>\n",
       "  </thead>\n",
       "  <tbody>\n",
       "    <tr>\n",
       "      <th>0</th>\n",
       "      <td>المباراة القـادمة #غانا x #مصر الجولة الأخيرة ...</td>\n",
       "      <td>2</td>\n",
       "    </tr>\n",
       "    <tr>\n",
       "      <th>1</th>\n",
       "      <td>هل هذه هي سياسة خارجيه لدوله تحترم نفسها والآخ...</td>\n",
       "      <td>0</td>\n",
       "    </tr>\n",
       "    <tr>\n",
       "      <th>2</th>\n",
       "      <td>وزير خارجية فرنسا عن منتدى شباب العالم: شعرت ب...</td>\n",
       "      <td>2</td>\n",
       "    </tr>\n",
       "    <tr>\n",
       "      <th>3</th>\n",
       "      <td>ومع السيسي و بشار و ايران و بن زايد و والا خلي...</td>\n",
       "      <td>0</td>\n",
       "    </tr>\n",
       "    <tr>\n",
       "      <th>4</th>\n",
       "      <td>أهداف مباراة غانا 0 مصر 1 تصفيات كأس العالم 20...</td>\n",
       "      <td>1</td>\n",
       "    </tr>\n",
       "    <tr>\n",
       "      <th>...</th>\n",
       "      <td>...</td>\n",
       "      <td>...</td>\n",
       "    </tr>\n",
       "    <tr>\n",
       "      <th>19892</th>\n",
       "      <td>ملخص مباراة نيجيريا vs الجزائر تصفيات كأس 🏆 ال...</td>\n",
       "      <td>1</td>\n",
       "    </tr>\n",
       "    <tr>\n",
       "      <th>19893</th>\n",
       "      <td>ايطاليا في السان سيرو لعبت 42 مباراة 🇮🇹 31 فوز...</td>\n",
       "      <td>2</td>\n",
       "    </tr>\n",
       "    <tr>\n",
       "      <th>19894</th>\n",
       "      <td>المُلحق المؤهل لكأس العالم 🇪🇺أوروبا🇪🇺 مباراة ا...</td>\n",
       "      <td>1</td>\n",
       "    </tr>\n",
       "    <tr>\n",
       "      <th>19895</th>\n",
       "      <td>رسائل وتوصيات منتدى شباب العالم .. د. عبدالله ...</td>\n",
       "      <td>1</td>\n",
       "    </tr>\n",
       "    <tr>\n",
       "      <th>19896</th>\n",
       "      <td>لماذا الحكومات لم تحاسبهم؟ ربما تحريضهم للشباب...</td>\n",
       "      <td>0</td>\n",
       "    </tr>\n",
       "  </tbody>\n",
       "</table>\n",
       "<p>19897 rows × 2 columns</p>\n",
       "</div>"
      ],
      "text/plain": [
       "                                                sentence label\n",
       "0      المباراة القـادمة #غانا x #مصر الجولة الأخيرة ...     2\n",
       "1      هل هذه هي سياسة خارجيه لدوله تحترم نفسها والآخ...     0\n",
       "2      وزير خارجية فرنسا عن منتدى شباب العالم: شعرت ب...     2\n",
       "3      ومع السيسي و بشار و ايران و بن زايد و والا خلي...     0\n",
       "4      أهداف مباراة غانا 0 مصر 1 تصفيات كأس العالم 20...     1\n",
       "...                                                  ...   ...\n",
       "19892  ملخص مباراة نيجيريا vs الجزائر تصفيات كأس 🏆 ال...     1\n",
       "19893  ايطاليا في السان سيرو لعبت 42 مباراة 🇮🇹 31 فوز...     2\n",
       "19894  المُلحق المؤهل لكأس العالم 🇪🇺أوروبا🇪🇺 مباراة ا...     1\n",
       "19895  رسائل وتوصيات منتدى شباب العالم .. د. عبدالله ...     1\n",
       "19896  لماذا الحكومات لم تحاسبهم؟ ربما تحريضهم للشباب...     0\n",
       "\n",
       "[19897 rows x 2 columns]"
      ]
     },
     "execution_count": 39,
     "metadata": {},
     "output_type": "execute_result"
    }
   ],
   "source": [
    "arsas_df"
   ]
  },
  {
   "cell_type": "code",
   "execution_count": 40,
   "id": "a92ea7b7",
   "metadata": {},
   "outputs": [
    {
     "data": {
      "text/plain": [
       "1    8113\n",
       "0    7384\n",
       "2    4400\n",
       "Name: label, dtype: int64"
      ]
     },
     "execution_count": 40,
     "metadata": {},
     "output_type": "execute_result"
    }
   ],
   "source": [
    "arsas_df[\"label\"].value_counts()"
   ]
  },
  {
   "cell_type": "markdown",
   "id": "522a96e0",
   "metadata": {},
   "source": [
    "#### 2.4 AJGT dataset"
   ]
  },
  {
   "cell_type": "code",
   "execution_count": 41,
   "id": "51fccdb1",
   "metadata": {},
   "outputs": [],
   "source": [
    "ajgt_df = pd.read_excel(\"data/sentiment-analysis/AJGT.xlsx\")"
   ]
  },
  {
   "cell_type": "code",
   "execution_count": 42,
   "id": "a350007e",
   "metadata": {},
   "outputs": [
    {
     "data": {
      "text/html": [
       "<div>\n",
       "<style scoped>\n",
       "    .dataframe tbody tr th:only-of-type {\n",
       "        vertical-align: middle;\n",
       "    }\n",
       "\n",
       "    .dataframe tbody tr th {\n",
       "        vertical-align: top;\n",
       "    }\n",
       "\n",
       "    .dataframe thead th {\n",
       "        text-align: right;\n",
       "    }\n",
       "</style>\n",
       "<table border=\"1\" class=\"dataframe\">\n",
       "  <thead>\n",
       "    <tr style=\"text-align: right;\">\n",
       "      <th></th>\n",
       "      <th>ID</th>\n",
       "      <th>Feed</th>\n",
       "      <th>Sentiment</th>\n",
       "    </tr>\n",
       "  </thead>\n",
       "  <tbody>\n",
       "    <tr>\n",
       "      <th>0</th>\n",
       "      <td>1</td>\n",
       "      <td>اربد فيها جامعات اكثر من عمان ... وفيها قد عم...</td>\n",
       "      <td>Positive</td>\n",
       "    </tr>\n",
       "    <tr>\n",
       "      <th>1</th>\n",
       "      <td>2</td>\n",
       "      <td>الحلو انكم بتحكوا على اساس انو الاردن ما فيه ...</td>\n",
       "      <td>Negative</td>\n",
       "    </tr>\n",
       "    <tr>\n",
       "      <th>2</th>\n",
       "      <td>3</td>\n",
       "      <td>كله رائع بجد ربنا يكرمك</td>\n",
       "      <td>Positive</td>\n",
       "    </tr>\n",
       "    <tr>\n",
       "      <th>3</th>\n",
       "      <td>4</td>\n",
       "      <td>لسانك قذر يا قمامه</td>\n",
       "      <td>Negative</td>\n",
       "    </tr>\n",
       "    <tr>\n",
       "      <th>4</th>\n",
       "      <td>5</td>\n",
       "      <td>​انا داشره وغير متزوجه ولدي علاقات مشبوه واحشش...</td>\n",
       "      <td>Negative</td>\n",
       "    </tr>\n",
       "    <tr>\n",
       "      <th>...</th>\n",
       "      <td>...</td>\n",
       "      <td>...</td>\n",
       "      <td>...</td>\n",
       "    </tr>\n",
       "    <tr>\n",
       "      <th>1795</th>\n",
       "      <td>1796</td>\n",
       "      <td>يلعن شرف خواتك</td>\n",
       "      <td>Negative</td>\n",
       "    </tr>\n",
       "    <tr>\n",
       "      <th>1796</th>\n",
       "      <td>1797</td>\n",
       "      <td>يلعنك نذل وكلب</td>\n",
       "      <td>Negative</td>\n",
       "    </tr>\n",
       "    <tr>\n",
       "      <th>1797</th>\n",
       "      <td>1798</td>\n",
       "      <td>يمتاز الاردن بتنوع السياحه فيه فتنقسم السياحه ...</td>\n",
       "      <td>Positive</td>\n",
       "    </tr>\n",
       "    <tr>\n",
       "      <th>1798</th>\n",
       "      <td>1799</td>\n",
       "      <td>ينور عليك ويكثر من امثالك</td>\n",
       "      <td>Positive</td>\n",
       "    </tr>\n",
       "    <tr>\n",
       "      <th>1799</th>\n",
       "      <td>1800</td>\n",
       "      <td>يهدي الله من يشاء</td>\n",
       "      <td>Positive</td>\n",
       "    </tr>\n",
       "  </tbody>\n",
       "</table>\n",
       "<p>1800 rows × 3 columns</p>\n",
       "</div>"
      ],
      "text/plain": [
       "        ID                                               Feed Sentiment\n",
       "0        1   اربد فيها جامعات اكثر من عمان ... وفيها قد عم...  Positive\n",
       "1        2   الحلو انكم بتحكوا على اساس انو الاردن ما فيه ...  Negative\n",
       "2        3                            كله رائع بجد ربنا يكرمك  Positive\n",
       "3        4                                 لسانك قذر يا قمامه  Negative\n",
       "4        5  ​انا داشره وغير متزوجه ولدي علاقات مشبوه واحشش...  Negative\n",
       "...    ...                                                ...       ...\n",
       "1795  1796                                     يلعن شرف خواتك  Negative\n",
       "1796  1797                                     يلعنك نذل وكلب  Negative\n",
       "1797  1798  يمتاز الاردن بتنوع السياحه فيه فتنقسم السياحه ...  Positive\n",
       "1798  1799                          ينور عليك ويكثر من امثالك  Positive\n",
       "1799  1800                                  يهدي الله من يشاء  Positive\n",
       "\n",
       "[1800 rows x 3 columns]"
      ]
     },
     "execution_count": 42,
     "metadata": {},
     "output_type": "execute_result"
    }
   ],
   "source": [
    "ajgt_df"
   ]
  },
  {
   "cell_type": "code",
   "execution_count": 43,
   "id": "416a19e1",
   "metadata": {},
   "outputs": [],
   "source": [
    "ajgt_df.drop([\"ID\"], axis=1, inplace=True)"
   ]
  },
  {
   "cell_type": "code",
   "execution_count": 44,
   "id": "d9b23303",
   "metadata": {},
   "outputs": [],
   "source": [
    "ajgt_df.rename(columns={\"Feed\": \"sentence\", \"Sentiment\": \"label\"}, inplace=True)"
   ]
  },
  {
   "cell_type": "code",
   "execution_count": 45,
   "id": "d196754d",
   "metadata": {},
   "outputs": [
    {
     "data": {
      "text/html": [
       "<div>\n",
       "<style scoped>\n",
       "    .dataframe tbody tr th:only-of-type {\n",
       "        vertical-align: middle;\n",
       "    }\n",
       "\n",
       "    .dataframe tbody tr th {\n",
       "        vertical-align: top;\n",
       "    }\n",
       "\n",
       "    .dataframe thead th {\n",
       "        text-align: right;\n",
       "    }\n",
       "</style>\n",
       "<table border=\"1\" class=\"dataframe\">\n",
       "  <thead>\n",
       "    <tr style=\"text-align: right;\">\n",
       "      <th></th>\n",
       "      <th>sentence</th>\n",
       "      <th>label</th>\n",
       "    </tr>\n",
       "  </thead>\n",
       "  <tbody>\n",
       "    <tr>\n",
       "      <th>0</th>\n",
       "      <td>اربد فيها جامعات اكثر من عمان ... وفيها قد عم...</td>\n",
       "      <td>Positive</td>\n",
       "    </tr>\n",
       "    <tr>\n",
       "      <th>1</th>\n",
       "      <td>الحلو انكم بتحكوا على اساس انو الاردن ما فيه ...</td>\n",
       "      <td>Negative</td>\n",
       "    </tr>\n",
       "    <tr>\n",
       "      <th>2</th>\n",
       "      <td>كله رائع بجد ربنا يكرمك</td>\n",
       "      <td>Positive</td>\n",
       "    </tr>\n",
       "    <tr>\n",
       "      <th>3</th>\n",
       "      <td>لسانك قذر يا قمامه</td>\n",
       "      <td>Negative</td>\n",
       "    </tr>\n",
       "    <tr>\n",
       "      <th>4</th>\n",
       "      <td>​انا داشره وغير متزوجه ولدي علاقات مشبوه واحشش...</td>\n",
       "      <td>Negative</td>\n",
       "    </tr>\n",
       "    <tr>\n",
       "      <th>...</th>\n",
       "      <td>...</td>\n",
       "      <td>...</td>\n",
       "    </tr>\n",
       "    <tr>\n",
       "      <th>1795</th>\n",
       "      <td>يلعن شرف خواتك</td>\n",
       "      <td>Negative</td>\n",
       "    </tr>\n",
       "    <tr>\n",
       "      <th>1796</th>\n",
       "      <td>يلعنك نذل وكلب</td>\n",
       "      <td>Negative</td>\n",
       "    </tr>\n",
       "    <tr>\n",
       "      <th>1797</th>\n",
       "      <td>يمتاز الاردن بتنوع السياحه فيه فتنقسم السياحه ...</td>\n",
       "      <td>Positive</td>\n",
       "    </tr>\n",
       "    <tr>\n",
       "      <th>1798</th>\n",
       "      <td>ينور عليك ويكثر من امثالك</td>\n",
       "      <td>Positive</td>\n",
       "    </tr>\n",
       "    <tr>\n",
       "      <th>1799</th>\n",
       "      <td>يهدي الله من يشاء</td>\n",
       "      <td>Positive</td>\n",
       "    </tr>\n",
       "  </tbody>\n",
       "</table>\n",
       "<p>1800 rows × 2 columns</p>\n",
       "</div>"
      ],
      "text/plain": [
       "                                               sentence     label\n",
       "0      اربد فيها جامعات اكثر من عمان ... وفيها قد عم...  Positive\n",
       "1      الحلو انكم بتحكوا على اساس انو الاردن ما فيه ...  Negative\n",
       "2                               كله رائع بجد ربنا يكرمك  Positive\n",
       "3                                    لسانك قذر يا قمامه  Negative\n",
       "4     ​انا داشره وغير متزوجه ولدي علاقات مشبوه واحشش...  Negative\n",
       "...                                                 ...       ...\n",
       "1795                                     يلعن شرف خواتك  Negative\n",
       "1796                                     يلعنك نذل وكلب  Negative\n",
       "1797  يمتاز الاردن بتنوع السياحه فيه فتنقسم السياحه ...  Positive\n",
       "1798                          ينور عليك ويكثر من امثالك  Positive\n",
       "1799                                  يهدي الله من يشاء  Positive\n",
       "\n",
       "[1800 rows x 2 columns]"
      ]
     },
     "execution_count": 45,
     "metadata": {},
     "output_type": "execute_result"
    }
   ],
   "source": [
    "ajgt_df"
   ]
  },
  {
   "cell_type": "code",
   "execution_count": 46,
   "id": "cdd4307a",
   "metadata": {},
   "outputs": [],
   "source": [
    "ajgt_df['label'].loc[(ajgt_df['label'] == \"Negative\")] = 0"
   ]
  },
  {
   "cell_type": "code",
   "execution_count": 47,
   "id": "c0f1ccf9",
   "metadata": {},
   "outputs": [],
   "source": [
    "ajgt_df['label'].loc[(ajgt_df['label'] == \"Positive\")] = 2"
   ]
  },
  {
   "cell_type": "code",
   "execution_count": 48,
   "id": "687f7566",
   "metadata": {},
   "outputs": [
    {
     "data": {
      "text/html": [
       "<div>\n",
       "<style scoped>\n",
       "    .dataframe tbody tr th:only-of-type {\n",
       "        vertical-align: middle;\n",
       "    }\n",
       "\n",
       "    .dataframe tbody tr th {\n",
       "        vertical-align: top;\n",
       "    }\n",
       "\n",
       "    .dataframe thead th {\n",
       "        text-align: right;\n",
       "    }\n",
       "</style>\n",
       "<table border=\"1\" class=\"dataframe\">\n",
       "  <thead>\n",
       "    <tr style=\"text-align: right;\">\n",
       "      <th></th>\n",
       "      <th>sentence</th>\n",
       "      <th>label</th>\n",
       "    </tr>\n",
       "  </thead>\n",
       "  <tbody>\n",
       "    <tr>\n",
       "      <th>0</th>\n",
       "      <td>اربد فيها جامعات اكثر من عمان ... وفيها قد عم...</td>\n",
       "      <td>2</td>\n",
       "    </tr>\n",
       "    <tr>\n",
       "      <th>1</th>\n",
       "      <td>الحلو انكم بتحكوا على اساس انو الاردن ما فيه ...</td>\n",
       "      <td>0</td>\n",
       "    </tr>\n",
       "    <tr>\n",
       "      <th>2</th>\n",
       "      <td>كله رائع بجد ربنا يكرمك</td>\n",
       "      <td>2</td>\n",
       "    </tr>\n",
       "    <tr>\n",
       "      <th>3</th>\n",
       "      <td>لسانك قذر يا قمامه</td>\n",
       "      <td>0</td>\n",
       "    </tr>\n",
       "    <tr>\n",
       "      <th>4</th>\n",
       "      <td>​انا داشره وغير متزوجه ولدي علاقات مشبوه واحشش...</td>\n",
       "      <td>0</td>\n",
       "    </tr>\n",
       "    <tr>\n",
       "      <th>...</th>\n",
       "      <td>...</td>\n",
       "      <td>...</td>\n",
       "    </tr>\n",
       "    <tr>\n",
       "      <th>1795</th>\n",
       "      <td>يلعن شرف خواتك</td>\n",
       "      <td>0</td>\n",
       "    </tr>\n",
       "    <tr>\n",
       "      <th>1796</th>\n",
       "      <td>يلعنك نذل وكلب</td>\n",
       "      <td>0</td>\n",
       "    </tr>\n",
       "    <tr>\n",
       "      <th>1797</th>\n",
       "      <td>يمتاز الاردن بتنوع السياحه فيه فتنقسم السياحه ...</td>\n",
       "      <td>2</td>\n",
       "    </tr>\n",
       "    <tr>\n",
       "      <th>1798</th>\n",
       "      <td>ينور عليك ويكثر من امثالك</td>\n",
       "      <td>2</td>\n",
       "    </tr>\n",
       "    <tr>\n",
       "      <th>1799</th>\n",
       "      <td>يهدي الله من يشاء</td>\n",
       "      <td>2</td>\n",
       "    </tr>\n",
       "  </tbody>\n",
       "</table>\n",
       "<p>1800 rows × 2 columns</p>\n",
       "</div>"
      ],
      "text/plain": [
       "                                               sentence label\n",
       "0      اربد فيها جامعات اكثر من عمان ... وفيها قد عم...     2\n",
       "1      الحلو انكم بتحكوا على اساس انو الاردن ما فيه ...     0\n",
       "2                               كله رائع بجد ربنا يكرمك     2\n",
       "3                                    لسانك قذر يا قمامه     0\n",
       "4     ​انا داشره وغير متزوجه ولدي علاقات مشبوه واحشش...     0\n",
       "...                                                 ...   ...\n",
       "1795                                     يلعن شرف خواتك     0\n",
       "1796                                     يلعنك نذل وكلب     0\n",
       "1797  يمتاز الاردن بتنوع السياحه فيه فتنقسم السياحه ...     2\n",
       "1798                          ينور عليك ويكثر من امثالك     2\n",
       "1799                                  يهدي الله من يشاء     2\n",
       "\n",
       "[1800 rows x 2 columns]"
      ]
     },
     "execution_count": 48,
     "metadata": {},
     "output_type": "execute_result"
    }
   ],
   "source": [
    "ajgt_df"
   ]
  },
  {
   "cell_type": "code",
   "execution_count": 49,
   "id": "b0d1422b",
   "metadata": {},
   "outputs": [
    {
     "data": {
      "text/plain": [
       "2    900\n",
       "0    900\n",
       "Name: label, dtype: int64"
      ]
     },
     "execution_count": 49,
     "metadata": {},
     "output_type": "execute_result"
    }
   ],
   "source": [
    "ajgt_df[\"label\"].value_counts()"
   ]
  },
  {
   "cell_type": "markdown",
   "id": "d8ea59d8",
   "metadata": {},
   "source": [
    "#### 2.5 40000 Egyptian tweets dataset"
   ]
  },
  {
   "cell_type": "code",
   "execution_count": 50,
   "id": "46a2a637",
   "metadata": {},
   "outputs": [],
   "source": [
    "egypt_df = pd.read_excel(\"data/sentiment-analysis/40000-Egyptian-tweets.xlsx\")"
   ]
  },
  {
   "cell_type": "code",
   "execution_count": 51,
   "id": "68e1704c",
   "metadata": {},
   "outputs": [
    {
     "data": {
      "text/html": [
       "<div>\n",
       "<style scoped>\n",
       "    .dataframe tbody tr th:only-of-type {\n",
       "        vertical-align: middle;\n",
       "    }\n",
       "\n",
       "    .dataframe tbody tr th {\n",
       "        vertical-align: top;\n",
       "    }\n",
       "\n",
       "    .dataframe thead th {\n",
       "        text-align: right;\n",
       "    }\n",
       "</style>\n",
       "<table border=\"1\" class=\"dataframe\">\n",
       "  <thead>\n",
       "    <tr style=\"text-align: right;\">\n",
       "      <th></th>\n",
       "      <th>review</th>\n",
       "      <th>label</th>\n",
       "    </tr>\n",
       "  </thead>\n",
       "  <tbody>\n",
       "    <tr>\n",
       "      <th>0</th>\n",
       "      <td>اكبر خطا ترتكبه ان تعامل الناس باخلاقك انت مش ...</td>\n",
       "      <td>negative</td>\n",
       "    </tr>\n",
       "    <tr>\n",
       "      <th>1</th>\n",
       "      <td>دائما اكره اخر ليله في كل مكان   .</td>\n",
       "      <td>negative</td>\n",
       "    </tr>\n",
       "    <tr>\n",
       "      <th>2</th>\n",
       "      <td>يارب اللى يسرق تويتاتى يدخل النار .</td>\n",
       "      <td>negative</td>\n",
       "    </tr>\n",
       "    <tr>\n",
       "      <th>3</th>\n",
       "      <td>الاسراف فى تناول القهوة يسبب الوفاه .</td>\n",
       "      <td>negative</td>\n",
       "    </tr>\n",
       "    <tr>\n",
       "      <th>4</th>\n",
       "      <td>انا اتبهدلت من التراب النهارده. حاجة تقرف  .</td>\n",
       "      <td>positive</td>\n",
       "    </tr>\n",
       "    <tr>\n",
       "      <th>...</th>\n",
       "      <td>...</td>\n",
       "      <td>...</td>\n",
       "    </tr>\n",
       "    <tr>\n",
       "      <th>39995</th>\n",
       "      <td>لنسعد ايامنا بالابتسامة بدلاً ان نملاها بالدموع.</td>\n",
       "      <td>positive</td>\n",
       "    </tr>\n",
       "    <tr>\n",
       "      <th>39996</th>\n",
       "      <td>مش هقولك غير ان نص الضحك اللي ضحكته فى حياتي ك...</td>\n",
       "      <td>positive</td>\n",
       "    </tr>\n",
       "    <tr>\n",
       "      <th>39997</th>\n",
       "      <td>ربنا يوفقك ويسهلك وان شاء الله تعدي الفترة دي ...</td>\n",
       "      <td>positive</td>\n",
       "    </tr>\n",
       "    <tr>\n",
       "      <th>39998</th>\n",
       "      <td>مبسوطة اوى عملت طريقة مكرونة جديدة و هى دلوقتى...</td>\n",
       "      <td>positive</td>\n",
       "    </tr>\n",
       "    <tr>\n",
       "      <th>39999</th>\n",
       "      <td>مفيش اجمل من حضن الام .</td>\n",
       "      <td>positive</td>\n",
       "    </tr>\n",
       "  </tbody>\n",
       "</table>\n",
       "<p>40000 rows × 2 columns</p>\n",
       "</div>"
      ],
      "text/plain": [
       "                                                  review     label\n",
       "0      اكبر خطا ترتكبه ان تعامل الناس باخلاقك انت مش ...  negative\n",
       "1                   دائما اكره اخر ليله في كل مكان   .    negative\n",
       "2                  يارب اللى يسرق تويتاتى يدخل النار .    negative\n",
       "3                الاسراف فى تناول القهوة يسبب الوفاه .    negative\n",
       "4          انا اتبهدلت من التراب النهارده. حاجة تقرف  .   positive\n",
       "...                                                  ...       ...\n",
       "39995  لنسعد ايامنا بالابتسامة بدلاً ان نملاها بالدموع.   positive\n",
       "39996  مش هقولك غير ان نص الضحك اللي ضحكته فى حياتي ك...  positive\n",
       "39997  ربنا يوفقك ويسهلك وان شاء الله تعدي الفترة دي ...  positive\n",
       "39998  مبسوطة اوى عملت طريقة مكرونة جديدة و هى دلوقتى...  positive\n",
       "39999                            مفيش اجمل من حضن الام .  positive\n",
       "\n",
       "[40000 rows x 2 columns]"
      ]
     },
     "execution_count": 51,
     "metadata": {},
     "output_type": "execute_result"
    }
   ],
   "source": [
    "egypt_df"
   ]
  },
  {
   "cell_type": "code",
   "execution_count": 52,
   "id": "4bf9e115",
   "metadata": {},
   "outputs": [],
   "source": [
    "egypt_df.rename(columns={\"review\": \"sentence\"}, inplace=True)"
   ]
  },
  {
   "cell_type": "code",
   "execution_count": 53,
   "id": "c3e5f058",
   "metadata": {},
   "outputs": [],
   "source": [
    "egypt_df['label'].loc[(egypt_df['label'] == \"negative\")] = 0"
   ]
  },
  {
   "cell_type": "code",
   "execution_count": 54,
   "id": "9bc347db",
   "metadata": {},
   "outputs": [],
   "source": [
    "egypt_df['label'].loc[(egypt_df['label'] == \"positive\")] = 2"
   ]
  },
  {
   "cell_type": "code",
   "execution_count": 55,
   "id": "8e3a4274",
   "metadata": {},
   "outputs": [
    {
     "data": {
      "text/html": [
       "<div>\n",
       "<style scoped>\n",
       "    .dataframe tbody tr th:only-of-type {\n",
       "        vertical-align: middle;\n",
       "    }\n",
       "\n",
       "    .dataframe tbody tr th {\n",
       "        vertical-align: top;\n",
       "    }\n",
       "\n",
       "    .dataframe thead th {\n",
       "        text-align: right;\n",
       "    }\n",
       "</style>\n",
       "<table border=\"1\" class=\"dataframe\">\n",
       "  <thead>\n",
       "    <tr style=\"text-align: right;\">\n",
       "      <th></th>\n",
       "      <th>sentence</th>\n",
       "      <th>label</th>\n",
       "    </tr>\n",
       "  </thead>\n",
       "  <tbody>\n",
       "    <tr>\n",
       "      <th>0</th>\n",
       "      <td>اكبر خطا ترتكبه ان تعامل الناس باخلاقك انت مش ...</td>\n",
       "      <td>0</td>\n",
       "    </tr>\n",
       "    <tr>\n",
       "      <th>1</th>\n",
       "      <td>دائما اكره اخر ليله في كل مكان   .</td>\n",
       "      <td>0</td>\n",
       "    </tr>\n",
       "    <tr>\n",
       "      <th>2</th>\n",
       "      <td>يارب اللى يسرق تويتاتى يدخل النار .</td>\n",
       "      <td>0</td>\n",
       "    </tr>\n",
       "    <tr>\n",
       "      <th>3</th>\n",
       "      <td>الاسراف فى تناول القهوة يسبب الوفاه .</td>\n",
       "      <td>0</td>\n",
       "    </tr>\n",
       "    <tr>\n",
       "      <th>4</th>\n",
       "      <td>انا اتبهدلت من التراب النهارده. حاجة تقرف  .</td>\n",
       "      <td>2</td>\n",
       "    </tr>\n",
       "    <tr>\n",
       "      <th>...</th>\n",
       "      <td>...</td>\n",
       "      <td>...</td>\n",
       "    </tr>\n",
       "    <tr>\n",
       "      <th>39995</th>\n",
       "      <td>لنسعد ايامنا بالابتسامة بدلاً ان نملاها بالدموع.</td>\n",
       "      <td>2</td>\n",
       "    </tr>\n",
       "    <tr>\n",
       "      <th>39996</th>\n",
       "      <td>مش هقولك غير ان نص الضحك اللي ضحكته فى حياتي ك...</td>\n",
       "      <td>2</td>\n",
       "    </tr>\n",
       "    <tr>\n",
       "      <th>39997</th>\n",
       "      <td>ربنا يوفقك ويسهلك وان شاء الله تعدي الفترة دي ...</td>\n",
       "      <td>2</td>\n",
       "    </tr>\n",
       "    <tr>\n",
       "      <th>39998</th>\n",
       "      <td>مبسوطة اوى عملت طريقة مكرونة جديدة و هى دلوقتى...</td>\n",
       "      <td>2</td>\n",
       "    </tr>\n",
       "    <tr>\n",
       "      <th>39999</th>\n",
       "      <td>مفيش اجمل من حضن الام .</td>\n",
       "      <td>2</td>\n",
       "    </tr>\n",
       "  </tbody>\n",
       "</table>\n",
       "<p>40000 rows × 2 columns</p>\n",
       "</div>"
      ],
      "text/plain": [
       "                                                sentence label\n",
       "0      اكبر خطا ترتكبه ان تعامل الناس باخلاقك انت مش ...     0\n",
       "1                   دائما اكره اخر ليله في كل مكان   .       0\n",
       "2                  يارب اللى يسرق تويتاتى يدخل النار .       0\n",
       "3                الاسراف فى تناول القهوة يسبب الوفاه .       0\n",
       "4          انا اتبهدلت من التراب النهارده. حاجة تقرف  .      2\n",
       "...                                                  ...   ...\n",
       "39995  لنسعد ايامنا بالابتسامة بدلاً ان نملاها بالدموع.      2\n",
       "39996  مش هقولك غير ان نص الضحك اللي ضحكته فى حياتي ك...     2\n",
       "39997  ربنا يوفقك ويسهلك وان شاء الله تعدي الفترة دي ...     2\n",
       "39998  مبسوطة اوى عملت طريقة مكرونة جديدة و هى دلوقتى...     2\n",
       "39999                            مفيش اجمل من حضن الام .     2\n",
       "\n",
       "[40000 rows x 2 columns]"
      ]
     },
     "execution_count": 55,
     "metadata": {},
     "output_type": "execute_result"
    }
   ],
   "source": [
    "egypt_df"
   ]
  },
  {
   "cell_type": "code",
   "execution_count": 56,
   "id": "d557a590",
   "metadata": {},
   "outputs": [
    {
     "data": {
      "text/plain": [
       "0                   19998\n",
       "2                   19995\n",
       "positive ‎              2\n",
       "positive ‎              1\n",
       "positive​               1\n",
       "positive​‏              1\n",
       "negative​‏​‏            1\n",
       "negative​‏​‏​‏​         1\n",
       "Name: label, dtype: int64"
      ]
     },
     "execution_count": 56,
     "metadata": {},
     "output_type": "execute_result"
    }
   ],
   "source": [
    "egypt_df[\"label\"].value_counts()"
   ]
  },
  {
   "cell_type": "code",
   "execution_count": 57,
   "id": "fc198b79",
   "metadata": {},
   "outputs": [
    {
     "data": {
      "text/plain": [
       "array([0, 2, 'positive \\u200e    ', 'positive\\u200b', 'positive \\u200e',\n",
       "       'positive\\u200b\\u200f', 'negative\\u200b\\u200f\\u200b\\u200f',\n",
       "       'negative\\u200b\\u200f\\u200b\\u200f\\u200b\\u200f\\u200b '],\n",
       "      dtype=object)"
      ]
     },
     "execution_count": 57,
     "metadata": {},
     "output_type": "execute_result"
    }
   ],
   "source": [
    "egypt_df[\"label\"].unique()"
   ]
  },
  {
   "cell_type": "code",
   "execution_count": 58,
   "id": "71820089",
   "metadata": {},
   "outputs": [],
   "source": [
    "egypt_df.drop(egypt_df.index[egypt_df['label'] == 'positive \\u200e    '], inplace=True)\n",
    "egypt_df.drop(egypt_df.index[egypt_df['label'] == 'positive\\u200b'], inplace=True)\n",
    "egypt_df.drop(egypt_df.index[egypt_df['label'] == 'positive \\u200e'], inplace=True)\n",
    "egypt_df.drop(egypt_df.index[egypt_df['label'] == 'positive\\u200b\\u200f'], inplace=True)\n",
    "egypt_df.drop(egypt_df.index[egypt_df['label'] == 'negative\\u200b\\u200f\\u200b\\u200f'], inplace=True)\n",
    "egypt_df.drop(egypt_df.index[egypt_df['label'] == 'negative\\u200b\\u200f\\u200b\\u200f\\u200b\\u200f\\u200b '], inplace=True)"
   ]
  },
  {
   "cell_type": "code",
   "execution_count": 59,
   "id": "8b9149f9",
   "metadata": {},
   "outputs": [
    {
     "data": {
      "text/html": [
       "<div>\n",
       "<style scoped>\n",
       "    .dataframe tbody tr th:only-of-type {\n",
       "        vertical-align: middle;\n",
       "    }\n",
       "\n",
       "    .dataframe tbody tr th {\n",
       "        vertical-align: top;\n",
       "    }\n",
       "\n",
       "    .dataframe thead th {\n",
       "        text-align: right;\n",
       "    }\n",
       "</style>\n",
       "<table border=\"1\" class=\"dataframe\">\n",
       "  <thead>\n",
       "    <tr style=\"text-align: right;\">\n",
       "      <th></th>\n",
       "      <th>sentence</th>\n",
       "      <th>label</th>\n",
       "    </tr>\n",
       "  </thead>\n",
       "  <tbody>\n",
       "    <tr>\n",
       "      <th>0</th>\n",
       "      <td>اكبر خطا ترتكبه ان تعامل الناس باخلاقك انت مش ...</td>\n",
       "      <td>0</td>\n",
       "    </tr>\n",
       "    <tr>\n",
       "      <th>1</th>\n",
       "      <td>دائما اكره اخر ليله في كل مكان   .</td>\n",
       "      <td>0</td>\n",
       "    </tr>\n",
       "    <tr>\n",
       "      <th>2</th>\n",
       "      <td>يارب اللى يسرق تويتاتى يدخل النار .</td>\n",
       "      <td>0</td>\n",
       "    </tr>\n",
       "    <tr>\n",
       "      <th>3</th>\n",
       "      <td>الاسراف فى تناول القهوة يسبب الوفاه .</td>\n",
       "      <td>0</td>\n",
       "    </tr>\n",
       "    <tr>\n",
       "      <th>4</th>\n",
       "      <td>انا اتبهدلت من التراب النهارده. حاجة تقرف  .</td>\n",
       "      <td>2</td>\n",
       "    </tr>\n",
       "    <tr>\n",
       "      <th>...</th>\n",
       "      <td>...</td>\n",
       "      <td>...</td>\n",
       "    </tr>\n",
       "    <tr>\n",
       "      <th>39995</th>\n",
       "      <td>لنسعد ايامنا بالابتسامة بدلاً ان نملاها بالدموع.</td>\n",
       "      <td>2</td>\n",
       "    </tr>\n",
       "    <tr>\n",
       "      <th>39996</th>\n",
       "      <td>مش هقولك غير ان نص الضحك اللي ضحكته فى حياتي ك...</td>\n",
       "      <td>2</td>\n",
       "    </tr>\n",
       "    <tr>\n",
       "      <th>39997</th>\n",
       "      <td>ربنا يوفقك ويسهلك وان شاء الله تعدي الفترة دي ...</td>\n",
       "      <td>2</td>\n",
       "    </tr>\n",
       "    <tr>\n",
       "      <th>39998</th>\n",
       "      <td>مبسوطة اوى عملت طريقة مكرونة جديدة و هى دلوقتى...</td>\n",
       "      <td>2</td>\n",
       "    </tr>\n",
       "    <tr>\n",
       "      <th>39999</th>\n",
       "      <td>مفيش اجمل من حضن الام .</td>\n",
       "      <td>2</td>\n",
       "    </tr>\n",
       "  </tbody>\n",
       "</table>\n",
       "<p>39993 rows × 2 columns</p>\n",
       "</div>"
      ],
      "text/plain": [
       "                                                sentence label\n",
       "0      اكبر خطا ترتكبه ان تعامل الناس باخلاقك انت مش ...     0\n",
       "1                   دائما اكره اخر ليله في كل مكان   .       0\n",
       "2                  يارب اللى يسرق تويتاتى يدخل النار .       0\n",
       "3                الاسراف فى تناول القهوة يسبب الوفاه .       0\n",
       "4          انا اتبهدلت من التراب النهارده. حاجة تقرف  .      2\n",
       "...                                                  ...   ...\n",
       "39995  لنسعد ايامنا بالابتسامة بدلاً ان نملاها بالدموع.      2\n",
       "39996  مش هقولك غير ان نص الضحك اللي ضحكته فى حياتي ك...     2\n",
       "39997  ربنا يوفقك ويسهلك وان شاء الله تعدي الفترة دي ...     2\n",
       "39998  مبسوطة اوى عملت طريقة مكرونة جديدة و هى دلوقتى...     2\n",
       "39999                            مفيش اجمل من حضن الام .     2\n",
       "\n",
       "[39993 rows x 2 columns]"
      ]
     },
     "execution_count": 59,
     "metadata": {},
     "output_type": "execute_result"
    }
   ],
   "source": [
    "egypt_df"
   ]
  },
  {
   "cell_type": "code",
   "execution_count": 60,
   "id": "f7403bdb",
   "metadata": {},
   "outputs": [
    {
     "data": {
      "text/plain": [
       "0    19998\n",
       "2    19995\n",
       "Name: label, dtype: int64"
      ]
     },
     "execution_count": 60,
     "metadata": {},
     "output_type": "execute_result"
    }
   ],
   "source": [
    "egypt_df[\"label\"].value_counts()"
   ]
  },
  {
   "cell_type": "markdown",
   "id": "f6cdc396",
   "metadata": {},
   "source": [
    "#### 2.6 SemEval2017-task4 subtask-A arabic dataset"
   ]
  },
  {
   "cell_type": "code",
   "execution_count": 61,
   "id": "65d119c4",
   "metadata": {},
   "outputs": [],
   "source": [
    "semeval_df = pd.read_csv(\"data/sentiment-analysis/SemEval2017-task4-train.subtask-A.arabic.txt\", sep=\"\\t\", header=None, names=[\"id\", \"label\", \"sentence\"])"
   ]
  },
  {
   "cell_type": "code",
   "execution_count": 62,
   "id": "61d1ea1c",
   "metadata": {},
   "outputs": [
    {
     "data": {
      "text/html": [
       "<div>\n",
       "<style scoped>\n",
       "    .dataframe tbody tr th:only-of-type {\n",
       "        vertical-align: middle;\n",
       "    }\n",
       "\n",
       "    .dataframe tbody tr th {\n",
       "        vertical-align: top;\n",
       "    }\n",
       "\n",
       "    .dataframe thead th {\n",
       "        text-align: right;\n",
       "    }\n",
       "</style>\n",
       "<table border=\"1\" class=\"dataframe\">\n",
       "  <thead>\n",
       "    <tr style=\"text-align: right;\">\n",
       "      <th></th>\n",
       "      <th>id</th>\n",
       "      <th>label</th>\n",
       "      <th>sentence</th>\n",
       "    </tr>\n",
       "  </thead>\n",
       "  <tbody>\n",
       "    <tr>\n",
       "      <th>0</th>\n",
       "      <td>783555835494592513</td>\n",
       "      <td>positive</td>\n",
       "      <td>إجبار أبل على التعاون على فك شفرة اجهزتها http...</td>\n",
       "    </tr>\n",
       "    <tr>\n",
       "      <th>1</th>\n",
       "      <td>783582397166125056</td>\n",
       "      <td>positive</td>\n",
       "      <td>RT @20fourMedia: #غوغل تتحدى أبل وأمازون بأجهز...</td>\n",
       "    </tr>\n",
       "    <tr>\n",
       "      <th>2</th>\n",
       "      <td>783592390728769536</td>\n",
       "      <td>positive</td>\n",
       "      <td>جوجل تنافس أبل وسامسونج بهاتف جديد https://t.c...</td>\n",
       "    </tr>\n",
       "    <tr>\n",
       "      <th>3</th>\n",
       "      <td>783597390070685696</td>\n",
       "      <td>positive</td>\n",
       "      <td>رئيس شركة أبل: الواقع المعزز سيصبح أهم من الطع...</td>\n",
       "    </tr>\n",
       "    <tr>\n",
       "      <th>4</th>\n",
       "      <td>783617442031472640</td>\n",
       "      <td>neutral</td>\n",
       "      <td>ساعة أبل في الأسواق مرة أخرى https://t.co/dY2x...</td>\n",
       "    </tr>\n",
       "    <tr>\n",
       "      <th>...</th>\n",
       "      <td>...</td>\n",
       "      <td>...</td>\n",
       "      <td>...</td>\n",
       "    </tr>\n",
       "    <tr>\n",
       "      <th>3348</th>\n",
       "      <td>785923681432117248</td>\n",
       "      <td>positive</td>\n",
       "      <td>طريقة تعطيل اي زر في لوحة المفاتيح على نظام وي...</td>\n",
       "    </tr>\n",
       "    <tr>\n",
       "      <th>3349</th>\n",
       "      <td>785924823860076544</td>\n",
       "      <td>neutral</td>\n",
       "      <td>RT @syst__em: إطلاق تحديث تراكمي برقم 14393.32...</td>\n",
       "    </tr>\n",
       "    <tr>\n",
       "      <th>3350</th>\n",
       "      <td>785929366756655104</td>\n",
       "      <td>neutral</td>\n",
       "      <td>4 طرق لحذف الملفات المستعصية من الحذف في ويندو...</td>\n",
       "    </tr>\n",
       "    <tr>\n",
       "      <th>3351</th>\n",
       "      <td>785951682467246080</td>\n",
       "      <td>neutral</td>\n",
       "      <td>شرح فيديو مهم جدا حل لمشاكل الكومبيوتر كيف تقو...</td>\n",
       "    </tr>\n",
       "    <tr>\n",
       "      <th>3352</th>\n",
       "      <td>785982633666875392</td>\n",
       "      <td>neutral</td>\n",
       "      <td>صورة مسربة لـ ويندوز فون 10 توضح شكل الأيقونات...</td>\n",
       "    </tr>\n",
       "  </tbody>\n",
       "</table>\n",
       "<p>3353 rows × 3 columns</p>\n",
       "</div>"
      ],
      "text/plain": [
       "                      id     label  \\\n",
       "0     783555835494592513  positive   \n",
       "1     783582397166125056  positive   \n",
       "2     783592390728769536  positive   \n",
       "3     783597390070685696  positive   \n",
       "4     783617442031472640   neutral   \n",
       "...                  ...       ...   \n",
       "3348  785923681432117248  positive   \n",
       "3349  785924823860076544   neutral   \n",
       "3350  785929366756655104   neutral   \n",
       "3351  785951682467246080   neutral   \n",
       "3352  785982633666875392   neutral   \n",
       "\n",
       "                                               sentence  \n",
       "0     إجبار أبل على التعاون على فك شفرة اجهزتها http...  \n",
       "1     RT @20fourMedia: #غوغل تتحدى أبل وأمازون بأجهز...  \n",
       "2     جوجل تنافس أبل وسامسونج بهاتف جديد https://t.c...  \n",
       "3     رئيس شركة أبل: الواقع المعزز سيصبح أهم من الطع...  \n",
       "4     ساعة أبل في الأسواق مرة أخرى https://t.co/dY2x...  \n",
       "...                                                 ...  \n",
       "3348  طريقة تعطيل اي زر في لوحة المفاتيح على نظام وي...  \n",
       "3349  RT @syst__em: إطلاق تحديث تراكمي برقم 14393.32...  \n",
       "3350  4 طرق لحذف الملفات المستعصية من الحذف في ويندو...  \n",
       "3351  شرح فيديو مهم جدا حل لمشاكل الكومبيوتر كيف تقو...  \n",
       "3352  صورة مسربة لـ ويندوز فون 10 توضح شكل الأيقونات...  \n",
       "\n",
       "[3353 rows x 3 columns]"
      ]
     },
     "execution_count": 62,
     "metadata": {},
     "output_type": "execute_result"
    }
   ],
   "source": [
    "semeval_df"
   ]
  },
  {
   "cell_type": "code",
   "execution_count": 63,
   "id": "25dd5aba",
   "metadata": {},
   "outputs": [],
   "source": [
    "semeval_df.drop([\"id\"], axis=1, inplace=True)"
   ]
  },
  {
   "cell_type": "code",
   "execution_count": 64,
   "id": "c4702fa1",
   "metadata": {},
   "outputs": [],
   "source": [
    "semeval_df = semeval_df.reindex(['sentence','label'], axis=1)"
   ]
  },
  {
   "cell_type": "code",
   "execution_count": 65,
   "id": "9f3b4217",
   "metadata": {},
   "outputs": [
    {
     "data": {
      "text/html": [
       "<div>\n",
       "<style scoped>\n",
       "    .dataframe tbody tr th:only-of-type {\n",
       "        vertical-align: middle;\n",
       "    }\n",
       "\n",
       "    .dataframe tbody tr th {\n",
       "        vertical-align: top;\n",
       "    }\n",
       "\n",
       "    .dataframe thead th {\n",
       "        text-align: right;\n",
       "    }\n",
       "</style>\n",
       "<table border=\"1\" class=\"dataframe\">\n",
       "  <thead>\n",
       "    <tr style=\"text-align: right;\">\n",
       "      <th></th>\n",
       "      <th>sentence</th>\n",
       "      <th>label</th>\n",
       "    </tr>\n",
       "  </thead>\n",
       "  <tbody>\n",
       "    <tr>\n",
       "      <th>0</th>\n",
       "      <td>إجبار أبل على التعاون على فك شفرة اجهزتها http...</td>\n",
       "      <td>positive</td>\n",
       "    </tr>\n",
       "    <tr>\n",
       "      <th>1</th>\n",
       "      <td>RT @20fourMedia: #غوغل تتحدى أبل وأمازون بأجهز...</td>\n",
       "      <td>positive</td>\n",
       "    </tr>\n",
       "    <tr>\n",
       "      <th>2</th>\n",
       "      <td>جوجل تنافس أبل وسامسونج بهاتف جديد https://t.c...</td>\n",
       "      <td>positive</td>\n",
       "    </tr>\n",
       "    <tr>\n",
       "      <th>3</th>\n",
       "      <td>رئيس شركة أبل: الواقع المعزز سيصبح أهم من الطع...</td>\n",
       "      <td>positive</td>\n",
       "    </tr>\n",
       "    <tr>\n",
       "      <th>4</th>\n",
       "      <td>ساعة أبل في الأسواق مرة أخرى https://t.co/dY2x...</td>\n",
       "      <td>neutral</td>\n",
       "    </tr>\n",
       "    <tr>\n",
       "      <th>...</th>\n",
       "      <td>...</td>\n",
       "      <td>...</td>\n",
       "    </tr>\n",
       "    <tr>\n",
       "      <th>3348</th>\n",
       "      <td>طريقة تعطيل اي زر في لوحة المفاتيح على نظام وي...</td>\n",
       "      <td>positive</td>\n",
       "    </tr>\n",
       "    <tr>\n",
       "      <th>3349</th>\n",
       "      <td>RT @syst__em: إطلاق تحديث تراكمي برقم 14393.32...</td>\n",
       "      <td>neutral</td>\n",
       "    </tr>\n",
       "    <tr>\n",
       "      <th>3350</th>\n",
       "      <td>4 طرق لحذف الملفات المستعصية من الحذف في ويندو...</td>\n",
       "      <td>neutral</td>\n",
       "    </tr>\n",
       "    <tr>\n",
       "      <th>3351</th>\n",
       "      <td>شرح فيديو مهم جدا حل لمشاكل الكومبيوتر كيف تقو...</td>\n",
       "      <td>neutral</td>\n",
       "    </tr>\n",
       "    <tr>\n",
       "      <th>3352</th>\n",
       "      <td>صورة مسربة لـ ويندوز فون 10 توضح شكل الأيقونات...</td>\n",
       "      <td>neutral</td>\n",
       "    </tr>\n",
       "  </tbody>\n",
       "</table>\n",
       "<p>3353 rows × 2 columns</p>\n",
       "</div>"
      ],
      "text/plain": [
       "                                               sentence     label\n",
       "0     إجبار أبل على التعاون على فك شفرة اجهزتها http...  positive\n",
       "1     RT @20fourMedia: #غوغل تتحدى أبل وأمازون بأجهز...  positive\n",
       "2     جوجل تنافس أبل وسامسونج بهاتف جديد https://t.c...  positive\n",
       "3     رئيس شركة أبل: الواقع المعزز سيصبح أهم من الطع...  positive\n",
       "4     ساعة أبل في الأسواق مرة أخرى https://t.co/dY2x...   neutral\n",
       "...                                                 ...       ...\n",
       "3348  طريقة تعطيل اي زر في لوحة المفاتيح على نظام وي...  positive\n",
       "3349  RT @syst__em: إطلاق تحديث تراكمي برقم 14393.32...   neutral\n",
       "3350  4 طرق لحذف الملفات المستعصية من الحذف في ويندو...   neutral\n",
       "3351  شرح فيديو مهم جدا حل لمشاكل الكومبيوتر كيف تقو...   neutral\n",
       "3352  صورة مسربة لـ ويندوز فون 10 توضح شكل الأيقونات...   neutral\n",
       "\n",
       "[3353 rows x 2 columns]"
      ]
     },
     "execution_count": 65,
     "metadata": {},
     "output_type": "execute_result"
    }
   ],
   "source": [
    "semeval_df"
   ]
  },
  {
   "cell_type": "code",
   "execution_count": 66,
   "id": "0be51e65",
   "metadata": {},
   "outputs": [],
   "source": [
    "semeval_df['label'].loc[(semeval_df['label'] == \"negative\")] = 0"
   ]
  },
  {
   "cell_type": "code",
   "execution_count": 67,
   "id": "ffb50215",
   "metadata": {},
   "outputs": [],
   "source": [
    "semeval_df['label'].loc[(semeval_df['label'] == \"neutral\")] = 1"
   ]
  },
  {
   "cell_type": "code",
   "execution_count": 68,
   "id": "0466522b",
   "metadata": {},
   "outputs": [],
   "source": [
    "semeval_df['label'].loc[(semeval_df['label'] == \"positive\")] = 2"
   ]
  },
  {
   "cell_type": "code",
   "execution_count": 69,
   "id": "4a9c2985",
   "metadata": {},
   "outputs": [
    {
     "data": {
      "text/html": [
       "<div>\n",
       "<style scoped>\n",
       "    .dataframe tbody tr th:only-of-type {\n",
       "        vertical-align: middle;\n",
       "    }\n",
       "\n",
       "    .dataframe tbody tr th {\n",
       "        vertical-align: top;\n",
       "    }\n",
       "\n",
       "    .dataframe thead th {\n",
       "        text-align: right;\n",
       "    }\n",
       "</style>\n",
       "<table border=\"1\" class=\"dataframe\">\n",
       "  <thead>\n",
       "    <tr style=\"text-align: right;\">\n",
       "      <th></th>\n",
       "      <th>sentence</th>\n",
       "      <th>label</th>\n",
       "    </tr>\n",
       "  </thead>\n",
       "  <tbody>\n",
       "    <tr>\n",
       "      <th>0</th>\n",
       "      <td>إجبار أبل على التعاون على فك شفرة اجهزتها http...</td>\n",
       "      <td>2</td>\n",
       "    </tr>\n",
       "    <tr>\n",
       "      <th>1</th>\n",
       "      <td>RT @20fourMedia: #غوغل تتحدى أبل وأمازون بأجهز...</td>\n",
       "      <td>2</td>\n",
       "    </tr>\n",
       "    <tr>\n",
       "      <th>2</th>\n",
       "      <td>جوجل تنافس أبل وسامسونج بهاتف جديد https://t.c...</td>\n",
       "      <td>2</td>\n",
       "    </tr>\n",
       "    <tr>\n",
       "      <th>3</th>\n",
       "      <td>رئيس شركة أبل: الواقع المعزز سيصبح أهم من الطع...</td>\n",
       "      <td>2</td>\n",
       "    </tr>\n",
       "    <tr>\n",
       "      <th>4</th>\n",
       "      <td>ساعة أبل في الأسواق مرة أخرى https://t.co/dY2x...</td>\n",
       "      <td>1</td>\n",
       "    </tr>\n",
       "    <tr>\n",
       "      <th>...</th>\n",
       "      <td>...</td>\n",
       "      <td>...</td>\n",
       "    </tr>\n",
       "    <tr>\n",
       "      <th>3348</th>\n",
       "      <td>طريقة تعطيل اي زر في لوحة المفاتيح على نظام وي...</td>\n",
       "      <td>2</td>\n",
       "    </tr>\n",
       "    <tr>\n",
       "      <th>3349</th>\n",
       "      <td>RT @syst__em: إطلاق تحديث تراكمي برقم 14393.32...</td>\n",
       "      <td>1</td>\n",
       "    </tr>\n",
       "    <tr>\n",
       "      <th>3350</th>\n",
       "      <td>4 طرق لحذف الملفات المستعصية من الحذف في ويندو...</td>\n",
       "      <td>1</td>\n",
       "    </tr>\n",
       "    <tr>\n",
       "      <th>3351</th>\n",
       "      <td>شرح فيديو مهم جدا حل لمشاكل الكومبيوتر كيف تقو...</td>\n",
       "      <td>1</td>\n",
       "    </tr>\n",
       "    <tr>\n",
       "      <th>3352</th>\n",
       "      <td>صورة مسربة لـ ويندوز فون 10 توضح شكل الأيقونات...</td>\n",
       "      <td>1</td>\n",
       "    </tr>\n",
       "  </tbody>\n",
       "</table>\n",
       "<p>3353 rows × 2 columns</p>\n",
       "</div>"
      ],
      "text/plain": [
       "                                               sentence label\n",
       "0     إجبار أبل على التعاون على فك شفرة اجهزتها http...     2\n",
       "1     RT @20fourMedia: #غوغل تتحدى أبل وأمازون بأجهز...     2\n",
       "2     جوجل تنافس أبل وسامسونج بهاتف جديد https://t.c...     2\n",
       "3     رئيس شركة أبل: الواقع المعزز سيصبح أهم من الطع...     2\n",
       "4     ساعة أبل في الأسواق مرة أخرى https://t.co/dY2x...     1\n",
       "...                                                 ...   ...\n",
       "3348  طريقة تعطيل اي زر في لوحة المفاتيح على نظام وي...     2\n",
       "3349  RT @syst__em: إطلاق تحديث تراكمي برقم 14393.32...     1\n",
       "3350  4 طرق لحذف الملفات المستعصية من الحذف في ويندو...     1\n",
       "3351  شرح فيديو مهم جدا حل لمشاكل الكومبيوتر كيف تقو...     1\n",
       "3352  صورة مسربة لـ ويندوز فون 10 توضح شكل الأيقونات...     1\n",
       "\n",
       "[3353 rows x 2 columns]"
      ]
     },
     "execution_count": 69,
     "metadata": {},
     "output_type": "execute_result"
    }
   ],
   "source": [
    "semeval_df"
   ]
  },
  {
   "cell_type": "code",
   "execution_count": 70,
   "id": "2fe7b70b",
   "metadata": {},
   "outputs": [
    {
     "data": {
      "text/plain": [
       "1    1470\n",
       "0    1141\n",
       "2     742\n",
       "Name: label, dtype: int64"
      ]
     },
     "execution_count": 70,
     "metadata": {},
     "output_type": "execute_result"
    }
   ],
   "source": [
    "semeval_df[\"label\"].value_counts()"
   ]
  },
  {
   "cell_type": "markdown",
   "id": "63642237",
   "metadata": {},
   "source": [
    "#### 2.7 ASTD dataset\n",
    "\n",
    "Assuming \"Objective\" label as \"Neutral\" label."
   ]
  },
  {
   "cell_type": "code",
   "execution_count": 71,
   "id": "37ebe6bb",
   "metadata": {},
   "outputs": [],
   "source": [
    "astd_df = pd.read_csv(\"data/sentiment-analysis/ASTD.txt\", sep=\"\\t\", header=None, names=[\"sentence\", \"label\"])"
   ]
  },
  {
   "cell_type": "code",
   "execution_count": 72,
   "id": "508d7510",
   "metadata": {},
   "outputs": [
    {
     "data": {
      "text/html": [
       "<div>\n",
       "<style scoped>\n",
       "    .dataframe tbody tr th:only-of-type {\n",
       "        vertical-align: middle;\n",
       "    }\n",
       "\n",
       "    .dataframe tbody tr th {\n",
       "        vertical-align: top;\n",
       "    }\n",
       "\n",
       "    .dataframe thead th {\n",
       "        text-align: right;\n",
       "    }\n",
       "</style>\n",
       "<table border=\"1\" class=\"dataframe\">\n",
       "  <thead>\n",
       "    <tr style=\"text-align: right;\">\n",
       "      <th></th>\n",
       "      <th>sentence</th>\n",
       "      <th>label</th>\n",
       "    </tr>\n",
       "  </thead>\n",
       "  <tbody>\n",
       "    <tr>\n",
       "      <th>0</th>\n",
       "      <td>بعد استقالة رئيس #المحكمة_الدستورية ننتظر استق...</td>\n",
       "      <td>OBJ</td>\n",
       "    </tr>\n",
       "    <tr>\n",
       "      <th>1</th>\n",
       "      <td>أهنئ الدكتور أحمد جمال الدين، القيادي بحزب مصر...</td>\n",
       "      <td>POS</td>\n",
       "    </tr>\n",
       "    <tr>\n",
       "      <th>2</th>\n",
       "      <td>البرادعي يستقوى بامريكا مرةاخرى و يرسل عصام ال...</td>\n",
       "      <td>NEG</td>\n",
       "    </tr>\n",
       "    <tr>\n",
       "      <th>3</th>\n",
       "      <td>#الحرية_والعدالة | شاهد الآن: #ليلة_الاتحادية ...</td>\n",
       "      <td>OBJ</td>\n",
       "    </tr>\n",
       "    <tr>\n",
       "      <th>4</th>\n",
       "      <td>الوالدة لو اقولها بخاطري حشيشة تضحك بس من اقول...</td>\n",
       "      <td>NEUTRAL</td>\n",
       "    </tr>\n",
       "    <tr>\n",
       "      <th>...</th>\n",
       "      <td>...</td>\n",
       "      <td>...</td>\n",
       "    </tr>\n",
       "    <tr>\n",
       "      <th>9689</th>\n",
       "      <td>والغاز مش مدعوم يا إنسان؟ وماذا عن الأسمنت وال...</td>\n",
       "      <td>NEG</td>\n",
       "    </tr>\n",
       "    <tr>\n",
       "      <th>9690</th>\n",
       "      <td>اغلاق كل الساحات والميادين الكبرى لمنع صلاة ال...</td>\n",
       "      <td>NEG</td>\n",
       "    </tr>\n",
       "    <tr>\n",
       "      <th>9691</th>\n",
       "      <td>#الشروق \"الداخلية\": 400 ألف مواطن تقدموا لأداء...</td>\n",
       "      <td>OBJ</td>\n",
       "    </tr>\n",
       "    <tr>\n",
       "      <th>9692</th>\n",
       "      <td>#هتحبك_لو صحتها من النوم علشان تقولها بحبك ;)</td>\n",
       "      <td>POS</td>\n",
       "    </tr>\n",
       "    <tr>\n",
       "      <th>9693</th>\n",
       "      <td>كل شى كتبته غلط كل شى حسبته غلط فى #الامتحانات</td>\n",
       "      <td>NEG</td>\n",
       "    </tr>\n",
       "  </tbody>\n",
       "</table>\n",
       "<p>9694 rows × 2 columns</p>\n",
       "</div>"
      ],
      "text/plain": [
       "                                               sentence    label\n",
       "0     بعد استقالة رئيس #المحكمة_الدستورية ننتظر استق...      OBJ\n",
       "1     أهنئ الدكتور أحمد جمال الدين، القيادي بحزب مصر...      POS\n",
       "2     البرادعي يستقوى بامريكا مرةاخرى و يرسل عصام ال...      NEG\n",
       "3     #الحرية_والعدالة | شاهد الآن: #ليلة_الاتحادية ...      OBJ\n",
       "4     الوالدة لو اقولها بخاطري حشيشة تضحك بس من اقول...  NEUTRAL\n",
       "...                                                 ...      ...\n",
       "9689  والغاز مش مدعوم يا إنسان؟ وماذا عن الأسمنت وال...      NEG\n",
       "9690  اغلاق كل الساحات والميادين الكبرى لمنع صلاة ال...      NEG\n",
       "9691  #الشروق \"الداخلية\": 400 ألف مواطن تقدموا لأداء...      OBJ\n",
       "9692      #هتحبك_لو صحتها من النوم علشان تقولها بحبك ;)      POS\n",
       "9693     كل شى كتبته غلط كل شى حسبته غلط فى #الامتحانات      NEG\n",
       "\n",
       "[9694 rows x 2 columns]"
      ]
     },
     "execution_count": 72,
     "metadata": {},
     "output_type": "execute_result"
    }
   ],
   "source": [
    "astd_df"
   ]
  },
  {
   "cell_type": "code",
   "execution_count": 73,
   "id": "9ea805b2",
   "metadata": {},
   "outputs": [
    {
     "data": {
      "text/plain": [
       "OBJ        6470\n",
       "NEG        1642\n",
       "NEUTRAL     805\n",
       "POS         777\n",
       "Name: label, dtype: int64"
      ]
     },
     "execution_count": 73,
     "metadata": {},
     "output_type": "execute_result"
    }
   ],
   "source": [
    "astd_df[\"label\"].value_counts()"
   ]
  },
  {
   "cell_type": "code",
   "execution_count": 74,
   "id": "ecdf91d3",
   "metadata": {},
   "outputs": [],
   "source": [
    "astd_df['label'].loc[(astd_df['label'] == \"NEG\")] = 0"
   ]
  },
  {
   "cell_type": "code",
   "execution_count": 75,
   "id": "f3a99159",
   "metadata": {},
   "outputs": [],
   "source": [
    "astd_df['label'].loc[(astd_df['label'] == \"NEUTRAL\")] = 1"
   ]
  },
  {
   "cell_type": "code",
   "execution_count": 76,
   "id": "cd145fdd",
   "metadata": {},
   "outputs": [],
   "source": [
    "astd_df['label'].loc[(astd_df['label'] == \"OBJ\")] = 1"
   ]
  },
  {
   "cell_type": "code",
   "execution_count": 77,
   "id": "edb6b77e",
   "metadata": {},
   "outputs": [],
   "source": [
    "astd_df['label'].loc[(astd_df['label'] == \"POS\")] = 2"
   ]
  },
  {
   "cell_type": "code",
   "execution_count": 78,
   "id": "61ac5e1b",
   "metadata": {},
   "outputs": [
    {
     "data": {
      "text/html": [
       "<div>\n",
       "<style scoped>\n",
       "    .dataframe tbody tr th:only-of-type {\n",
       "        vertical-align: middle;\n",
       "    }\n",
       "\n",
       "    .dataframe tbody tr th {\n",
       "        vertical-align: top;\n",
       "    }\n",
       "\n",
       "    .dataframe thead th {\n",
       "        text-align: right;\n",
       "    }\n",
       "</style>\n",
       "<table border=\"1\" class=\"dataframe\">\n",
       "  <thead>\n",
       "    <tr style=\"text-align: right;\">\n",
       "      <th></th>\n",
       "      <th>sentence</th>\n",
       "      <th>label</th>\n",
       "    </tr>\n",
       "  </thead>\n",
       "  <tbody>\n",
       "    <tr>\n",
       "      <th>0</th>\n",
       "      <td>بعد استقالة رئيس #المحكمة_الدستورية ننتظر استق...</td>\n",
       "      <td>1</td>\n",
       "    </tr>\n",
       "    <tr>\n",
       "      <th>1</th>\n",
       "      <td>أهنئ الدكتور أحمد جمال الدين، القيادي بحزب مصر...</td>\n",
       "      <td>2</td>\n",
       "    </tr>\n",
       "    <tr>\n",
       "      <th>2</th>\n",
       "      <td>البرادعي يستقوى بامريكا مرةاخرى و يرسل عصام ال...</td>\n",
       "      <td>0</td>\n",
       "    </tr>\n",
       "    <tr>\n",
       "      <th>3</th>\n",
       "      <td>#الحرية_والعدالة | شاهد الآن: #ليلة_الاتحادية ...</td>\n",
       "      <td>1</td>\n",
       "    </tr>\n",
       "    <tr>\n",
       "      <th>4</th>\n",
       "      <td>الوالدة لو اقولها بخاطري حشيشة تضحك بس من اقول...</td>\n",
       "      <td>1</td>\n",
       "    </tr>\n",
       "    <tr>\n",
       "      <th>...</th>\n",
       "      <td>...</td>\n",
       "      <td>...</td>\n",
       "    </tr>\n",
       "    <tr>\n",
       "      <th>9689</th>\n",
       "      <td>والغاز مش مدعوم يا إنسان؟ وماذا عن الأسمنت وال...</td>\n",
       "      <td>0</td>\n",
       "    </tr>\n",
       "    <tr>\n",
       "      <th>9690</th>\n",
       "      <td>اغلاق كل الساحات والميادين الكبرى لمنع صلاة ال...</td>\n",
       "      <td>0</td>\n",
       "    </tr>\n",
       "    <tr>\n",
       "      <th>9691</th>\n",
       "      <td>#الشروق \"الداخلية\": 400 ألف مواطن تقدموا لأداء...</td>\n",
       "      <td>1</td>\n",
       "    </tr>\n",
       "    <tr>\n",
       "      <th>9692</th>\n",
       "      <td>#هتحبك_لو صحتها من النوم علشان تقولها بحبك ;)</td>\n",
       "      <td>2</td>\n",
       "    </tr>\n",
       "    <tr>\n",
       "      <th>9693</th>\n",
       "      <td>كل شى كتبته غلط كل شى حسبته غلط فى #الامتحانات</td>\n",
       "      <td>0</td>\n",
       "    </tr>\n",
       "  </tbody>\n",
       "</table>\n",
       "<p>9694 rows × 2 columns</p>\n",
       "</div>"
      ],
      "text/plain": [
       "                                               sentence label\n",
       "0     بعد استقالة رئيس #المحكمة_الدستورية ننتظر استق...     1\n",
       "1     أهنئ الدكتور أحمد جمال الدين، القيادي بحزب مصر...     2\n",
       "2     البرادعي يستقوى بامريكا مرةاخرى و يرسل عصام ال...     0\n",
       "3     #الحرية_والعدالة | شاهد الآن: #ليلة_الاتحادية ...     1\n",
       "4     الوالدة لو اقولها بخاطري حشيشة تضحك بس من اقول...     1\n",
       "...                                                 ...   ...\n",
       "9689  والغاز مش مدعوم يا إنسان؟ وماذا عن الأسمنت وال...     0\n",
       "9690  اغلاق كل الساحات والميادين الكبرى لمنع صلاة ال...     0\n",
       "9691  #الشروق \"الداخلية\": 400 ألف مواطن تقدموا لأداء...     1\n",
       "9692      #هتحبك_لو صحتها من النوم علشان تقولها بحبك ;)     2\n",
       "9693     كل شى كتبته غلط كل شى حسبته غلط فى #الامتحانات     0\n",
       "\n",
       "[9694 rows x 2 columns]"
      ]
     },
     "execution_count": 78,
     "metadata": {},
     "output_type": "execute_result"
    }
   ],
   "source": [
    "astd_df"
   ]
  },
  {
   "cell_type": "code",
   "execution_count": 79,
   "id": "37890a40",
   "metadata": {},
   "outputs": [
    {
     "data": {
      "text/plain": [
       "1    7275\n",
       "0    1642\n",
       "2     777\n",
       "Name: label, dtype: int64"
      ]
     },
     "execution_count": 79,
     "metadata": {},
     "output_type": "execute_result"
    }
   ],
   "source": [
    "astd_df[\"label\"].value_counts()"
   ]
  },
  {
   "cell_type": "markdown",
   "id": "f0c2f2e7",
   "metadata": {},
   "source": [
    "#### 2.8 Combining the datasets"
   ]
  },
  {
   "cell_type": "code",
   "execution_count": 80,
   "id": "13972f16",
   "metadata": {},
   "outputs": [],
   "source": [
    "df_list = [\n",
    "    tead_pos_df,\n",
    "    tead_neg_df,\n",
    "    labr_df,\n",
    "    arsas_df,\n",
    "    ajgt_df,\n",
    "    egypt_df,\n",
    "    semeval_df,\n",
    "    astd_df\n",
    "]\n",
    "\n",
    "data_df = pd.concat(df_list, axis=0, ignore_index=True)"
   ]
  },
  {
   "cell_type": "code",
   "execution_count": 81,
   "id": "1251f1fd",
   "metadata": {},
   "outputs": [
    {
     "data": {
      "text/html": [
       "<div>\n",
       "<style scoped>\n",
       "    .dataframe tbody tr th:only-of-type {\n",
       "        vertical-align: middle;\n",
       "    }\n",
       "\n",
       "    .dataframe tbody tr th {\n",
       "        vertical-align: top;\n",
       "    }\n",
       "\n",
       "    .dataframe thead th {\n",
       "        text-align: right;\n",
       "    }\n",
       "</style>\n",
       "<table border=\"1\" class=\"dataframe\">\n",
       "  <thead>\n",
       "    <tr style=\"text-align: right;\">\n",
       "      <th></th>\n",
       "      <th>sentence</th>\n",
       "      <th>label</th>\n",
       "    </tr>\n",
       "  </thead>\n",
       "  <tbody>\n",
       "    <tr>\n",
       "      <th>0</th>\n",
       "      <td>مراا حلو ان الاستاذه قايله برسل لكم التخطيط وت...</td>\n",
       "      <td>2</td>\n",
       "    </tr>\n",
       "    <tr>\n",
       "      <th>1</th>\n",
       "      <td>نلقى أي قروب يحكي علي ال ندير انسحاب تكتيكي لا...</td>\n",
       "      <td>2</td>\n",
       "    </tr>\n",
       "    <tr>\n",
       "      <th>2</th>\n",
       "      <td>يارب شعور إني أكون مروقه ومبسوطه يكون كل يوم</td>\n",
       "      <td>2</td>\n",
       "    </tr>\n",
       "    <tr>\n",
       "      <th>3</th>\n",
       "      <td>حاجات تزيد الانثي انوثه تتروش مع رجالها ولا تس...</td>\n",
       "      <td>2</td>\n",
       "    </tr>\n",
       "    <tr>\n",
       "      <th>4</th>\n",
       "      <td>وضع الانترنت واجد يضايق لا برودباند البيت ولا ...</td>\n",
       "      <td>2</td>\n",
       "    </tr>\n",
       "    <tr>\n",
       "      <th>...</th>\n",
       "      <td>...</td>\n",
       "      <td>...</td>\n",
       "    </tr>\n",
       "    <tr>\n",
       "      <th>693912</th>\n",
       "      <td>والغاز مش مدعوم يا إنسان؟ وماذا عن الأسمنت وال...</td>\n",
       "      <td>0</td>\n",
       "    </tr>\n",
       "    <tr>\n",
       "      <th>693913</th>\n",
       "      <td>اغلاق كل الساحات والميادين الكبرى لمنع صلاة ال...</td>\n",
       "      <td>0</td>\n",
       "    </tr>\n",
       "    <tr>\n",
       "      <th>693914</th>\n",
       "      <td>#الشروق \"الداخلية\": 400 ألف مواطن تقدموا لأداء...</td>\n",
       "      <td>1</td>\n",
       "    </tr>\n",
       "    <tr>\n",
       "      <th>693915</th>\n",
       "      <td>#هتحبك_لو صحتها من النوم علشان تقولها بحبك ;)</td>\n",
       "      <td>2</td>\n",
       "    </tr>\n",
       "    <tr>\n",
       "      <th>693916</th>\n",
       "      <td>كل شى كتبته غلط كل شى حسبته غلط فى #الامتحانات</td>\n",
       "      <td>0</td>\n",
       "    </tr>\n",
       "  </tbody>\n",
       "</table>\n",
       "<p>693917 rows × 2 columns</p>\n",
       "</div>"
      ],
      "text/plain": [
       "                                                 sentence label\n",
       "0       مراا حلو ان الاستاذه قايله برسل لكم التخطيط وت...     2\n",
       "1       نلقى أي قروب يحكي علي ال ندير انسحاب تكتيكي لا...     2\n",
       "2            يارب شعور إني أكون مروقه ومبسوطه يكون كل يوم     2\n",
       "3       حاجات تزيد الانثي انوثه تتروش مع رجالها ولا تس...     2\n",
       "4       وضع الانترنت واجد يضايق لا برودباند البيت ولا ...     2\n",
       "...                                                   ...   ...\n",
       "693912  والغاز مش مدعوم يا إنسان؟ وماذا عن الأسمنت وال...     0\n",
       "693913  اغلاق كل الساحات والميادين الكبرى لمنع صلاة ال...     0\n",
       "693914  #الشروق \"الداخلية\": 400 ألف مواطن تقدموا لأداء...     1\n",
       "693915      #هتحبك_لو صحتها من النوم علشان تقولها بحبك ;)     2\n",
       "693916     كل شى كتبته غلط كل شى حسبته غلط فى #الامتحانات     0\n",
       "\n",
       "[693917 rows x 2 columns]"
      ]
     },
     "execution_count": 81,
     "metadata": {},
     "output_type": "execute_result"
    }
   ],
   "source": [
    "data_df"
   ]
  },
  {
   "cell_type": "code",
   "execution_count": 82,
   "id": "a5eed838",
   "metadata": {},
   "outputs": [
    {
     "data": {
      "text/plain": [
       "2    462133\n",
       "0    202725\n",
       "1     29059\n",
       "Name: label, dtype: int64"
      ]
     },
     "execution_count": 82,
     "metadata": {},
     "output_type": "execute_result"
    }
   ],
   "source": [
    "data_df[\"label\"].value_counts()"
   ]
  },
  {
   "cell_type": "code",
   "execution_count": 83,
   "id": "27cf16c4",
   "metadata": {},
   "outputs": [],
   "source": [
    "# Saving combined data\n",
    "data_df.to_csv(\"data/sentiment-analysis/combined_arabic_data.csv\", index=False)"
   ]
  },
  {
   "cell_type": "code",
   "execution_count": 84,
   "id": "2fbc9bb2",
   "metadata": {},
   "outputs": [],
   "source": [
    "# Testing loading combined data\n",
    "data_df = pd.read_csv(\"data/sentiment-analysis/combined_arabic_data.csv\")"
   ]
  },
  {
   "cell_type": "code",
   "execution_count": 85,
   "id": "d868f6c0",
   "metadata": {},
   "outputs": [
    {
     "data": {
      "text/html": [
       "<div>\n",
       "<style scoped>\n",
       "    .dataframe tbody tr th:only-of-type {\n",
       "        vertical-align: middle;\n",
       "    }\n",
       "\n",
       "    .dataframe tbody tr th {\n",
       "        vertical-align: top;\n",
       "    }\n",
       "\n",
       "    .dataframe thead th {\n",
       "        text-align: right;\n",
       "    }\n",
       "</style>\n",
       "<table border=\"1\" class=\"dataframe\">\n",
       "  <thead>\n",
       "    <tr style=\"text-align: right;\">\n",
       "      <th></th>\n",
       "      <th>sentence</th>\n",
       "      <th>label</th>\n",
       "    </tr>\n",
       "  </thead>\n",
       "  <tbody>\n",
       "    <tr>\n",
       "      <th>0</th>\n",
       "      <td>مراا حلو ان الاستاذه قايله برسل لكم التخطيط وت...</td>\n",
       "      <td>2</td>\n",
       "    </tr>\n",
       "    <tr>\n",
       "      <th>1</th>\n",
       "      <td>نلقى أي قروب يحكي علي ال ندير انسحاب تكتيكي لا...</td>\n",
       "      <td>2</td>\n",
       "    </tr>\n",
       "    <tr>\n",
       "      <th>2</th>\n",
       "      <td>يارب شعور إني أكون مروقه ومبسوطه يكون كل يوم</td>\n",
       "      <td>2</td>\n",
       "    </tr>\n",
       "    <tr>\n",
       "      <th>3</th>\n",
       "      <td>حاجات تزيد الانثي انوثه تتروش مع رجالها ولا تس...</td>\n",
       "      <td>2</td>\n",
       "    </tr>\n",
       "    <tr>\n",
       "      <th>4</th>\n",
       "      <td>وضع الانترنت واجد يضايق لا برودباند البيت ولا ...</td>\n",
       "      <td>2</td>\n",
       "    </tr>\n",
       "    <tr>\n",
       "      <th>...</th>\n",
       "      <td>...</td>\n",
       "      <td>...</td>\n",
       "    </tr>\n",
       "    <tr>\n",
       "      <th>693912</th>\n",
       "      <td>والغاز مش مدعوم يا إنسان؟ وماذا عن الأسمنت وال...</td>\n",
       "      <td>0</td>\n",
       "    </tr>\n",
       "    <tr>\n",
       "      <th>693913</th>\n",
       "      <td>اغلاق كل الساحات والميادين الكبرى لمنع صلاة ال...</td>\n",
       "      <td>0</td>\n",
       "    </tr>\n",
       "    <tr>\n",
       "      <th>693914</th>\n",
       "      <td>#الشروق \"الداخلية\": 400 ألف مواطن تقدموا لأداء...</td>\n",
       "      <td>1</td>\n",
       "    </tr>\n",
       "    <tr>\n",
       "      <th>693915</th>\n",
       "      <td>#هتحبك_لو صحتها من النوم علشان تقولها بحبك ;)</td>\n",
       "      <td>2</td>\n",
       "    </tr>\n",
       "    <tr>\n",
       "      <th>693916</th>\n",
       "      <td>كل شى كتبته غلط كل شى حسبته غلط فى #الامتحانات</td>\n",
       "      <td>0</td>\n",
       "    </tr>\n",
       "  </tbody>\n",
       "</table>\n",
       "<p>693917 rows × 2 columns</p>\n",
       "</div>"
      ],
      "text/plain": [
       "                                                 sentence  label\n",
       "0       مراا حلو ان الاستاذه قايله برسل لكم التخطيط وت...      2\n",
       "1       نلقى أي قروب يحكي علي ال ندير انسحاب تكتيكي لا...      2\n",
       "2            يارب شعور إني أكون مروقه ومبسوطه يكون كل يوم      2\n",
       "3       حاجات تزيد الانثي انوثه تتروش مع رجالها ولا تس...      2\n",
       "4       وضع الانترنت واجد يضايق لا برودباند البيت ولا ...      2\n",
       "...                                                   ...    ...\n",
       "693912  والغاز مش مدعوم يا إنسان؟ وماذا عن الأسمنت وال...      0\n",
       "693913  اغلاق كل الساحات والميادين الكبرى لمنع صلاة ال...      0\n",
       "693914  #الشروق \"الداخلية\": 400 ألف مواطن تقدموا لأداء...      1\n",
       "693915      #هتحبك_لو صحتها من النوم علشان تقولها بحبك ;)      2\n",
       "693916     كل شى كتبته غلط كل شى حسبته غلط فى #الامتحانات      0\n",
       "\n",
       "[693917 rows x 2 columns]"
      ]
     },
     "execution_count": 85,
     "metadata": {},
     "output_type": "execute_result"
    }
   ],
   "source": [
    "data_df"
   ]
  },
  {
   "cell_type": "markdown",
   "id": "bdb90903",
   "metadata": {},
   "source": [
    "#### 2.9 Applying clean() function to all sentences in the data"
   ]
  },
  {
   "cell_type": "code",
   "execution_count": 86,
   "id": "29ac206d",
   "metadata": {},
   "outputs": [
    {
     "name": "stdout",
     "output_type": "stream",
     "text": [
      "#الشروق \"الداخلية\": 400 ألف مواطن تقدموا لأداء الحج وبدء إجراء القرعة 10 مايو المقبل\n"
     ]
    }
   ],
   "source": [
    "print(data_df.iloc[693914][\"sentence\"])"
   ]
  },
  {
   "cell_type": "code",
   "execution_count": 87,
   "id": "6cd383e0",
   "metadata": {},
   "outputs": [],
   "source": [
    "data_df[\"sentence\"] = data_df[\"sentence\"].map(clean)"
   ]
  },
  {
   "cell_type": "code",
   "execution_count": 88,
   "id": "fda244be",
   "metadata": {},
   "outputs": [
    {
     "data": {
      "text/html": [
       "<div>\n",
       "<style scoped>\n",
       "    .dataframe tbody tr th:only-of-type {\n",
       "        vertical-align: middle;\n",
       "    }\n",
       "\n",
       "    .dataframe tbody tr th {\n",
       "        vertical-align: top;\n",
       "    }\n",
       "\n",
       "    .dataframe thead th {\n",
       "        text-align: right;\n",
       "    }\n",
       "</style>\n",
       "<table border=\"1\" class=\"dataframe\">\n",
       "  <thead>\n",
       "    <tr style=\"text-align: right;\">\n",
       "      <th></th>\n",
       "      <th>sentence</th>\n",
       "      <th>label</th>\n",
       "    </tr>\n",
       "  </thead>\n",
       "  <tbody>\n",
       "    <tr>\n",
       "      <th>0</th>\n",
       "      <td>مراا حلو ان الاستاذه قايله برسل لكم التخطيط وت...</td>\n",
       "      <td>2</td>\n",
       "    </tr>\n",
       "    <tr>\n",
       "      <th>1</th>\n",
       "      <td>نلقى أي قروب يحكي علي ال ندير انسحاب تكتيكي لا...</td>\n",
       "      <td>2</td>\n",
       "    </tr>\n",
       "    <tr>\n",
       "      <th>2</th>\n",
       "      <td>يارب شعور إني أكون مروقه ومبسوطه يكون كل يوم</td>\n",
       "      <td>2</td>\n",
       "    </tr>\n",
       "    <tr>\n",
       "      <th>3</th>\n",
       "      <td>حاجات تزيد الانثي انوثه تتروش مع رجالها ولا تس...</td>\n",
       "      <td>2</td>\n",
       "    </tr>\n",
       "    <tr>\n",
       "      <th>4</th>\n",
       "      <td>وضع الانترنت واجد يضايق لا برودباند البيت ولا ...</td>\n",
       "      <td>2</td>\n",
       "    </tr>\n",
       "    <tr>\n",
       "      <th>...</th>\n",
       "      <td>...</td>\n",
       "      <td>...</td>\n",
       "    </tr>\n",
       "    <tr>\n",
       "      <th>693912</th>\n",
       "      <td>والغاز مش مدعوم يا إنسان؟ وماذا عن الأسمنت وال...</td>\n",
       "      <td>0</td>\n",
       "    </tr>\n",
       "    <tr>\n",
       "      <th>693913</th>\n",
       "      <td>اغلاق كل الساحات والميادين الكبرى لمنع صلاة ال...</td>\n",
       "      <td>0</td>\n",
       "    </tr>\n",
       "    <tr>\n",
       "      <th>693914</th>\n",
       "      <td>\"الداخلية\": 400 ألف مواطن تقدموا لأداء الحج و...</td>\n",
       "      <td>1</td>\n",
       "    </tr>\n",
       "    <tr>\n",
       "      <th>693915</th>\n",
       "      <td>صحتها من النوم علشان تقولها بحبك ;)</td>\n",
       "      <td>2</td>\n",
       "    </tr>\n",
       "    <tr>\n",
       "      <th>693916</th>\n",
       "      <td>كل شى كتبته غلط كل شى حسبته غلط فى</td>\n",
       "      <td>0</td>\n",
       "    </tr>\n",
       "  </tbody>\n",
       "</table>\n",
       "<p>693917 rows × 2 columns</p>\n",
       "</div>"
      ],
      "text/plain": [
       "                                                 sentence  label\n",
       "0       مراا حلو ان الاستاذه قايله برسل لكم التخطيط وت...      2\n",
       "1       نلقى أي قروب يحكي علي ال ندير انسحاب تكتيكي لا...      2\n",
       "2            يارب شعور إني أكون مروقه ومبسوطه يكون كل يوم      2\n",
       "3       حاجات تزيد الانثي انوثه تتروش مع رجالها ولا تس...      2\n",
       "4       وضع الانترنت واجد يضايق لا برودباند البيت ولا ...      2\n",
       "...                                                   ...    ...\n",
       "693912  والغاز مش مدعوم يا إنسان؟ وماذا عن الأسمنت وال...      0\n",
       "693913  اغلاق كل الساحات والميادين الكبرى لمنع صلاة ال...      0\n",
       "693914   \"الداخلية\": 400 ألف مواطن تقدموا لأداء الحج و...      1\n",
       "693915                صحتها من النوم علشان تقولها بحبك ;)      2\n",
       "693916                كل شى كتبته غلط كل شى حسبته غلط فى       0\n",
       "\n",
       "[693917 rows x 2 columns]"
      ]
     },
     "execution_count": 88,
     "metadata": {},
     "output_type": "execute_result"
    }
   ],
   "source": [
    "data_df"
   ]
  },
  {
   "cell_type": "code",
   "execution_count": 89,
   "id": "9f8dfca9",
   "metadata": {},
   "outputs": [
    {
     "name": "stdout",
     "output_type": "stream",
     "text": [
      " \"الداخلية\": 400 ألف مواطن تقدموا لأداء الحج وبدء إجراء القرعة 10 مايو المقبل\n"
     ]
    }
   ],
   "source": [
    "print(data_df.iloc[693914][\"sentence\"])"
   ]
  },
  {
   "cell_type": "markdown",
   "id": "500307e7",
   "metadata": {},
   "source": [
    "#### 2.10 Splitting data into a 80/20 train/test split\n",
    "\n",
    "Train/val/test splits would be conducted in future experiments."
   ]
  },
  {
   "cell_type": "code",
   "execution_count": 90,
   "id": "6d2b5873",
   "metadata": {},
   "outputs": [],
   "source": [
    "RANDOM_STATE = 420\n",
    "\n",
    "train_df, test_df = train_test_split(data_df, test_size=0.2, random_state=RANDOM_STATE)"
   ]
  },
  {
   "cell_type": "code",
   "execution_count": 91,
   "id": "013de9ec",
   "metadata": {},
   "outputs": [
    {
     "data": {
      "text/html": [
       "<div>\n",
       "<style scoped>\n",
       "    .dataframe tbody tr th:only-of-type {\n",
       "        vertical-align: middle;\n",
       "    }\n",
       "\n",
       "    .dataframe tbody tr th {\n",
       "        vertical-align: top;\n",
       "    }\n",
       "\n",
       "    .dataframe thead th {\n",
       "        text-align: right;\n",
       "    }\n",
       "</style>\n",
       "<table border=\"1\" class=\"dataframe\">\n",
       "  <thead>\n",
       "    <tr style=\"text-align: right;\">\n",
       "      <th></th>\n",
       "      <th>sentence</th>\n",
       "      <th>label</th>\n",
       "    </tr>\n",
       "  </thead>\n",
       "  <tbody>\n",
       "    <tr>\n",
       "      <th>351637</th>\n",
       "      <td>من قبل يبدأ الموسم قايل طموحي هو الليغا فقط حت...</td>\n",
       "      <td>2</td>\n",
       "    </tr>\n",
       "    <tr>\n",
       "      <th>219680</th>\n",
       "      <td>القائمة المستدعاة لمواجهة أتلانتا مافي اعذار ا...</td>\n",
       "      <td>2</td>\n",
       "    </tr>\n",
       "    <tr>\n",
       "      <th>447570</th>\n",
       "      <td>يراضوني ب ورد ولا كلام حلو</td>\n",
       "      <td>0</td>\n",
       "    </tr>\n",
       "    <tr>\n",
       "      <th>213154</th>\n",
       "      <td>أسمعي معاي عبدالمجيد عبدالله خلي الوصل بيننا ا...</td>\n",
       "      <td>2</td>\n",
       "    </tr>\n",
       "    <tr>\n",
       "      <th>173996</th>\n",
       "      <td>للقلب الأسود هو الوحيد اللي حبه يزيد بقلبي لأن...</td>\n",
       "      <td>2</td>\n",
       "    </tr>\n",
       "    <tr>\n",
       "      <th>...</th>\n",
       "      <td>...</td>\n",
       "      <td>...</td>\n",
       "    </tr>\n",
       "    <tr>\n",
       "      <th>510579</th>\n",
       "      <td>ثاني شبيه لي بعد توأمي</td>\n",
       "      <td>0</td>\n",
       "    </tr>\n",
       "    <tr>\n",
       "      <th>586527</th>\n",
       "      <td>حينما تنتهى من قرائتها تجد حجم استفاداتك لا شئ</td>\n",
       "      <td>0</td>\n",
       "    </tr>\n",
       "    <tr>\n",
       "      <th>676415</th>\n",
       "      <td>لحد دلوقتي محدش جاوب صح عليا .</td>\n",
       "      <td>0</td>\n",
       "    </tr>\n",
       "    <tr>\n",
       "      <th>643462</th>\n",
       "      <td>صعب اوى انك تشوف دموع  امكوانت مش عارف تعمل لي...</td>\n",
       "      <td>0</td>\n",
       "    </tr>\n",
       "    <tr>\n",
       "      <th>193608</th>\n",
       "      <td>لاعبين اليوفي اليوم عباره عن برشلونه يوفنتوس</td>\n",
       "      <td>2</td>\n",
       "    </tr>\n",
       "  </tbody>\n",
       "</table>\n",
       "<p>555133 rows × 2 columns</p>\n",
       "</div>"
      ],
      "text/plain": [
       "                                                 sentence  label\n",
       "351637  من قبل يبدأ الموسم قايل طموحي هو الليغا فقط حت...      2\n",
       "219680  القائمة المستدعاة لمواجهة أتلانتا مافي اعذار ا...      2\n",
       "447570                         يراضوني ب ورد ولا كلام حلو      0\n",
       "213154  أسمعي معاي عبدالمجيد عبدالله خلي الوصل بيننا ا...      2\n",
       "173996  للقلب الأسود هو الوحيد اللي حبه يزيد بقلبي لأن...      2\n",
       "...                                                   ...    ...\n",
       "510579                             ثاني شبيه لي بعد توأمي      0\n",
       "586527     حينما تنتهى من قرائتها تجد حجم استفاداتك لا شئ      0\n",
       "676415                     لحد دلوقتي محدش جاوب صح عليا .      0\n",
       "643462  صعب اوى انك تشوف دموع  امكوانت مش عارف تعمل لي...      0\n",
       "193608       لاعبين اليوفي اليوم عباره عن برشلونه يوفنتوس      2\n",
       "\n",
       "[555133 rows x 2 columns]"
      ]
     },
     "execution_count": 91,
     "metadata": {},
     "output_type": "execute_result"
    }
   ],
   "source": [
    "train_df"
   ]
  },
  {
   "cell_type": "code",
   "execution_count": 92,
   "id": "12a63132",
   "metadata": {},
   "outputs": [
    {
     "data": {
      "text/plain": [
       "2    369423\n",
       "0    162431\n",
       "1     23279\n",
       "Name: label, dtype: int64"
      ]
     },
     "execution_count": 92,
     "metadata": {},
     "output_type": "execute_result"
    }
   ],
   "source": [
    "train_value_counts = train_df[\"label\"].value_counts()\n",
    "train_value_counts"
   ]
  },
  {
   "cell_type": "code",
   "execution_count": 93,
   "id": "83fb95ec",
   "metadata": {},
   "outputs": [
    {
     "data": {
      "text/html": [
       "<div>\n",
       "<style scoped>\n",
       "    .dataframe tbody tr th:only-of-type {\n",
       "        vertical-align: middle;\n",
       "    }\n",
       "\n",
       "    .dataframe tbody tr th {\n",
       "        vertical-align: top;\n",
       "    }\n",
       "\n",
       "    .dataframe thead th {\n",
       "        text-align: right;\n",
       "    }\n",
       "</style>\n",
       "<table border=\"1\" class=\"dataframe\">\n",
       "  <thead>\n",
       "    <tr style=\"text-align: right;\">\n",
       "      <th></th>\n",
       "      <th>sentence</th>\n",
       "      <th>label</th>\n",
       "    </tr>\n",
       "  </thead>\n",
       "  <tbody>\n",
       "    <tr>\n",
       "      <th>510924</th>\n",
       "      <td>مسكوه الفرقه الفرقه محتاجه حد عارف قيمه الفريق...</td>\n",
       "      <td>0</td>\n",
       "    </tr>\n",
       "    <tr>\n",
       "      <th>25694</th>\n",
       "      <td>خاطرة رائعة عندما كنت طفلا كان والديك يخفون عن...</td>\n",
       "      <td>2</td>\n",
       "    </tr>\n",
       "    <tr>\n",
       "      <th>582693</th>\n",
       "      <td>لغة صعبة الي حد ما,,,يميل فيها الكاتب الي بعض...</td>\n",
       "      <td>0</td>\n",
       "    </tr>\n",
       "    <tr>\n",
       "      <th>11318</th>\n",
       "      <td>انهارده يوم مهلك ابن حرام محاضرة وبعدين تمرين ...</td>\n",
       "      <td>2</td>\n",
       "    </tr>\n",
       "    <tr>\n",
       "      <th>515266</th>\n",
       "      <td>ابي رابط موقع نور بالسجل المدني</td>\n",
       "      <td>0</td>\n",
       "    </tr>\n",
       "    <tr>\n",
       "      <th>...</th>\n",
       "      <td>...</td>\n",
       "      <td>...</td>\n",
       "    </tr>\n",
       "    <tr>\n",
       "      <th>36708</th>\n",
       "      <td>عيشتك ملك لو تطلب انت روح هاك الروح فدوا لا تحزن</td>\n",
       "      <td>2</td>\n",
       "    </tr>\n",
       "    <tr>\n",
       "      <th>365433</th>\n",
       "      <td>مبروك الهادف يا ابا هادف بارك الله لكم في المو...</td>\n",
       "      <td>2</td>\n",
       "    </tr>\n",
       "    <tr>\n",
       "      <th>289997</th>\n",
       "      <td>أنا دخيل الله من نظرة عينها عجزت أوصف بالحلا م...</td>\n",
       "      <td>2</td>\n",
       "    </tr>\n",
       "    <tr>\n",
       "      <th>109661</th>\n",
       "      <td>لو الحب كان على قد المسافه انا احبك لآخر حدود ...</td>\n",
       "      <td>2</td>\n",
       "    </tr>\n",
       "    <tr>\n",
       "      <th>100328</th>\n",
       "      <td>نص ساعه كمان و هيبقى اليوفى اتقل من البايرن مل...</td>\n",
       "      <td>2</td>\n",
       "    </tr>\n",
       "  </tbody>\n",
       "</table>\n",
       "<p>138784 rows × 2 columns</p>\n",
       "</div>"
      ],
      "text/plain": [
       "                                                 sentence  label\n",
       "510924  مسكوه الفرقه الفرقه محتاجه حد عارف قيمه الفريق...      0\n",
       "25694   خاطرة رائعة عندما كنت طفلا كان والديك يخفون عن...      2\n",
       "582693   لغة صعبة الي حد ما,,,يميل فيها الكاتب الي بعض...      0\n",
       "11318   انهارده يوم مهلك ابن حرام محاضرة وبعدين تمرين ...      2\n",
       "515266                    ابي رابط موقع نور بالسجل المدني      0\n",
       "...                                                   ...    ...\n",
       "36708    عيشتك ملك لو تطلب انت روح هاك الروح فدوا لا تحزن      2\n",
       "365433  مبروك الهادف يا ابا هادف بارك الله لكم في المو...      2\n",
       "289997  أنا دخيل الله من نظرة عينها عجزت أوصف بالحلا م...      2\n",
       "109661  لو الحب كان على قد المسافه انا احبك لآخر حدود ...      2\n",
       "100328  نص ساعه كمان و هيبقى اليوفى اتقل من البايرن مل...      2\n",
       "\n",
       "[138784 rows x 2 columns]"
      ]
     },
     "execution_count": 93,
     "metadata": {},
     "output_type": "execute_result"
    }
   ],
   "source": [
    "test_df"
   ]
  },
  {
   "cell_type": "code",
   "execution_count": 94,
   "id": "5b0ba4a7",
   "metadata": {},
   "outputs": [
    {
     "data": {
      "text/plain": [
       "2    92710\n",
       "0    40294\n",
       "1     5780\n",
       "Name: label, dtype: int64"
      ]
     },
     "execution_count": 94,
     "metadata": {},
     "output_type": "execute_result"
    }
   ],
   "source": [
    "test_value_counts = test_df[\"label\"].value_counts()\n",
    "test_value_counts"
   ]
  },
  {
   "cell_type": "code",
   "execution_count": 95,
   "id": "c04bb604",
   "metadata": {},
   "outputs": [
    {
     "name": "stdout",
     "output_type": "stream",
     "text": [
      "Ratios for train set:\n",
      "\n",
      "Negative ratio: 0.29259835030524217\n",
      "Neutral ratio: 0.041934095072712306\n",
      "Positive ratio: 0.6654675546220455\n",
      "\n",
      "Ratios for test set:\n",
      "\n",
      "Negative ratio: 0.29033606179386673\n",
      "Neutral ratio: 0.04164745215586811\n",
      "Positive ratio: 0.6680164860502652\n"
     ]
    }
   ],
   "source": [
    "print(\"Ratios for train set:\\n\")\n",
    "print(f\"Negative ratio: {train_value_counts[0] / len(train_df)}\")\n",
    "print(f\"Neutral ratio: {train_value_counts[1] / len(train_df)}\")\n",
    "print(f\"Positive ratio: {train_value_counts[2] / len(train_df)}\")\n",
    "\n",
    "print(\"\\nRatios for test set:\\n\")\n",
    "print(f\"Negative ratio: {test_value_counts[0] / len(test_df)}\")\n",
    "print(f\"Neutral ratio: {test_value_counts[1] / len(test_df)}\")\n",
    "print(f\"Positive ratio: {test_value_counts[2] / len(test_df)}\")"
   ]
  },
  {
   "cell_type": "markdown",
   "id": "0e37b2d6",
   "metadata": {},
   "source": [
    "#### 2.11 Calculating balanced class weights based on training set"
   ]
  },
  {
   "cell_type": "code",
   "execution_count": 96,
   "id": "a3491146",
   "metadata": {},
   "outputs": [
    {
     "data": {
      "text/plain": [
       "array([0, 1, 2])"
      ]
     },
     "execution_count": 96,
     "metadata": {},
     "output_type": "execute_result"
    }
   ],
   "source": [
    "np.unique(train_df[\"label\"])"
   ]
  },
  {
   "cell_type": "code",
   "execution_count": 97,
   "id": "3235651d",
   "metadata": {},
   "outputs": [
    {
     "name": "stdout",
     "output_type": "stream",
     "text": [
      "[1.13921809 7.9489812  0.50090095]\n"
     ]
    }
   ],
   "source": [
    "class_weights = class_weight.compute_class_weight(\n",
    "    class_weight='balanced',\n",
    "    classes=np.unique(train_df[\"label\"]),\n",
    "    y=train_df[\"label\"]\n",
    ")\n",
    "\n",
    "print(class_weights)"
   ]
  },
  {
   "cell_type": "markdown",
   "id": "4d0fb210",
   "metadata": {},
   "source": [
    "### 3- Preparing and training the Sentiment Classifier model from the CAMeL-Lab [bert-base-arabic-camelbert-mix](https://huggingface.co/CAMeL-Lab/bert-base-arabic-camelbert-mix) pre-trained language model\n",
    "\n",
    "It is the language model with the __largest training corpus__ available by CAMeL-Lab. Composed of Modern Standard Arabic (MSA), dialectal Arabic (DA), and classical Arabic (CA).\n",
    "\n",
    "* I have used this [tutorial](https://huggingface.co/docs/transformers/training) by huggingface as a reference how to do fine-tuned training for transformers using their 'transformers' library\n",
    "* I have also used the fine-tuning code from CAMeL-Lab's GitHub [repository](https://github.com/CAMeL-Lab/CAMeLBERT) as a reference"
   ]
  },
  {
   "cell_type": "markdown",
   "id": "fdd99852",
   "metadata": {},
   "source": [
    "#### 3.1 Importing base bert model"
   ]
  },
  {
   "cell_type": "code",
   "execution_count": 98,
   "id": "46952f93",
   "metadata": {},
   "outputs": [],
   "source": [
    "model_name = \"CAMeL-Lab/bert-base-arabic-camelbert-mix\""
   ]
  },
  {
   "cell_type": "code",
   "execution_count": 99,
   "id": "79ae6482",
   "metadata": {},
   "outputs": [
    {
     "name": "stderr",
     "output_type": "stream",
     "text": [
      "Some weights of the model checkpoint at CAMeL-Lab/bert-base-arabic-camelbert-mix were not used when initializing BertForSequenceClassification: ['cls.seq_relationship.bias', 'cls.predictions.bias', 'cls.predictions.transform.dense.weight', 'cls.predictions.transform.LayerNorm.bias', 'cls.predictions.decoder.bias', 'cls.predictions.transform.LayerNorm.weight', 'cls.predictions.decoder.weight', 'cls.predictions.transform.dense.bias', 'cls.seq_relationship.weight']\n",
      "- This IS expected if you are initializing BertForSequenceClassification from the checkpoint of a model trained on another task or with another architecture (e.g. initializing a BertForSequenceClassification model from a BertForPreTraining model).\n",
      "- This IS NOT expected if you are initializing BertForSequenceClassification from the checkpoint of a model that you expect to be exactly identical (initializing a BertForSequenceClassification model from a BertForSequenceClassification model).\n",
      "Some weights of BertForSequenceClassification were not initialized from the model checkpoint at CAMeL-Lab/bert-base-arabic-camelbert-mix and are newly initialized: ['classifier.weight', 'classifier.bias']\n",
      "You should probably TRAIN this model on a down-stream task to be able to use it for predictions and inference.\n"
     ]
    }
   ],
   "source": [
    "tokenizer = AutoTokenizer.from_pretrained(model_name)\n",
    "model = AutoModelForSequenceClassification.from_pretrained(model_name, num_labels=3)"
   ]
  },
  {
   "cell_type": "code",
   "execution_count": 100,
   "id": "606f8785",
   "metadata": {},
   "outputs": [
    {
     "data": {
      "text/plain": [
       "transformers.models.bert.modeling_bert.BertForSequenceClassification"
      ]
     },
     "execution_count": 100,
     "metadata": {},
     "output_type": "execute_result"
    }
   ],
   "source": [
    "type(model)"
   ]
  },
  {
   "cell_type": "code",
   "execution_count": 101,
   "id": "fd62603d",
   "metadata": {},
   "outputs": [
    {
     "data": {
      "text/plain": [
       "BertForSequenceClassification(\n",
       "  (bert): BertModel(\n",
       "    (embeddings): BertEmbeddings(\n",
       "      (word_embeddings): Embedding(30000, 768, padding_idx=0)\n",
       "      (position_embeddings): Embedding(512, 768)\n",
       "      (token_type_embeddings): Embedding(2, 768)\n",
       "      (LayerNorm): LayerNorm((768,), eps=1e-12, elementwise_affine=True)\n",
       "      (dropout): Dropout(p=0.1, inplace=False)\n",
       "    )\n",
       "    (encoder): BertEncoder(\n",
       "      (layer): ModuleList(\n",
       "        (0): BertLayer(\n",
       "          (attention): BertAttention(\n",
       "            (self): BertSelfAttention(\n",
       "              (query): Linear(in_features=768, out_features=768, bias=True)\n",
       "              (key): Linear(in_features=768, out_features=768, bias=True)\n",
       "              (value): Linear(in_features=768, out_features=768, bias=True)\n",
       "              (dropout): Dropout(p=0.1, inplace=False)\n",
       "            )\n",
       "            (output): BertSelfOutput(\n",
       "              (dense): Linear(in_features=768, out_features=768, bias=True)\n",
       "              (LayerNorm): LayerNorm((768,), eps=1e-12, elementwise_affine=True)\n",
       "              (dropout): Dropout(p=0.1, inplace=False)\n",
       "            )\n",
       "          )\n",
       "          (intermediate): BertIntermediate(\n",
       "            (dense): Linear(in_features=768, out_features=3072, bias=True)\n",
       "            (intermediate_act_fn): GELUActivation()\n",
       "          )\n",
       "          (output): BertOutput(\n",
       "            (dense): Linear(in_features=3072, out_features=768, bias=True)\n",
       "            (LayerNorm): LayerNorm((768,), eps=1e-12, elementwise_affine=True)\n",
       "            (dropout): Dropout(p=0.1, inplace=False)\n",
       "          )\n",
       "        )\n",
       "        (1): BertLayer(\n",
       "          (attention): BertAttention(\n",
       "            (self): BertSelfAttention(\n",
       "              (query): Linear(in_features=768, out_features=768, bias=True)\n",
       "              (key): Linear(in_features=768, out_features=768, bias=True)\n",
       "              (value): Linear(in_features=768, out_features=768, bias=True)\n",
       "              (dropout): Dropout(p=0.1, inplace=False)\n",
       "            )\n",
       "            (output): BertSelfOutput(\n",
       "              (dense): Linear(in_features=768, out_features=768, bias=True)\n",
       "              (LayerNorm): LayerNorm((768,), eps=1e-12, elementwise_affine=True)\n",
       "              (dropout): Dropout(p=0.1, inplace=False)\n",
       "            )\n",
       "          )\n",
       "          (intermediate): BertIntermediate(\n",
       "            (dense): Linear(in_features=768, out_features=3072, bias=True)\n",
       "            (intermediate_act_fn): GELUActivation()\n",
       "          )\n",
       "          (output): BertOutput(\n",
       "            (dense): Linear(in_features=3072, out_features=768, bias=True)\n",
       "            (LayerNorm): LayerNorm((768,), eps=1e-12, elementwise_affine=True)\n",
       "            (dropout): Dropout(p=0.1, inplace=False)\n",
       "          )\n",
       "        )\n",
       "        (2): BertLayer(\n",
       "          (attention): BertAttention(\n",
       "            (self): BertSelfAttention(\n",
       "              (query): Linear(in_features=768, out_features=768, bias=True)\n",
       "              (key): Linear(in_features=768, out_features=768, bias=True)\n",
       "              (value): Linear(in_features=768, out_features=768, bias=True)\n",
       "              (dropout): Dropout(p=0.1, inplace=False)\n",
       "            )\n",
       "            (output): BertSelfOutput(\n",
       "              (dense): Linear(in_features=768, out_features=768, bias=True)\n",
       "              (LayerNorm): LayerNorm((768,), eps=1e-12, elementwise_affine=True)\n",
       "              (dropout): Dropout(p=0.1, inplace=False)\n",
       "            )\n",
       "          )\n",
       "          (intermediate): BertIntermediate(\n",
       "            (dense): Linear(in_features=768, out_features=3072, bias=True)\n",
       "            (intermediate_act_fn): GELUActivation()\n",
       "          )\n",
       "          (output): BertOutput(\n",
       "            (dense): Linear(in_features=3072, out_features=768, bias=True)\n",
       "            (LayerNorm): LayerNorm((768,), eps=1e-12, elementwise_affine=True)\n",
       "            (dropout): Dropout(p=0.1, inplace=False)\n",
       "          )\n",
       "        )\n",
       "        (3): BertLayer(\n",
       "          (attention): BertAttention(\n",
       "            (self): BertSelfAttention(\n",
       "              (query): Linear(in_features=768, out_features=768, bias=True)\n",
       "              (key): Linear(in_features=768, out_features=768, bias=True)\n",
       "              (value): Linear(in_features=768, out_features=768, bias=True)\n",
       "              (dropout): Dropout(p=0.1, inplace=False)\n",
       "            )\n",
       "            (output): BertSelfOutput(\n",
       "              (dense): Linear(in_features=768, out_features=768, bias=True)\n",
       "              (LayerNorm): LayerNorm((768,), eps=1e-12, elementwise_affine=True)\n",
       "              (dropout): Dropout(p=0.1, inplace=False)\n",
       "            )\n",
       "          )\n",
       "          (intermediate): BertIntermediate(\n",
       "            (dense): Linear(in_features=768, out_features=3072, bias=True)\n",
       "            (intermediate_act_fn): GELUActivation()\n",
       "          )\n",
       "          (output): BertOutput(\n",
       "            (dense): Linear(in_features=3072, out_features=768, bias=True)\n",
       "            (LayerNorm): LayerNorm((768,), eps=1e-12, elementwise_affine=True)\n",
       "            (dropout): Dropout(p=0.1, inplace=False)\n",
       "          )\n",
       "        )\n",
       "        (4): BertLayer(\n",
       "          (attention): BertAttention(\n",
       "            (self): BertSelfAttention(\n",
       "              (query): Linear(in_features=768, out_features=768, bias=True)\n",
       "              (key): Linear(in_features=768, out_features=768, bias=True)\n",
       "              (value): Linear(in_features=768, out_features=768, bias=True)\n",
       "              (dropout): Dropout(p=0.1, inplace=False)\n",
       "            )\n",
       "            (output): BertSelfOutput(\n",
       "              (dense): Linear(in_features=768, out_features=768, bias=True)\n",
       "              (LayerNorm): LayerNorm((768,), eps=1e-12, elementwise_affine=True)\n",
       "              (dropout): Dropout(p=0.1, inplace=False)\n",
       "            )\n",
       "          )\n",
       "          (intermediate): BertIntermediate(\n",
       "            (dense): Linear(in_features=768, out_features=3072, bias=True)\n",
       "            (intermediate_act_fn): GELUActivation()\n",
       "          )\n",
       "          (output): BertOutput(\n",
       "            (dense): Linear(in_features=3072, out_features=768, bias=True)\n",
       "            (LayerNorm): LayerNorm((768,), eps=1e-12, elementwise_affine=True)\n",
       "            (dropout): Dropout(p=0.1, inplace=False)\n",
       "          )\n",
       "        )\n",
       "        (5): BertLayer(\n",
       "          (attention): BertAttention(\n",
       "            (self): BertSelfAttention(\n",
       "              (query): Linear(in_features=768, out_features=768, bias=True)\n",
       "              (key): Linear(in_features=768, out_features=768, bias=True)\n",
       "              (value): Linear(in_features=768, out_features=768, bias=True)\n",
       "              (dropout): Dropout(p=0.1, inplace=False)\n",
       "            )\n",
       "            (output): BertSelfOutput(\n",
       "              (dense): Linear(in_features=768, out_features=768, bias=True)\n",
       "              (LayerNorm): LayerNorm((768,), eps=1e-12, elementwise_affine=True)\n",
       "              (dropout): Dropout(p=0.1, inplace=False)\n",
       "            )\n",
       "          )\n",
       "          (intermediate): BertIntermediate(\n",
       "            (dense): Linear(in_features=768, out_features=3072, bias=True)\n",
       "            (intermediate_act_fn): GELUActivation()\n",
       "          )\n",
       "          (output): BertOutput(\n",
       "            (dense): Linear(in_features=3072, out_features=768, bias=True)\n",
       "            (LayerNorm): LayerNorm((768,), eps=1e-12, elementwise_affine=True)\n",
       "            (dropout): Dropout(p=0.1, inplace=False)\n",
       "          )\n",
       "        )\n",
       "        (6): BertLayer(\n",
       "          (attention): BertAttention(\n",
       "            (self): BertSelfAttention(\n",
       "              (query): Linear(in_features=768, out_features=768, bias=True)\n",
       "              (key): Linear(in_features=768, out_features=768, bias=True)\n",
       "              (value): Linear(in_features=768, out_features=768, bias=True)\n",
       "              (dropout): Dropout(p=0.1, inplace=False)\n",
       "            )\n",
       "            (output): BertSelfOutput(\n",
       "              (dense): Linear(in_features=768, out_features=768, bias=True)\n",
       "              (LayerNorm): LayerNorm((768,), eps=1e-12, elementwise_affine=True)\n",
       "              (dropout): Dropout(p=0.1, inplace=False)\n",
       "            )\n",
       "          )\n",
       "          (intermediate): BertIntermediate(\n",
       "            (dense): Linear(in_features=768, out_features=3072, bias=True)\n",
       "            (intermediate_act_fn): GELUActivation()\n",
       "          )\n",
       "          (output): BertOutput(\n",
       "            (dense): Linear(in_features=3072, out_features=768, bias=True)\n",
       "            (LayerNorm): LayerNorm((768,), eps=1e-12, elementwise_affine=True)\n",
       "            (dropout): Dropout(p=0.1, inplace=False)\n",
       "          )\n",
       "        )\n",
       "        (7): BertLayer(\n",
       "          (attention): BertAttention(\n",
       "            (self): BertSelfAttention(\n",
       "              (query): Linear(in_features=768, out_features=768, bias=True)\n",
       "              (key): Linear(in_features=768, out_features=768, bias=True)\n",
       "              (value): Linear(in_features=768, out_features=768, bias=True)\n",
       "              (dropout): Dropout(p=0.1, inplace=False)\n",
       "            )\n",
       "            (output): BertSelfOutput(\n",
       "              (dense): Linear(in_features=768, out_features=768, bias=True)\n",
       "              (LayerNorm): LayerNorm((768,), eps=1e-12, elementwise_affine=True)\n",
       "              (dropout): Dropout(p=0.1, inplace=False)\n",
       "            )\n",
       "          )\n",
       "          (intermediate): BertIntermediate(\n",
       "            (dense): Linear(in_features=768, out_features=3072, bias=True)\n",
       "            (intermediate_act_fn): GELUActivation()\n",
       "          )\n",
       "          (output): BertOutput(\n",
       "            (dense): Linear(in_features=3072, out_features=768, bias=True)\n",
       "            (LayerNorm): LayerNorm((768,), eps=1e-12, elementwise_affine=True)\n",
       "            (dropout): Dropout(p=0.1, inplace=False)\n",
       "          )\n",
       "        )\n",
       "        (8): BertLayer(\n",
       "          (attention): BertAttention(\n",
       "            (self): BertSelfAttention(\n",
       "              (query): Linear(in_features=768, out_features=768, bias=True)\n",
       "              (key): Linear(in_features=768, out_features=768, bias=True)\n",
       "              (value): Linear(in_features=768, out_features=768, bias=True)\n",
       "              (dropout): Dropout(p=0.1, inplace=False)\n",
       "            )\n",
       "            (output): BertSelfOutput(\n",
       "              (dense): Linear(in_features=768, out_features=768, bias=True)\n",
       "              (LayerNorm): LayerNorm((768,), eps=1e-12, elementwise_affine=True)\n",
       "              (dropout): Dropout(p=0.1, inplace=False)\n",
       "            )\n",
       "          )\n",
       "          (intermediate): BertIntermediate(\n",
       "            (dense): Linear(in_features=768, out_features=3072, bias=True)\n",
       "            (intermediate_act_fn): GELUActivation()\n",
       "          )\n",
       "          (output): BertOutput(\n",
       "            (dense): Linear(in_features=3072, out_features=768, bias=True)\n",
       "            (LayerNorm): LayerNorm((768,), eps=1e-12, elementwise_affine=True)\n",
       "            (dropout): Dropout(p=0.1, inplace=False)\n",
       "          )\n",
       "        )\n",
       "        (9): BertLayer(\n",
       "          (attention): BertAttention(\n",
       "            (self): BertSelfAttention(\n",
       "              (query): Linear(in_features=768, out_features=768, bias=True)\n",
       "              (key): Linear(in_features=768, out_features=768, bias=True)\n",
       "              (value): Linear(in_features=768, out_features=768, bias=True)\n",
       "              (dropout): Dropout(p=0.1, inplace=False)\n",
       "            )\n",
       "            (output): BertSelfOutput(\n",
       "              (dense): Linear(in_features=768, out_features=768, bias=True)\n",
       "              (LayerNorm): LayerNorm((768,), eps=1e-12, elementwise_affine=True)\n",
       "              (dropout): Dropout(p=0.1, inplace=False)\n",
       "            )\n",
       "          )\n",
       "          (intermediate): BertIntermediate(\n",
       "            (dense): Linear(in_features=768, out_features=3072, bias=True)\n",
       "            (intermediate_act_fn): GELUActivation()\n",
       "          )\n",
       "          (output): BertOutput(\n",
       "            (dense): Linear(in_features=3072, out_features=768, bias=True)\n",
       "            (LayerNorm): LayerNorm((768,), eps=1e-12, elementwise_affine=True)\n",
       "            (dropout): Dropout(p=0.1, inplace=False)\n",
       "          )\n",
       "        )\n",
       "        (10): BertLayer(\n",
       "          (attention): BertAttention(\n",
       "            (self): BertSelfAttention(\n",
       "              (query): Linear(in_features=768, out_features=768, bias=True)\n",
       "              (key): Linear(in_features=768, out_features=768, bias=True)\n",
       "              (value): Linear(in_features=768, out_features=768, bias=True)\n",
       "              (dropout): Dropout(p=0.1, inplace=False)\n",
       "            )\n",
       "            (output): BertSelfOutput(\n",
       "              (dense): Linear(in_features=768, out_features=768, bias=True)\n",
       "              (LayerNorm): LayerNorm((768,), eps=1e-12, elementwise_affine=True)\n",
       "              (dropout): Dropout(p=0.1, inplace=False)\n",
       "            )\n",
       "          )\n",
       "          (intermediate): BertIntermediate(\n",
       "            (dense): Linear(in_features=768, out_features=3072, bias=True)\n",
       "            (intermediate_act_fn): GELUActivation()\n",
       "          )\n",
       "          (output): BertOutput(\n",
       "            (dense): Linear(in_features=3072, out_features=768, bias=True)\n",
       "            (LayerNorm): LayerNorm((768,), eps=1e-12, elementwise_affine=True)\n",
       "            (dropout): Dropout(p=0.1, inplace=False)\n",
       "          )\n",
       "        )\n",
       "        (11): BertLayer(\n",
       "          (attention): BertAttention(\n",
       "            (self): BertSelfAttention(\n",
       "              (query): Linear(in_features=768, out_features=768, bias=True)\n",
       "              (key): Linear(in_features=768, out_features=768, bias=True)\n",
       "              (value): Linear(in_features=768, out_features=768, bias=True)\n",
       "              (dropout): Dropout(p=0.1, inplace=False)\n",
       "            )\n",
       "            (output): BertSelfOutput(\n",
       "              (dense): Linear(in_features=768, out_features=768, bias=True)\n",
       "              (LayerNorm): LayerNorm((768,), eps=1e-12, elementwise_affine=True)\n",
       "              (dropout): Dropout(p=0.1, inplace=False)\n",
       "            )\n",
       "          )\n",
       "          (intermediate): BertIntermediate(\n",
       "            (dense): Linear(in_features=768, out_features=3072, bias=True)\n",
       "            (intermediate_act_fn): GELUActivation()\n",
       "          )\n",
       "          (output): BertOutput(\n",
       "            (dense): Linear(in_features=3072, out_features=768, bias=True)\n",
       "            (LayerNorm): LayerNorm((768,), eps=1e-12, elementwise_affine=True)\n",
       "            (dropout): Dropout(p=0.1, inplace=False)\n",
       "          )\n",
       "        )\n",
       "      )\n",
       "    )\n",
       "    (pooler): BertPooler(\n",
       "      (dense): Linear(in_features=768, out_features=768, bias=True)\n",
       "      (activation): Tanh()\n",
       "    )\n",
       "  )\n",
       "  (dropout): Dropout(p=0.1, inplace=False)\n",
       "  (classifier): Linear(in_features=768, out_features=3, bias=True)\n",
       ")"
      ]
     },
     "execution_count": 101,
     "metadata": {},
     "output_type": "execute_result"
    }
   ],
   "source": [
    "model"
   ]
  },
  {
   "cell_type": "code",
   "execution_count": 102,
   "id": "5b1754b7",
   "metadata": {},
   "outputs": [
    {
     "data": {
      "text/plain": [
       "transformers.models.bert.tokenization_bert_fast.BertTokenizerFast"
      ]
     },
     "execution_count": 102,
     "metadata": {},
     "output_type": "execute_result"
    }
   ],
   "source": [
    "type(tokenizer)"
   ]
  },
  {
   "cell_type": "code",
   "execution_count": 103,
   "id": "6ad1efde",
   "metadata": {},
   "outputs": [
    {
     "data": {
      "text/plain": [
       "{'input_ids': [2, 22718, 9276, 2247, 6448, 10182, 2401, 3913, 4644, 2488, 2687, 9710, 18, 3], 'token_type_ids': [0, 0, 0, 0, 0, 0, 0, 0, 0, 0, 0, 0, 0, 0], 'attention_mask': [1, 1, 1, 1, 1, 1, 1, 1, 1, 1, 1, 1, 1, 1]}"
      ]
     },
     "execution_count": 103,
     "metadata": {},
     "output_type": "execute_result"
    }
   ],
   "source": [
    "input_test = tokenizer(clean(\"إمارة أبوظبي هي إحدى إمارات دولة الإمارات العربية المتحدة السبع .\"))\n",
    "input_test"
   ]
  },
  {
   "cell_type": "code",
   "execution_count": 104,
   "id": "559fbdd4",
   "metadata": {},
   "outputs": [
    {
     "data": {
      "text/plain": [
       "'[CLS] إمارة أبوظبي هي إحدى إمارات دولة الإمارات العربية المتحدة السبع. [SEP]'"
      ]
     },
     "execution_count": 104,
     "metadata": {},
     "output_type": "execute_result"
    }
   ],
   "source": [
    "tokenizer.decode(input_test[\"input_ids\"])"
   ]
  },
  {
   "cell_type": "markdown",
   "id": "ebc9aa04",
   "metadata": {},
   "source": [
    "#### 3.2 Converting data from pandas dataframes to datasets.Dataset format\n",
    "\n",
    "[Reference](https://huggingface.co/docs/datasets/loading#pandas-dataframe)"
   ]
  },
  {
   "cell_type": "markdown",
   "id": "cce62d06",
   "metadata": {},
   "source": [
    "##### 3.2.1 Training data"
   ]
  },
  {
   "cell_type": "code",
   "execution_count": 105,
   "id": "ebc0bdf7",
   "metadata": {},
   "outputs": [],
   "source": [
    "train_dataset = Dataset.from_pandas(train_df)"
   ]
  },
  {
   "cell_type": "code",
   "execution_count": 106,
   "id": "e9c2ea3f",
   "metadata": {},
   "outputs": [
    {
     "data": {
      "text/plain": [
       "datasets.arrow_dataset.Dataset"
      ]
     },
     "execution_count": 106,
     "metadata": {},
     "output_type": "execute_result"
    }
   ],
   "source": [
    "type(train_dataset)"
   ]
  },
  {
   "cell_type": "code",
   "execution_count": 107,
   "id": "3a327068",
   "metadata": {},
   "outputs": [
    {
     "data": {
      "text/plain": [
       "Dataset({\n",
       "    features: ['sentence', 'label', '__index_level_0__'],\n",
       "    num_rows: 555133\n",
       "})"
      ]
     },
     "execution_count": 107,
     "metadata": {},
     "output_type": "execute_result"
    }
   ],
   "source": [
    "train_dataset"
   ]
  },
  {
   "cell_type": "code",
   "execution_count": 108,
   "id": "0e84568c",
   "metadata": {},
   "outputs": [
    {
     "data": {
      "text/plain": [
       "'من قبل يبدأ الموسم قايل طموحي هو الليغا فقط حتى على حساب دوري الابطال الحمدلله هلا مدريد'"
      ]
     },
     "execution_count": 108,
     "metadata": {},
     "output_type": "execute_result"
    }
   ],
   "source": [
    "train_dataset['sentence'][0]"
   ]
  },
  {
   "cell_type": "code",
   "execution_count": 109,
   "id": "48c4af65",
   "metadata": {},
   "outputs": [
    {
     "data": {
      "text/plain": [
       "2"
      ]
     },
     "execution_count": 109,
     "metadata": {},
     "output_type": "execute_result"
    }
   ],
   "source": [
    "train_dataset['label'][0]"
   ]
  },
  {
   "cell_type": "code",
   "execution_count": 110,
   "id": "81e4ce0c",
   "metadata": {},
   "outputs": [
    {
     "data": {
      "text/plain": [
       "351637"
      ]
     },
     "execution_count": 110,
     "metadata": {},
     "output_type": "execute_result"
    }
   ],
   "source": [
    "train_dataset['__index_level_0__'][0]"
   ]
  },
  {
   "cell_type": "markdown",
   "id": "fb40f535",
   "metadata": {},
   "source": [
    "##### 3.2.2 Test data"
   ]
  },
  {
   "cell_type": "code",
   "execution_count": 111,
   "id": "ce24e645",
   "metadata": {},
   "outputs": [],
   "source": [
    "test_dataset = Dataset.from_pandas(test_df)"
   ]
  },
  {
   "cell_type": "code",
   "execution_count": 112,
   "id": "30fdf623",
   "metadata": {},
   "outputs": [
    {
     "data": {
      "text/plain": [
       "Dataset({\n",
       "    features: ['sentence', 'label', '__index_level_0__'],\n",
       "    num_rows: 138784\n",
       "})"
      ]
     },
     "execution_count": 112,
     "metadata": {},
     "output_type": "execute_result"
    }
   ],
   "source": [
    "test_dataset"
   ]
  },
  {
   "cell_type": "markdown",
   "id": "74a1fda2",
   "metadata": {},
   "source": [
    "#### 3.3 Tokenizing the datasets"
   ]
  },
  {
   "cell_type": "code",
   "execution_count": 113,
   "id": "3287399f",
   "metadata": {},
   "outputs": [],
   "source": [
    "def tokenize_function(examples):\n",
    "    return tokenizer(examples[\"sentence\"], padding=\"max_length\", truncation=True)"
   ]
  },
  {
   "cell_type": "markdown",
   "id": "7d82534d",
   "metadata": {},
   "source": [
    "##### 3.3.1 Training set"
   ]
  },
  {
   "cell_type": "code",
   "execution_count": 114,
   "id": "a3894e78",
   "metadata": {},
   "outputs": [
    {
     "name": "stderr",
     "output_type": "stream",
     "text": [
      "  0%|                                                                                                                                                                                                                                                             | 0/556 [00:00<?, ?ba/s]Asking to pad to max_length but no maximum length is provided and the model has no predefined maximum length. Default to no padding.\n",
      "Asking to truncate to max_length but no maximum length is provided and the model has no predefined maximum length. Default to no truncation.\n",
      "100%|███████████████████████████████████████████████████████████████████████████████████████████████████████████████████████████████████████████████████████████████████████████████████████████████████████████████████████████████████████████████████| 556/556 [00:12<00:00, 43.49ba/s]\n"
     ]
    }
   ],
   "source": [
    "tokenized_train_dataset = train_dataset.map(tokenize_function, batched=True)"
   ]
  },
  {
   "cell_type": "code",
   "execution_count": 115,
   "id": "f4a617d6",
   "metadata": {},
   "outputs": [
    {
     "data": {
      "text/plain": [
       "Dataset({\n",
       "    features: ['sentence', 'label', '__index_level_0__', 'input_ids', 'token_type_ids', 'attention_mask'],\n",
       "    num_rows: 555133\n",
       "})"
      ]
     },
     "execution_count": 115,
     "metadata": {},
     "output_type": "execute_result"
    }
   ],
   "source": [
    "tokenized_train_dataset"
   ]
  },
  {
   "cell_type": "code",
   "execution_count": 116,
   "id": "0b3e3cde",
   "metadata": {},
   "outputs": [
    {
     "data": {
      "text/plain": [
       "'من قبل يبدأ الموسم قايل طموحي هو الليغا فقط حتى على حساب دوري الابطال الحمدلله هلا مدريد'"
      ]
     },
     "execution_count": 116,
     "metadata": {},
     "output_type": "execute_result"
    }
   ],
   "source": [
    "tokenized_train_dataset[\"sentence\"][0]"
   ]
  },
  {
   "cell_type": "code",
   "execution_count": 117,
   "id": "4f7cb4a9",
   "metadata": {},
   "outputs": [
    {
     "data": {
      "text/plain": [
       "2"
      ]
     },
     "execution_count": 117,
     "metadata": {},
     "output_type": "execute_result"
    }
   ],
   "source": [
    "tokenized_train_dataset[\"label\"][0]"
   ]
  },
  {
   "cell_type": "code",
   "execution_count": 118,
   "id": "8d49c40e",
   "metadata": {},
   "outputs": [
    {
     "data": {
      "text/plain": [
       "351637"
      ]
     },
     "execution_count": 118,
     "metadata": {},
     "output_type": "execute_result"
    }
   ],
   "source": [
    "tokenized_train_dataset[\"__index_level_0__\"][0]"
   ]
  },
  {
   "cell_type": "code",
   "execution_count": 119,
   "id": "a264084d",
   "metadata": {},
   "outputs": [
    {
     "data": {
      "text/plain": [
       "[2,\n",
       " 1908,\n",
       " 2289,\n",
       " 9880,\n",
       " 4249,\n",
       " 12698,\n",
       " 2027,\n",
       " 19599,\n",
       " 1013,\n",
       " 2139,\n",
       " 23420,\n",
       " 2574,\n",
       " 2494,\n",
       " 1961,\n",
       " 3144,\n",
       " 4299,\n",
       " 12704,\n",
       " 4062,\n",
       " 9106,\n",
       " 4879,\n",
       " 3]"
      ]
     },
     "execution_count": 119,
     "metadata": {},
     "output_type": "execute_result"
    }
   ],
   "source": [
    "tokenized_train_dataset[\"input_ids\"][0]"
   ]
  },
  {
   "cell_type": "code",
   "execution_count": 120,
   "id": "40809ec5",
   "metadata": {},
   "outputs": [
    {
     "data": {
      "text/plain": [
       "[0, 0, 0, 0, 0, 0, 0, 0, 0, 0, 0, 0, 0, 0, 0, 0, 0, 0, 0, 0, 0]"
      ]
     },
     "execution_count": 120,
     "metadata": {},
     "output_type": "execute_result"
    }
   ],
   "source": [
    "tokenized_train_dataset[\"token_type_ids\"][0]"
   ]
  },
  {
   "cell_type": "code",
   "execution_count": 121,
   "id": "f2fb97f4",
   "metadata": {},
   "outputs": [
    {
     "data": {
      "text/plain": [
       "[1, 1, 1, 1, 1, 1, 1, 1, 1, 1, 1, 1, 1, 1, 1, 1, 1, 1, 1, 1, 1]"
      ]
     },
     "execution_count": 121,
     "metadata": {},
     "output_type": "execute_result"
    }
   ],
   "source": [
    "tokenized_train_dataset[\"attention_mask\"][0]"
   ]
  },
  {
   "cell_type": "markdown",
   "id": "3d6f12c6",
   "metadata": {},
   "source": [
    "##### 3.3.2 Test set"
   ]
  },
  {
   "cell_type": "code",
   "execution_count": 122,
   "id": "3b522dfe",
   "metadata": {},
   "outputs": [
    {
     "name": "stderr",
     "output_type": "stream",
     "text": [
      "100%|███████████████████████████████████████████████████████████████████████████████████████████████████████████████████████████████████████████████████████████████████████████████████████████████████████████████████████████████████████████████████| 139/139 [00:03<00:00, 42.50ba/s]\n"
     ]
    }
   ],
   "source": [
    "tokenized_test_dataset = test_dataset.map(tokenize_function, batched=True)"
   ]
  },
  {
   "cell_type": "code",
   "execution_count": 123,
   "id": "54acf3b1",
   "metadata": {},
   "outputs": [
    {
     "data": {
      "text/plain": [
       "Dataset({\n",
       "    features: ['sentence', 'label', '__index_level_0__', 'input_ids', 'token_type_ids', 'attention_mask'],\n",
       "    num_rows: 138784\n",
       "})"
      ]
     },
     "execution_count": 123,
     "metadata": {},
     "output_type": "execute_result"
    }
   ],
   "source": [
    "tokenized_test_dataset"
   ]
  },
  {
   "cell_type": "code",
   "execution_count": null,
   "id": "0641d07d",
   "metadata": {},
   "outputs": [],
   "source": []
  },
  {
   "cell_type": "code",
   "execution_count": null,
   "id": "2c5d6616",
   "metadata": {},
   "outputs": [],
   "source": []
  },
  {
   "cell_type": "code",
   "execution_count": null,
   "id": "e515612e",
   "metadata": {},
   "outputs": [],
   "source": []
  },
  {
   "cell_type": "code",
   "execution_count": null,
   "id": "4b61e488",
   "metadata": {},
   "outputs": [],
   "source": []
  },
  {
   "cell_type": "code",
   "execution_count": null,
   "id": "00368d56",
   "metadata": {},
   "outputs": [],
   "source": []
  }
 ],
 "metadata": {
  "kernelspec": {
   "display_name": "Python 3 (ipykernel)",
   "language": "python",
   "name": "python3"
  },
  "language_info": {
   "codemirror_mode": {
    "name": "ipython",
    "version": 3
   },
   "file_extension": ".py",
   "mimetype": "text/x-python",
   "name": "python",
   "nbconvert_exporter": "python",
   "pygments_lexer": "ipython3",
   "version": "3.7.13"
  }
 },
 "nbformat": 4,
 "nbformat_minor": 5
}
