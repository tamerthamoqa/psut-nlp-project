{
 "cells": [
  {
   "cell_type": "code",
   "execution_count": null,
   "metadata": {
    "id": "mplkCssh4vJ9"
   },
   "outputs": [],
   "source": [
    "import re"
   ]
  },
  {
   "cell_type": "code",
   "execution_count": null,
   "metadata": {
    "colab": {
     "base_uri": "https://localhost:8080/"
    },
    "id": "SxHxmXCo4z69",
    "outputId": "6f3db3a8-6ea9-4faa-a101-fad5c92e121c"
   },
   "outputs": [
    {
     "name": "stdout",
     "output_type": "stream",
     "text": [
      "<re.Match object; span=(0, 16), match='+962(0)791234567'>\n",
      "True\n"
     ]
    }
   ],
   "source": [
    "pattern='\\+\\d{1,3}\\(0\\)7[7-9]\\d{7}$'\n",
    "text='+962(0)791234567 +962(0)791234567'\n",
    "prog = re.compile(pattern)\n",
    "result = prog.match(text)\n",
    "print(result)\n",
    "print(result is not None)\n"
   ]
  },
  {
   "cell_type": "code",
   "execution_count": null,
   "metadata": {
    "colab": {
     "base_uri": "https://localhost:8080/"
    },
    "id": "qWBa-xZMVXdZ",
    "outputId": "f5942e36-9547-484e-c426-2b0b83542642"
   },
   "outputs": [
    {
     "name": "stdout",
     "output_type": "stream",
     "text": [
      "None\n"
     ]
    }
   ],
   "source": [
    "pattern='\\+\\d{1,3}\\(0\\)7[7-9]\\d{7}'\n",
    "text='this is my first no. +962(0)791234567 and this is my second no. +962(0)797654321'\n",
    "result = re.search(pattern, text)\n",
    "allmatches= re.findall(pattern, text)\n",
    "print(result)\n",
    "for mat in allmatches:\n",
    "  print(mat)"
   ]
  },
  {
   "cell_type": "code",
   "execution_count": null,
   "metadata": {
    "colab": {
     "base_uri": "https://localhost:8080/"
    },
    "id": "57nzF9CVivwd",
    "outputId": "6b3a11e7-1ac0-445e-8146-e964249e6a80"
   },
   "outputs": [
    {
     "name": "stdout",
     "output_type": "stream",
     "text": [
      "+962(0)791111111\n",
      "Here is the second results +962(0)791111111\n"
     ]
    }
   ],
   "source": [
    "pattern='\\+\\d{1,3}\\(0\\)\\d{9}'\n",
    "text='hello +962(0)791111111 +962(0)784444444 this is my number +962(0)7912345678'\n",
    "result = re.findall(pattern, text)\n",
    "print(result[0])\n",
    "\n",
    "res2=re.search(pattern, text)\n",
    "print('Here is the second results', res2[0])"
   ]
  },
  {
   "cell_type": "code",
   "execution_count": null,
   "metadata": {
    "colab": {
     "base_uri": "https://localhost:8080/",
     "height": 36
    },
    "id": "Xw7-0LtH5Zso",
    "outputId": "49edd1c6-8b33-4430-f6bc-2a496e410867"
   },
   "outputs": [
    {
     "data": {
      "application/vnd.google.colaboratory.intrinsic+json": {
       "type": "string"
      },
      "text/plain": [
       "'The rain in Spain'"
      ]
     },
     "execution_count": 27,
     "metadata": {},
     "output_type": "execute_result"
    }
   ],
   "source": [
    "txt = \"The rain in Spain\"\n",
    "pattern=\"^The.*Spain$\"\n",
    "x = re.search(pattern, txt)\n",
    "x[0]"
   ]
  },
  {
   "cell_type": "code",
   "execution_count": null,
   "metadata": {
    "colab": {
     "base_uri": "https://localhost:8080/",
     "height": 36
    },
    "id": "MIJ7lb5R6eMj",
    "outputId": "5d29738f-7df3-417f-ed64-b3866dbb63b9"
   },
   "outputs": [
    {
     "data": {
      "application/vnd.google.colaboratory.intrinsic+json": {
       "type": "string"
      },
      "text/plain": [
       "'The rain in Spain'"
      ]
     },
     "execution_count": 28,
     "metadata": {},
     "output_type": "execute_result"
    }
   ],
   "source": [
    "txt = \"The rain in Spain\"\n",
    "pattern=\"^The.*Spain$\"\n",
    "x = re.findall(pattern, txt)\n",
    "x[0]"
   ]
  },
  {
   "cell_type": "code",
   "execution_count": null,
   "metadata": {
    "colab": {
     "base_uri": "https://localhost:8080/"
    },
    "id": "OkLAXZm08iMe",
    "outputId": "066dbd6f-9d77-47b5-8846-edbc9b06595e"
   },
   "outputs": [
    {
     "name": "stdout",
     "output_type": "stream",
     "text": [
      "[nltk_data] Downloading package punkt to /root/nltk_data...\n",
      "[nltk_data]   Unzipping tokenizers/punkt.zip.\n"
     ]
    },
    {
     "data": {
      "text/plain": [
       "True"
      ]
     },
     "execution_count": 25,
     "metadata": {},
     "output_type": "execute_result"
    }
   ],
   "source": [
    "import nltk\n",
    "from nltk.tokenize import word_tokenize\n",
    "nltk.download('punkt')"
   ]
  },
  {
   "cell_type": "code",
   "execution_count": null,
   "metadata": {
    "colab": {
     "base_uri": "https://localhost:8080/"
    },
    "id": "_39CwPa98sJI",
    "outputId": "fb4416d6-139a-4187-ab2d-0833e390e0ec"
   },
   "outputs": [
    {
     "data": {
      "text/plain": [
       "['they',\n",
       " 'lay',\n",
       " 'back',\n",
       " 'on',\n",
       " 'the',\n",
       " 'San',\n",
       " 'Francisco',\n",
       " 'grass',\n",
       " 'and',\n",
       " 'looked',\n",
       " 'at',\n",
       " 'the',\n",
       " 'stars',\n",
       " 'and',\n",
       " 'their']"
      ]
     },
     "execution_count": 26,
     "metadata": {},
     "output_type": "execute_result"
    }
   ],
   "source": [
    "text='they lay back on the San Francisco grass and looked at the stars and their'\n",
    "tokens= word_tokenize(text)\n",
    "tokens"
   ]
  }
 ],
 "metadata": {
  "colab": {
   "collapsed_sections": [],
   "name": "NLP-Regular Expression.ipynb",
   "provenance": []
  },
  "kernelspec": {
   "display_name": "Python 3 (ipykernel)",
   "language": "python",
   "name": "python3"
  },
  "language_info": {
   "codemirror_mode": {
    "name": "ipython",
    "version": 3
   },
   "file_extension": ".py",
   "mimetype": "text/x-python",
   "name": "python",
   "nbconvert_exporter": "python",
   "pygments_lexer": "ipython3",
   "version": "3.7.13"
  }
 },
 "nbformat": 4,
 "nbformat_minor": 1
}
