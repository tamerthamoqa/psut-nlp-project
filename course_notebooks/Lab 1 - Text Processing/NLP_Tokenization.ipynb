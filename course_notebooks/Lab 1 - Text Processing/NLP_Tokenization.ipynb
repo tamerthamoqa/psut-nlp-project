{
 "cells": [
  {
   "cell_type": "code",
   "execution_count": null,
   "metadata": {
    "colab": {
     "base_uri": "https://localhost:8080/"
    },
    "id": "QLWUasM2Y7cK",
    "outputId": "cfedacc9-4bda-4247-974a-0e0b0f7e41aa"
   },
   "outputs": [
    {
     "name": "stdout",
     "output_type": "stream",
     "text": [
      "[nltk_data] Downloading package punkt to /root/nltk_data...\n",
      "[nltk_data]   Package punkt is already up-to-date!\n"
     ]
    }
   ],
   "source": [
    "import nltk\n",
    "import re\n",
    "nltk.download('punkt')\n",
    "from nltk.tokenize import word_tokenize, sent_tokenize, RegexpTokenizer,wordpunct_tokenize"
   ]
  },
  {
   "cell_type": "code",
   "execution_count": null,
   "metadata": {
    "colab": {
     "base_uri": "https://localhost:8080/"
    },
    "id": "abKYS1_oY7cN",
    "outputId": "0714ca2b-ad75-48fd-be4a-9d4e641c27f9"
   },
   "outputs": [
    {
     "name": "stdout",
     "output_type": "stream",
     "text": [
      "Tokenized 1 [\"'\", \"''\", 'Good', 'muffins', 'cost', '$', '3.88', 'in', 'New', 'York', '.', 'Please', 'buy', 'me', 'two', 'of', 'them', '.', 'Thanks', '.', \"'\", \"''\"]\n",
      "Tokenized 2 [\"'''Good\", 'muffins', 'cost', '$3.88', 'in', 'New', 'York.', 'Please', 'buy', 'me', 'two', 'of', 'them.', \"Thanks.'''\"]\n"
     ]
    }
   ],
   "source": [
    "#Simple tokenization\n",
    "sentence1=\"'''Good muffins cost $3.88\\nin New York.  Please buy me two of them.\\n\\nThanks.'''\"\n",
    "tokenized=word_tokenize(sentence1)\n",
    "print('Tokenized 1', tokenized)\n",
    "print('Tokenized 2', sentence1.split())"
   ]
  },
  {
   "cell_type": "code",
   "execution_count": null,
   "metadata": {
    "colab": {
     "base_uri": "https://localhost:8080/"
    },
    "id": "i3LOM1ZrY7cO",
    "outputId": "1daf16db-c558-4b4a-819f-2ac143b2f8ed"
   },
   "outputs": [
    {
     "name": "stdout",
     "output_type": "stream",
     "text": [
      "[(\"'''Good\", 'muffins'), ('muffins', 'cost'), ('cost', '$3.88'), ('$3.88', 'in'), ('in', 'New'), ('New', 'York.'), ('York.', 'Please'), ('Please', 'buy'), ('buy', 'me'), ('me', 'two'), ('two', 'of'), ('of', 'them.'), ('them.', \"Thanks.'''\")]\n"
     ]
    }
   ],
   "source": [
    "#Ngrams\n",
    "from nltk import ngrams\n",
    "tokenized=list(ngrams(sentence1.split(),2))\n",
    "print(tokenized)"
   ]
  },
  {
   "cell_type": "code",
   "execution_count": null,
   "metadata": {
    "colab": {
     "base_uri": "https://localhost:8080/"
    },
    "id": "T-fA3UyyY7cP",
    "outputId": "23b4df6f-3e3f-475c-b1a8-4ad8802d2cb0"
   },
   "outputs": [
    {
     "name": "stdout",
     "output_type": "stream",
     "text": [
      "sentences: [\"'''Good muffins cost $3.88\\nin New York.\", 'Please buy me two of them.', \"Thanks.'''\"]\n"
     ]
    },
    {
     "data": {
      "text/plain": [
       "[[\"'\", \"''\", 'Good', 'muffins', 'cost', '$', '3.88', 'in', 'New', 'York', '.'],\n",
       " ['Please', 'buy', 'me', 'two', 'of', 'them', '.'],\n",
       " ['Thanks', '.', \"'\", \"''\"]]"
      ]
     },
     "execution_count": 17,
     "metadata": {},
     "output_type": "execute_result"
    }
   ],
   "source": [
    "#Sentence tokenization\n",
    "print('sentences:', sent_tokenize(sentence1))\n",
    "[word_tokenize(t) for t in sent_tokenize(sentence1)]"
   ]
  },
  {
   "cell_type": "code",
   "execution_count": null,
   "metadata": {
    "colab": {
     "base_uri": "https://localhost:8080/"
    },
    "id": "FZMWt4LdY7cP",
    "outputId": "28c5d358-1565-4b2b-8b59-2944ff70e39a"
   },
   "outputs": [
    {
     "name": "stdout",
     "output_type": "stream",
     "text": [
      "[\"'''\", 'Good', 'muffins', 'cost', '$', '3', '.', '88', 'in', 'New', 'York', '.', 'Please', 'buy', 'me', 'two', 'of', 'them', '.', 'Thanks', \".'''\"]\n"
     ]
    }
   ],
   "source": [
    "#WordPuncet Tokenizer\n",
    "print(wordpunct_tokenize(sentence1))"
   ]
  },
  {
   "cell_type": "code",
   "execution_count": null,
   "metadata": {
    "colab": {
     "base_uri": "https://localhost:8080/"
    },
    "id": "4ExPEb-7Y7cQ",
    "outputId": "ff8e8089-d428-4240-a6da-36151234583a"
   },
   "outputs": [
    {
     "name": "stdout",
     "output_type": "stream",
     "text": [
      "[\"'''Good\", 'muffins', 'cost', '$3.88', 'in', 'New', 'York', '.', 'Please', 'buy', 'me', 'two', 'of', 'them', '.', 'Thanks', \".'''\"]\n"
     ]
    }
   ],
   "source": [
    "#Regular expersission tokenizer\n",
    "regx=RegexpTokenizer('\\w+|\\$[\\d\\.]+|\\S+')\n",
    "print(regx.tokenize(sentence1))"
   ]
  },
  {
   "cell_type": "code",
   "execution_count": null,
   "metadata": {
    "colab": {
     "base_uri": "https://localhost:8080/"
    },
    "id": "o6QNsIcMY7cQ",
    "outputId": "1efb0159-2332-4330-ed98-b12e9af63c26"
   },
   "outputs": [
    {
     "name": "stdout",
     "output_type": "stream",
     "text": [
      "['Good', 'New', 'York', 'Please', 'Thanks']\n"
     ]
    }
   ],
   "source": [
    "capword_tokenizer = RegexpTokenizer('[A-Z]\\w+')\n",
    "print(capword_tokenizer.tokenize(sentence1))"
   ]
  },
  {
   "cell_type": "code",
   "execution_count": null,
   "metadata": {
    "colab": {
     "base_uri": "https://localhost:8080/"
    },
    "id": "xTnam6blZApw",
    "outputId": "6aa0e6a0-273c-4249-a89a-46e15c4ec64e"
   },
   "outputs": [
    {
     "name": "stdout",
     "output_type": "stream",
     "text": [
      "   Good muffins cost  3 88 in New York   Please buy me two of them   Thanks    \n"
     ]
    }
   ],
   "source": [
    "#Removing special character\n",
    "text=re.sub(r\"[^A-Za-z0-9]\",\" \",sentence1)\n",
    "print(text)"
   ]
  },
  {
   "cell_type": "code",
   "execution_count": null,
   "metadata": {
    "id": "_0ck2x2_Y7cR",
    "outputId": "d7771c08-da9a-4f00-9fa1-66acdfb29b6e"
   },
   "outputs": [
    {
     "name": "stdout",
     "output_type": "stream",
     "text": [
      "['.قضينا', 'في', 'الخليل', 'ستة', 'أشهر', 'ثم', 'بدأ', 'أهل', 'البلد', 'يتوزعون', 'منهم', 'من', 'أراد', 'اللحاق', 'بأقرباء', 'له', 'في', 'طولكرم', 'أو', 'نابلس', 'أو', 'جنين', 'و', 'منهم', 'من', 'تسلل', 'عائدا', 'الى', 'الجليل', 'و', 'منهم', 'من', 'ذهب', 'الى', 'الاردن', '.', 'الحرب', 'تخيف', 'كثيراً', 'لكنها', 'تعلم', 'تعلمك', 'الحرب', 'أن', 'الكلمات', 'قد', 'لا', 'تعني', 'مدلولاتها', 'بشكل', 'كامل', '.', 'نعم', 'زرت', 'عمان', 'زرتها', 'بعد', 'خمس', 'سنين', 'من', 'الغياب', 'و', 'ذلك', 'عام', '1973', '.', 'ويلجم', 'الجميع', 'لا', 'أحد', 'يستطيع', 'تفسير', 'ما', 'حصل', 'يتمتمون', 'الجيوش', 'العربية', 'ستتدخل', 'أجل', 'ستتدخل', 'بالتأكيد', 'هل', 'يترك', 'العرب', 'فلسطين', 'تضيع', '.', 'ترحل', 'إلى', 'بيروت', 'تظنها', 'نهاية', 'الحرب', 'وبداية', 'الاستقرار', 'يخونها', 'حدسها', 'الحرب', 'هنا', 'غير', 'تلك', 'في', 'فلسطين', 'لكنها', 'الحرب', 'التي', 'لا', 'تعبأ', 'بك', 'وبمن', 'تكون', '.']\n"
     ]
    }
   ],
   "source": [
    "# Arabic Language\n",
    "arab_sent=\".قضينا في الخليل ستة أشهر ثم بدأ أهل البلد يتوزعون منهم من أراد اللحاق بأقرباء له في طولكرم أو نابلس أو جنين و منهم من تسلل عائدا الى الجليل و منهم من ذهب الى الاردن.  الحرب تخيف كثيراً لكنها تعلم تعلمك الحرب أن الكلمات قد لا تعني مدلولاتها بشكل كامل. نعم زرت عمان زرتها بعد خمس سنين من الغياب و ذلك عام 1973. ويلجم الجميع لا أحد يستطيع تفسير ما حصل يتمتمون الجيوش العربية ستتدخل أجل ستتدخل بالتأكيد هل يترك العرب فلسطين تضيع. ترحل إلى بيروت تظنها نهاية الحرب وبداية الاستقرار يخونها حدسها الحرب هنا غير تلك في فلسطين لكنها الحرب التي لا تعبأ بك وبمن تكون.\" \n",
    "print(word_tokenize(arab_sent))"
   ]
  },
  {
   "cell_type": "code",
   "execution_count": null,
   "metadata": {
    "id": "B3GD79CdY7cS",
    "outputId": "d32f5fc1-47e6-480c-f5fe-a688e79c6f0c"
   },
   "outputs": [
    {
     "name": "stdout",
     "output_type": "stream",
     "text": [
      "['.قضينا في الخليل ستة أشهر ثم بدأ أهل البلد يتوزعون منهم من أراد اللحاق بأقرباء له في طولكرم أو نابلس أو جنين و منهم من تسلل عائدا الى الجليل و منهم من ذهب الى الاردن.', 'الحرب تخيف كثيراً لكنها تعلم تعلمك الحرب أن الكلمات قد لا تعني مدلولاتها بشكل كامل.', 'نعم زرت عمان زرتها بعد خمس سنين من الغياب و ذلك عام 1973.', 'ويلجم الجميع لا أحد يستطيع تفسير ما حصل يتمتمون الجيوش العربية ستتدخل أجل ستتدخل بالتأكيد هل يترك العرب فلسطين تضيع.', 'ترحل إلى بيروت تظنها نهاية الحرب وبداية الاستقرار يخونها حدسها الحرب هنا غير تلك في فلسطين لكنها الحرب التي لا تعبأ بك وبمن تكون.']\n"
     ]
    }
   ],
   "source": [
    "print(sent_tokenize(arab_sent))"
   ]
  },
  {
   "cell_type": "code",
   "execution_count": null,
   "metadata": {
    "id": "gteDIgEEY7cS",
    "outputId": "e132059f-f252-4f64-ff75-eae9082f180a"
   },
   "outputs": [
    {
     "data": {
      "text/plain": [
       "[('.قضينا', 'في', 'الخليل'),\n",
       " ('في', 'الخليل', 'ستة'),\n",
       " ('الخليل', 'ستة', 'أشهر'),\n",
       " ('ستة', 'أشهر', 'ثم'),\n",
       " ('أشهر', 'ثم', 'بدأ'),\n",
       " ('ثم', 'بدأ', 'أهل'),\n",
       " ('بدأ', 'أهل', 'البلد'),\n",
       " ('أهل', 'البلد', 'يتوزعون'),\n",
       " ('البلد', 'يتوزعون', 'منهم'),\n",
       " ('يتوزعون', 'منهم', 'من'),\n",
       " ('منهم', 'من', 'أراد'),\n",
       " ('من', 'أراد', 'اللحاق'),\n",
       " ('أراد', 'اللحاق', 'بأقرباء'),\n",
       " ('اللحاق', 'بأقرباء', 'له'),\n",
       " ('بأقرباء', 'له', 'في'),\n",
       " ('له', 'في', 'طولكرم'),\n",
       " ('في', 'طولكرم', 'أو'),\n",
       " ('طولكرم', 'أو', 'نابلس'),\n",
       " ('أو', 'نابلس', 'أو'),\n",
       " ('نابلس', 'أو', 'جنين'),\n",
       " ('أو', 'جنين', 'و'),\n",
       " ('جنين', 'و', 'منهم'),\n",
       " ('و', 'منهم', 'من'),\n",
       " ('منهم', 'من', 'تسلل'),\n",
       " ('من', 'تسلل', 'عائدا'),\n",
       " ('تسلل', 'عائدا', 'الى'),\n",
       " ('عائدا', 'الى', 'الجليل'),\n",
       " ('الى', 'الجليل', 'و'),\n",
       " ('الجليل', 'و', 'منهم'),\n",
       " ('و', 'منهم', 'من'),\n",
       " ('منهم', 'من', 'ذهب'),\n",
       " ('من', 'ذهب', 'الى'),\n",
       " ('ذهب', 'الى', 'الاردن.'),\n",
       " ('الى', 'الاردن.', 'الحرب'),\n",
       " ('الاردن.', 'الحرب', 'تخيف'),\n",
       " ('الحرب', 'تخيف', 'كثيراً'),\n",
       " ('تخيف', 'كثيراً', 'لكنها'),\n",
       " ('كثيراً', 'لكنها', 'تعلم'),\n",
       " ('لكنها', 'تعلم', 'تعلمك'),\n",
       " ('تعلم', 'تعلمك', 'الحرب'),\n",
       " ('تعلمك', 'الحرب', 'أن'),\n",
       " ('الحرب', 'أن', 'الكلمات'),\n",
       " ('أن', 'الكلمات', 'قد'),\n",
       " ('الكلمات', 'قد', 'لا'),\n",
       " ('قد', 'لا', 'تعني'),\n",
       " ('لا', 'تعني', 'مدلولاتها'),\n",
       " ('تعني', 'مدلولاتها', 'بشكل'),\n",
       " ('مدلولاتها', 'بشكل', 'كامل.'),\n",
       " ('بشكل', 'كامل.', 'نعم'),\n",
       " ('كامل.', 'نعم', 'زرت'),\n",
       " ('نعم', 'زرت', 'عمان'),\n",
       " ('زرت', 'عمان', 'زرتها'),\n",
       " ('عمان', 'زرتها', 'بعد'),\n",
       " ('زرتها', 'بعد', 'خمس'),\n",
       " ('بعد', 'خمس', 'سنين'),\n",
       " ('خمس', 'سنين', 'من'),\n",
       " ('سنين', 'من', 'الغياب'),\n",
       " ('من', 'الغياب', 'و'),\n",
       " ('الغياب', 'و', 'ذلك'),\n",
       " ('و', 'ذلك', 'عام'),\n",
       " ('ذلك', 'عام', '1973.'),\n",
       " ('عام', '1973.', 'ويلجم'),\n",
       " ('1973.', 'ويلجم', 'الجميع'),\n",
       " ('ويلجم', 'الجميع', 'لا'),\n",
       " ('الجميع', 'لا', 'أحد'),\n",
       " ('لا', 'أحد', 'يستطيع'),\n",
       " ('أحد', 'يستطيع', 'تفسير'),\n",
       " ('يستطيع', 'تفسير', 'ما'),\n",
       " ('تفسير', 'ما', 'حصل'),\n",
       " ('ما', 'حصل', 'يتمتمون'),\n",
       " ('حصل', 'يتمتمون', 'الجيوش'),\n",
       " ('يتمتمون', 'الجيوش', 'العربية'),\n",
       " ('الجيوش', 'العربية', 'ستتدخل'),\n",
       " ('العربية', 'ستتدخل', 'أجل'),\n",
       " ('ستتدخل', 'أجل', 'ستتدخل'),\n",
       " ('أجل', 'ستتدخل', 'بالتأكيد'),\n",
       " ('ستتدخل', 'بالتأكيد', 'هل'),\n",
       " ('بالتأكيد', 'هل', 'يترك'),\n",
       " ('هل', 'يترك', 'العرب'),\n",
       " ('يترك', 'العرب', 'فلسطين'),\n",
       " ('العرب', 'فلسطين', 'تضيع.'),\n",
       " ('فلسطين', 'تضيع.', 'ترحل'),\n",
       " ('تضيع.', 'ترحل', 'إلى'),\n",
       " ('ترحل', 'إلى', 'بيروت'),\n",
       " ('إلى', 'بيروت', 'تظنها'),\n",
       " ('بيروت', 'تظنها', 'نهاية'),\n",
       " ('تظنها', 'نهاية', 'الحرب'),\n",
       " ('نهاية', 'الحرب', 'وبداية'),\n",
       " ('الحرب', 'وبداية', 'الاستقرار'),\n",
       " ('وبداية', 'الاستقرار', 'يخونها'),\n",
       " ('الاستقرار', 'يخونها', 'حدسها'),\n",
       " ('يخونها', 'حدسها', 'الحرب'),\n",
       " ('حدسها', 'الحرب', 'هنا'),\n",
       " ('الحرب', 'هنا', 'غير'),\n",
       " ('هنا', 'غير', 'تلك'),\n",
       " ('غير', 'تلك', 'في'),\n",
       " ('تلك', 'في', 'فلسطين'),\n",
       " ('في', 'فلسطين', 'لكنها'),\n",
       " ('فلسطين', 'لكنها', 'الحرب'),\n",
       " ('لكنها', 'الحرب', 'التي'),\n",
       " ('الحرب', 'التي', 'لا'),\n",
       " ('التي', 'لا', 'تعبأ'),\n",
       " ('لا', 'تعبأ', 'بك'),\n",
       " ('تعبأ', 'بك', 'وبمن'),\n",
       " ('بك', 'وبمن', 'تكون.')]"
      ]
     },
     "execution_count": 34,
     "metadata": {},
     "output_type": "execute_result"
    }
   ],
   "source": [
    "res=list(nltk.ngrams(arab_sent.split(),3))\n",
    "res"
   ]
  }
 ],
 "metadata": {
  "colab": {
   "name": "NLP-Tokenization.ipynb",
   "provenance": []
  },
  "interpreter": {
   "hash": "bf8603ba8d0f844d3c4d591ed2b6601c5fc0e9006cfdb0e24f6f88db420a2876"
  },
  "kernelspec": {
   "display_name": "Python 3 (ipykernel)",
   "language": "python",
   "name": "python3"
  },
  "language_info": {
   "codemirror_mode": {
    "name": "ipython",
    "version": 3
   },
   "file_extension": ".py",
   "mimetype": "text/x-python",
   "name": "python",
   "nbconvert_exporter": "python",
   "pygments_lexer": "ipython3",
   "version": "3.7.13"
  }
 },
 "nbformat": 4,
 "nbformat_minor": 1
}
