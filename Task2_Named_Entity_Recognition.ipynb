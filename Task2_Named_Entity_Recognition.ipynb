{
 "cells": [
  {
   "cell_type": "markdown",
   "id": "1d5f7c8b",
   "metadata": {},
   "source": [
    "## Task 2 - Named Entity Recognition\n",
    "\n",
    "Use NLTK and/or Camel libraries to build a “Named Entity Extraction” Model that can be used to extract name of person, country, organization, events...etc. The model can be trained on training data and tested on different data.\n",
    "\n",
    "The notebook is composed __two sections__:\n",
    "1. __Testing the pre-trained CAMeL-Lab NER model.__\n",
    "2. __Training a blank Spacy NER model on the dataset used by the CAMeL-Lab NER model ([ANERcorp](https://camel.abudhabi.nyu.edu/anercorp/)).__"
   ]
  },
  {
   "cell_type": "code",
   "execution_count": 1,
   "id": "903dbc2e",
   "metadata": {},
   "outputs": [
    {
     "name": "stderr",
     "output_type": "stream",
     "text": [
      "/home/tamer/anaconda3/envs/psut-nlp-course/lib/python3.7/site-packages/tqdm/auto.py:22: TqdmWarning: IProgress not found. Please update jupyter and ipywidgets. See https://ipywidgets.readthedocs.io/en/stable/user_install.html\n",
      "  from .autonotebook import tqdm as notebook_tqdm\n"
     ]
    }
   ],
   "source": [
    "import pandas as pd \n",
    "import emoji  # for removing emojis\n",
    "import pyarabic.araby as araby  # for removing diacritics\n",
    "import re\n",
    "import pprint\n",
    "import random\n",
    "import spacy\n",
    "from spacy.util import minibatch, compounding\n",
    "from tqdm import tqdm\n",
    "from camel_tools.tokenizers.word import simple_word_tokenize\n",
    "from camel_tools.ner import NERecognizer  # Testing the CAMeL-Lab pre-trained AraBERT NER model"
   ]
  },
  {
   "cell_type": "markdown",
   "id": "7909786d",
   "metadata": {},
   "source": [
    "#### Loading one of the tweet files for testing purposes"
   ]
  },
  {
   "cell_type": "code",
   "execution_count": 2,
   "id": "0b74d5ac",
   "metadata": {},
   "outputs": [],
   "source": [
    "df = pd.read_csv(\"data/file1.txt\", sep=\"\\t\").drop(\"tweetID\", axis=1)"
   ]
  },
  {
   "cell_type": "code",
   "execution_count": 3,
   "id": "b7d6ca47",
   "metadata": {},
   "outputs": [
    {
     "data": {
      "text/html": [
       "<div>\n",
       "<style scoped>\n",
       "    .dataframe tbody tr th:only-of-type {\n",
       "        vertical-align: middle;\n",
       "    }\n",
       "\n",
       "    .dataframe tbody tr th {\n",
       "        vertical-align: top;\n",
       "    }\n",
       "\n",
       "    .dataframe thead th {\n",
       "        text-align: right;\n",
       "    }\n",
       "</style>\n",
       "<table border=\"1\" class=\"dataframe\">\n",
       "  <thead>\n",
       "    <tr style=\"text-align: right;\">\n",
       "      <th></th>\n",
       "      <th>tweetText</th>\n",
       "    </tr>\n",
       "  </thead>\n",
       "  <tbody>\n",
       "    <tr>\n",
       "      <th>0</th>\n",
       "      <td>الاعدام لعامل مطعم قتل زميله طعناً في \"البيادر...</td>\n",
       "    </tr>\n",
       "    <tr>\n",
       "      <th>1</th>\n",
       "      <td>#الأخبار ▪ تأجيل محاكمة 7 إرهابيين بسبب غياب ا...</td>\n",
       "    </tr>\n",
       "    <tr>\n",
       "      <th>2</th>\n",
       "      <td>@helale9999 عشآن أعطيتك وحده صميم صرت ترمي أعذ...</td>\n",
       "    </tr>\n",
       "    <tr>\n",
       "      <th>3</th>\n",
       "      <td>#النهدي ثمانية قتلى في تفجير انتحاري بسيارة مف...</td>\n",
       "    </tr>\n",
       "    <tr>\n",
       "      <th>4</th>\n",
       "      <td>البحرين: ضبط مطلوبين متورطين في التفجير بالعكر...</td>\n",
       "    </tr>\n",
       "    <tr>\n",
       "      <th>...</th>\n",
       "      <td>...</td>\n",
       "    </tr>\n",
       "    <tr>\n",
       "      <th>4995</th>\n",
       "      <td>«بوكو حرام »تخطف 40 شابا في شمال شرق نيجيريا -...</td>\n",
       "    </tr>\n",
       "    <tr>\n",
       "      <th>4996</th>\n",
       "      <td>قصيدة مهداة إلى الشيخ/ ضيف الله بن سمار كلمات/...</td>\n",
       "    </tr>\n",
       "    <tr>\n",
       "      <th>4997</th>\n",
       "      <td>العفو عند المقبرة!!</td>\n",
       "    </tr>\n",
       "    <tr>\n",
       "      <th>4998</th>\n",
       "      <td>#للمرة الأولى منذ 92 عاما.. تركيا تسمح ببناء ك...</td>\n",
       "    </tr>\n",
       "    <tr>\n",
       "      <th>4999</th>\n",
       "      <td>جماعة \"بوكو حرام\" الإرهابية تختطف الشباب في ول...</td>\n",
       "    </tr>\n",
       "  </tbody>\n",
       "</table>\n",
       "<p>5000 rows × 1 columns</p>\n",
       "</div>"
      ],
      "text/plain": [
       "                                              tweetText\n",
       "0     الاعدام لعامل مطعم قتل زميله طعناً في \"البيادر...\n",
       "1     #الأخبار ▪ تأجيل محاكمة 7 إرهابيين بسبب غياب ا...\n",
       "2     @helale9999 عشآن أعطيتك وحده صميم صرت ترمي أعذ...\n",
       "3     #النهدي ثمانية قتلى في تفجير انتحاري بسيارة مف...\n",
       "4     البحرين: ضبط مطلوبين متورطين في التفجير بالعكر...\n",
       "...                                                 ...\n",
       "4995  «بوكو حرام »تخطف 40 شابا في شمال شرق نيجيريا -...\n",
       "4996  قصيدة مهداة إلى الشيخ/ ضيف الله بن سمار كلمات/...\n",
       "4997                                العفو عند المقبرة!!\n",
       "4998  #للمرة الأولى منذ 92 عاما.. تركيا تسمح ببناء ك...\n",
       "4999  جماعة \"بوكو حرام\" الإرهابية تختطف الشباب في ول...\n",
       "\n",
       "[5000 rows x 1 columns]"
      ]
     },
     "execution_count": 3,
     "metadata": {},
     "output_type": "execute_result"
    }
   ],
   "source": [
    "df"
   ]
  },
  {
   "cell_type": "markdown",
   "id": "4f5fa58a",
   "metadata": {},
   "source": [
    "#### Adding regular expressions from Task 1\n",
    "\n",
    "* Removing URLs, Hashtags, Mentions, and repeating dots.\n",
    "* Removing repeating characters than occur more than twice.\n",
    "* Removing emojis.\n",
    "* Removing Arabic Diacritics."
   ]
  },
  {
   "cell_type": "code",
   "execution_count": 4,
   "id": "ab1cf942",
   "metadata": {},
   "outputs": [],
   "source": [
    "def clean(sentence):\n",
    "    def remove_emojis(string):\n",
    "        return emoji.get_emoji_regexp().sub(u\"\", string)\n",
    "    \n",
    "    def remove_diacritics(string):\n",
    "        return araby.strip_diacritics(string)\n",
    "\n",
    "    re_general_pattern = r\"https?:\\/\\/.*[\\r\\n]*|#\\w+|@\\w+|\\.{2,}\"\n",
    "    re_repeating_character_pattern = r\"(\\w)\\1{2,}\"\n",
    "\n",
    "    # 1- Removing URLs, Hashtags, Mentions, and repeating dots\n",
    "    sentence = re.sub(re_general_pattern, \"\", sentence)\n",
    "    # 2- Removing repeating characters that occur more than twice\n",
    "    sentence = re.sub(re_repeating_character_pattern, r\"\\1\", sentence)\n",
    "    # 3- Removing emojis\n",
    "    sentence = remove_emojis(sentence)\n",
    "    # 4- Removing Arabic Diacritics\n",
    "    sentence = remove_diacritics(sentence)\n",
    "\n",
    "    return sentence"
   ]
  },
  {
   "cell_type": "markdown",
   "id": "14209a96",
   "metadata": {},
   "source": [
    "#### Loading pprint for more legible prints of NER predictions"
   ]
  },
  {
   "cell_type": "code",
   "execution_count": 5,
   "id": "89a80149",
   "metadata": {},
   "outputs": [],
   "source": [
    "pp = pprint.PrettyPrinter(indent=4)"
   ]
  },
  {
   "cell_type": "markdown",
   "id": "1e70eed9",
   "metadata": {},
   "source": [
    "### 1- Using CAMeL-Lab Named Entity Recognition Model\n",
    "\n",
    "Trying the CAMeL Tools [GitHub](https://github.com/CAMeL-Lab/camel_tools) __pre-trained CAMeLBERT MSA Named Entity Recognition model__ [docs](https://camel-tools.readthedocs.io/en/stable/api/ner.html) for the Arabic Language.\n",
    "\n",
    "\n",
    "* Huggingface [page](https://huggingface.co/CAMeL-Lab/bert-base-arabic-camelbert-msa-ner) (contains information about the language model and the dataset used for NER)\n",
    "\n",
    "    \"The model was built by fine-tuning the CAMeLBERT Modern Standard Arabic (MSA) model. For the fine-tuning, the [ANERcorp](https://camel.abudhabi.nyu.edu/anercorp/) dataset was used. The fine-tuning procedure and the hyperparameters that were used could be found in the paper \"The Interplay of Variant, Size, and Task Type in Arabic Pre-trained Language Models.\"\"\n",
    "\n",
    "\n",
    "* Needed to have the RUST [compiler](https://www.rust-lang.org/learn/get-started)\n",
    "* Needed to do the ```camel_data -i all``` command to download all required data and models for CAMeL Tools.\n",
    "* Guided Demo on CAMeL Tools [Colab](https://colab.research.google.com/drive/1Y3qCbD6Gw1KEw-lixQx1rI6WlyWnrnDS?usp=sharing#scrollTo=gwBGDtiY088_)\n",
    "\n",
    "\n",
    "\n",
    "__Notes from the Colab Demo regarding their NER model__:\n",
    "\n",
    "\"For each token in an input sentence, NERecognizer outputs a label that indicates the type of named-entity. The system outputs one of the following labels for each token: 'B-LOC', 'B-ORG', 'B-PERS', 'B-MISC', 'I-LOC', 'I-ORG', 'I-PERS', 'I-MISC', 'O'. Named-entites can either be a LOC (location), ORG (organization), PERS (person), or MISC (miscallaneous).\n",
    "\n",
    "Labels beginning with B indicate that their corresponding tokens are the begininging of a multi-word named-entity or is a single-token named-entity'. Those begining with I indicate that their corresponding tokens are continuations of a multi-word named-entity. Words that aren't named-entities are given the 'O' label.\""
   ]
  },
  {
   "cell_type": "markdown",
   "id": "7d43e888",
   "metadata": {},
   "source": [
    "#### 1.1- Testing the model "
   ]
  },
  {
   "cell_type": "code",
   "execution_count": 6,
   "id": "9e741056",
   "metadata": {},
   "outputs": [],
   "source": [
    "camel_ner_model = NERecognizer.pretrained()"
   ]
  },
  {
   "cell_type": "code",
   "execution_count": 7,
   "id": "b21f11be",
   "metadata": {},
   "outputs": [
    {
     "data": {
      "text/plain": [
       "['__class__',\n",
       " '__delattr__',\n",
       " '__dict__',\n",
       " '__dir__',\n",
       " '__doc__',\n",
       " '__eq__',\n",
       " '__format__',\n",
       " '__ge__',\n",
       " '__getattribute__',\n",
       " '__gt__',\n",
       " '__hash__',\n",
       " '__init__',\n",
       " '__init_subclass__',\n",
       " '__le__',\n",
       " '__lt__',\n",
       " '__module__',\n",
       " '__ne__',\n",
       " '__new__',\n",
       " '__reduce__',\n",
       " '__reduce_ex__',\n",
       " '__repr__',\n",
       " '__setattr__',\n",
       " '__sizeof__',\n",
       " '__str__',\n",
       " '__subclasshook__',\n",
       " '__weakref__',\n",
       " '_align_predictions',\n",
       " 'labels',\n",
       " 'labels_map',\n",
       " 'model',\n",
       " 'predict',\n",
       " 'predict_sentence',\n",
       " 'pretrained',\n",
       " 'tokenizer',\n",
       " 'use_gpu']"
      ]
     },
     "execution_count": 7,
     "metadata": {},
     "output_type": "execute_result"
    }
   ],
   "source": [
    "dir(camel_ner_model)"
   ]
  },
  {
   "cell_type": "code",
   "execution_count": 8,
   "id": "522921f9",
   "metadata": {},
   "outputs": [
    {
     "data": {
      "text/plain": [
       "True"
      ]
     },
     "execution_count": 8,
     "metadata": {},
     "output_type": "execute_result"
    }
   ],
   "source": [
    "camel_ner_model.use_gpu"
   ]
  },
  {
   "cell_type": "code",
   "execution_count": 9,
   "id": "82fb9110",
   "metadata": {},
   "outputs": [
    {
     "name": "stderr",
     "output_type": "stream",
     "text": [
      "/home/tamer/anaconda3/envs/psut-nlp-course/lib/python3.7/site-packages/ipykernel_launcher.py:3: DeprecationWarning: 'emoji.get_emoji_regexp()' is deprecated and will be removed in version 2.0.0. If you want to remove emoji from a string, consider the method emoji.replace_emoji(str, replace='').\n",
      "To hide this warning, pin/downgrade the package to 'emoji~=1.6.3'\n",
      "  This is separate from the ipykernel package so we can avoid doing imports until\n"
     ]
    },
    {
     "data": {
      "text/plain": [
       "'إمارة أبوظبي هي إحدى إمارات دولة الإمارات العربية المتحدة السبع .'"
      ]
     },
     "execution_count": 9,
     "metadata": {},
     "output_type": "execute_result"
    }
   ],
   "source": [
    "# Testing example in the docs\n",
    "sentence = clean('إمارة أبوظبي هي إحدى إمارات دولة الإمارات العربية المتحدة السبع .')\n",
    "sentence"
   ]
  },
  {
   "cell_type": "code",
   "execution_count": 10,
   "id": "e8c53aa2",
   "metadata": {},
   "outputs": [],
   "source": [
    "sentence = simple_word_tokenize(sentence)"
   ]
  },
  {
   "cell_type": "code",
   "execution_count": 11,
   "id": "c3bc2c38",
   "metadata": {},
   "outputs": [
    {
     "data": {
      "text/plain": [
       "['إمارة',\n",
       " 'أبوظبي',\n",
       " 'هي',\n",
       " 'إحدى',\n",
       " 'إمارات',\n",
       " 'دولة',\n",
       " 'الإمارات',\n",
       " 'العربية',\n",
       " 'المتحدة',\n",
       " 'السبع',\n",
       " '.']"
      ]
     },
     "execution_count": 11,
     "metadata": {},
     "output_type": "execute_result"
    }
   ],
   "source": [
    "sentence"
   ]
  },
  {
   "cell_type": "code",
   "execution_count": 12,
   "id": "a55db1aa",
   "metadata": {},
   "outputs": [],
   "source": [
    "labels = camel_ner_model.predict_sentence(sentence)"
   ]
  },
  {
   "cell_type": "code",
   "execution_count": 13,
   "id": "ffc76411",
   "metadata": {},
   "outputs": [
    {
     "name": "stdout",
     "output_type": "stream",
     "text": [
      "[   ('إمارة', 'O'),\n",
      "    ('أبوظبي', 'B-LOC'),\n",
      "    ('هي', 'O'),\n",
      "    ('إحدى', 'O'),\n",
      "    ('إمارات', 'O'),\n",
      "    ('دولة', 'O'),\n",
      "    ('الإمارات', 'B-LOC'),\n",
      "    ('العربية', 'I-LOC'),\n",
      "    ('المتحدة', 'I-LOC'),\n",
      "    ('السبع', 'O'),\n",
      "    ('.', 'O')]\n"
     ]
    }
   ],
   "source": [
    "# Print the list of token-label pairs\n",
    "pp.pprint(list(zip(sentence, labels)))"
   ]
  },
  {
   "cell_type": "markdown",
   "id": "0c2a2903",
   "metadata": {},
   "source": [
    "#### 1.2 Testing the model on the first 10 tweets in file1.txt"
   ]
  },
  {
   "cell_type": "code",
   "execution_count": 14,
   "id": "26063b74",
   "metadata": {},
   "outputs": [
    {
     "name": "stdout",
     "output_type": "stream",
     "text": [
      "---------\n",
      "Tweet 0\n",
      "\n",
      "Original Tweet: الاعدام لعامل مطعم قتل زميله طعناً في \"البيادر\" أيدت محكمة التمييز الحكم الصادر عن محكمة الجنايات الكبرى والقاضي... http://t.co/H0txdjv3Kn\n",
      "\n",
      "Predictions:\n",
      "[   ('الاعدام', 'O'),\n",
      "    ('لعامل', 'O'),\n",
      "    ('مطعم', 'O'),\n",
      "    ('قتل', 'O'),\n",
      "    ('زميله', 'O'),\n",
      "    ('طعنا', 'O'),\n",
      "    ('في', 'O'),\n",
      "    ('\"', 'O'),\n",
      "    ('البيادر', 'O'),\n",
      "    ('\"', 'O'),\n",
      "    ('أيدت', 'O'),\n",
      "    ('محكمة', 'O'),\n",
      "    ('التمييز', 'O'),\n",
      "    ('الحكم', 'O'),\n",
      "    ('الصادر', 'O'),\n",
      "    ('عن', 'O'),\n",
      "    ('محكمة', 'O'),\n",
      "    ('الجنايات', 'O'),\n",
      "    ('الكبرى', 'O'),\n",
      "    ('والقاضي', 'O')]\n",
      "---------\n",
      "Tweet 1\n",
      "\n",
      "Original Tweet: #الأخبار ▪ تأجيل محاكمة 7 إرهابيين بسبب غياب الدفاع: أجلت محكمة الجنايات بالعاصمة إلى تاريخ لاحق محاكمة سبعة إ... http://t.co/GM4jmpAWbR\n",
      "\n",
      "Predictions:\n",
      "[   ('تأجيل', 'O'),\n",
      "    ('محاكمة', 'O'),\n",
      "    ('7', 'O'),\n",
      "    ('إرهابيين', 'O'),\n",
      "    ('بسبب', 'O'),\n",
      "    ('غياب', 'O'),\n",
      "    ('الدفاع', 'O'),\n",
      "    (':', 'O'),\n",
      "    ('أجلت', 'O'),\n",
      "    ('محكمة', 'O'),\n",
      "    ('الجنايات', 'O'),\n",
      "    ('بالعاصمة', 'O'),\n",
      "    ('إلى', 'O'),\n",
      "    ('تاريخ', 'O'),\n",
      "    ('لاحق', 'O'),\n",
      "    ('محاكمة', 'O'),\n",
      "    ('سبعة', 'O'),\n",
      "    ('إ', 'O')]\n",
      "---------\n",
      "Tweet 2\n",
      "\n",
      "Original Tweet: @helale9999 عشآن أعطيتك وحده صميم صرت ترمي أعذار ...حقق العالميةة و أرجع كلمني يَ الأياب الانتحاري\n",
      "\n",
      "Predictions:\n",
      "[   ('عشآن', 'O'),\n",
      "    ('أعطيتك', 'O'),\n",
      "    ('وحده', 'O'),\n",
      "    ('صميم', 'O'),\n",
      "    ('صرت', 'O'),\n",
      "    ('ترمي', 'O'),\n",
      "    ('أعذار', 'O'),\n",
      "    ('حقق', 'O'),\n",
      "    ('العالميةة', 'O'),\n",
      "    ('و', 'O'),\n",
      "    ('أرجع', 'O'),\n",
      "    ('كلمني', 'O'),\n",
      "    ('ي', 'O'),\n",
      "    ('الأياب', 'O'),\n",
      "    ('الانتحاري', 'O')]\n",
      "---------\n",
      "Tweet 3\n",
      "\n",
      "Original Tweet: #النهدي ثمانية قتلى في تفجير انتحاري بسيارة مفخخة أمام معملين للغاز في ريف حمص - شبكة الصين http://t.co/r5zFEuzAPu\n",
      "\n",
      "Predictions:\n",
      "[   ('ثمانية', 'O'),\n",
      "    ('قتلى', 'O'),\n",
      "    ('في', 'O'),\n",
      "    ('تفجير', 'O'),\n",
      "    ('انتحاري', 'O'),\n",
      "    ('بسيارة', 'O'),\n",
      "    ('مفخخة', 'O'),\n",
      "    ('أمام', 'O'),\n",
      "    ('معملين', 'O'),\n",
      "    ('للغاز', 'O'),\n",
      "    ('في', 'O'),\n",
      "    ('ريف', 'O'),\n",
      "    ('حمص', 'B-LOC'),\n",
      "    ('-', 'O'),\n",
      "    ('شبكة', 'O'),\n",
      "    ('الصين', 'B-LOC')]\n",
      "---------\n",
      "Tweet 4\n",
      "\n",
      "Original Tweet: البحرين: ضبط مطلوبين متورطين في التفجير بالعكر الشرقي بقية الموضوع اضغط هنا http://t.co/t4A5bNrqyh\n",
      "\n",
      "Predictions:\n",
      "[   ('البحرين', 'B-LOC'),\n",
      "    (':', 'O'),\n",
      "    ('ضبط', 'O'),\n",
      "    ('مطلوبين', 'O'),\n",
      "    ('متورطين', 'O'),\n",
      "    ('في', 'O'),\n",
      "    ('التفجير', 'O'),\n",
      "    ('بالعكر', 'O'),\n",
      "    ('الشرقي', 'O'),\n",
      "    ('بقية', 'O'),\n",
      "    ('الموضوع', 'O'),\n",
      "    ('اضغط', 'O'),\n",
      "    ('هنا', 'O')]\n",
      "---------\n",
      "Tweet 5\n",
      "\n",
      "Original Tweet: @El__DoN__ABoOoD @soliman_sport توهير تفكيره يورو على يورو يطلع ٢ يورو وعلى كذا ثقافة آسيوية متأصلة وبصراحة أشوف إنها جيدة له لوحده فقط\n",
      "\n",
      "Predictions:\n",
      "[   ('توهير', 'O'),\n",
      "    ('تفكيره', 'O'),\n",
      "    ('يورو', 'B-MISC'),\n",
      "    ('على', 'O'),\n",
      "    ('يورو', 'B-MISC'),\n",
      "    ('يطلع', 'O'),\n",
      "    ('٢', 'O'),\n",
      "    ('يورو', 'B-MISC'),\n",
      "    ('وعلى', 'O'),\n",
      "    ('كذا', 'O'),\n",
      "    ('ثقافة', 'O'),\n",
      "    ('آسيوية', 'O'),\n",
      "    ('متأصلة', 'O'),\n",
      "    ('وبصراحة', 'O'),\n",
      "    ('أشوف', 'O'),\n",
      "    ('إنها', 'O'),\n",
      "    ('جيدة', 'O'),\n",
      "    ('له', 'O'),\n",
      "    ('لوحده', 'O'),\n",
      "    ('فقط', 'O')]\n",
      "---------\n",
      "Tweet 6\n",
      "\n",
      "Original Tweet: صحيفة \"نيويورك تايمز\" الطفل الانتحاري الذي سلم نفسه لحظات قبل التفجير قرب حسينيه في البياع هو سوري وليس عراقي... http://t.co/PH1a97rvtb\n",
      "\n",
      "Predictions:\n",
      "[   ('صحيفة', 'O'),\n",
      "    ('\"', 'O'),\n",
      "    ('نيويورك', 'B-ORG'),\n",
      "    ('تايمز', 'I-ORG'),\n",
      "    ('\"', 'O'),\n",
      "    ('الطفل', 'O'),\n",
      "    ('الانتحاري', 'O'),\n",
      "    ('الذي', 'O'),\n",
      "    ('سلم', 'O'),\n",
      "    ('نفسه', 'O'),\n",
      "    ('لحظات', 'O'),\n",
      "    ('قبل', 'O'),\n",
      "    ('التفجير', 'O'),\n",
      "    ('قرب', 'O'),\n",
      "    ('حسينيه', 'O'),\n",
      "    ('في', 'O'),\n",
      "    ('البياع', 'B-LOC'),\n",
      "    ('هو', 'O'),\n",
      "    ('سوري', 'O'),\n",
      "    ('وليس', 'O'),\n",
      "    ('عراقي', 'O')]\n",
      "---------\n",
      "Tweet 7\n",
      "\n",
      "Original Tweet: ليتوانيا تستقبل عام 2015 باعتماد اليورو http://t.co/29IJLgr73b\n",
      "\n",
      "Predictions:\n",
      "[   ('ليتوانيا', 'B-LOC'),\n",
      "    ('تستقبل', 'O'),\n",
      "    ('عام', 'O'),\n",
      "    ('2015', 'O'),\n",
      "    ('باعتماد', 'O'),\n",
      "    ('اليورو', 'B-MISC')]\n",
      "---------\n",
      "Tweet 8\n",
      "\n",
      "Original Tweet: يحتاج الداعي أكثر من غيره إلى حسن الظاهر والوقار والهدوء ليتأسى به ، وخير الناس من إذا رؤوا ذكر الله. http://t.co/WD7txPscDp\n",
      "\n",
      "Predictions:\n",
      "[   ('يحتاج', 'O'),\n",
      "    ('الداعي', 'O'),\n",
      "    ('أكثر', 'O'),\n",
      "    ('من', 'O'),\n",
      "    ('غيره', 'O'),\n",
      "    ('إلى', 'O'),\n",
      "    ('حسن', 'O'),\n",
      "    ('الظاهر', 'O'),\n",
      "    ('والوقار', 'O'),\n",
      "    ('والهدوء', 'O'),\n",
      "    ('ليتأسى', 'O'),\n",
      "    ('به', 'O'),\n",
      "    ('،', 'O'),\n",
      "    ('وخير', 'O'),\n",
      "    ('الناس', 'O'),\n",
      "    ('من', 'O'),\n",
      "    ('إذا', 'O'),\n",
      "    ('رؤوا', 'O'),\n",
      "    ('ذكر', 'O'),\n",
      "    ('الله', 'B-MISC'),\n",
      "    ('.', 'O')]\n",
      "---------\n",
      "Tweet 9\n",
      "\n",
      "Original Tweet: المؤبد بحق موظف قتل رب عمله نحراً - عاقبت الهيئة القضائية في محكمة الجنايات في دبي، أمس، موظفاً من جنسية دولة آسيو... http://t.co/p7e2Mx5eEO\n",
      "\n",
      "Predictions:\n",
      "[   ('المؤبد', 'O'),\n",
      "    ('بحق', 'O'),\n",
      "    ('موظف', 'O'),\n",
      "    ('قتل', 'O'),\n",
      "    ('رب', 'O'),\n",
      "    ('عمله', 'O'),\n",
      "    ('نحرا', 'O'),\n",
      "    ('-', 'O'),\n",
      "    ('عاقبت', 'O'),\n",
      "    ('الهيئة', 'O'),\n",
      "    ('القضائية', 'O'),\n",
      "    ('في', 'O'),\n",
      "    ('محكمة', 'O'),\n",
      "    ('الجنايات', 'O'),\n",
      "    ('في', 'O'),\n",
      "    ('دبي', 'B-LOC'),\n",
      "    ('،', 'O'),\n",
      "    ('أمس', 'O'),\n",
      "    ('،', 'O'),\n",
      "    ('موظفا', 'O'),\n",
      "    ('من', 'O'),\n",
      "    ('جنسية', 'O'),\n",
      "    ('دولة', 'O'),\n",
      "    ('آسيو', 'B-LOC')]\n"
     ]
    },
    {
     "name": "stderr",
     "output_type": "stream",
     "text": [
      "/home/tamer/anaconda3/envs/psut-nlp-course/lib/python3.7/site-packages/ipykernel_launcher.py:3: DeprecationWarning: 'emoji.get_emoji_regexp()' is deprecated and will be removed in version 2.0.0. If you want to remove emoji from a string, consider the method emoji.replace_emoji(str, replace='').\n",
      "To hide this warning, pin/downgrade the package to 'emoji~=1.6.3'\n",
      "  This is separate from the ipykernel package so we can avoid doing imports until\n"
     ]
    }
   ],
   "source": [
    "for index, tweet in df.iterrows():\n",
    "    if index == 10:\n",
    "        break\n",
    "        \n",
    "    sentence = clean(tweet[0])\n",
    "    sentence = simple_word_tokenize(sentence)\n",
    "    labels = camel_ner_model.predict_sentence(sentence)\n",
    "    print(\"---------\")\n",
    "    print(f\"Tweet {index}\\n\")\n",
    "    print(f\"Original Tweet: {tweet[0]}\\n\")\n",
    "    print(\"Predictions:\")\n",
    "    pp.pprint(list(zip(sentence, labels)))"
   ]
  },
  {
   "cell_type": "markdown",
   "id": "4da05f29",
   "metadata": {},
   "source": [
    "### 2- Using Spacy NER on Arabic Text (Training a blank model on the ANERcorp dataset)\n",
    "\n",
    "List of languages supported by Spacy (__Arabic not included__) [link](https://spacy.io/usage/models#languages)\n",
    "\n",
    "__Note__: Used this blog as a reference on how to prepare data for training the Spacy NER model pipline [link](https://www.machinelearningplus.com/nlp/training-custom-ner-model-in-spacy/)\n",
    "\n",
    "* Data format for training a Spacy NER model: [link](https://www.machinelearningplus.com/nlp/training-custom-ner-model-in-spacy/#formatofthetrainingexamples)\n",
    "\n",
    "```\n",
    "# training data example\n",
    "TRAIN_DATA = [\n",
    "              (\"Walmart is a leading e-commerce company\", {\"entities\": [(0, 7, \"ORG\")]}),\n",
    "              (\"I reached Chennai yesterday.\", {\"entities\": [(19, 28, \"GPE\")]}),\n",
    "              (\"I recently ordered a book from Amazon\", {\"entities\": [(24,32, \"ORG\")]}),\n",
    "              (\"I was driving a BMW\", {\"entities\": [(16,19, \"PRODUCT\")]}),\n",
    "              (\"I ordered this from ShopClues\", {\"entities\": [(20,29, \"ORG\")]}),\n",
    "              (\"Fridge can be ordered in Amazon \", {\"entities\": [(0,6, \"PRODUCT\")]})\n",
    "             ]\n",
    "```"
   ]
  },
  {
   "cell_type": "markdown",
   "id": "96c767e5",
   "metadata": {},
   "source": [
    "#### 2.1 Testing reading the [ANERcorp](https://camel.abudhabi.nyu.edu/anercorp/) dataset\n",
    "\n",
    "__Note__: Used this GitHub repository as a reference for reading the data [link](https://github.com/HassanAzzam/Arabic-NER/blob/master/train.py)"
   ]
  },
  {
   "cell_type": "code",
   "execution_count": 15,
   "id": "a90c27cd",
   "metadata": {},
   "outputs": [],
   "source": [
    "f = open(\"data/ANERcorp-CamelLabSplits/ANERCorp_CamelLab_train.txt\", 'r')\n",
    "sents = f.read().split('\\n. O\\n')\n",
    "f.close()"
   ]
  },
  {
   "cell_type": "code",
   "execution_count": 16,
   "id": "0cbf681c",
   "metadata": {},
   "outputs": [
    {
     "data": {
      "text/plain": [
       "'فرانكفورت B-LOC\\n(د O\\nب O\\nأ) O\\nأعلن O\\nاتحاد B-ORG\\nصناعة I-ORG\\nالسيارات I-ORG\\nفي O\\nألمانيا B-LOC\\nامس O\\nالاول O\\nأن O\\nشركات O\\nصناعة O\\nالسيارات O\\nفي O\\nألمانيا B-LOC\\nتواجه O\\nعاما O\\nصعبا O\\nفي O\\nظل O\\nركود O\\nالسوق O\\nالداخلية O\\nوالصادرات O\\nوهي O\\nتسعي O\\nلان O\\nيبلغ O\\nالانتاج O\\nحوالي O\\nخمسة O\\nملايين O\\nسيارة O\\nفي O\\nعام O\\n2002 O'"
      ]
     },
     "execution_count": 16,
     "metadata": {},
     "output_type": "execute_result"
    }
   ],
   "source": [
    "sents[0]"
   ]
  },
  {
   "cell_type": "code",
   "execution_count": 17,
   "id": "2215f136",
   "metadata": {},
   "outputs": [
    {
     "data": {
      "text/plain": [
       "['فرانكفورت B-LOC',\n",
       " '(د O',\n",
       " 'ب O',\n",
       " 'أ) O',\n",
       " 'أعلن O',\n",
       " 'اتحاد B-ORG',\n",
       " 'صناعة I-ORG',\n",
       " 'السيارات I-ORG',\n",
       " 'في O',\n",
       " 'ألمانيا B-LOC',\n",
       " 'امس O',\n",
       " 'الاول O',\n",
       " 'أن O',\n",
       " 'شركات O',\n",
       " 'صناعة O',\n",
       " 'السيارات O',\n",
       " 'في O',\n",
       " 'ألمانيا B-LOC',\n",
       " 'تواجه O',\n",
       " 'عاما O',\n",
       " 'صعبا O',\n",
       " 'في O',\n",
       " 'ظل O',\n",
       " 'ركود O',\n",
       " 'السوق O',\n",
       " 'الداخلية O',\n",
       " 'والصادرات O',\n",
       " 'وهي O',\n",
       " 'تسعي O',\n",
       " 'لان O',\n",
       " 'يبلغ O',\n",
       " 'الانتاج O',\n",
       " 'حوالي O',\n",
       " 'خمسة O',\n",
       " 'ملايين O',\n",
       " 'سيارة O',\n",
       " 'في O',\n",
       " 'عام O',\n",
       " '2002 O']"
      ]
     },
     "execution_count": 17,
     "metadata": {},
     "output_type": "execute_result"
    }
   ],
   "source": [
    "sents[0].split(\"\\n\")"
   ]
  },
  {
   "cell_type": "code",
   "execution_count": 18,
   "id": "d95197ee",
   "metadata": {},
   "outputs": [
    {
     "data": {
      "text/plain": [
       "['فرانكفورت', 'B-LOC']"
      ]
     },
     "execution_count": 18,
     "metadata": {},
     "output_type": "execute_result"
    }
   ],
   "source": [
    "sents[0].split(\"\\n\")[0].split(\" \")"
   ]
  },
  {
   "cell_type": "code",
   "execution_count": 19,
   "id": "5310de8a",
   "metadata": {},
   "outputs": [],
   "source": [
    "test = sents[0].split(\"\\n\")"
   ]
  },
  {
   "cell_type": "code",
   "execution_count": 20,
   "id": "800b6d19",
   "metadata": {},
   "outputs": [
    {
     "data": {
      "text/plain": [
       "['فرانكفورت B-LOC',\n",
       " '(د O',\n",
       " 'ب O',\n",
       " 'أ) O',\n",
       " 'أعلن O',\n",
       " 'اتحاد B-ORG',\n",
       " 'صناعة I-ORG',\n",
       " 'السيارات I-ORG',\n",
       " 'في O',\n",
       " 'ألمانيا B-LOC',\n",
       " 'امس O',\n",
       " 'الاول O',\n",
       " 'أن O',\n",
       " 'شركات O',\n",
       " 'صناعة O',\n",
       " 'السيارات O',\n",
       " 'في O',\n",
       " 'ألمانيا B-LOC',\n",
       " 'تواجه O',\n",
       " 'عاما O',\n",
       " 'صعبا O',\n",
       " 'في O',\n",
       " 'ظل O',\n",
       " 'ركود O',\n",
       " 'السوق O',\n",
       " 'الداخلية O',\n",
       " 'والصادرات O',\n",
       " 'وهي O',\n",
       " 'تسعي O',\n",
       " 'لان O',\n",
       " 'يبلغ O',\n",
       " 'الانتاج O',\n",
       " 'حوالي O',\n",
       " 'خمسة O',\n",
       " 'ملايين O',\n",
       " 'سيارة O',\n",
       " 'في O',\n",
       " 'عام O',\n",
       " '2002 O']"
      ]
     },
     "execution_count": 20,
     "metadata": {},
     "output_type": "execute_result"
    }
   ],
   "source": [
    "test"
   ]
  },
  {
   "cell_type": "code",
   "execution_count": 21,
   "id": "b7e64d7d",
   "metadata": {},
   "outputs": [
    {
     "data": {
      "text/plain": [
       "'فرانكفورت B-LOC'"
      ]
     },
     "execution_count": 21,
     "metadata": {},
     "output_type": "execute_result"
    }
   ],
   "source": [
    "test[0]"
   ]
  },
  {
   "cell_type": "code",
   "execution_count": 22,
   "id": "b37dc1a2",
   "metadata": {},
   "outputs": [
    {
     "data": {
      "text/plain": [
       "['فرانكفورت', 'B-LOC']"
      ]
     },
     "execution_count": 22,
     "metadata": {},
     "output_type": "execute_result"
    }
   ],
   "source": [
    "test[0].split(\" \")"
   ]
  },
  {
   "cell_type": "code",
   "execution_count": 23,
   "id": "3b7843ce",
   "metadata": {},
   "outputs": [
    {
     "data": {
      "text/plain": [
       "'فرانكفورت'"
      ]
     },
     "execution_count": 23,
     "metadata": {},
     "output_type": "execute_result"
    }
   ],
   "source": [
    "test[0].split(\" \")[0]"
   ]
  },
  {
   "cell_type": "code",
   "execution_count": 24,
   "id": "51f9bf96",
   "metadata": {},
   "outputs": [
    {
     "data": {
      "text/plain": [
       "9"
      ]
     },
     "execution_count": 24,
     "metadata": {},
     "output_type": "execute_result"
    }
   ],
   "source": [
    "len(test[0].split(\" \")[0])"
   ]
  },
  {
   "cell_type": "code",
   "execution_count": 25,
   "id": "8df04938",
   "metadata": {},
   "outputs": [],
   "source": [
    "training_record = tuple()\n",
    "training_sentence = []\n",
    "\n",
    "start_index = 0\n",
    "end_index = 0\n",
    "entities_list = []\n",
    "\n",
    "for item in test:\n",
    "    split_item = item.split(\" \")\n",
    "    training_sentence.append(split_item[0])\n",
    "    \n",
    "    end_index += len(split_item[0])\n",
    "    \n",
    "    if split_item[1] != \"O\":  # \"Other\" label is ignored\n",
    "        entities_list.append((start_index, end_index, split_item[1]))\n",
    "    \n",
    "    start_index += len(split_item[0]) + 1  # One extra for whitespace\n",
    "    end_index += 1  # One extra for whitespace\n",
    "        \n",
    "training_sentence = \" \".join(training_sentence)"
   ]
  },
  {
   "cell_type": "code",
   "execution_count": 26,
   "id": "00c7140d",
   "metadata": {},
   "outputs": [
    {
     "data": {
      "text/plain": [
       "'فرانكفورت (د ب أ) أعلن اتحاد صناعة السيارات في ألمانيا امس الاول أن شركات صناعة السيارات في ألمانيا تواجه عاما صعبا في ظل ركود السوق الداخلية والصادرات وهي تسعي لان يبلغ الانتاج حوالي خمسة ملايين سيارة في عام 2002'"
      ]
     },
     "execution_count": 26,
     "metadata": {},
     "output_type": "execute_result"
    }
   ],
   "source": [
    "training_sentence"
   ]
  },
  {
   "cell_type": "code",
   "execution_count": 27,
   "id": "b3e8c3e8",
   "metadata": {},
   "outputs": [
    {
     "data": {
      "text/plain": [
       "[(0, 9, 'B-LOC'),\n",
       " (23, 28, 'B-ORG'),\n",
       " (29, 34, 'I-ORG'),\n",
       " (35, 43, 'I-ORG'),\n",
       " (47, 54, 'B-LOC'),\n",
       " (92, 99, 'B-LOC')]"
      ]
     },
     "execution_count": 27,
     "metadata": {},
     "output_type": "execute_result"
    }
   ],
   "source": [
    "entities_list"
   ]
  },
  {
   "cell_type": "code",
   "execution_count": 28,
   "id": "4b8ebec9",
   "metadata": {},
   "outputs": [
    {
     "data": {
      "text/plain": [
       "'فرانكفورت'"
      ]
     },
     "execution_count": 28,
     "metadata": {},
     "output_type": "execute_result"
    }
   ],
   "source": [
    "training_sentence[0: 9]"
   ]
  },
  {
   "cell_type": "code",
   "execution_count": 29,
   "id": "88eb5483",
   "metadata": {},
   "outputs": [
    {
     "data": {
      "text/plain": [
       "'اتحاد'"
      ]
     },
     "execution_count": 29,
     "metadata": {},
     "output_type": "execute_result"
    }
   ],
   "source": [
    "training_sentence[23: 28]"
   ]
  },
  {
   "cell_type": "code",
   "execution_count": 30,
   "id": "45b91966",
   "metadata": {},
   "outputs": [
    {
     "data": {
      "text/plain": [
       "'صناعة'"
      ]
     },
     "execution_count": 30,
     "metadata": {},
     "output_type": "execute_result"
    }
   ],
   "source": [
    "training_sentence[29: 34]"
   ]
  },
  {
   "cell_type": "code",
   "execution_count": 31,
   "id": "9a620077",
   "metadata": {},
   "outputs": [
    {
     "data": {
      "text/plain": [
       "'السيارات'"
      ]
     },
     "execution_count": 31,
     "metadata": {},
     "output_type": "execute_result"
    }
   ],
   "source": [
    "training_sentence[35: 43]"
   ]
  },
  {
   "cell_type": "code",
   "execution_count": 32,
   "id": "f09c310b",
   "metadata": {},
   "outputs": [
    {
     "data": {
      "text/plain": [
       "'ألمانيا'"
      ]
     },
     "execution_count": 32,
     "metadata": {},
     "output_type": "execute_result"
    }
   ],
   "source": [
    "training_sentence[47: 54]"
   ]
  },
  {
   "cell_type": "code",
   "execution_count": 33,
   "id": "af89a7ee",
   "metadata": {},
   "outputs": [
    {
     "data": {
      "text/plain": [
       "'ألمانيا'"
      ]
     },
     "execution_count": 33,
     "metadata": {},
     "output_type": "execute_result"
    }
   ],
   "source": [
    "training_sentence[92: 99]"
   ]
  },
  {
   "cell_type": "code",
   "execution_count": 34,
   "id": "956f0422",
   "metadata": {},
   "outputs": [],
   "source": [
    "dictionary = {}"
   ]
  },
  {
   "cell_type": "code",
   "execution_count": 35,
   "id": "ec6acb02",
   "metadata": {},
   "outputs": [],
   "source": [
    "dictionary[\"entities\"] = entities_list"
   ]
  },
  {
   "cell_type": "code",
   "execution_count": 36,
   "id": "08f089d4",
   "metadata": {},
   "outputs": [
    {
     "data": {
      "text/plain": [
       "{'entities': [(0, 9, 'B-LOC'),\n",
       "  (23, 28, 'B-ORG'),\n",
       "  (29, 34, 'I-ORG'),\n",
       "  (35, 43, 'I-ORG'),\n",
       "  (47, 54, 'B-LOC'),\n",
       "  (92, 99, 'B-LOC')]}"
      ]
     },
     "execution_count": 36,
     "metadata": {},
     "output_type": "execute_result"
    }
   ],
   "source": [
    "dictionary"
   ]
  },
  {
   "cell_type": "code",
   "execution_count": 37,
   "id": "1fcf770e",
   "metadata": {},
   "outputs": [],
   "source": [
    "training_list = []\n",
    "training_list.append(training_sentence)\n",
    "training_list.append(dictionary)\n",
    "\n",
    "training_tuple = tuple(training_list)"
   ]
  },
  {
   "cell_type": "code",
   "execution_count": 38,
   "id": "d3f73ada",
   "metadata": {},
   "outputs": [
    {
     "name": "stdout",
     "output_type": "stream",
     "text": [
      "('فرانكفورت (د ب أ) أعلن اتحاد صناعة السيارات في ألمانيا امس الاول أن شركات '\n",
      " 'صناعة السيارات في ألمانيا تواجه عاما صعبا في ظل ركود السوق الداخلية '\n",
      " 'والصادرات وهي تسعي لان يبلغ الانتاج حوالي خمسة ملايين سيارة في عام 2002',\n",
      " {'entities': [(0, 9, 'B-LOC'),\n",
      "               (23, 28, 'B-ORG'),\n",
      "               (29, 34, 'I-ORG'),\n",
      "               (35, 43, 'I-ORG'),\n",
      "               (47, 54, 'B-LOC'),\n",
      "               (92, 99, 'B-LOC')]})\n"
     ]
    }
   ],
   "source": [
    "pprint.pprint(training_tuple)"
   ]
  },
  {
   "cell_type": "markdown",
   "id": "4eaee350",
   "metadata": {},
   "source": [
    "#### 2.2 Creating training dataset for Spacy NER blank model"
   ]
  },
  {
   "cell_type": "code",
   "execution_count": 39,
   "id": "08e40802",
   "metadata": {},
   "outputs": [],
   "source": [
    "TRAIN_DATA = []"
   ]
  },
  {
   "cell_type": "code",
   "execution_count": 40,
   "id": "9996110a",
   "metadata": {},
   "outputs": [
    {
     "name": "stderr",
     "output_type": "stream",
     "text": [
      "100%|██████████████████████████████████████████████████████████████████████████████████████████████████████████████████████████████████████████████████████████████████████████████████████████████████████████████████████████████████████████████| 3992/3992 [00:00<00:00, 46171.20it/s]\n"
     ]
    }
   ],
   "source": [
    "for sent in tqdm(sents):\n",
    "    training_list = []\n",
    "    training_sentence = []\n",
    "    entities_list = []\n",
    "    entities_dictionary = {}\n",
    "    \n",
    "    start_index = 0\n",
    "    end_index = 0\n",
    "    \n",
    "    sent_tokens = sent.split(\"\\n\")\n",
    "    \n",
    "    for sent_token in sent_tokens:\n",
    "        split_items = sent_token.split(\" \")\n",
    "        \n",
    "        training_sentence.append(split_items[0])\n",
    "\n",
    "        end_index += len(split_items[0])\n",
    "\n",
    "        if len(split_items) > 1:\n",
    "            if split_items[1] != \"O\":  # \"Other\" label is ignored\n",
    "                entities_list.append((start_index, end_index, split_items[1]))\n",
    "\n",
    "        start_index += len(split_items[0]) + 1  # One extra for whitespace\n",
    "        end_index += 1  # One extra for whitespace\n",
    "\n",
    "    training_sentence = \" \".join(training_sentence)\n",
    "    entities_dictionary[\"entities\"] = entities_list\n",
    "    training_list.append(training_sentence)\n",
    "    training_list.append(entities_dictionary)\n",
    "    \n",
    "    training_tuple = tuple(training_list)\n",
    "    \n",
    "    TRAIN_DATA.append(training_tuple)"
   ]
  },
  {
   "cell_type": "code",
   "execution_count": 41,
   "id": "51daa211",
   "metadata": {},
   "outputs": [
    {
     "data": {
      "text/plain": [
       "3992"
      ]
     },
     "execution_count": 41,
     "metadata": {},
     "output_type": "execute_result"
    }
   ],
   "source": [
    "len(TRAIN_DATA)"
   ]
  },
  {
   "cell_type": "code",
   "execution_count": 42,
   "id": "de9daeb8",
   "metadata": {},
   "outputs": [
    {
     "data": {
      "text/plain": [
       "('فرانكفورت (د ب أ) أعلن اتحاد صناعة السيارات في ألمانيا امس الاول أن شركات صناعة السيارات في ألمانيا تواجه عاما صعبا في ظل ركود السوق الداخلية والصادرات وهي تسعي لان يبلغ الانتاج حوالي خمسة ملايين سيارة في عام 2002',\n",
       " {'entities': [(0, 9, 'B-LOC'),\n",
       "   (23, 28, 'B-ORG'),\n",
       "   (29, 34, 'I-ORG'),\n",
       "   (35, 43, 'I-ORG'),\n",
       "   (47, 54, 'B-LOC'),\n",
       "   (92, 99, 'B-LOC')]})"
      ]
     },
     "execution_count": 42,
     "metadata": {},
     "output_type": "execute_result"
    }
   ],
   "source": [
    "TRAIN_DATA[0]"
   ]
  },
  {
   "cell_type": "code",
   "execution_count": 43,
   "id": "2f3e625a",
   "metadata": {},
   "outputs": [
    {
     "data": {
      "text/plain": [
       "['',\n",
       " 'وقال O',\n",
       " 'رئيس O',\n",
       " 'الاتحاد O',\n",
       " 'برند B-PERS',\n",
       " 'جوتشولك I-PERS',\n",
       " 'عند O',\n",
       " 'إعلان O',\n",
       " 'آخر O',\n",
       " 'تقرير O',\n",
       " 'سنوي O',\n",
       " 'للاتحاد O',\n",
       " 'إن O',\n",
       " 'مستقبل O',\n",
       " 'السوق O',\n",
       " 'مازال O',\n",
       " 'يفتقر O',\n",
       " 'إلي O',\n",
       " 'الخطوط O',\n",
       " 'الواضحة O']"
      ]
     },
     "execution_count": 43,
     "metadata": {},
     "output_type": "execute_result"
    }
   ],
   "source": [
    "sents[1].split(\"\\n\")"
   ]
  },
  {
   "cell_type": "code",
   "execution_count": 44,
   "id": "ae903dca",
   "metadata": {},
   "outputs": [
    {
     "data": {
      "text/plain": [
       "(' وقال رئيس الاتحاد برند جوتشولك عند إعلان آخر تقرير سنوي للاتحاد إن مستقبل السوق مازال يفتقر إلي الخطوط الواضحة',\n",
       " {'entities': [(19, 23, 'B-PERS'), (24, 31, 'I-PERS')]})"
      ]
     },
     "execution_count": 44,
     "metadata": {},
     "output_type": "execute_result"
    }
   ],
   "source": [
    "TRAIN_DATA[1]"
   ]
  },
  {
   "cell_type": "code",
   "execution_count": 45,
   "id": "08f4f2e3",
   "metadata": {},
   "outputs": [
    {
     "data": {
      "text/plain": [
       "'برند'"
      ]
     },
     "execution_count": 45,
     "metadata": {},
     "output_type": "execute_result"
    }
   ],
   "source": [
    "TRAIN_DATA[1][0][19: 23]"
   ]
  },
  {
   "cell_type": "code",
   "execution_count": 46,
   "id": "1a2baa7a",
   "metadata": {},
   "outputs": [
    {
     "data": {
      "text/plain": [
       "'جوتشولك'"
      ]
     },
     "execution_count": 46,
     "metadata": {},
     "output_type": "execute_result"
    }
   ],
   "source": [
    "TRAIN_DATA[1][0][24: 31]"
   ]
  },
  {
   "cell_type": "code",
   "execution_count": 47,
   "id": "62d22fd7",
   "metadata": {},
   "outputs": [
    {
     "data": {
      "text/plain": [
       "['',\n",
       " 'وعلي O',\n",
       " 'الرغم O',\n",
       " 'من O',\n",
       " 'أنه O',\n",
       " 'قال O',\n",
       " 'أنه O',\n",
       " 'يتوقع O',\n",
       " 'أن O',\n",
       " 'تظل O',\n",
       " 'صادرات O',\n",
       " 'السيارات O',\n",
       " 'عند O',\n",
       " 'مستوي O',\n",
       " 'مرتفع O',\n",
       " 'هذا O',\n",
       " 'العام O',\n",
       " 'فإنه O',\n",
       " 'يبدو O',\n",
       " 'من O',\n",
       " 'غير O',\n",
       " 'المحتمل O',\n",
       " 'أن O',\n",
       " 'تصل O',\n",
       " 'إلي O',\n",
       " 'مستوي O',\n",
       " 'سجل O',\n",
       " 'نموها O',\n",
       " 'عام O',\n",
       " '2001 O',\n",
       " 'عندما O',\n",
       " 'زادت O',\n",
       " 'صادرات O',\n",
       " 'سيارات O',\n",
       " 'الركاب O',\n",
       " 'بنسبة O',\n",
       " 'ستة O',\n",
       " 'في O',\n",
       " 'المائة O',\n",
       " 'لتصل O',\n",
       " 'إلي O',\n",
       " '6.3 O',\n",
       " 'مليون O',\n",
       " 'سيارة O']"
      ]
     },
     "execution_count": 47,
     "metadata": {},
     "output_type": "execute_result"
    }
   ],
   "source": [
    "sents[2].split(\"\\n\")"
   ]
  },
  {
   "cell_type": "code",
   "execution_count": 48,
   "id": "1ab87eac",
   "metadata": {},
   "outputs": [
    {
     "data": {
      "text/plain": [
       "(' وعلي الرغم من أنه قال أنه يتوقع أن تظل صادرات السيارات عند مستوي مرتفع هذا العام فإنه يبدو من غير المحتمل أن تصل إلي مستوي سجل نموها عام 2001 عندما زادت صادرات سيارات الركاب بنسبة ستة في المائة لتصل إلي 6.3 مليون سيارة',\n",
       " {'entities': []})"
      ]
     },
     "execution_count": 48,
     "metadata": {},
     "output_type": "execute_result"
    }
   ],
   "source": [
    "TRAIN_DATA[2]"
   ]
  },
  {
   "cell_type": "markdown",
   "id": "da17503a",
   "metadata": {},
   "source": [
    "#### 2.3 Training Spacy NER model\n",
    "\n",
    "Code taken from the [blogpost](https://www.machinelearningplus.com/nlp/training-custom-ner-model-in-spacy/#trainingthenermodel)"
   ]
  },
  {
   "cell_type": "code",
   "execution_count": 49,
   "id": "f677c1a3",
   "metadata": {},
   "outputs": [
    {
     "name": "stdout",
     "output_type": "stream",
     "text": [
      "Warning: Unnamed vectors -- this won't allow multiple vectors models to be loaded. (Shape: (0, 0))\n"
     ]
    },
    {
     "data": {
      "text/plain": [
       "<thinc.neural.optimizers.Optimizer at 0x7f21a1acda10>"
      ]
     },
     "execution_count": 49,
     "metadata": {},
     "output_type": "execute_result"
    }
   ],
   "source": [
    "# Preparing blank model\n",
    "nlp = spacy.blank(\"en\")\n",
    "nlp.add_pipe(nlp.create_pipe('ner'))\n",
    "nlp.begin_training()"
   ]
  },
  {
   "cell_type": "code",
   "execution_count": 50,
   "id": "a87e9207",
   "metadata": {},
   "outputs": [],
   "source": [
    "# Getting the pipeline component\n",
    "ner = nlp.get_pipe(\"ner\")\n",
    "\n",
    "# Adding labels to the `ner`\n",
    "for _, annotations in TRAIN_DATA:\n",
    "    for ent in annotations.get(\"entities\"):\n",
    "        ner.add_label(ent[2])"
   ]
  },
  {
   "cell_type": "code",
   "execution_count": 51,
   "id": "4e9c4d7e",
   "metadata": {},
   "outputs": [],
   "source": [
    "# Disable pipeline components you dont need to change\n",
    "pipe_exceptions = [\"ner\", \"trf_wordpiecer\", \"trf_tok2vec\"]\n",
    "unaffected_pipes = [pipe for pipe in nlp.pipe_names if pipe not in pipe_exceptions]"
   ]
  },
  {
   "cell_type": "code",
   "execution_count": 52,
   "id": "56fd2c01",
   "metadata": {},
   "outputs": [
    {
     "name": "stderr",
     "output_type": "stream",
     "text": [
      "100%|█████████████████████████████████████████████████████████████████████████████████████████████████████████████████████████████████████████████████████████████████████████████████████████████████████████████████████████████████████████████████████| 10/10 [09:02<00:00, 54.27s/it]\n"
     ]
    }
   ],
   "source": [
    "# TRAINING THE MODEL\n",
    "with nlp.disable_pipes(*unaffected_pipes):\n",
    "\n",
    "  # Training for 10 epochs\n",
    "  for iteration in tqdm(range(10)):\n",
    "\n",
    "    # shuffling examples before every epoch\n",
    "    random.shuffle(TRAIN_DATA)\n",
    "    losses = {}\n",
    "    \n",
    "    # batch up the examples using spaCy's minibatch\n",
    "    batches = minibatch(TRAIN_DATA, size=compounding(4.0, 32.0, 1.001))\n",
    "    \n",
    "    for batch in batches:\n",
    "        texts, annotations = zip(*batch)\n",
    "        nlp.update(\n",
    "                    texts,  # batch of texts\n",
    "                    annotations,  # batch of annotations\n",
    "                    drop=0.5,  # dropout - make it harder to memorise data\n",
    "                    losses=losses,\n",
    "                  )"
   ]
  },
  {
   "cell_type": "code",
   "execution_count": 53,
   "id": "81290255",
   "metadata": {},
   "outputs": [
    {
     "data": {
      "text/plain": [
       "{'ner': 2071.688857027133}"
      ]
     },
     "execution_count": 53,
     "metadata": {},
     "output_type": "execute_result"
    }
   ],
   "source": [
    "losses"
   ]
  },
  {
   "cell_type": "markdown",
   "id": "09ac0d14",
   "metadata": {},
   "source": [
    "#### 2.4 Testing the Spacy model"
   ]
  },
  {
   "cell_type": "code",
   "execution_count": 54,
   "id": "7f3ebe85",
   "metadata": {},
   "outputs": [
    {
     "name": "stdout",
     "output_type": "stream",
     "text": [
      "Entities [('أبوظبي', 'B-LOC'), ('الإمارات', 'B-LOC'), ('العربية', 'I-LOC'), ('المتحدة', 'I-LOC')]\n"
     ]
    },
    {
     "name": "stderr",
     "output_type": "stream",
     "text": [
      "/home/tamer/anaconda3/envs/psut-nlp-course/lib/python3.7/site-packages/ipykernel_launcher.py:3: DeprecationWarning: 'emoji.get_emoji_regexp()' is deprecated and will be removed in version 2.0.0. If you want to remove emoji from a string, consider the method emoji.replace_emoji(str, replace='').\n",
      "To hide this warning, pin/downgrade the package to 'emoji~=1.6.3'\n",
      "  This is separate from the ipykernel package so we can avoid doing imports until\n"
     ]
    }
   ],
   "source": [
    "# Testing the model\n",
    "doc = nlp(clean(\"إمارة أبوظبي هي إحدى إمارات دولة الإمارات العربية المتحدة السبع .\"))\n",
    "\n",
    "print(\"Entities\", [(ent.text, ent.label_) for ent in doc.ents])"
   ]
  },
  {
   "cell_type": "code",
   "execution_count": 55,
   "id": "eef8a41d",
   "metadata": {},
   "outputs": [
    {
     "name": "stderr",
     "output_type": "stream",
     "text": [
      "/home/tamer/anaconda3/envs/psut-nlp-course/lib/python3.7/site-packages/ipykernel_launcher.py:3: DeprecationWarning: 'emoji.get_emoji_regexp()' is deprecated and will be removed in version 2.0.0. If you want to remove emoji from a string, consider the method emoji.replace_emoji(str, replace='').\n",
      "To hide this warning, pin/downgrade the package to 'emoji~=1.6.3'\n",
      "  This is separate from the ipykernel package so we can avoid doing imports until\n"
     ]
    },
    {
     "name": "stdout",
     "output_type": "stream",
     "text": [
      "---------\n",
      "Tweet 0\n",
      "\n",
      "Original Tweet: الاعدام لعامل مطعم قتل زميله طعناً في \"البيادر\" أيدت محكمة التمييز الحكم الصادر عن محكمة الجنايات الكبرى والقاضي... http://t.co/H0txdjv3Kn\n",
      "\n",
      "Predictions:\n",
      "[]\n",
      "---------\n",
      "Tweet 1\n",
      "\n",
      "Original Tweet: #الأخبار ▪ تأجيل محاكمة 7 إرهابيين بسبب غياب الدفاع: أجلت محكمة الجنايات بالعاصمة إلى تاريخ لاحق محاكمة سبعة إ... http://t.co/GM4jmpAWbR\n",
      "\n",
      "Predictions:\n",
      "[]\n",
      "---------\n",
      "Tweet 2\n",
      "\n",
      "Original Tweet: @helale9999 عشآن أعطيتك وحده صميم صرت ترمي أعذار ...حقق العالميةة و أرجع كلمني يَ الأياب الانتحاري\n",
      "\n",
      "Predictions:\n",
      "[('عشآن', 'B-PERS')]\n",
      "---------\n",
      "Tweet 3\n",
      "\n",
      "Original Tweet: #النهدي ثمانية قتلى في تفجير انتحاري بسيارة مفخخة أمام معملين للغاز في ريف حمص - شبكة الصين http://t.co/r5zFEuzAPu\n",
      "\n",
      "Predictions:\n",
      "[('للغاز', 'B-ORG'), ('ريف', 'I-ORG'), ('الصين', 'B-LOC')]\n",
      "---------\n",
      "Tweet 4\n",
      "\n",
      "Original Tweet: البحرين: ضبط مطلوبين متورطين في التفجير بالعكر الشرقي بقية الموضوع اضغط هنا http://t.co/t4A5bNrqyh\n",
      "\n",
      "Predictions:\n",
      "[('البحرين', 'B-LOC'), ('متورطين', 'B-LOC')]\n",
      "---------\n",
      "Tweet 5\n",
      "\n",
      "Original Tweet: @El__DoN__ABoOoD @soliman_sport توهير تفكيره يورو على يورو يطلع ٢ يورو وعلى كذا ثقافة آسيوية متأصلة وبصراحة أشوف إنها جيدة له لوحده فقط\n",
      "\n",
      "Predictions:\n",
      "[('يورو', 'B-MISC'), ('يورو', 'B-MISC'), ('يورو', 'B-MISC')]\n",
      "---------\n",
      "Tweet 6\n",
      "\n",
      "Original Tweet: صحيفة \"نيويورك تايمز\" الطفل الانتحاري الذي سلم نفسه لحظات قبل التفجير قرب حسينيه في البياع هو سوري وليس عراقي... http://t.co/PH1a97rvtb\n",
      "\n",
      "Predictions:\n",
      "[('نيويورك', 'B-ORG'), ('تايمز', 'I-ORG')]\n",
      "---------\n",
      "Tweet 7\n",
      "\n",
      "Original Tweet: ليتوانيا تستقبل عام 2015 باعتماد اليورو http://t.co/29IJLgr73b\n",
      "\n",
      "Predictions:\n",
      "[('ليتوانيا', 'B-LOC'), ('اليورو', 'B-MISC')]\n",
      "---------\n",
      "Tweet 8\n",
      "\n",
      "Original Tweet: يحتاج الداعي أكثر من غيره إلى حسن الظاهر والوقار والهدوء ليتأسى به ، وخير الناس من إذا رؤوا ذكر الله. http://t.co/WD7txPscDp\n",
      "\n",
      "Predictions:\n",
      "[('حسن', 'B-PERS'), ('ليتأسى', 'B-PERS'), ('الله', 'B-MISC')]\n",
      "---------\n",
      "Tweet 9\n",
      "\n",
      "Original Tweet: المؤبد بحق موظف قتل رب عمله نحراً - عاقبت الهيئة القضائية في محكمة الجنايات في دبي، أمس، موظفاً من جنسية دولة آسيو... http://t.co/p7e2Mx5eEO\n",
      "\n",
      "Predictions:\n",
      "[('دبي', 'B-LOC')]\n"
     ]
    }
   ],
   "source": [
    "# Testing on first 10 tweets from file1.txt\n",
    "for index, tweet in df.iterrows():\n",
    "    if index == 10:\n",
    "        break\n",
    "        \n",
    "    sentence = clean(tweet[0])\n",
    "    doc = nlp(sentence)\n",
    "    labels = camel_ner_model.predict_sentence(sentence)\n",
    "    print(\"---------\")\n",
    "    print(f\"Tweet {index}\\n\")\n",
    "    print(f\"Original Tweet: {tweet[0]}\\n\")\n",
    "    print(\"Predictions:\")\n",
    "    pp.pprint([(ent.text, ent.label_) for ent in doc.ents])"
   ]
  },
  {
   "cell_type": "markdown",
   "id": "eb80e169",
   "metadata": {},
   "source": [
    "#### The training of the Spacy model would need some tuning"
   ]
  },
  {
   "cell_type": "code",
   "execution_count": null,
   "id": "b2eb97bf",
   "metadata": {},
   "outputs": [],
   "source": []
  }
 ],
 "metadata": {
  "kernelspec": {
   "display_name": "Python 3 (ipykernel)",
   "language": "python",
   "name": "python3"
  },
  "language_info": {
   "codemirror_mode": {
    "name": "ipython",
    "version": 3
   },
   "file_extension": ".py",
   "mimetype": "text/x-python",
   "name": "python",
   "nbconvert_exporter": "python",
   "pygments_lexer": "ipython3",
   "version": "3.7.13"
  }
 },
 "nbformat": 4,
 "nbformat_minor": 5
}
